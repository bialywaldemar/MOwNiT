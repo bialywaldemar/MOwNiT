{
 "cells": [
  {
   "cell_type": "markdown",
   "metadata": {},
   "source": [
    "# MOwNiT\n",
    "## Laboratorium 1\n",
    "### Analiza danych - DataFrames"
   ]
  },
  {
   "cell_type": "markdown",
   "metadata": {},
   "source": [
    "- Zaawansowany pakiet do działania na tabelkach nxm danych \n",
    "- Podobne do pandas DataFrames w Pythonie albo data.frame w R\n",
    "- Specjalistyczne funkcje do statystyki\n",
    "- W przypadku włąsnej instalacji należy zaistalować pakiet:\n",
    "\n",
    "```julia\n",
    "Pkg.add(\"DataFrames\" )\n",
    "```\n",
    "\n",
    "- DataFrame to rodzaj bazy danych in-memory\n",
    "- Składa się z kolumn, do których odwołujemy się używając symboli\n",
    "- Każda z kolumn może przechowywać inny typ (inaczej niż w dwuwymiarowych tablicach )\n",
    "- każda z kolumn jest typu Array{T,1} gdzie T jest okreslonym typem danych (np. Float64)\n",
    "- strona pakietu: https://github.com/JuliaStats/DataFrames.jl\n",
    "- dokumentacja najnowszej wersji: https://juliadata.github.io/DataFrames.jl/stable/index.html\n",
    "\n",
    "\n",
    "\n"
   ]
  },
  {
   "cell_type": "code",
   "execution_count": null,
   "metadata": {},
   "outputs": [
    {
     "name": "stderr",
     "output_type": "stream",
     "text": [
      "\u001b[32m\u001b[1m   Resolving\u001b[22m\u001b[39m package versions...\n",
      "\u001b[32m\u001b[1m  No Changes\u001b[22m\u001b[39m to `C:\\Users\\Mateusz\\.julia\\environments\\v1.11\\Project.toml`\n",
      "\u001b[32m\u001b[1m  No Changes\u001b[22m\u001b[39m to `C:\\Users\\Mateusz\\.julia\\environments\\v1.11\\Manifest.toml`\n"
     ]
    }
   ],
   "source": [
    "# za pierwszym razem, jeśli uruchamiamy lokalnie to instalujemy \n",
    "using Pkg\n",
    "Pkg.add(\"DataFrames\")"
   ]
  },
  {
   "cell_type": "code",
   "execution_count": 1,
   "metadata": {},
   "outputs": [
    {
     "name": "stdout",
     "output_type": "stream",
     "text": [
      "\u001b[1m4×3 DataFrame\u001b[0m\n",
      "\u001b[1m Row \u001b[0m│\u001b[1m MojaKolumna \u001b[0m\u001b[1m x2       \u001b[0m\u001b[1m Col3  \u001b[0m\n",
      "     │\u001b[90m Int64       \u001b[0m\u001b[90m Float64  \u001b[0m\u001b[90m Bool  \u001b[0m\n",
      "─────┼──────────────────────────────\n",
      "   1 │           1   4.0       true\n",
      "   2 │           2   3.14159  false\n",
      "   3 │           3   1.41421   true\n",
      "   4 │           4  42.0      false"
     ]
    }
   ],
   "source": [
    "# Tworzenie DataFrame\n",
    "using DataFrames\n",
    "df1=DataFrame()\n",
    "df1.MojaKolumna= 1:4\n",
    "df1.x2= [4,pi,sqrt(2), 42]\n",
    "df1.Col3= [true,false, true, false]\n",
    "show(df1)"
   ]
  },
  {
   "cell_type": "code",
   "execution_count": 2,
   "metadata": {},
   "outputs": [
    {
     "data": {
      "text/plain": [
       "Vector{Float64}\u001b[90m (alias for \u001b[39m\u001b[90mArray{Float64, 1}\u001b[39m\u001b[90m)\u001b[39m"
      ]
     },
     "execution_count": 2,
     "metadata": {},
     "output_type": "execute_result"
    }
   ],
   "source": [
    "# ! - nie tworzy kopii, : - tworzy kopię\n",
    "typeof(df1[!,2])"
   ]
  },
  {
   "cell_type": "code",
   "execution_count": 3,
   "metadata": {},
   "outputs": [
    {
     "data": {
      "text/plain": [
       "Vector{Float64}\u001b[90m (alias for \u001b[39m\u001b[90mArray{Float64, 1}\u001b[39m\u001b[90m)\u001b[39m"
      ]
     },
     "execution_count": 3,
     "metadata": {},
     "output_type": "execute_result"
    }
   ],
   "source": [
    "typeof(df1[:,2])"
   ]
  },
  {
   "cell_type": "code",
   "execution_count": 4,
   "metadata": {},
   "outputs": [
    {
     "data": {
      "text/plain": [
       "Vector{Bool}\u001b[90m (alias for \u001b[39m\u001b[90mArray{Bool, 1}\u001b[39m\u001b[90m)\u001b[39m"
      ]
     },
     "execution_count": 4,
     "metadata": {},
     "output_type": "execute_result"
    }
   ],
   "source": [
    "typeof(df1.Col3)"
   ]
  },
  {
   "cell_type": "code",
   "execution_count": 5,
   "metadata": {},
   "outputs": [
    {
     "data": {
      "text/html": [
       "<div><div style = \"float: left;\"><span>10×3 DataFrame</span></div><div style = \"clear: both;\"></div></div><div class = \"data-frame\" style = \"overflow-x: scroll;\"><table class = \"data-frame\" style = \"margin-bottom: 6px;\"><thead><tr class = \"header\"><th class = \"rowNumber\" style = \"font-weight: bold; text-align: right;\">Row</th><th style = \"text-align: left;\">MojaKolumna</th><th style = \"text-align: left;\">Col2</th><th style = \"text-align: left;\">Col3</th></tr><tr class = \"subheader headerLastRow\"><th class = \"rowNumber\" style = \"font-weight: bold; text-align: right;\"></th><th title = \"Int64\" style = \"text-align: left;\">Int64</th><th title = \"Float64\" style = \"text-align: left;\">Float64</th><th title = \"Bool\" style = \"text-align: left;\">Bool</th></tr></thead><tbody><tr><td class = \"rowNumber\" style = \"font-weight: bold; text-align: right;\">1</td><td style = \"text-align: right;\">1</td><td style = \"text-align: right;\">2.0</td><td style = \"text-align: right;\">true</td></tr><tr><td class = \"rowNumber\" style = \"font-weight: bold; text-align: right;\">2</td><td style = \"text-align: right;\">2</td><td style = \"text-align: right;\">3.14159</td><td style = \"text-align: right;\">true</td></tr><tr><td class = \"rowNumber\" style = \"font-weight: bold; text-align: right;\">3</td><td style = \"text-align: right;\">3</td><td style = \"text-align: right;\">1.41421</td><td style = \"text-align: right;\">false</td></tr><tr><td class = \"rowNumber\" style = \"font-weight: bold; text-align: right;\">4</td><td style = \"text-align: right;\">4</td><td style = \"text-align: right;\">3.0</td><td style = \"text-align: right;\">true</td></tr><tr><td class = \"rowNumber\" style = \"font-weight: bold; text-align: right;\">5</td><td style = \"text-align: right;\">5</td><td style = \"text-align: right;\">4.0</td><td style = \"text-align: right;\">false</td></tr><tr><td class = \"rowNumber\" style = \"font-weight: bold; text-align: right;\">6</td><td style = \"text-align: right;\">6</td><td style = \"text-align: right;\">2.0</td><td style = \"text-align: right;\">true</td></tr><tr><td class = \"rowNumber\" style = \"font-weight: bold; text-align: right;\">7</td><td style = \"text-align: right;\">7</td><td style = \"text-align: right;\">3.14159</td><td style = \"text-align: right;\">true</td></tr><tr><td class = \"rowNumber\" style = \"font-weight: bold; text-align: right;\">8</td><td style = \"text-align: right;\">8</td><td style = \"text-align: right;\">1.41421</td><td style = \"text-align: right;\">false</td></tr><tr><td class = \"rowNumber\" style = \"font-weight: bold; text-align: right;\">9</td><td style = \"text-align: right;\">9</td><td style = \"text-align: right;\">3.0</td><td style = \"text-align: right;\">true</td></tr><tr><td class = \"rowNumber\" style = \"font-weight: bold; text-align: right;\">10</td><td style = \"text-align: right;\">10</td><td style = \"text-align: right;\">4.0</td><td style = \"text-align: right;\">false</td></tr></tbody></table></div>"
      ],
      "text/latex": [
       "\\begin{tabular}{r|ccc}\n",
       "\t& MojaKolumna & Col2 & Col3\\\\\n",
       "\t\\hline\n",
       "\t& Int64 & Float64 & Bool\\\\\n",
       "\t\\hline\n",
       "\t1 & 1 & 2.0 & 1 \\\\\n",
       "\t2 & 2 & 3.14159 & 1 \\\\\n",
       "\t3 & 3 & 1.41421 & 0 \\\\\n",
       "\t4 & 4 & 3.0 & 1 \\\\\n",
       "\t5 & 5 & 4.0 & 0 \\\\\n",
       "\t6 & 6 & 2.0 & 1 \\\\\n",
       "\t7 & 7 & 3.14159 & 1 \\\\\n",
       "\t8 & 8 & 1.41421 & 0 \\\\\n",
       "\t9 & 9 & 3.0 & 1 \\\\\n",
       "\t10 & 10 & 4.0 & 0 \\\\\n",
       "\\end{tabular}\n"
      ],
      "text/plain": [
       "\u001b[1m10×3 DataFrame\u001b[0m\n",
       "\u001b[1m Row \u001b[0m│\u001b[1m MojaKolumna \u001b[0m\u001b[1m Col2    \u001b[0m\u001b[1m Col3  \u001b[0m\n",
       "     │\u001b[90m Int64       \u001b[0m\u001b[90m Float64 \u001b[0m\u001b[90m Bool  \u001b[0m\n",
       "─────┼─────────────────────────────\n",
       "   1 │           1  2.0       true\n",
       "   2 │           2  3.14159   true\n",
       "   3 │           3  1.41421  false\n",
       "   4 │           4  3.0       true\n",
       "   5 │           5  4.0      false\n",
       "   6 │           6  2.0       true\n",
       "   7 │           7  3.14159   true\n",
       "   8 │           8  1.41421  false\n",
       "   9 │           9  3.0       true\n",
       "  10 │          10  4.0      false"
      ]
     },
     "execution_count": 5,
     "metadata": {},
     "output_type": "execute_result"
    }
   ],
   "source": [
    "# możemy też utworzyć DataFrame używając konstruktora\n",
    "df2=DataFrame(MojaKolumna=1:10, \n",
    "    Col2=[2,pi, sqrt(2), 3, 4,2,pi, sqrt(2), 3, 4], \n",
    "    Col3=[true,true,false,true,false,true,true,false,true,false])"
   ]
  },
  {
   "cell_type": "code",
   "execution_count": 6,
   "metadata": {},
   "outputs": [
    {
     "data": {
      "text/plain": [
       "10"
      ]
     },
     "execution_count": 6,
     "metadata": {},
     "output_type": "execute_result"
    }
   ],
   "source": [
    "# ilosc wierszy\n",
    "size(df2, 1) "
   ]
  },
  {
   "cell_type": "code",
   "execution_count": 7,
   "metadata": {},
   "outputs": [
    {
     "data": {
      "text/plain": [
       "3"
      ]
     },
     "execution_count": 7,
     "metadata": {},
     "output_type": "execute_result"
    }
   ],
   "source": [
    "#ilosc kolumn\n",
    "size(df2, 2) "
   ]
  },
  {
   "cell_type": "code",
   "execution_count": 8,
   "metadata": {},
   "outputs": [
    {
     "name": "stdout",
     "output_type": "stream",
     "text": [
      "[2.0, 3.141592653589793, 1.4142135623730951, 3.0, 4.0, 2.0, 3.141592653589793, 1.4142135623730951, 3.0, 4.0]"
     ]
    }
   ],
   "source": [
    "# można odwoływać się po indeksie\n",
    "show(df2[:,2])"
   ]
  },
  {
   "cell_type": "code",
   "execution_count": 9,
   "metadata": {},
   "outputs": [
    {
     "name": "stdout",
     "output_type": "stream",
     "text": [
      "[2.0, 3.141592653589793, 1.4142135623730951, 3.0, 4.0, 2.0, 3.141592653589793, 1.4142135623730951, 3.0, 4.0]"
     ]
    }
   ],
   "source": [
    "# albo po symbolu kolumny\n",
    "show(df2[!,:Col2])"
   ]
  },
  {
   "cell_type": "code",
   "execution_count": 10,
   "metadata": {},
   "outputs": [
    {
     "name": "stdout",
     "output_type": "stream",
     "text": [
      "\u001b[1mDataFrameRow\u001b[0m\n",
      "\u001b[1m Row \u001b[0m│\u001b[1m MojaKolumna \u001b[0m\u001b[1m Col2    \u001b[0m\u001b[1m Col3  \u001b[0m\n",
      "     │\u001b[90m Int64       \u001b[0m\u001b[90m Float64 \u001b[0m\u001b[90m Bool  \u001b[0m\n",
      "─────┼─────────────────────────────\n",
      "   3 │           3  1.41421  false"
     ]
    }
   ],
   "source": [
    "# wiersze lub podzbiory wierszy i kolumn uzyskujemy poprzez operator (:). Wynikiem jest nowy DataFrame\n",
    "show(df2[3,:])"
   ]
  },
  {
   "cell_type": "code",
   "execution_count": 11,
   "metadata": {},
   "outputs": [
    {
     "data": {
      "text/html": [
       "<div><div style = \"float: left;\"><span>2×3 DataFrame</span></div><div style = \"clear: both;\"></div></div><div class = \"data-frame\" style = \"overflow-x: scroll;\"><table class = \"data-frame\" style = \"margin-bottom: 6px;\"><thead><tr class = \"header\"><th class = \"rowNumber\" style = \"font-weight: bold; text-align: right;\">Row</th><th style = \"text-align: left;\">MojaKolumna</th><th style = \"text-align: left;\">Col2</th><th style = \"text-align: left;\">Col3</th></tr><tr class = \"subheader headerLastRow\"><th class = \"rowNumber\" style = \"font-weight: bold; text-align: right;\"></th><th title = \"Int64\" style = \"text-align: left;\">Int64</th><th title = \"Float64\" style = \"text-align: left;\">Float64</th><th title = \"Bool\" style = \"text-align: left;\">Bool</th></tr></thead><tbody><tr><td class = \"rowNumber\" style = \"font-weight: bold; text-align: right;\">1</td><td style = \"text-align: right;\">2</td><td style = \"text-align: right;\">3.14159</td><td style = \"text-align: right;\">true</td></tr><tr><td class = \"rowNumber\" style = \"font-weight: bold; text-align: right;\">2</td><td style = \"text-align: right;\">3</td><td style = \"text-align: right;\">1.41421</td><td style = \"text-align: right;\">false</td></tr></tbody></table></div>"
      ],
      "text/latex": [
       "\\begin{tabular}{r|ccc}\n",
       "\t& MojaKolumna & Col2 & Col3\\\\\n",
       "\t\\hline\n",
       "\t& Int64 & Float64 & Bool\\\\\n",
       "\t\\hline\n",
       "\t1 & 2 & 3.14159 & 1 \\\\\n",
       "\t2 & 3 & 1.41421 & 0 \\\\\n",
       "\\end{tabular}\n"
      ],
      "text/plain": [
       "\u001b[1m2×3 DataFrame\u001b[0m\n",
       "\u001b[1m Row \u001b[0m│\u001b[1m MojaKolumna \u001b[0m\u001b[1m Col2    \u001b[0m\u001b[1m Col3  \u001b[0m\n",
       "     │\u001b[90m Int64       \u001b[0m\u001b[90m Float64 \u001b[0m\u001b[90m Bool  \u001b[0m\n",
       "─────┼─────────────────────────────\n",
       "   1 │           2  3.14159   true\n",
       "   2 │           3  1.41421  false"
      ]
     },
     "execution_count": 11,
     "metadata": {},
     "output_type": "execute_result"
    }
   ],
   "source": [
    "# drugi i trzeci wiersz\n",
    "df2[2:3, :]"
   ]
  },
  {
   "cell_type": "code",
   "execution_count": 12,
   "metadata": {},
   "outputs": [
    {
     "data": {
      "text/plain": [
       "2-element Vector{Float64}:\n",
       " 3.141592653589793\n",
       " 1.4142135623730951"
      ]
     },
     "execution_count": 12,
     "metadata": {},
     "output_type": "execute_result"
    }
   ],
   "source": [
    "# druga kolumna drugiego i trzeciego wiersza\n",
    "df2[2:3, :Col2]"
   ]
  },
  {
   "cell_type": "code",
   "execution_count": 13,
   "metadata": {},
   "outputs": [
    {
     "data": {
      "text/html": [
       "<div><div style = \"float: left;\"><span>2×2 DataFrame</span></div><div style = \"clear: both;\"></div></div><div class = \"data-frame\" style = \"overflow-x: scroll;\"><table class = \"data-frame\" style = \"margin-bottom: 6px;\"><thead><tr class = \"header\"><th class = \"rowNumber\" style = \"font-weight: bold; text-align: right;\">Row</th><th style = \"text-align: left;\">Col2</th><th style = \"text-align: left;\">Col3</th></tr><tr class = \"subheader headerLastRow\"><th class = \"rowNumber\" style = \"font-weight: bold; text-align: right;\"></th><th title = \"Float64\" style = \"text-align: left;\">Float64</th><th title = \"Bool\" style = \"text-align: left;\">Bool</th></tr></thead><tbody><tr><td class = \"rowNumber\" style = \"font-weight: bold; text-align: right;\">1</td><td style = \"text-align: right;\">3.14159</td><td style = \"text-align: right;\">true</td></tr><tr><td class = \"rowNumber\" style = \"font-weight: bold; text-align: right;\">2</td><td style = \"text-align: right;\">1.41421</td><td style = \"text-align: right;\">false</td></tr></tbody></table></div>"
      ],
      "text/latex": [
       "\\begin{tabular}{r|cc}\n",
       "\t& Col2 & Col3\\\\\n",
       "\t\\hline\n",
       "\t& Float64 & Bool\\\\\n",
       "\t\\hline\n",
       "\t1 & 3.14159 & 1 \\\\\n",
       "\t2 & 1.41421 & 0 \\\\\n",
       "\\end{tabular}\n"
      ],
      "text/plain": [
       "\u001b[1m2×2 DataFrame\u001b[0m\n",
       "\u001b[1m Row \u001b[0m│\u001b[1m Col2    \u001b[0m\u001b[1m Col3  \u001b[0m\n",
       "     │\u001b[90m Float64 \u001b[0m\u001b[90m Bool  \u001b[0m\n",
       "─────┼────────────────\n",
       "   1 │ 3.14159   true\n",
       "   2 │ 1.41421  false"
      ]
     },
     "execution_count": 13,
     "metadata": {},
     "output_type": "execute_result"
    }
   ],
   "source": [
    "# druga i trzecia kolumna drugiego i trzeciego wiersza\n",
    "df2[2:3,[:Col2, :Col3]]"
   ]
  },
  {
   "cell_type": "code",
   "execution_count": 14,
   "metadata": {},
   "outputs": [
    {
     "data": {
      "text/html": [
       "<div><div style = \"float: left;\"><span>6×3 DataFrame</span></div><div style = \"clear: both;\"></div></div><div class = \"data-frame\" style = \"overflow-x: scroll;\"><table class = \"data-frame\" style = \"margin-bottom: 6px;\"><thead><tr class = \"header\"><th class = \"rowNumber\" style = \"font-weight: bold; text-align: right;\">Row</th><th style = \"text-align: left;\">MojaKolumna</th><th style = \"text-align: left;\">Col2</th><th style = \"text-align: left;\">Col3</th></tr><tr class = \"subheader headerLastRow\"><th class = \"rowNumber\" style = \"font-weight: bold; text-align: right;\"></th><th title = \"Int64\" style = \"text-align: left;\">Int64</th><th title = \"Float64\" style = \"text-align: left;\">Float64</th><th title = \"Bool\" style = \"text-align: left;\">Bool</th></tr></thead><tbody><tr><td class = \"rowNumber\" style = \"font-weight: bold; text-align: right;\">1</td><td style = \"text-align: right;\">1</td><td style = \"text-align: right;\">2.0</td><td style = \"text-align: right;\">true</td></tr><tr><td class = \"rowNumber\" style = \"font-weight: bold; text-align: right;\">2</td><td style = \"text-align: right;\">2</td><td style = \"text-align: right;\">3.14159</td><td style = \"text-align: right;\">true</td></tr><tr><td class = \"rowNumber\" style = \"font-weight: bold; text-align: right;\">3</td><td style = \"text-align: right;\">3</td><td style = \"text-align: right;\">1.41421</td><td style = \"text-align: right;\">false</td></tr><tr><td class = \"rowNumber\" style = \"font-weight: bold; text-align: right;\">4</td><td style = \"text-align: right;\">4</td><td style = \"text-align: right;\">3.0</td><td style = \"text-align: right;\">true</td></tr><tr><td class = \"rowNumber\" style = \"font-weight: bold; text-align: right;\">5</td><td style = \"text-align: right;\">5</td><td style = \"text-align: right;\">4.0</td><td style = \"text-align: right;\">false</td></tr><tr><td class = \"rowNumber\" style = \"font-weight: bold; text-align: right;\">6</td><td style = \"text-align: right;\">6</td><td style = \"text-align: right;\">2.0</td><td style = \"text-align: right;\">true</td></tr></tbody></table></div>"
      ],
      "text/latex": [
       "\\begin{tabular}{r|ccc}\n",
       "\t& MojaKolumna & Col2 & Col3\\\\\n",
       "\t\\hline\n",
       "\t& Int64 & Float64 & Bool\\\\\n",
       "\t\\hline\n",
       "\t1 & 1 & 2.0 & 1 \\\\\n",
       "\t2 & 2 & 3.14159 & 1 \\\\\n",
       "\t3 & 3 & 1.41421 & 0 \\\\\n",
       "\t4 & 4 & 3.0 & 1 \\\\\n",
       "\t5 & 5 & 4.0 & 0 \\\\\n",
       "\t6 & 6 & 2.0 & 1 \\\\\n",
       "\\end{tabular}\n"
      ],
      "text/plain": [
       "\u001b[1m6×3 DataFrame\u001b[0m\n",
       "\u001b[1m Row \u001b[0m│\u001b[1m MojaKolumna \u001b[0m\u001b[1m Col2    \u001b[0m\u001b[1m Col3  \u001b[0m\n",
       "     │\u001b[90m Int64       \u001b[0m\u001b[90m Float64 \u001b[0m\u001b[90m Bool  \u001b[0m\n",
       "─────┼─────────────────────────────\n",
       "   1 │           1  2.0       true\n",
       "   2 │           2  3.14159   true\n",
       "   3 │           3  1.41421  false\n",
       "   4 │           4  3.0       true\n",
       "   5 │           5  4.0      false\n",
       "   6 │           6  2.0       true"
      ]
     },
     "execution_count": 14,
     "metadata": {},
     "output_type": "execute_result"
    }
   ],
   "source": [
    "# pierwsze sześć wierszy\n",
    "DataFrames.first(df2,6)"
   ]
  },
  {
   "cell_type": "code",
   "execution_count": 15,
   "metadata": {},
   "outputs": [
    {
     "data": {
      "text/html": [
       "<div><div style = \"float: left;\"><span>6×3 DataFrame</span></div><div style = \"clear: both;\"></div></div><div class = \"data-frame\" style = \"overflow-x: scroll;\"><table class = \"data-frame\" style = \"margin-bottom: 6px;\"><thead><tr class = \"header\"><th class = \"rowNumber\" style = \"font-weight: bold; text-align: right;\">Row</th><th style = \"text-align: left;\">MojaKolumna</th><th style = \"text-align: left;\">Col2</th><th style = \"text-align: left;\">Col3</th></tr><tr class = \"subheader headerLastRow\"><th class = \"rowNumber\" style = \"font-weight: bold; text-align: right;\"></th><th title = \"Int64\" style = \"text-align: left;\">Int64</th><th title = \"Float64\" style = \"text-align: left;\">Float64</th><th title = \"Bool\" style = \"text-align: left;\">Bool</th></tr></thead><tbody><tr><td class = \"rowNumber\" style = \"font-weight: bold; text-align: right;\">1</td><td style = \"text-align: right;\">5</td><td style = \"text-align: right;\">4.0</td><td style = \"text-align: right;\">false</td></tr><tr><td class = \"rowNumber\" style = \"font-weight: bold; text-align: right;\">2</td><td style = \"text-align: right;\">6</td><td style = \"text-align: right;\">2.0</td><td style = \"text-align: right;\">true</td></tr><tr><td class = \"rowNumber\" style = \"font-weight: bold; text-align: right;\">3</td><td style = \"text-align: right;\">7</td><td style = \"text-align: right;\">3.14159</td><td style = \"text-align: right;\">true</td></tr><tr><td class = \"rowNumber\" style = \"font-weight: bold; text-align: right;\">4</td><td style = \"text-align: right;\">8</td><td style = \"text-align: right;\">1.41421</td><td style = \"text-align: right;\">false</td></tr><tr><td class = \"rowNumber\" style = \"font-weight: bold; text-align: right;\">5</td><td style = \"text-align: right;\">9</td><td style = \"text-align: right;\">3.0</td><td style = \"text-align: right;\">true</td></tr><tr><td class = \"rowNumber\" style = \"font-weight: bold; text-align: right;\">6</td><td style = \"text-align: right;\">10</td><td style = \"text-align: right;\">4.0</td><td style = \"text-align: right;\">false</td></tr></tbody></table></div>"
      ],
      "text/latex": [
       "\\begin{tabular}{r|ccc}\n",
       "\t& MojaKolumna & Col2 & Col3\\\\\n",
       "\t\\hline\n",
       "\t& Int64 & Float64 & Bool\\\\\n",
       "\t\\hline\n",
       "\t1 & 5 & 4.0 & 0 \\\\\n",
       "\t2 & 6 & 2.0 & 1 \\\\\n",
       "\t3 & 7 & 3.14159 & 1 \\\\\n",
       "\t4 & 8 & 1.41421 & 0 \\\\\n",
       "\t5 & 9 & 3.0 & 1 \\\\\n",
       "\t6 & 10 & 4.0 & 0 \\\\\n",
       "\\end{tabular}\n"
      ],
      "text/plain": [
       "\u001b[1m6×3 DataFrame\u001b[0m\n",
       "\u001b[1m Row \u001b[0m│\u001b[1m MojaKolumna \u001b[0m\u001b[1m Col2    \u001b[0m\u001b[1m Col3  \u001b[0m\n",
       "     │\u001b[90m Int64       \u001b[0m\u001b[90m Float64 \u001b[0m\u001b[90m Bool  \u001b[0m\n",
       "─────┼─────────────────────────────\n",
       "   1 │           5  4.0      false\n",
       "   2 │           6  2.0       true\n",
       "   3 │           7  3.14159   true\n",
       "   4 │           8  1.41421  false\n",
       "   5 │           9  3.0       true\n",
       "   6 │          10  4.0      false"
      ]
     },
     "execution_count": 15,
     "metadata": {},
     "output_type": "execute_result"
    }
   ],
   "source": [
    "# ostatnie sześć wierszy\n",
    "DataFrames.last(df2,6)"
   ]
  },
  {
   "cell_type": "code",
   "execution_count": 16,
   "metadata": {},
   "outputs": [
    {
     "data": {
      "text/plain": [
       "3-element Vector{String}:\n",
       " \"MojaKolumna\"\n",
       " \"Col2\"\n",
       " \"Col3\""
      ]
     },
     "execution_count": 16,
     "metadata": {},
     "output_type": "execute_result"
    }
   ],
   "source": [
    "# nazwy kolumn\n",
    "names(df2)"
   ]
  },
  {
   "cell_type": "code",
   "execution_count": 17,
   "metadata": {},
   "outputs": [
    {
     "data": {
      "text/plain": [
       "3-element Vector{DataType}:\n",
       " Int64\n",
       " Float64\n",
       " Bool"
      ]
     },
     "execution_count": 17,
     "metadata": {},
     "output_type": "execute_result"
    }
   ],
   "source": [
    "# typy kolumn\n",
    "eltype.(eachcol(df2))"
   ]
  },
  {
   "cell_type": "code",
   "execution_count": 18,
   "metadata": {},
   "outputs": [
    {
     "data": {
      "text/html": [
       "<div><div style = \"float: left;\"><span>3×7 DataFrame</span></div><div style = \"clear: both;\"></div></div><div class = \"data-frame\" style = \"overflow-x: scroll;\"><table class = \"data-frame\" style = \"margin-bottom: 6px;\"><thead><tr class = \"header\"><th class = \"rowNumber\" style = \"font-weight: bold; text-align: right;\">Row</th><th style = \"text-align: left;\">variable</th><th style = \"text-align: left;\">mean</th><th style = \"text-align: left;\">min</th><th style = \"text-align: left;\">median</th><th style = \"text-align: left;\">max</th><th style = \"text-align: left;\">nmissing</th><th style = \"text-align: left;\">eltype</th></tr><tr class = \"subheader headerLastRow\"><th class = \"rowNumber\" style = \"font-weight: bold; text-align: right;\"></th><th title = \"Symbol\" style = \"text-align: left;\">Symbol</th><th title = \"Float64\" style = \"text-align: left;\">Float64</th><th title = \"Real\" style = \"text-align: left;\">Real</th><th title = \"Float64\" style = \"text-align: left;\">Float64</th><th title = \"Real\" style = \"text-align: left;\">Real</th><th title = \"Int64\" style = \"text-align: left;\">Int64</th><th title = \"DataType\" style = \"text-align: left;\">DataType</th></tr></thead><tbody><tr><td class = \"rowNumber\" style = \"font-weight: bold; text-align: right;\">1</td><td style = \"text-align: left;\">MojaKolumna</td><td style = \"text-align: right;\">5.5</td><td style = \"text-align: right;\">1</td><td style = \"text-align: right;\">5.5</td><td style = \"text-align: right;\">10</td><td style = \"text-align: right;\">0</td><td style = \"text-align: left;\">Int64</td></tr><tr><td class = \"rowNumber\" style = \"font-weight: bold; text-align: right;\">2</td><td style = \"text-align: left;\">Col2</td><td style = \"text-align: right;\">2.71116</td><td style = \"text-align: right;\">1.41421</td><td style = \"text-align: right;\">3.0</td><td style = \"text-align: right;\">4.0</td><td style = \"text-align: right;\">0</td><td style = \"text-align: left;\">Float64</td></tr><tr><td class = \"rowNumber\" style = \"font-weight: bold; text-align: right;\">3</td><td style = \"text-align: left;\">Col3</td><td style = \"text-align: right;\">0.6</td><td style = \"text-align: right;\">false</td><td style = \"text-align: right;\">1.0</td><td style = \"text-align: right;\">true</td><td style = \"text-align: right;\">0</td><td style = \"text-align: left;\">Bool</td></tr></tbody></table></div>"
      ],
      "text/latex": [
       "\\begin{tabular}{r|ccccccc}\n",
       "\t& variable & mean & min & median & max & nmissing & eltype\\\\\n",
       "\t\\hline\n",
       "\t& Symbol & Float64 & Real & Float64 & Real & Int64 & DataType\\\\\n",
       "\t\\hline\n",
       "\t1 & MojaKolumna & 5.5 & 1 & 5.5 & 10 & 0 & Int64 \\\\\n",
       "\t2 & Col2 & 2.71116 & 1.41421 & 3.0 & 4.0 & 0 & Float64 \\\\\n",
       "\t3 & Col3 & 0.6 & 0 & 1.0 & 1 & 0 & Bool \\\\\n",
       "\\end{tabular}\n"
      ],
      "text/plain": [
       "\u001b[1m3×7 DataFrame\u001b[0m\n",
       "\u001b[1m Row \u001b[0m│\u001b[1m variable    \u001b[0m\u001b[1m mean    \u001b[0m\u001b[1m min         \u001b[0m\u001b[1m median  \u001b[0m\u001b[1m max    \u001b[0m\u001b[1m nmissing \u001b[0m\u001b[1m eltype   \u001b[0m\n",
       "     │\u001b[90m Symbol      \u001b[0m\u001b[90m Float64 \u001b[0m\u001b[90m Real        \u001b[0m\u001b[90m Float64 \u001b[0m\u001b[90m Real   \u001b[0m\u001b[90m Int64    \u001b[0m\u001b[90m DataType \u001b[0m\n",
       "─────┼────────────────────────────────────────────────────────────────────────\n",
       "   1 │ MojaKolumna  5.5          1            5.5    10           0  Int64\n",
       "   2 │ Col2         2.71116      1.41421      3.0     4.0         0  Float64\n",
       "   3 │ Col3         0.6      false            1.0  true           0  Bool"
      ]
     },
     "execution_count": 18,
     "metadata": {},
     "output_type": "execute_result"
    }
   ],
   "source": [
    "# podstawowe dane statystyczne o wartościach w kolumnie\n",
    "describe(df2)"
   ]
  },
  {
   "cell_type": "code",
   "execution_count": 19,
   "metadata": {},
   "outputs": [
    {
     "data": {
      "text/plain": [
       "2.711161243192578"
      ]
     },
     "execution_count": 19,
     "metadata": {},
     "output_type": "execute_result"
    }
   ],
   "source": [
    "using Statistics\n",
    "mean(df2.Col2)"
   ]
  },
  {
   "cell_type": "code",
   "execution_count": 20,
   "metadata": {},
   "outputs": [
    {
     "data": {
      "text/plain": [
       "0.9150284373648316"
      ]
     },
     "execution_count": 20,
     "metadata": {},
     "output_type": "execute_result"
    }
   ],
   "source": [
    "var(df2.Col2)"
   ]
  },
  {
   "cell_type": "code",
   "execution_count": 22,
   "metadata": {},
   "outputs": [
    {
     "name": "stderr",
     "output_type": "stream",
     "text": [
      "\u001b[32m\u001b[1m   Resolving\u001b[22m\u001b[39m package versions...\n",
      "\u001b[32m\u001b[1m   Installed\u001b[22m\u001b[39m WeakRefStrings ───── v1.4.2\n",
      "\u001b[32m\u001b[1m   Installed\u001b[22m\u001b[39m CodecZlib ────────── v0.7.8\n",
      "\u001b[32m\u001b[1m   Installed\u001b[22m\u001b[39m WorkerUtilities ──── v1.6.1\n",
      "\u001b[32m\u001b[1m   Installed\u001b[22m\u001b[39m FilePathsBase ────── v0.9.24\n",
      "\u001b[32m\u001b[1m   Installed\u001b[22m\u001b[39m TranscodingStreams ─ v0.11.3\n",
      "\u001b[32m\u001b[1m   Installed\u001b[22m\u001b[39m CSV ──────────────── v0.10.15\n",
      "\u001b[32m\u001b[1m    Updating\u001b[22m\u001b[39m `C:\\Users\\Mateusz\\.julia\\environments\\v1.11\\Project.toml`\n",
      "  \u001b[90m[336ed68f] \u001b[39m\u001b[92m+ CSV v0.10.15\u001b[39m\n",
      "\u001b[32m\u001b[1m    Updating\u001b[22m\u001b[39m `C:\\Users\\Mateusz\\.julia\\environments\\v1.11\\Manifest.toml`\n",
      "  \u001b[90m[336ed68f] \u001b[39m\u001b[92m+ CSV v0.10.15\u001b[39m\n",
      "  \u001b[90m[944b1d66] \u001b[39m\u001b[92m+ CodecZlib v0.7.8\u001b[39m\n",
      "  \u001b[90m[48062228] \u001b[39m\u001b[92m+ FilePathsBase v0.9.24\u001b[39m\n",
      "  \u001b[90m[3bb67fe8] \u001b[39m\u001b[92m+ TranscodingStreams v0.11.3\u001b[39m\n",
      "  \u001b[90m[ea10d353] \u001b[39m\u001b[92m+ WeakRefStrings v1.4.2\u001b[39m\n",
      "  \u001b[90m[76eceee3] \u001b[39m\u001b[92m+ WorkerUtilities v1.6.1\u001b[39m\n",
      "\u001b[92m\u001b[1mPrecompiling\u001b[22m\u001b[39m project...\n",
      "   1766.7 ms\u001b[32m  ✓ \u001b[39m\u001b[90mWorkerUtilities\u001b[39m\n",
      "   1934.3 ms\u001b[32m  ✓ \u001b[39m\u001b[90mTranscodingStreams\u001b[39m\n",
      "   3313.7 ms\u001b[32m  ✓ \u001b[39m\u001b[90mWeakRefStrings\u001b[39m\n",
      "   2635.1 ms\u001b[32m  ✓ \u001b[39m\u001b[90mCodecZlib\u001b[39m\n",
      "   4650.8 ms\u001b[32m  ✓ \u001b[39m\u001b[90mFilePathsBase\u001b[39m\n",
      "   3735.3 ms\u001b[32m  ✓ \u001b[39m\u001b[90mFilePathsBase → FilePathsBaseMmapExt\u001b[39m\n",
      "   7407.7 ms\u001b[32m  ✓ \u001b[39m\u001b[90mFilePathsBase → FilePathsBaseTestExt\u001b[39m\n",
      "  32209.7 ms\u001b[32m  ✓ \u001b[39mCSV\n",
      "  8 dependencies successfully precompiled in 45 seconds. 68 already precompiled.\n"
     ]
    },
    {
     "data": {
      "text/html": [
       "<div><div style = \"float: left;\"><span>1599×12 DataFrame</span></div><div style = \"float: right;\"><span style = \"font-style: italic;\">1574 rows omitted</span></div><div style = \"clear: both;\"></div></div><div class = \"data-frame\" style = \"overflow-x: scroll;\"><table class = \"data-frame\" style = \"margin-bottom: 6px;\"><thead><tr class = \"header\"><th class = \"rowNumber\" style = \"font-weight: bold; text-align: right;\">Row</th><th style = \"text-align: left;\">fixed acidity</th><th style = \"text-align: left;\">volatile acidity</th><th style = \"text-align: left;\">citric acid</th><th style = \"text-align: left;\">residual sugar</th><th style = \"text-align: left;\">chlorides</th><th style = \"text-align: left;\">free sulfur dioxide</th><th style = \"text-align: left;\">total sulfur dioxide</th><th style = \"text-align: left;\">density</th><th style = \"text-align: left;\">pH</th><th style = \"text-align: left;\">sulphates</th><th style = \"text-align: left;\">alcohol</th><th style = \"text-align: left;\">quality</th></tr><tr class = \"subheader headerLastRow\"><th class = \"rowNumber\" style = \"font-weight: bold; text-align: right;\"></th><th title = \"Float64\" style = \"text-align: left;\">Float64</th><th title = \"Float64\" style = \"text-align: left;\">Float64</th><th title = \"Float64\" style = \"text-align: left;\">Float64</th><th title = \"Float64\" style = \"text-align: left;\">Float64</th><th title = \"Float64\" style = \"text-align: left;\">Float64</th><th title = \"Float64\" style = \"text-align: left;\">Float64</th><th title = \"Float64\" style = \"text-align: left;\">Float64</th><th title = \"Float64\" style = \"text-align: left;\">Float64</th><th title = \"Float64\" style = \"text-align: left;\">Float64</th><th title = \"Float64\" style = \"text-align: left;\">Float64</th><th title = \"Float64\" style = \"text-align: left;\">Float64</th><th title = \"Int64\" style = \"text-align: left;\">Int64</th></tr></thead><tbody><tr><td class = \"rowNumber\" style = \"font-weight: bold; text-align: right;\">1</td><td style = \"text-align: right;\">7.4</td><td style = \"text-align: right;\">0.7</td><td style = \"text-align: right;\">0.0</td><td style = \"text-align: right;\">1.9</td><td style = \"text-align: right;\">0.076</td><td style = \"text-align: right;\">11.0</td><td style = \"text-align: right;\">34.0</td><td style = \"text-align: right;\">0.9978</td><td style = \"text-align: right;\">3.51</td><td style = \"text-align: right;\">0.56</td><td style = \"text-align: right;\">9.4</td><td style = \"text-align: right;\">5</td></tr><tr><td class = \"rowNumber\" style = \"font-weight: bold; text-align: right;\">2</td><td style = \"text-align: right;\">7.8</td><td style = \"text-align: right;\">0.88</td><td style = \"text-align: right;\">0.0</td><td style = \"text-align: right;\">2.6</td><td style = \"text-align: right;\">0.098</td><td style = \"text-align: right;\">25.0</td><td style = \"text-align: right;\">67.0</td><td style = \"text-align: right;\">0.9968</td><td style = \"text-align: right;\">3.2</td><td style = \"text-align: right;\">0.68</td><td style = \"text-align: right;\">9.8</td><td style = \"text-align: right;\">5</td></tr><tr><td class = \"rowNumber\" style = \"font-weight: bold; text-align: right;\">3</td><td style = \"text-align: right;\">7.8</td><td style = \"text-align: right;\">0.76</td><td style = \"text-align: right;\">0.04</td><td style = \"text-align: right;\">2.3</td><td style = \"text-align: right;\">0.092</td><td style = \"text-align: right;\">15.0</td><td style = \"text-align: right;\">54.0</td><td style = \"text-align: right;\">0.997</td><td style = \"text-align: right;\">3.26</td><td style = \"text-align: right;\">0.65</td><td style = \"text-align: right;\">9.8</td><td style = \"text-align: right;\">5</td></tr><tr><td class = \"rowNumber\" style = \"font-weight: bold; text-align: right;\">4</td><td style = \"text-align: right;\">11.2</td><td style = \"text-align: right;\">0.28</td><td style = \"text-align: right;\">0.56</td><td style = \"text-align: right;\">1.9</td><td style = \"text-align: right;\">0.075</td><td style = \"text-align: right;\">17.0</td><td style = \"text-align: right;\">60.0</td><td style = \"text-align: right;\">0.998</td><td style = \"text-align: right;\">3.16</td><td style = \"text-align: right;\">0.58</td><td style = \"text-align: right;\">9.8</td><td style = \"text-align: right;\">6</td></tr><tr><td class = \"rowNumber\" style = \"font-weight: bold; text-align: right;\">5</td><td style = \"text-align: right;\">7.4</td><td style = \"text-align: right;\">0.7</td><td style = \"text-align: right;\">0.0</td><td style = \"text-align: right;\">1.9</td><td style = \"text-align: right;\">0.076</td><td style = \"text-align: right;\">11.0</td><td style = \"text-align: right;\">34.0</td><td style = \"text-align: right;\">0.9978</td><td style = \"text-align: right;\">3.51</td><td style = \"text-align: right;\">0.56</td><td style = \"text-align: right;\">9.4</td><td style = \"text-align: right;\">5</td></tr><tr><td class = \"rowNumber\" style = \"font-weight: bold; text-align: right;\">6</td><td style = \"text-align: right;\">7.4</td><td style = \"text-align: right;\">0.66</td><td style = \"text-align: right;\">0.0</td><td style = \"text-align: right;\">1.8</td><td style = \"text-align: right;\">0.075</td><td style = \"text-align: right;\">13.0</td><td style = \"text-align: right;\">40.0</td><td style = \"text-align: right;\">0.9978</td><td style = \"text-align: right;\">3.51</td><td style = \"text-align: right;\">0.56</td><td style = \"text-align: right;\">9.4</td><td style = \"text-align: right;\">5</td></tr><tr><td class = \"rowNumber\" style = \"font-weight: bold; text-align: right;\">7</td><td style = \"text-align: right;\">7.9</td><td style = \"text-align: right;\">0.6</td><td style = \"text-align: right;\">0.06</td><td style = \"text-align: right;\">1.6</td><td style = \"text-align: right;\">0.069</td><td style = \"text-align: right;\">15.0</td><td style = \"text-align: right;\">59.0</td><td style = \"text-align: right;\">0.9964</td><td style = \"text-align: right;\">3.3</td><td style = \"text-align: right;\">0.46</td><td style = \"text-align: right;\">9.4</td><td style = \"text-align: right;\">5</td></tr><tr><td class = \"rowNumber\" style = \"font-weight: bold; text-align: right;\">8</td><td style = \"text-align: right;\">7.3</td><td style = \"text-align: right;\">0.65</td><td style = \"text-align: right;\">0.0</td><td style = \"text-align: right;\">1.2</td><td style = \"text-align: right;\">0.065</td><td style = \"text-align: right;\">15.0</td><td style = \"text-align: right;\">21.0</td><td style = \"text-align: right;\">0.9946</td><td style = \"text-align: right;\">3.39</td><td style = \"text-align: right;\">0.47</td><td style = \"text-align: right;\">10.0</td><td style = \"text-align: right;\">7</td></tr><tr><td class = \"rowNumber\" style = \"font-weight: bold; text-align: right;\">9</td><td style = \"text-align: right;\">7.8</td><td style = \"text-align: right;\">0.58</td><td style = \"text-align: right;\">0.02</td><td style = \"text-align: right;\">2.0</td><td style = \"text-align: right;\">0.073</td><td style = \"text-align: right;\">9.0</td><td style = \"text-align: right;\">18.0</td><td style = \"text-align: right;\">0.9968</td><td style = \"text-align: right;\">3.36</td><td style = \"text-align: right;\">0.57</td><td style = \"text-align: right;\">9.5</td><td style = \"text-align: right;\">7</td></tr><tr><td class = \"rowNumber\" style = \"font-weight: bold; text-align: right;\">10</td><td style = \"text-align: right;\">7.5</td><td style = \"text-align: right;\">0.5</td><td style = \"text-align: right;\">0.36</td><td style = \"text-align: right;\">6.1</td><td style = \"text-align: right;\">0.071</td><td style = \"text-align: right;\">17.0</td><td style = \"text-align: right;\">102.0</td><td style = \"text-align: right;\">0.9978</td><td style = \"text-align: right;\">3.35</td><td style = \"text-align: right;\">0.8</td><td style = \"text-align: right;\">10.5</td><td style = \"text-align: right;\">5</td></tr><tr><td class = \"rowNumber\" style = \"font-weight: bold; text-align: right;\">11</td><td style = \"text-align: right;\">6.7</td><td style = \"text-align: right;\">0.58</td><td style = \"text-align: right;\">0.08</td><td style = \"text-align: right;\">1.8</td><td style = \"text-align: right;\">0.097</td><td style = \"text-align: right;\">15.0</td><td style = \"text-align: right;\">65.0</td><td style = \"text-align: right;\">0.9959</td><td style = \"text-align: right;\">3.28</td><td style = \"text-align: right;\">0.54</td><td style = \"text-align: right;\">9.2</td><td style = \"text-align: right;\">5</td></tr><tr><td class = \"rowNumber\" style = \"font-weight: bold; text-align: right;\">12</td><td style = \"text-align: right;\">7.5</td><td style = \"text-align: right;\">0.5</td><td style = \"text-align: right;\">0.36</td><td style = \"text-align: right;\">6.1</td><td style = \"text-align: right;\">0.071</td><td style = \"text-align: right;\">17.0</td><td style = \"text-align: right;\">102.0</td><td style = \"text-align: right;\">0.9978</td><td style = \"text-align: right;\">3.35</td><td style = \"text-align: right;\">0.8</td><td style = \"text-align: right;\">10.5</td><td style = \"text-align: right;\">5</td></tr><tr><td class = \"rowNumber\" style = \"font-weight: bold; text-align: right;\">13</td><td style = \"text-align: right;\">5.6</td><td style = \"text-align: right;\">0.615</td><td style = \"text-align: right;\">0.0</td><td style = \"text-align: right;\">1.6</td><td style = \"text-align: right;\">0.089</td><td style = \"text-align: right;\">16.0</td><td style = \"text-align: right;\">59.0</td><td style = \"text-align: right;\">0.9943</td><td style = \"text-align: right;\">3.58</td><td style = \"text-align: right;\">0.52</td><td style = \"text-align: right;\">9.9</td><td style = \"text-align: right;\">5</td></tr><tr><td style = \"text-align: right;\">&vellip;</td><td style = \"text-align: right;\">&vellip;</td><td style = \"text-align: right;\">&vellip;</td><td style = \"text-align: right;\">&vellip;</td><td style = \"text-align: right;\">&vellip;</td><td style = \"text-align: right;\">&vellip;</td><td style = \"text-align: right;\">&vellip;</td><td style = \"text-align: right;\">&vellip;</td><td style = \"text-align: right;\">&vellip;</td><td style = \"text-align: right;\">&vellip;</td><td style = \"text-align: right;\">&vellip;</td><td style = \"text-align: right;\">&vellip;</td><td style = \"text-align: right;\">&vellip;</td></tr><tr><td class = \"rowNumber\" style = \"font-weight: bold; text-align: right;\">1588</td><td style = \"text-align: right;\">5.8</td><td style = \"text-align: right;\">0.61</td><td style = \"text-align: right;\">0.11</td><td style = \"text-align: right;\">1.8</td><td style = \"text-align: right;\">0.066</td><td style = \"text-align: right;\">18.0</td><td style = \"text-align: right;\">28.0</td><td style = \"text-align: right;\">0.99483</td><td style = \"text-align: right;\">3.55</td><td style = \"text-align: right;\">0.66</td><td style = \"text-align: right;\">10.9</td><td style = \"text-align: right;\">6</td></tr><tr><td class = \"rowNumber\" style = \"font-weight: bold; text-align: right;\">1589</td><td style = \"text-align: right;\">7.2</td><td style = \"text-align: right;\">0.66</td><td style = \"text-align: right;\">0.33</td><td style = \"text-align: right;\">2.5</td><td style = \"text-align: right;\">0.068</td><td style = \"text-align: right;\">34.0</td><td style = \"text-align: right;\">102.0</td><td style = \"text-align: right;\">0.99414</td><td style = \"text-align: right;\">3.27</td><td style = \"text-align: right;\">0.78</td><td style = \"text-align: right;\">12.8</td><td style = \"text-align: right;\">6</td></tr><tr><td class = \"rowNumber\" style = \"font-weight: bold; text-align: right;\">1590</td><td style = \"text-align: right;\">6.6</td><td style = \"text-align: right;\">0.725</td><td style = \"text-align: right;\">0.2</td><td style = \"text-align: right;\">7.8</td><td style = \"text-align: right;\">0.073</td><td style = \"text-align: right;\">29.0</td><td style = \"text-align: right;\">79.0</td><td style = \"text-align: right;\">0.9977</td><td style = \"text-align: right;\">3.29</td><td style = \"text-align: right;\">0.54</td><td style = \"text-align: right;\">9.2</td><td style = \"text-align: right;\">5</td></tr><tr><td class = \"rowNumber\" style = \"font-weight: bold; text-align: right;\">1591</td><td style = \"text-align: right;\">6.3</td><td style = \"text-align: right;\">0.55</td><td style = \"text-align: right;\">0.15</td><td style = \"text-align: right;\">1.8</td><td style = \"text-align: right;\">0.077</td><td style = \"text-align: right;\">26.0</td><td style = \"text-align: right;\">35.0</td><td style = \"text-align: right;\">0.99314</td><td style = \"text-align: right;\">3.32</td><td style = \"text-align: right;\">0.82</td><td style = \"text-align: right;\">11.6</td><td style = \"text-align: right;\">6</td></tr><tr><td class = \"rowNumber\" style = \"font-weight: bold; text-align: right;\">1592</td><td style = \"text-align: right;\">5.4</td><td style = \"text-align: right;\">0.74</td><td style = \"text-align: right;\">0.09</td><td style = \"text-align: right;\">1.7</td><td style = \"text-align: right;\">0.089</td><td style = \"text-align: right;\">16.0</td><td style = \"text-align: right;\">26.0</td><td style = \"text-align: right;\">0.99402</td><td style = \"text-align: right;\">3.67</td><td style = \"text-align: right;\">0.56</td><td style = \"text-align: right;\">11.6</td><td style = \"text-align: right;\">6</td></tr><tr><td class = \"rowNumber\" style = \"font-weight: bold; text-align: right;\">1593</td><td style = \"text-align: right;\">6.3</td><td style = \"text-align: right;\">0.51</td><td style = \"text-align: right;\">0.13</td><td style = \"text-align: right;\">2.3</td><td style = \"text-align: right;\">0.076</td><td style = \"text-align: right;\">29.0</td><td style = \"text-align: right;\">40.0</td><td style = \"text-align: right;\">0.99574</td><td style = \"text-align: right;\">3.42</td><td style = \"text-align: right;\">0.75</td><td style = \"text-align: right;\">11.0</td><td style = \"text-align: right;\">6</td></tr><tr><td class = \"rowNumber\" style = \"font-weight: bold; text-align: right;\">1594</td><td style = \"text-align: right;\">6.8</td><td style = \"text-align: right;\">0.62</td><td style = \"text-align: right;\">0.08</td><td style = \"text-align: right;\">1.9</td><td style = \"text-align: right;\">0.068</td><td style = \"text-align: right;\">28.0</td><td style = \"text-align: right;\">38.0</td><td style = \"text-align: right;\">0.99651</td><td style = \"text-align: right;\">3.42</td><td style = \"text-align: right;\">0.82</td><td style = \"text-align: right;\">9.5</td><td style = \"text-align: right;\">6</td></tr><tr><td class = \"rowNumber\" style = \"font-weight: bold; text-align: right;\">1595</td><td style = \"text-align: right;\">6.2</td><td style = \"text-align: right;\">0.6</td><td style = \"text-align: right;\">0.08</td><td style = \"text-align: right;\">2.0</td><td style = \"text-align: right;\">0.09</td><td style = \"text-align: right;\">32.0</td><td style = \"text-align: right;\">44.0</td><td style = \"text-align: right;\">0.9949</td><td style = \"text-align: right;\">3.45</td><td style = \"text-align: right;\">0.58</td><td style = \"text-align: right;\">10.5</td><td style = \"text-align: right;\">5</td></tr><tr><td class = \"rowNumber\" style = \"font-weight: bold; text-align: right;\">1596</td><td style = \"text-align: right;\">5.9</td><td style = \"text-align: right;\">0.55</td><td style = \"text-align: right;\">0.1</td><td style = \"text-align: right;\">2.2</td><td style = \"text-align: right;\">0.062</td><td style = \"text-align: right;\">39.0</td><td style = \"text-align: right;\">51.0</td><td style = \"text-align: right;\">0.99512</td><td style = \"text-align: right;\">3.52</td><td style = \"text-align: right;\">0.76</td><td style = \"text-align: right;\">11.2</td><td style = \"text-align: right;\">6</td></tr><tr><td class = \"rowNumber\" style = \"font-weight: bold; text-align: right;\">1597</td><td style = \"text-align: right;\">6.3</td><td style = \"text-align: right;\">0.51</td><td style = \"text-align: right;\">0.13</td><td style = \"text-align: right;\">2.3</td><td style = \"text-align: right;\">0.076</td><td style = \"text-align: right;\">29.0</td><td style = \"text-align: right;\">40.0</td><td style = \"text-align: right;\">0.99574</td><td style = \"text-align: right;\">3.42</td><td style = \"text-align: right;\">0.75</td><td style = \"text-align: right;\">11.0</td><td style = \"text-align: right;\">6</td></tr><tr><td class = \"rowNumber\" style = \"font-weight: bold; text-align: right;\">1598</td><td style = \"text-align: right;\">5.9</td><td style = \"text-align: right;\">0.645</td><td style = \"text-align: right;\">0.12</td><td style = \"text-align: right;\">2.0</td><td style = \"text-align: right;\">0.075</td><td style = \"text-align: right;\">32.0</td><td style = \"text-align: right;\">44.0</td><td style = \"text-align: right;\">0.99547</td><td style = \"text-align: right;\">3.57</td><td style = \"text-align: right;\">0.71</td><td style = \"text-align: right;\">10.2</td><td style = \"text-align: right;\">5</td></tr><tr><td class = \"rowNumber\" style = \"font-weight: bold; text-align: right;\">1599</td><td style = \"text-align: right;\">6.0</td><td style = \"text-align: right;\">0.31</td><td style = \"text-align: right;\">0.47</td><td style = \"text-align: right;\">3.6</td><td style = \"text-align: right;\">0.067</td><td style = \"text-align: right;\">18.0</td><td style = \"text-align: right;\">42.0</td><td style = \"text-align: right;\">0.99549</td><td style = \"text-align: right;\">3.39</td><td style = \"text-align: right;\">0.66</td><td style = \"text-align: right;\">11.0</td><td style = \"text-align: right;\">6</td></tr></tbody></table></div>"
      ],
      "text/latex": [
       "\\begin{tabular}{r|ccccccc}\n",
       "\t& fixed acidity & volatile acidity & citric acid & residual sugar & chlorides & free sulfur dioxide & \\\\\n",
       "\t\\hline\n",
       "\t& Float64 & Float64 & Float64 & Float64 & Float64 & Float64 & \\\\\n",
       "\t\\hline\n",
       "\t1 & 7.4 & 0.7 & 0.0 & 1.9 & 0.076 & 11.0 & $\\dots$ \\\\\n",
       "\t2 & 7.8 & 0.88 & 0.0 & 2.6 & 0.098 & 25.0 & $\\dots$ \\\\\n",
       "\t3 & 7.8 & 0.76 & 0.04 & 2.3 & 0.092 & 15.0 & $\\dots$ \\\\\n",
       "\t4 & 11.2 & 0.28 & 0.56 & 1.9 & 0.075 & 17.0 & $\\dots$ \\\\\n",
       "\t5 & 7.4 & 0.7 & 0.0 & 1.9 & 0.076 & 11.0 & $\\dots$ \\\\\n",
       "\t6 & 7.4 & 0.66 & 0.0 & 1.8 & 0.075 & 13.0 & $\\dots$ \\\\\n",
       "\t7 & 7.9 & 0.6 & 0.06 & 1.6 & 0.069 & 15.0 & $\\dots$ \\\\\n",
       "\t8 & 7.3 & 0.65 & 0.0 & 1.2 & 0.065 & 15.0 & $\\dots$ \\\\\n",
       "\t9 & 7.8 & 0.58 & 0.02 & 2.0 & 0.073 & 9.0 & $\\dots$ \\\\\n",
       "\t10 & 7.5 & 0.5 & 0.36 & 6.1 & 0.071 & 17.0 & $\\dots$ \\\\\n",
       "\t11 & 6.7 & 0.58 & 0.08 & 1.8 & 0.097 & 15.0 & $\\dots$ \\\\\n",
       "\t12 & 7.5 & 0.5 & 0.36 & 6.1 & 0.071 & 17.0 & $\\dots$ \\\\\n",
       "\t13 & 5.6 & 0.615 & 0.0 & 1.6 & 0.089 & 16.0 & $\\dots$ \\\\\n",
       "\t14 & 7.8 & 0.61 & 0.29 & 1.6 & 0.114 & 9.0 & $\\dots$ \\\\\n",
       "\t15 & 8.9 & 0.62 & 0.18 & 3.8 & 0.176 & 52.0 & $\\dots$ \\\\\n",
       "\t16 & 8.9 & 0.62 & 0.19 & 3.9 & 0.17 & 51.0 & $\\dots$ \\\\\n",
       "\t17 & 8.5 & 0.28 & 0.56 & 1.8 & 0.092 & 35.0 & $\\dots$ \\\\\n",
       "\t18 & 8.1 & 0.56 & 0.28 & 1.7 & 0.368 & 16.0 & $\\dots$ \\\\\n",
       "\t19 & 7.4 & 0.59 & 0.08 & 4.4 & 0.086 & 6.0 & $\\dots$ \\\\\n",
       "\t20 & 7.9 & 0.32 & 0.51 & 1.8 & 0.341 & 17.0 & $\\dots$ \\\\\n",
       "\t21 & 8.9 & 0.22 & 0.48 & 1.8 & 0.077 & 29.0 & $\\dots$ \\\\\n",
       "\t22 & 7.6 & 0.39 & 0.31 & 2.3 & 0.082 & 23.0 & $\\dots$ \\\\\n",
       "\t23 & 7.9 & 0.43 & 0.21 & 1.6 & 0.106 & 10.0 & $\\dots$ \\\\\n",
       "\t24 & 8.5 & 0.49 & 0.11 & 2.3 & 0.084 & 9.0 & $\\dots$ \\\\\n",
       "\t25 & 6.9 & 0.4 & 0.14 & 2.4 & 0.085 & 21.0 & $\\dots$ \\\\\n",
       "\t26 & 6.3 & 0.39 & 0.16 & 1.4 & 0.08 & 11.0 & $\\dots$ \\\\\n",
       "\t27 & 7.6 & 0.41 & 0.24 & 1.8 & 0.08 & 4.0 & $\\dots$ \\\\\n",
       "\t28 & 7.9 & 0.43 & 0.21 & 1.6 & 0.106 & 10.0 & $\\dots$ \\\\\n",
       "\t29 & 7.1 & 0.71 & 0.0 & 1.9 & 0.08 & 14.0 & $\\dots$ \\\\\n",
       "\t30 & 7.8 & 0.645 & 0.0 & 2.0 & 0.082 & 8.0 & $\\dots$ \\\\\n",
       "\t$\\dots$ & $\\dots$ & $\\dots$ & $\\dots$ & $\\dots$ & $\\dots$ & $\\dots$ &  \\\\\n",
       "\\end{tabular}\n"
      ],
      "text/plain": [
       "\u001b[1m1599×12 DataFrame\u001b[0m\n",
       "\u001b[1m  Row \u001b[0m│\u001b[1m fixed acidity \u001b[0m\u001b[1m volatile acidity \u001b[0m\u001b[1m citric acid \u001b[0m\u001b[1m residual sugar \u001b[0m\u001b[1m chloride\u001b[0m ⋯\n",
       "      │\u001b[90m Float64       \u001b[0m\u001b[90m Float64          \u001b[0m\u001b[90m Float64     \u001b[0m\u001b[90m Float64        \u001b[0m\u001b[90m Float64 \u001b[0m ⋯\n",
       "──────┼─────────────────────────────────────────────────────────────────────────\n",
       "    1 │           7.4             0.7           0.0              1.9      0.07 ⋯\n",
       "    2 │           7.8             0.88          0.0              2.6      0.09\n",
       "    3 │           7.8             0.76          0.04             2.3      0.09\n",
       "    4 │          11.2             0.28          0.56             1.9      0.07\n",
       "    5 │           7.4             0.7           0.0              1.9      0.07 ⋯\n",
       "    6 │           7.4             0.66          0.0              1.8      0.07\n",
       "    7 │           7.9             0.6           0.06             1.6      0.06\n",
       "    8 │           7.3             0.65          0.0              1.2      0.06\n",
       "    9 │           7.8             0.58          0.02             2.0      0.07 ⋯\n",
       "   10 │           7.5             0.5           0.36             6.1      0.07\n",
       "   11 │           6.7             0.58          0.08             1.8      0.09\n",
       "  ⋮   │       ⋮               ⋮               ⋮             ⋮             ⋮    ⋱\n",
       " 1590 │           6.6             0.725         0.2              7.8      0.07\n",
       " 1591 │           6.3             0.55          0.15             1.8      0.07 ⋯\n",
       " 1592 │           5.4             0.74          0.09             1.7      0.08\n",
       " 1593 │           6.3             0.51          0.13             2.3      0.07\n",
       " 1594 │           6.8             0.62          0.08             1.9      0.06\n",
       " 1595 │           6.2             0.6           0.08             2.0      0.09 ⋯\n",
       " 1596 │           5.9             0.55          0.1              2.2      0.06\n",
       " 1597 │           6.3             0.51          0.13             2.3      0.07\n",
       " 1598 │           5.9             0.645         0.12             2.0      0.07\n",
       " 1599 │           6.0             0.31          0.47             3.6      0.06 ⋯\n",
       "\u001b[36m                                                 8 columns and 1578 rows omitted\u001b[0m"
      ]
     },
     "execution_count": 22,
     "metadata": {},
     "output_type": "execute_result"
    }
   ],
   "source": [
    "using Pkg\n",
    "Pkg.add(\"CSV\")\n",
    "using CSV\n",
    "input=\"winequality.csv\"\n",
    "mydata=CSV.read(input, delim=\";\",DataFrame)"
   ]
  },
  {
   "cell_type": "code",
   "execution_count": 23,
   "metadata": {},
   "outputs": [
    {
     "data": {
      "text/html": [
       "<div><div style = \"float: left;\"><span>12×7 DataFrame</span></div><div style = \"clear: both;\"></div></div><div class = \"data-frame\" style = \"overflow-x: scroll;\"><table class = \"data-frame\" style = \"margin-bottom: 6px;\"><thead><tr class = \"header\"><th class = \"rowNumber\" style = \"font-weight: bold; text-align: right;\">Row</th><th style = \"text-align: left;\">variable</th><th style = \"text-align: left;\">mean</th><th style = \"text-align: left;\">min</th><th style = \"text-align: left;\">median</th><th style = \"text-align: left;\">max</th><th style = \"text-align: left;\">nmissing</th><th style = \"text-align: left;\">eltype</th></tr><tr class = \"subheader headerLastRow\"><th class = \"rowNumber\" style = \"font-weight: bold; text-align: right;\"></th><th title = \"Symbol\" style = \"text-align: left;\">Symbol</th><th title = \"Float64\" style = \"text-align: left;\">Float64</th><th title = \"Real\" style = \"text-align: left;\">Real</th><th title = \"Float64\" style = \"text-align: left;\">Float64</th><th title = \"Real\" style = \"text-align: left;\">Real</th><th title = \"Int64\" style = \"text-align: left;\">Int64</th><th title = \"DataType\" style = \"text-align: left;\">DataType</th></tr></thead><tbody><tr><td class = \"rowNumber\" style = \"font-weight: bold; text-align: right;\">1</td><td style = \"text-align: left;\">fixed acidity</td><td style = \"text-align: right;\">8.31964</td><td style = \"text-align: right;\">4.6</td><td style = \"text-align: right;\">7.9</td><td style = \"text-align: right;\">15.9</td><td style = \"text-align: right;\">0</td><td style = \"text-align: left;\">Float64</td></tr><tr><td class = \"rowNumber\" style = \"font-weight: bold; text-align: right;\">2</td><td style = \"text-align: left;\">volatile acidity</td><td style = \"text-align: right;\">0.527821</td><td style = \"text-align: right;\">0.12</td><td style = \"text-align: right;\">0.52</td><td style = \"text-align: right;\">1.58</td><td style = \"text-align: right;\">0</td><td style = \"text-align: left;\">Float64</td></tr><tr><td class = \"rowNumber\" style = \"font-weight: bold; text-align: right;\">3</td><td style = \"text-align: left;\">citric acid</td><td style = \"text-align: right;\">0.270976</td><td style = \"text-align: right;\">0.0</td><td style = \"text-align: right;\">0.26</td><td style = \"text-align: right;\">1.0</td><td style = \"text-align: right;\">0</td><td style = \"text-align: left;\">Float64</td></tr><tr><td class = \"rowNumber\" style = \"font-weight: bold; text-align: right;\">4</td><td style = \"text-align: left;\">residual sugar</td><td style = \"text-align: right;\">2.53881</td><td style = \"text-align: right;\">0.9</td><td style = \"text-align: right;\">2.2</td><td style = \"text-align: right;\">15.5</td><td style = \"text-align: right;\">0</td><td style = \"text-align: left;\">Float64</td></tr><tr><td class = \"rowNumber\" style = \"font-weight: bold; text-align: right;\">5</td><td style = \"text-align: left;\">chlorides</td><td style = \"text-align: right;\">0.0874665</td><td style = \"text-align: right;\">0.012</td><td style = \"text-align: right;\">0.079</td><td style = \"text-align: right;\">0.611</td><td style = \"text-align: right;\">0</td><td style = \"text-align: left;\">Float64</td></tr><tr><td class = \"rowNumber\" style = \"font-weight: bold; text-align: right;\">6</td><td style = \"text-align: left;\">free sulfur dioxide</td><td style = \"text-align: right;\">15.8749</td><td style = \"text-align: right;\">1.0</td><td style = \"text-align: right;\">14.0</td><td style = \"text-align: right;\">72.0</td><td style = \"text-align: right;\">0</td><td style = \"text-align: left;\">Float64</td></tr><tr><td class = \"rowNumber\" style = \"font-weight: bold; text-align: right;\">7</td><td style = \"text-align: left;\">total sulfur dioxide</td><td style = \"text-align: right;\">46.4678</td><td style = \"text-align: right;\">6.0</td><td style = \"text-align: right;\">38.0</td><td style = \"text-align: right;\">289.0</td><td style = \"text-align: right;\">0</td><td style = \"text-align: left;\">Float64</td></tr><tr><td class = \"rowNumber\" style = \"font-weight: bold; text-align: right;\">8</td><td style = \"text-align: left;\">density</td><td style = \"text-align: right;\">0.996747</td><td style = \"text-align: right;\">0.99007</td><td style = \"text-align: right;\">0.99675</td><td style = \"text-align: right;\">1.00369</td><td style = \"text-align: right;\">0</td><td style = \"text-align: left;\">Float64</td></tr><tr><td class = \"rowNumber\" style = \"font-weight: bold; text-align: right;\">9</td><td style = \"text-align: left;\">pH</td><td style = \"text-align: right;\">3.31111</td><td style = \"text-align: right;\">2.74</td><td style = \"text-align: right;\">3.31</td><td style = \"text-align: right;\">4.01</td><td style = \"text-align: right;\">0</td><td style = \"text-align: left;\">Float64</td></tr><tr><td class = \"rowNumber\" style = \"font-weight: bold; text-align: right;\">10</td><td style = \"text-align: left;\">sulphates</td><td style = \"text-align: right;\">0.658149</td><td style = \"text-align: right;\">0.33</td><td style = \"text-align: right;\">0.62</td><td style = \"text-align: right;\">2.0</td><td style = \"text-align: right;\">0</td><td style = \"text-align: left;\">Float64</td></tr><tr><td class = \"rowNumber\" style = \"font-weight: bold; text-align: right;\">11</td><td style = \"text-align: left;\">alcohol</td><td style = \"text-align: right;\">10.423</td><td style = \"text-align: right;\">8.4</td><td style = \"text-align: right;\">10.2</td><td style = \"text-align: right;\">14.9</td><td style = \"text-align: right;\">0</td><td style = \"text-align: left;\">Float64</td></tr><tr><td class = \"rowNumber\" style = \"font-weight: bold; text-align: right;\">12</td><td style = \"text-align: left;\">quality</td><td style = \"text-align: right;\">5.63602</td><td style = \"text-align: right;\">3</td><td style = \"text-align: right;\">6.0</td><td style = \"text-align: right;\">8</td><td style = \"text-align: right;\">0</td><td style = \"text-align: left;\">Int64</td></tr></tbody></table></div>"
      ],
      "text/latex": [
       "\\begin{tabular}{r|ccccccc}\n",
       "\t& variable & mean & min & median & max & nmissing & eltype\\\\\n",
       "\t\\hline\n",
       "\t& Symbol & Float64 & Real & Float64 & Real & Int64 & DataType\\\\\n",
       "\t\\hline\n",
       "\t1 & fixed acidity & 8.31964 & 4.6 & 7.9 & 15.9 & 0 & Float64 \\\\\n",
       "\t2 & volatile acidity & 0.527821 & 0.12 & 0.52 & 1.58 & 0 & Float64 \\\\\n",
       "\t3 & citric acid & 0.270976 & 0.0 & 0.26 & 1.0 & 0 & Float64 \\\\\n",
       "\t4 & residual sugar & 2.53881 & 0.9 & 2.2 & 15.5 & 0 & Float64 \\\\\n",
       "\t5 & chlorides & 0.0874665 & 0.012 & 0.079 & 0.611 & 0 & Float64 \\\\\n",
       "\t6 & free sulfur dioxide & 15.8749 & 1.0 & 14.0 & 72.0 & 0 & Float64 \\\\\n",
       "\t7 & total sulfur dioxide & 46.4678 & 6.0 & 38.0 & 289.0 & 0 & Float64 \\\\\n",
       "\t8 & density & 0.996747 & 0.99007 & 0.99675 & 1.00369 & 0 & Float64 \\\\\n",
       "\t9 & pH & 3.31111 & 2.74 & 3.31 & 4.01 & 0 & Float64 \\\\\n",
       "\t10 & sulphates & 0.658149 & 0.33 & 0.62 & 2.0 & 0 & Float64 \\\\\n",
       "\t11 & alcohol & 10.423 & 8.4 & 10.2 & 14.9 & 0 & Float64 \\\\\n",
       "\t12 & quality & 5.63602 & 3 & 6.0 & 8 & 0 & Int64 \\\\\n",
       "\\end{tabular}\n"
      ],
      "text/plain": [
       "\u001b[1m12×7 DataFrame\u001b[0m\n",
       "\u001b[1m Row \u001b[0m│\u001b[1m variable             \u001b[0m\u001b[1m mean       \u001b[0m\u001b[1m min     \u001b[0m\u001b[1m median   \u001b[0m\u001b[1m max       \u001b[0m\u001b[1m nmissin\u001b[0m ⋯\n",
       "     │\u001b[90m Symbol               \u001b[0m\u001b[90m Float64    \u001b[0m\u001b[90m Real    \u001b[0m\u001b[90m Float64  \u001b[0m\u001b[90m Real      \u001b[0m\u001b[90m Int64  \u001b[0m ⋯\n",
       "─────┼──────────────────────────────────────────────────────────────────────────\n",
       "   1 │ fixed acidity          8.31964    4.6       7.9       15.9              ⋯\n",
       "   2 │ volatile acidity       0.527821   0.12      0.52       1.58\n",
       "   3 │ citric acid            0.270976   0.0       0.26       1.0\n",
       "   4 │ residual sugar         2.53881    0.9       2.2       15.5\n",
       "   5 │ chlorides              0.0874665  0.012     0.079      0.611            ⋯\n",
       "   6 │ free sulfur dioxide   15.8749     1.0      14.0       72.0\n",
       "   7 │ total sulfur dioxide  46.4678     6.0      38.0      289.0\n",
       "   8 │ density                0.996747   0.99007   0.99675    1.00369\n",
       "   9 │ pH                     3.31111    2.74      3.31       4.01             ⋯\n",
       "  10 │ sulphates              0.658149   0.33      0.62       2.0\n",
       "  11 │ alcohol               10.423      8.4      10.2       14.9\n",
       "  12 │ quality                5.63602    3         6.0        8\n",
       "\u001b[36m                                                               2 columns omitted\u001b[0m"
      ]
     },
     "execution_count": 23,
     "metadata": {},
     "output_type": "execute_result"
    }
   ],
   "source": [
    "describe(mydata)"
   ]
  },
  {
   "cell_type": "code",
   "execution_count": 24,
   "metadata": {},
   "outputs": [
    {
     "data": {
      "text/plain": [
       "DataFrame"
      ]
     },
     "execution_count": 24,
     "metadata": {},
     "output_type": "execute_result"
    }
   ],
   "source": [
    "typeof(mydata)"
   ]
  },
  {
   "cell_type": "code",
   "execution_count": 25,
   "metadata": {},
   "outputs": [
    {
     "data": {
      "text/plain": [
       "(1599, 12)"
      ]
     },
     "execution_count": 25,
     "metadata": {},
     "output_type": "execute_result"
    }
   ],
   "source": [
    "size(mydata)"
   ]
  },
  {
   "cell_type": "code",
   "execution_count": 26,
   "metadata": {},
   "outputs": [
    {
     "data": {
      "text/html": [
       "<p><b>GroupedDataFrame with 6 groups based on key: quality</b></p><div><div style = \"float: left;\"><span>First Group (10 rows): quality = 3</span></div><div style = \"clear: both;\"></div></div><div class = \"data-frame\" style = \"overflow-x: scroll;\"><table class = \"data-frame\" style = \"margin-bottom: 6px;\"><thead><tr class = \"header\"><th class = \"rowNumber\" style = \"font-weight: bold; text-align: right;\">Row</th><th style = \"text-align: left;\">fixed acidity</th><th style = \"text-align: left;\">volatile acidity</th><th style = \"text-align: left;\">citric acid</th><th style = \"text-align: left;\">residual sugar</th><th style = \"text-align: left;\">chlorides</th><th style = \"text-align: left;\">free sulfur dioxide</th><th style = \"text-align: left;\">total sulfur dioxide</th><th style = \"text-align: left;\">density</th><th style = \"text-align: left;\">pH</th><th style = \"text-align: left;\">sulphates</th><th style = \"text-align: left;\">alcohol</th><th style = \"text-align: left;\">quality</th></tr><tr class = \"subheader headerLastRow\"><th class = \"rowNumber\" style = \"font-weight: bold; text-align: right;\"></th><th title = \"Float64\" style = \"text-align: left;\">Float64</th><th title = \"Float64\" style = \"text-align: left;\">Float64</th><th title = \"Float64\" style = \"text-align: left;\">Float64</th><th title = \"Float64\" style = \"text-align: left;\">Float64</th><th title = \"Float64\" style = \"text-align: left;\">Float64</th><th title = \"Float64\" style = \"text-align: left;\">Float64</th><th title = \"Float64\" style = \"text-align: left;\">Float64</th><th title = \"Float64\" style = \"text-align: left;\">Float64</th><th title = \"Float64\" style = \"text-align: left;\">Float64</th><th title = \"Float64\" style = \"text-align: left;\">Float64</th><th title = \"Float64\" style = \"text-align: left;\">Float64</th><th title = \"Int64\" style = \"text-align: left;\">Int64</th></tr></thead><tbody><tr><td class = \"rowNumber\" style = \"font-weight: bold; text-align: right;\">1</td><td style = \"text-align: right;\">11.6</td><td style = \"text-align: right;\">0.58</td><td style = \"text-align: right;\">0.66</td><td style = \"text-align: right;\">2.2</td><td style = \"text-align: right;\">0.074</td><td style = \"text-align: right;\">10.0</td><td style = \"text-align: right;\">47.0</td><td style = \"text-align: right;\">1.0008</td><td style = \"text-align: right;\">3.25</td><td style = \"text-align: right;\">0.57</td><td style = \"text-align: right;\">9.0</td><td style = \"text-align: right;\">3</td></tr><tr><td class = \"rowNumber\" style = \"font-weight: bold; text-align: right;\">2</td><td style = \"text-align: right;\">10.4</td><td style = \"text-align: right;\">0.61</td><td style = \"text-align: right;\">0.49</td><td style = \"text-align: right;\">2.1</td><td style = \"text-align: right;\">0.2</td><td style = \"text-align: right;\">5.0</td><td style = \"text-align: right;\">16.0</td><td style = \"text-align: right;\">0.9994</td><td style = \"text-align: right;\">3.16</td><td style = \"text-align: right;\">0.63</td><td style = \"text-align: right;\">8.4</td><td style = \"text-align: right;\">3</td></tr><tr><td class = \"rowNumber\" style = \"font-weight: bold; text-align: right;\">3</td><td style = \"text-align: right;\">7.4</td><td style = \"text-align: right;\">1.185</td><td style = \"text-align: right;\">0.0</td><td style = \"text-align: right;\">4.25</td><td style = \"text-align: right;\">0.097</td><td style = \"text-align: right;\">5.0</td><td style = \"text-align: right;\">14.0</td><td style = \"text-align: right;\">0.9966</td><td style = \"text-align: right;\">3.63</td><td style = \"text-align: right;\">0.54</td><td style = \"text-align: right;\">10.7</td><td style = \"text-align: right;\">3</td></tr><tr><td class = \"rowNumber\" style = \"font-weight: bold; text-align: right;\">4</td><td style = \"text-align: right;\">10.4</td><td style = \"text-align: right;\">0.44</td><td style = \"text-align: right;\">0.42</td><td style = \"text-align: right;\">1.5</td><td style = \"text-align: right;\">0.145</td><td style = \"text-align: right;\">34.0</td><td style = \"text-align: right;\">48.0</td><td style = \"text-align: right;\">0.99832</td><td style = \"text-align: right;\">3.38</td><td style = \"text-align: right;\">0.86</td><td style = \"text-align: right;\">9.9</td><td style = \"text-align: right;\">3</td></tr><tr><td class = \"rowNumber\" style = \"font-weight: bold; text-align: right;\">5</td><td style = \"text-align: right;\">8.3</td><td style = \"text-align: right;\">1.02</td><td style = \"text-align: right;\">0.02</td><td style = \"text-align: right;\">3.4</td><td style = \"text-align: right;\">0.084</td><td style = \"text-align: right;\">6.0</td><td style = \"text-align: right;\">11.0</td><td style = \"text-align: right;\">0.99892</td><td style = \"text-align: right;\">3.48</td><td style = \"text-align: right;\">0.49</td><td style = \"text-align: right;\">11.0</td><td style = \"text-align: right;\">3</td></tr><tr><td class = \"rowNumber\" style = \"font-weight: bold; text-align: right;\">6</td><td style = \"text-align: right;\">7.6</td><td style = \"text-align: right;\">1.58</td><td style = \"text-align: right;\">0.0</td><td style = \"text-align: right;\">2.1</td><td style = \"text-align: right;\">0.137</td><td style = \"text-align: right;\">5.0</td><td style = \"text-align: right;\">9.0</td><td style = \"text-align: right;\">0.99476</td><td style = \"text-align: right;\">3.5</td><td style = \"text-align: right;\">0.4</td><td style = \"text-align: right;\">10.9</td><td style = \"text-align: right;\">3</td></tr><tr><td class = \"rowNumber\" style = \"font-weight: bold; text-align: right;\">7</td><td style = \"text-align: right;\">6.8</td><td style = \"text-align: right;\">0.815</td><td style = \"text-align: right;\">0.0</td><td style = \"text-align: right;\">1.2</td><td style = \"text-align: right;\">0.267</td><td style = \"text-align: right;\">16.0</td><td style = \"text-align: right;\">29.0</td><td style = \"text-align: right;\">0.99471</td><td style = \"text-align: right;\">3.32</td><td style = \"text-align: right;\">0.51</td><td style = \"text-align: right;\">9.8</td><td style = \"text-align: right;\">3</td></tr><tr><td class = \"rowNumber\" style = \"font-weight: bold; text-align: right;\">8</td><td style = \"text-align: right;\">7.3</td><td style = \"text-align: right;\">0.98</td><td style = \"text-align: right;\">0.05</td><td style = \"text-align: right;\">2.1</td><td style = \"text-align: right;\">0.061</td><td style = \"text-align: right;\">20.0</td><td style = \"text-align: right;\">49.0</td><td style = \"text-align: right;\">0.99705</td><td style = \"text-align: right;\">3.31</td><td style = \"text-align: right;\">0.55</td><td style = \"text-align: right;\">9.7</td><td style = \"text-align: right;\">3</td></tr><tr><td class = \"rowNumber\" style = \"font-weight: bold; text-align: right;\">9</td><td style = \"text-align: right;\">7.1</td><td style = \"text-align: right;\">0.875</td><td style = \"text-align: right;\">0.05</td><td style = \"text-align: right;\">5.7</td><td style = \"text-align: right;\">0.082</td><td style = \"text-align: right;\">3.0</td><td style = \"text-align: right;\">14.0</td><td style = \"text-align: right;\">0.99808</td><td style = \"text-align: right;\">3.4</td><td style = \"text-align: right;\">0.52</td><td style = \"text-align: right;\">10.2</td><td style = \"text-align: right;\">3</td></tr><tr><td class = \"rowNumber\" style = \"font-weight: bold; text-align: right;\">10</td><td style = \"text-align: right;\">6.7</td><td style = \"text-align: right;\">0.76</td><td style = \"text-align: right;\">0.02</td><td style = \"text-align: right;\">1.8</td><td style = \"text-align: right;\">0.078</td><td style = \"text-align: right;\">6.0</td><td style = \"text-align: right;\">12.0</td><td style = \"text-align: right;\">0.996</td><td style = \"text-align: right;\">3.55</td><td style = \"text-align: right;\">0.63</td><td style = \"text-align: right;\">9.95</td><td style = \"text-align: right;\">3</td></tr></tbody></table></div><p>&vellip;</p><div><div style = \"float: left;\"><span>Last Group (18 rows): quality = 8</span></div><div style = \"clear: both;\"></div></div><div class = \"data-frame\" style = \"overflow-x: scroll;\"><table class = \"data-frame\" style = \"margin-bottom: 6px;\"><thead><tr class = \"header\"><th class = \"rowNumber\" style = \"font-weight: bold; text-align: right;\">Row</th><th style = \"text-align: left;\">fixed acidity</th><th style = \"text-align: left;\">volatile acidity</th><th style = \"text-align: left;\">citric acid</th><th style = \"text-align: left;\">residual sugar</th><th style = \"text-align: left;\">chlorides</th><th style = \"text-align: left;\">free sulfur dioxide</th><th style = \"text-align: left;\">total sulfur dioxide</th><th style = \"text-align: left;\">density</th><th style = \"text-align: left;\">pH</th><th style = \"text-align: left;\">sulphates</th><th style = \"text-align: left;\">alcohol</th><th style = \"text-align: left;\">quality</th></tr><tr class = \"subheader headerLastRow\"><th class = \"rowNumber\" style = \"font-weight: bold; text-align: right;\"></th><th title = \"Float64\" style = \"text-align: left;\">Float64</th><th title = \"Float64\" style = \"text-align: left;\">Float64</th><th title = \"Float64\" style = \"text-align: left;\">Float64</th><th title = \"Float64\" style = \"text-align: left;\">Float64</th><th title = \"Float64\" style = \"text-align: left;\">Float64</th><th title = \"Float64\" style = \"text-align: left;\">Float64</th><th title = \"Float64\" style = \"text-align: left;\">Float64</th><th title = \"Float64\" style = \"text-align: left;\">Float64</th><th title = \"Float64\" style = \"text-align: left;\">Float64</th><th title = \"Float64\" style = \"text-align: left;\">Float64</th><th title = \"Float64\" style = \"text-align: left;\">Float64</th><th title = \"Int64\" style = \"text-align: left;\">Int64</th></tr></thead><tbody><tr><td class = \"rowNumber\" style = \"font-weight: bold; text-align: right;\">1</td><td style = \"text-align: right;\">7.9</td><td style = \"text-align: right;\">0.35</td><td style = \"text-align: right;\">0.46</td><td style = \"text-align: right;\">3.6</td><td style = \"text-align: right;\">0.078</td><td style = \"text-align: right;\">15.0</td><td style = \"text-align: right;\">37.0</td><td style = \"text-align: right;\">0.9973</td><td style = \"text-align: right;\">3.35</td><td style = \"text-align: right;\">0.86</td><td style = \"text-align: right;\">12.8</td><td style = \"text-align: right;\">8</td></tr><tr><td class = \"rowNumber\" style = \"font-weight: bold; text-align: right;\">2</td><td style = \"text-align: right;\">10.3</td><td style = \"text-align: right;\">0.32</td><td style = \"text-align: right;\">0.45</td><td style = \"text-align: right;\">6.4</td><td style = \"text-align: right;\">0.073</td><td style = \"text-align: right;\">5.0</td><td style = \"text-align: right;\">13.0</td><td style = \"text-align: right;\">0.9976</td><td style = \"text-align: right;\">3.23</td><td style = \"text-align: right;\">0.82</td><td style = \"text-align: right;\">12.6</td><td style = \"text-align: right;\">8</td></tr><tr><td class = \"rowNumber\" style = \"font-weight: bold; text-align: right;\">3</td><td style = \"text-align: right;\">5.6</td><td style = \"text-align: right;\">0.85</td><td style = \"text-align: right;\">0.05</td><td style = \"text-align: right;\">1.4</td><td style = \"text-align: right;\">0.045</td><td style = \"text-align: right;\">12.0</td><td style = \"text-align: right;\">88.0</td><td style = \"text-align: right;\">0.9924</td><td style = \"text-align: right;\">3.56</td><td style = \"text-align: right;\">0.82</td><td style = \"text-align: right;\">12.9</td><td style = \"text-align: right;\">8</td></tr><tr><td class = \"rowNumber\" style = \"font-weight: bold; text-align: right;\">4</td><td style = \"text-align: right;\">12.6</td><td style = \"text-align: right;\">0.31</td><td style = \"text-align: right;\">0.72</td><td style = \"text-align: right;\">2.2</td><td style = \"text-align: right;\">0.072</td><td style = \"text-align: right;\">6.0</td><td style = \"text-align: right;\">29.0</td><td style = \"text-align: right;\">0.9987</td><td style = \"text-align: right;\">2.88</td><td style = \"text-align: right;\">0.82</td><td style = \"text-align: right;\">9.8</td><td style = \"text-align: right;\">8</td></tr><tr><td class = \"rowNumber\" style = \"font-weight: bold; text-align: right;\">5</td><td style = \"text-align: right;\">11.3</td><td style = \"text-align: right;\">0.62</td><td style = \"text-align: right;\">0.67</td><td style = \"text-align: right;\">5.2</td><td style = \"text-align: right;\">0.086</td><td style = \"text-align: right;\">6.0</td><td style = \"text-align: right;\">19.0</td><td style = \"text-align: right;\">0.9988</td><td style = \"text-align: right;\">3.22</td><td style = \"text-align: right;\">0.69</td><td style = \"text-align: right;\">13.4</td><td style = \"text-align: right;\">8</td></tr><tr><td class = \"rowNumber\" style = \"font-weight: bold; text-align: right;\">6</td><td style = \"text-align: right;\">9.4</td><td style = \"text-align: right;\">0.3</td><td style = \"text-align: right;\">0.56</td><td style = \"text-align: right;\">2.8</td><td style = \"text-align: right;\">0.08</td><td style = \"text-align: right;\">6.0</td><td style = \"text-align: right;\">17.0</td><td style = \"text-align: right;\">0.9964</td><td style = \"text-align: right;\">3.15</td><td style = \"text-align: right;\">0.92</td><td style = \"text-align: right;\">11.7</td><td style = \"text-align: right;\">8</td></tr><tr><td class = \"rowNumber\" style = \"font-weight: bold; text-align: right;\">7</td><td style = \"text-align: right;\">10.7</td><td style = \"text-align: right;\">0.35</td><td style = \"text-align: right;\">0.53</td><td style = \"text-align: right;\">2.6</td><td style = \"text-align: right;\">0.07</td><td style = \"text-align: right;\">5.0</td><td style = \"text-align: right;\">16.0</td><td style = \"text-align: right;\">0.9972</td><td style = \"text-align: right;\">3.15</td><td style = \"text-align: right;\">0.65</td><td style = \"text-align: right;\">11.0</td><td style = \"text-align: right;\">8</td></tr><tr><td class = \"rowNumber\" style = \"font-weight: bold; text-align: right;\">8</td><td style = \"text-align: right;\">10.7</td><td style = \"text-align: right;\">0.35</td><td style = \"text-align: right;\">0.53</td><td style = \"text-align: right;\">2.6</td><td style = \"text-align: right;\">0.07</td><td style = \"text-align: right;\">5.0</td><td style = \"text-align: right;\">16.0</td><td style = \"text-align: right;\">0.9972</td><td style = \"text-align: right;\">3.15</td><td style = \"text-align: right;\">0.65</td><td style = \"text-align: right;\">11.0</td><td style = \"text-align: right;\">8</td></tr><tr><td class = \"rowNumber\" style = \"font-weight: bold; text-align: right;\">9</td><td style = \"text-align: right;\">5.0</td><td style = \"text-align: right;\">0.42</td><td style = \"text-align: right;\">0.24</td><td style = \"text-align: right;\">2.0</td><td style = \"text-align: right;\">0.06</td><td style = \"text-align: right;\">19.0</td><td style = \"text-align: right;\">50.0</td><td style = \"text-align: right;\">0.9917</td><td style = \"text-align: right;\">3.72</td><td style = \"text-align: right;\">0.74</td><td style = \"text-align: right;\">14.0</td><td style = \"text-align: right;\">8</td></tr><tr><td class = \"rowNumber\" style = \"font-weight: bold; text-align: right;\">10</td><td style = \"text-align: right;\">7.8</td><td style = \"text-align: right;\">0.57</td><td style = \"text-align: right;\">0.09</td><td style = \"text-align: right;\">2.3</td><td style = \"text-align: right;\">0.065</td><td style = \"text-align: right;\">34.0</td><td style = \"text-align: right;\">45.0</td><td style = \"text-align: right;\">0.99417</td><td style = \"text-align: right;\">3.46</td><td style = \"text-align: right;\">0.74</td><td style = \"text-align: right;\">12.7</td><td style = \"text-align: right;\">8</td></tr><tr><td class = \"rowNumber\" style = \"font-weight: bold; text-align: right;\">11</td><td style = \"text-align: right;\">9.1</td><td style = \"text-align: right;\">0.4</td><td style = \"text-align: right;\">0.5</td><td style = \"text-align: right;\">1.8</td><td style = \"text-align: right;\">0.071</td><td style = \"text-align: right;\">7.0</td><td style = \"text-align: right;\">16.0</td><td style = \"text-align: right;\">0.99462</td><td style = \"text-align: right;\">3.21</td><td style = \"text-align: right;\">0.69</td><td style = \"text-align: right;\">12.5</td><td style = \"text-align: right;\">8</td></tr><tr><td class = \"rowNumber\" style = \"font-weight: bold; text-align: right;\">12</td><td style = \"text-align: right;\">10.0</td><td style = \"text-align: right;\">0.26</td><td style = \"text-align: right;\">0.54</td><td style = \"text-align: right;\">1.9</td><td style = \"text-align: right;\">0.083</td><td style = \"text-align: right;\">42.0</td><td style = \"text-align: right;\">74.0</td><td style = \"text-align: right;\">0.99451</td><td style = \"text-align: right;\">2.98</td><td style = \"text-align: right;\">0.63</td><td style = \"text-align: right;\">11.8</td><td style = \"text-align: right;\">8</td></tr><tr><td class = \"rowNumber\" style = \"font-weight: bold; text-align: right;\">13</td><td style = \"text-align: right;\">7.9</td><td style = \"text-align: right;\">0.54</td><td style = \"text-align: right;\">0.34</td><td style = \"text-align: right;\">2.5</td><td style = \"text-align: right;\">0.076</td><td style = \"text-align: right;\">8.0</td><td style = \"text-align: right;\">17.0</td><td style = \"text-align: right;\">0.99235</td><td style = \"text-align: right;\">3.2</td><td style = \"text-align: right;\">0.72</td><td style = \"text-align: right;\">13.1</td><td style = \"text-align: right;\">8</td></tr><tr><td class = \"rowNumber\" style = \"font-weight: bold; text-align: right;\">14</td><td style = \"text-align: right;\">8.6</td><td style = \"text-align: right;\">0.42</td><td style = \"text-align: right;\">0.39</td><td style = \"text-align: right;\">1.8</td><td style = \"text-align: right;\">0.068</td><td style = \"text-align: right;\">6.0</td><td style = \"text-align: right;\">12.0</td><td style = \"text-align: right;\">0.99516</td><td style = \"text-align: right;\">3.35</td><td style = \"text-align: right;\">0.69</td><td style = \"text-align: right;\">11.7</td><td style = \"text-align: right;\">8</td></tr><tr><td class = \"rowNumber\" style = \"font-weight: bold; text-align: right;\">15</td><td style = \"text-align: right;\">5.5</td><td style = \"text-align: right;\">0.49</td><td style = \"text-align: right;\">0.03</td><td style = \"text-align: right;\">1.8</td><td style = \"text-align: right;\">0.044</td><td style = \"text-align: right;\">28.0</td><td style = \"text-align: right;\">87.0</td><td style = \"text-align: right;\">0.9908</td><td style = \"text-align: right;\">3.5</td><td style = \"text-align: right;\">0.82</td><td style = \"text-align: right;\">14.0</td><td style = \"text-align: right;\">8</td></tr><tr><td class = \"rowNumber\" style = \"font-weight: bold; text-align: right;\">16</td><td style = \"text-align: right;\">7.2</td><td style = \"text-align: right;\">0.33</td><td style = \"text-align: right;\">0.33</td><td style = \"text-align: right;\">1.7</td><td style = \"text-align: right;\">0.061</td><td style = \"text-align: right;\">3.0</td><td style = \"text-align: right;\">13.0</td><td style = \"text-align: right;\">0.996</td><td style = \"text-align: right;\">3.23</td><td style = \"text-align: right;\">1.1</td><td style = \"text-align: right;\">10.0</td><td style = \"text-align: right;\">8</td></tr><tr><td class = \"rowNumber\" style = \"font-weight: bold; text-align: right;\">17</td><td style = \"text-align: right;\">7.2</td><td style = \"text-align: right;\">0.38</td><td style = \"text-align: right;\">0.31</td><td style = \"text-align: right;\">2.0</td><td style = \"text-align: right;\">0.056</td><td style = \"text-align: right;\">15.0</td><td style = \"text-align: right;\">29.0</td><td style = \"text-align: right;\">0.99472</td><td style = \"text-align: right;\">3.23</td><td style = \"text-align: right;\">0.76</td><td style = \"text-align: right;\">11.3</td><td style = \"text-align: right;\">8</td></tr><tr><td class = \"rowNumber\" style = \"font-weight: bold; text-align: right;\">18</td><td style = \"text-align: right;\">7.4</td><td style = \"text-align: right;\">0.36</td><td style = \"text-align: right;\">0.3</td><td style = \"text-align: right;\">1.8</td><td style = \"text-align: right;\">0.074</td><td style = \"text-align: right;\">17.0</td><td style = \"text-align: right;\">24.0</td><td style = \"text-align: right;\">0.99419</td><td style = \"text-align: right;\">3.24</td><td style = \"text-align: right;\">0.7</td><td style = \"text-align: right;\">11.4</td><td style = \"text-align: right;\">8</td></tr></tbody></table></div>"
      ],
      "text/latex": [
       "GroupedDataFrame with 6 groups based on key: quality\n",
       "\n",
       "First Group (10 rows): quality = 3\n",
       "\n",
       "\\begin{tabular}{r|ccccccc}\n",
       "\t& fixed acidity & volatile acidity & citric acid & residual sugar & chlorides & free sulfur dioxide & \\\\\n",
       "\t\\hline\n",
       "\t& Float64 & Float64 & Float64 & Float64 & Float64 & Float64 & \\\\\n",
       "\t\\hline\n",
       "\t1 & 11.6 & 0.58 & 0.66 & 2.2 & 0.074 & 10.0 & $\\dots$ \\\\\n",
       "\t2 & 10.4 & 0.61 & 0.49 & 2.1 & 0.2 & 5.0 & $\\dots$ \\\\\n",
       "\t3 & 7.4 & 1.185 & 0.0 & 4.25 & 0.097 & 5.0 & $\\dots$ \\\\\n",
       "\t4 & 10.4 & 0.44 & 0.42 & 1.5 & 0.145 & 34.0 & $\\dots$ \\\\\n",
       "\t5 & 8.3 & 1.02 & 0.02 & 3.4 & 0.084 & 6.0 & $\\dots$ \\\\\n",
       "\t6 & 7.6 & 1.58 & 0.0 & 2.1 & 0.137 & 5.0 & $\\dots$ \\\\\n",
       "\t7 & 6.8 & 0.815 & 0.0 & 1.2 & 0.267 & 16.0 & $\\dots$ \\\\\n",
       "\t8 & 7.3 & 0.98 & 0.05 & 2.1 & 0.061 & 20.0 & $\\dots$ \\\\\n",
       "\t9 & 7.1 & 0.875 & 0.05 & 5.7 & 0.082 & 3.0 & $\\dots$ \\\\\n",
       "\t10 & 6.7 & 0.76 & 0.02 & 1.8 & 0.078 & 6.0 & $\\dots$ \\\\\n",
       "\\end{tabular}\n",
       "\n",
       "$\\dots$\n",
       "\n",
       "Last Group (18 rows): quality = 8\n",
       "\n",
       "\\begin{tabular}{r|ccccccc}\n",
       "\t& fixed acidity & volatile acidity & citric acid & residual sugar & chlorides & free sulfur dioxide & \\\\\n",
       "\t\\hline\n",
       "\t& Float64 & Float64 & Float64 & Float64 & Float64 & Float64 & \\\\\n",
       "\t\\hline\n",
       "\t1 & 7.9 & 0.35 & 0.46 & 3.6 & 0.078 & 15.0 & $\\dots$ \\\\\n",
       "\t2 & 10.3 & 0.32 & 0.45 & 6.4 & 0.073 & 5.0 & $\\dots$ \\\\\n",
       "\t3 & 5.6 & 0.85 & 0.05 & 1.4 & 0.045 & 12.0 & $\\dots$ \\\\\n",
       "\t4 & 12.6 & 0.31 & 0.72 & 2.2 & 0.072 & 6.0 & $\\dots$ \\\\\n",
       "\t5 & 11.3 & 0.62 & 0.67 & 5.2 & 0.086 & 6.0 & $\\dots$ \\\\\n",
       "\t6 & 9.4 & 0.3 & 0.56 & 2.8 & 0.08 & 6.0 & $\\dots$ \\\\\n",
       "\t7 & 10.7 & 0.35 & 0.53 & 2.6 & 0.07 & 5.0 & $\\dots$ \\\\\n",
       "\t8 & 10.7 & 0.35 & 0.53 & 2.6 & 0.07 & 5.0 & $\\dots$ \\\\\n",
       "\t9 & 5.0 & 0.42 & 0.24 & 2.0 & 0.06 & 19.0 & $\\dots$ \\\\\n",
       "\t10 & 7.8 & 0.57 & 0.09 & 2.3 & 0.065 & 34.0 & $\\dots$ \\\\\n",
       "\t11 & 9.1 & 0.4 & 0.5 & 1.8 & 0.071 & 7.0 & $\\dots$ \\\\\n",
       "\t12 & 10.0 & 0.26 & 0.54 & 1.9 & 0.083 & 42.0 & $\\dots$ \\\\\n",
       "\t13 & 7.9 & 0.54 & 0.34 & 2.5 & 0.076 & 8.0 & $\\dots$ \\\\\n",
       "\t14 & 8.6 & 0.42 & 0.39 & 1.8 & 0.068 & 6.0 & $\\dots$ \\\\\n",
       "\t15 & 5.5 & 0.49 & 0.03 & 1.8 & 0.044 & 28.0 & $\\dots$ \\\\\n",
       "\t16 & 7.2 & 0.33 & 0.33 & 1.7 & 0.061 & 3.0 & $\\dots$ \\\\\n",
       "\t17 & 7.2 & 0.38 & 0.31 & 2.0 & 0.056 & 15.0 & $\\dots$ \\\\\n",
       "\t18 & 7.4 & 0.36 & 0.3 & 1.8 & 0.074 & 17.0 & $\\dots$ \\\\\n",
       "\\end{tabular}\n"
      ],
      "text/plain": [
       "GroupedDataFrame with 6 groups based on key: quality\n",
       "First Group (10 rows): quality = 3\n",
       "\u001b[1m Row \u001b[0m│\u001b[1m fixed acidity \u001b[0m\u001b[1m volatile acidity \u001b[0m\u001b[1m citric acid \u001b[0m\u001b[1m residual sugar \u001b[0m\u001b[1m chlorides\u001b[0m ⋯\n",
       "     │\u001b[90m Float64       \u001b[0m\u001b[90m Float64          \u001b[0m\u001b[90m Float64     \u001b[0m\u001b[90m Float64        \u001b[0m\u001b[90m Float64  \u001b[0m ⋯\n",
       "─────┼──────────────────────────────────────────────────────────────────────────\n",
       "   1 │          11.6             0.58          0.66            2.2       0.074 ⋯\n",
       "   2 │          10.4             0.61          0.49            2.1       0.2\n",
       "   3 │           7.4             1.185         0.0             4.25      0.097\n",
       "   4 │          10.4             0.44          0.42            1.5       0.145\n",
       "  ⋮  │       ⋮               ⋮               ⋮             ⋮             ⋮     ⋱\n",
       "   8 │           7.3             0.98          0.05            2.1       0.061 ⋯\n",
       "   9 │           7.1             0.875         0.05            5.7       0.082\n",
       "  10 │           6.7             0.76          0.02            1.8       0.078\n",
       "\u001b[36m                                                    7 columns and 3 rows omitted\u001b[0m\n",
       "⋮\n",
       "Last Group (18 rows): quality = 8\n",
       "\u001b[1m Row \u001b[0m│\u001b[1m fixed acidity \u001b[0m\u001b[1m volatile acidity \u001b[0m\u001b[1m citric acid \u001b[0m\u001b[1m residual sugar \u001b[0m\u001b[1m chlorides\u001b[0m ⋯\n",
       "     │\u001b[90m Float64       \u001b[0m\u001b[90m Float64          \u001b[0m\u001b[90m Float64     \u001b[0m\u001b[90m Float64        \u001b[0m\u001b[90m Float64  \u001b[0m ⋯\n",
       "─────┼──────────────────────────────────────────────────────────────────────────\n",
       "   1 │           7.9              0.35         0.46             3.6      0.078 ⋯\n",
       "   2 │          10.3              0.32         0.45             6.4      0.073\n",
       "   3 │           5.6              0.85         0.05             1.4      0.045\n",
       "  ⋮  │       ⋮               ⋮               ⋮             ⋮             ⋮     ⋱\n",
       "  16 │           7.2              0.33         0.33             1.7      0.061\n",
       "  17 │           7.2              0.38         0.31             2.0      0.056 ⋯\n",
       "  18 │           7.4              0.36         0.3              1.8      0.074\n",
       "\u001b[36m                                                   7 columns and 12 rows omitted\u001b[0m"
      ]
     },
     "execution_count": 26,
     "metadata": {},
     "output_type": "execute_result"
    }
   ],
   "source": [
    "# Dzielenie DataFrame na podgrupy i działania na nich\n",
    "\n",
    "# Split -Apply - Combine\n",
    "\n",
    "#https://dataframes.juliadata.org/stable/man/split_apply_combine/\n",
    "\n",
    "# rozdzielanie na podgrupy po jakości wina (quality)\n",
    "# Split\n",
    "\n",
    "wine_grouped=groupby(mydata, :quality)"
   ]
  },
  {
   "cell_type": "code",
   "execution_count": null,
   "metadata": {},
   "outputs": [
    {
     "data": {
      "text/html": [
       "<div><div style = \"float: left;\"><span>6×2 DataFrame</span></div><div style = \"clear: both;\"></div></div><div class = \"data-frame\" style = \"overflow-x: scroll;\"><table class = \"data-frame\" style = \"margin-bottom: 6px;\"><thead><tr class = \"header\"><th class = \"rowNumber\" style = \"font-weight: bold; text-align: right;\">Row</th><th style = \"text-align: left;\">quality</th><th style = \"text-align: left;\">nrow</th></tr><tr class = \"subheader headerLastRow\"><th class = \"rowNumber\" style = \"font-weight: bold; text-align: right;\"></th><th title = \"Int64\" style = \"text-align: left;\">Int64</th><th title = \"Int64\" style = \"text-align: left;\">Int64</th></tr></thead><tbody><tr><td class = \"rowNumber\" style = \"font-weight: bold; text-align: right;\">1</td><td style = \"text-align: right;\">3</td><td style = \"text-align: right;\">10</td></tr><tr><td class = \"rowNumber\" style = \"font-weight: bold; text-align: right;\">2</td><td style = \"text-align: right;\">4</td><td style = \"text-align: right;\">53</td></tr><tr><td class = \"rowNumber\" style = \"font-weight: bold; text-align: right;\">3</td><td style = \"text-align: right;\">5</td><td style = \"text-align: right;\">681</td></tr><tr><td class = \"rowNumber\" style = \"font-weight: bold; text-align: right;\">4</td><td style = \"text-align: right;\">6</td><td style = \"text-align: right;\">638</td></tr><tr><td class = \"rowNumber\" style = \"font-weight: bold; text-align: right;\">5</td><td style = \"text-align: right;\">7</td><td style = \"text-align: right;\">199</td></tr><tr><td class = \"rowNumber\" style = \"font-weight: bold; text-align: right;\">6</td><td style = \"text-align: right;\">8</td><td style = \"text-align: right;\">18</td></tr></tbody></table></div>"
      ],
      "text/latex": [
       "\\begin{tabular}{r|cc}\n",
       "\t& quality & nrow\\\\\n",
       "\t\\hline\n",
       "\t& Int64 & Int64\\\\\n",
       "\t\\hline\n",
       "\t1 & 3 & 10 \\\\\n",
       "\t2 & 4 & 53 \\\\\n",
       "\t3 & 5 & 681 \\\\\n",
       "\t4 & 6 & 638 \\\\\n",
       "\t5 & 7 & 199 \\\\\n",
       "\t6 & 8 & 18 \\\\\n",
       "\\end{tabular}\n"
      ],
      "text/plain": [
       "\u001b[1m6×2 DataFrame\u001b[0m\n",
       "\u001b[1m Row \u001b[0m│\u001b[1m quality \u001b[0m\u001b[1m nrow  \u001b[0m\n",
       "     │\u001b[90m Int64   \u001b[0m\u001b[90m Int64 \u001b[0m\n",
       "─────┼────────────────\n",
       "   1 │       3     10\n",
       "   2 │       4     53\n",
       "   3 │       5    681\n",
       "   4 │       6    638\n",
       "   5 │       7    199\n",
       "   6 │       8     18"
      ]
     },
     "execution_count": 27,
     "metadata": {},
     "output_type": "execute_result"
    }
   ],
   "source": [
    "\n",
    "# podsumowanie ile jest win w każdej grupie \n",
    "combine(wine_grouped, nrow)"
   ]
  },
  {
   "cell_type": "code",
   "execution_count": null,
   "metadata": {},
   "outputs": [
    {
     "data": {
      "text/html": [
       "<div><div style = \"float: left;\"><span>6×2 DataFrame</span></div><div style = \"clear: both;\"></div></div><div class = \"data-frame\" style = \"overflow-x: scroll;\"><table class = \"data-frame\" style = \"margin-bottom: 6px;\"><thead><tr class = \"header\"><th class = \"rowNumber\" style = \"font-weight: bold; text-align: right;\">Row</th><th style = \"text-align: left;\">quality</th><th style = \"text-align: left;\">fixed acidity_mean</th></tr><tr class = \"subheader headerLastRow\"><th class = \"rowNumber\" style = \"font-weight: bold; text-align: right;\"></th><th title = \"Int64\" style = \"text-align: left;\">Int64</th><th title = \"Float64\" style = \"text-align: left;\">Float64</th></tr></thead><tbody><tr><td class = \"rowNumber\" style = \"font-weight: bold; text-align: right;\">1</td><td style = \"text-align: right;\">3</td><td style = \"text-align: right;\">8.36</td></tr><tr><td class = \"rowNumber\" style = \"font-weight: bold; text-align: right;\">2</td><td style = \"text-align: right;\">4</td><td style = \"text-align: right;\">7.77925</td></tr><tr><td class = \"rowNumber\" style = \"font-weight: bold; text-align: right;\">3</td><td style = \"text-align: right;\">5</td><td style = \"text-align: right;\">8.16725</td></tr><tr><td class = \"rowNumber\" style = \"font-weight: bold; text-align: right;\">4</td><td style = \"text-align: right;\">6</td><td style = \"text-align: right;\">8.34718</td></tr><tr><td class = \"rowNumber\" style = \"font-weight: bold; text-align: right;\">5</td><td style = \"text-align: right;\">7</td><td style = \"text-align: right;\">8.87236</td></tr><tr><td class = \"rowNumber\" style = \"font-weight: bold; text-align: right;\">6</td><td style = \"text-align: right;\">8</td><td style = \"text-align: right;\">8.56667</td></tr></tbody></table></div>"
      ],
      "text/latex": [
       "\\begin{tabular}{r|cc}\n",
       "\t& quality & fixed acidity\\_mean\\\\\n",
       "\t\\hline\n",
       "\t& Int64 & Float64\\\\\n",
       "\t\\hline\n",
       "\t1 & 3 & 8.36 \\\\\n",
       "\t2 & 4 & 7.77925 \\\\\n",
       "\t3 & 5 & 8.16725 \\\\\n",
       "\t4 & 6 & 8.34718 \\\\\n",
       "\t5 & 7 & 8.87236 \\\\\n",
       "\t6 & 8 & 8.56667 \\\\\n",
       "\\end{tabular}\n"
      ],
      "text/plain": [
       "\u001b[1m6×2 DataFrame\u001b[0m\n",
       "\u001b[1m Row \u001b[0m│\u001b[1m quality \u001b[0m\u001b[1m fixed acidity_mean \u001b[0m\n",
       "     │\u001b[90m Int64   \u001b[0m\u001b[90m Float64            \u001b[0m\n",
       "─────┼─────────────────────────────\n",
       "   1 │       3             8.36\n",
       "   2 │       4             7.77925\n",
       "   3 │       5             8.16725\n",
       "   4 │       6             8.34718\n",
       "   5 │       7             8.87236\n",
       "   6 │       8             8.56667"
      ]
     },
     "execution_count": 28,
     "metadata": {},
     "output_type": "execute_result"
    }
   ],
   "source": [
    "combine(wine_grouped, \"fixed acidity\" => mean)"
   ]
  },
  {
   "cell_type": "code",
   "execution_count": 30,
   "metadata": {},
   "outputs": [
    {
     "data": {
      "text/html": [
       "<div><div style = \"float: left;\"><span>190×3 DataFrame</span></div><div style = \"float: right;\"><span style = \"font-style: italic;\">165 rows omitted</span></div><div style = \"clear: both;\"></div></div><div class = \"data-frame\" style = \"overflow-x: scroll;\"><table class = \"data-frame\" style = \"margin-bottom: 6px;\"><thead><tr class = \"header\"><th class = \"rowNumber\" style = \"font-weight: bold; text-align: right;\">Row</th><th style = \"text-align: left;\">quality</th><th style = \"text-align: left;\">alcohol</th><th style = \"text-align: left;\">liczba</th></tr><tr class = \"subheader headerLastRow\"><th class = \"rowNumber\" style = \"font-weight: bold; text-align: right;\"></th><th title = \"Int64\" style = \"text-align: left;\">Int64</th><th title = \"Float64\" style = \"text-align: left;\">Float64</th><th title = \"Int64\" style = \"text-align: left;\">Int64</th></tr></thead><tbody><tr><td class = \"rowNumber\" style = \"font-weight: bold; text-align: right;\">1</td><td style = \"text-align: right;\">3</td><td style = \"text-align: right;\">8.4</td><td style = \"text-align: right;\">1</td></tr><tr><td class = \"rowNumber\" style = \"font-weight: bold; text-align: right;\">2</td><td style = \"text-align: right;\">3</td><td style = \"text-align: right;\">9.0</td><td style = \"text-align: right;\">1</td></tr><tr><td class = \"rowNumber\" style = \"font-weight: bold; text-align: right;\">3</td><td style = \"text-align: right;\">3</td><td style = \"text-align: right;\">9.7</td><td style = \"text-align: right;\">1</td></tr><tr><td class = \"rowNumber\" style = \"font-weight: bold; text-align: right;\">4</td><td style = \"text-align: right;\">3</td><td style = \"text-align: right;\">9.8</td><td style = \"text-align: right;\">1</td></tr><tr><td class = \"rowNumber\" style = \"font-weight: bold; text-align: right;\">5</td><td style = \"text-align: right;\">3</td><td style = \"text-align: right;\">9.9</td><td style = \"text-align: right;\">1</td></tr><tr><td class = \"rowNumber\" style = \"font-weight: bold; text-align: right;\">6</td><td style = \"text-align: right;\">3</td><td style = \"text-align: right;\">9.95</td><td style = \"text-align: right;\">1</td></tr><tr><td class = \"rowNumber\" style = \"font-weight: bold; text-align: right;\">7</td><td style = \"text-align: right;\">3</td><td style = \"text-align: right;\">10.2</td><td style = \"text-align: right;\">1</td></tr><tr><td class = \"rowNumber\" style = \"font-weight: bold; text-align: right;\">8</td><td style = \"text-align: right;\">3</td><td style = \"text-align: right;\">10.7</td><td style = \"text-align: right;\">1</td></tr><tr><td class = \"rowNumber\" style = \"font-weight: bold; text-align: right;\">9</td><td style = \"text-align: right;\">3</td><td style = \"text-align: right;\">10.9</td><td style = \"text-align: right;\">1</td></tr><tr><td class = \"rowNumber\" style = \"font-weight: bold; text-align: right;\">10</td><td style = \"text-align: right;\">3</td><td style = \"text-align: right;\">11.0</td><td style = \"text-align: right;\">1</td></tr><tr><td class = \"rowNumber\" style = \"font-weight: bold; text-align: right;\">11</td><td style = \"text-align: right;\">4</td><td style = \"text-align: right;\">9.0</td><td style = \"text-align: right;\">2</td></tr><tr><td class = \"rowNumber\" style = \"font-weight: bold; text-align: right;\">12</td><td style = \"text-align: right;\">4</td><td style = \"text-align: right;\">9.05</td><td style = \"text-align: right;\">1</td></tr><tr><td class = \"rowNumber\" style = \"font-weight: bold; text-align: right;\">13</td><td style = \"text-align: right;\">4</td><td style = \"text-align: right;\">9.1</td><td style = \"text-align: right;\">2</td></tr><tr><td style = \"text-align: right;\">&vellip;</td><td style = \"text-align: right;\">&vellip;</td><td style = \"text-align: right;\">&vellip;</td><td style = \"text-align: right;\">&vellip;</td></tr><tr><td class = \"rowNumber\" style = \"font-weight: bold; text-align: right;\">179</td><td style = \"text-align: right;\">8</td><td style = \"text-align: right;\">11.3</td><td style = \"text-align: right;\">1</td></tr><tr><td class = \"rowNumber\" style = \"font-weight: bold; text-align: right;\">180</td><td style = \"text-align: right;\">8</td><td style = \"text-align: right;\">11.4</td><td style = \"text-align: right;\">1</td></tr><tr><td class = \"rowNumber\" style = \"font-weight: bold; text-align: right;\">181</td><td style = \"text-align: right;\">8</td><td style = \"text-align: right;\">11.7</td><td style = \"text-align: right;\">2</td></tr><tr><td class = \"rowNumber\" style = \"font-weight: bold; text-align: right;\">182</td><td style = \"text-align: right;\">8</td><td style = \"text-align: right;\">11.8</td><td style = \"text-align: right;\">1</td></tr><tr><td class = \"rowNumber\" style = \"font-weight: bold; text-align: right;\">183</td><td style = \"text-align: right;\">8</td><td style = \"text-align: right;\">12.5</td><td style = \"text-align: right;\">1</td></tr><tr><td class = \"rowNumber\" style = \"font-weight: bold; text-align: right;\">184</td><td style = \"text-align: right;\">8</td><td style = \"text-align: right;\">12.6</td><td style = \"text-align: right;\">1</td></tr><tr><td class = \"rowNumber\" style = \"font-weight: bold; text-align: right;\">185</td><td style = \"text-align: right;\">8</td><td style = \"text-align: right;\">12.7</td><td style = \"text-align: right;\">1</td></tr><tr><td class = \"rowNumber\" style = \"font-weight: bold; text-align: right;\">186</td><td style = \"text-align: right;\">8</td><td style = \"text-align: right;\">12.8</td><td style = \"text-align: right;\">1</td></tr><tr><td class = \"rowNumber\" style = \"font-weight: bold; text-align: right;\">187</td><td style = \"text-align: right;\">8</td><td style = \"text-align: right;\">12.9</td><td style = \"text-align: right;\">1</td></tr><tr><td class = \"rowNumber\" style = \"font-weight: bold; text-align: right;\">188</td><td style = \"text-align: right;\">8</td><td style = \"text-align: right;\">13.1</td><td style = \"text-align: right;\">1</td></tr><tr><td class = \"rowNumber\" style = \"font-weight: bold; text-align: right;\">189</td><td style = \"text-align: right;\">8</td><td style = \"text-align: right;\">13.4</td><td style = \"text-align: right;\">1</td></tr><tr><td class = \"rowNumber\" style = \"font-weight: bold; text-align: right;\">190</td><td style = \"text-align: right;\">8</td><td style = \"text-align: right;\">14.0</td><td style = \"text-align: right;\">2</td></tr></tbody></table></div>"
      ],
      "text/latex": [
       "\\begin{tabular}{r|ccc}\n",
       "\t& quality & alcohol & liczba\\\\\n",
       "\t\\hline\n",
       "\t& Int64 & Float64 & Int64\\\\\n",
       "\t\\hline\n",
       "\t1 & 3 & 8.4 & 1 \\\\\n",
       "\t2 & 3 & 9.0 & 1 \\\\\n",
       "\t3 & 3 & 9.7 & 1 \\\\\n",
       "\t4 & 3 & 9.8 & 1 \\\\\n",
       "\t5 & 3 & 9.9 & 1 \\\\\n",
       "\t6 & 3 & 9.95 & 1 \\\\\n",
       "\t7 & 3 & 10.2 & 1 \\\\\n",
       "\t8 & 3 & 10.7 & 1 \\\\\n",
       "\t9 & 3 & 10.9 & 1 \\\\\n",
       "\t10 & 3 & 11.0 & 1 \\\\\n",
       "\t11 & 4 & 9.0 & 2 \\\\\n",
       "\t12 & 4 & 9.05 & 1 \\\\\n",
       "\t13 & 4 & 9.1 & 2 \\\\\n",
       "\t14 & 4 & 9.2 & 3 \\\\\n",
       "\t15 & 4 & 9.3 & 2 \\\\\n",
       "\t16 & 4 & 9.4 & 2 \\\\\n",
       "\t17 & 4 & 9.6 & 6 \\\\\n",
       "\t18 & 4 & 9.7 & 2 \\\\\n",
       "\t19 & 4 & 9.8 & 3 \\\\\n",
       "\t20 & 4 & 9.9 & 1 \\\\\n",
       "\t21 & 4 & 10.0 & 4 \\\\\n",
       "\t22 & 4 & 10.1 & 1 \\\\\n",
       "\t23 & 4 & 10.3 & 1 \\\\\n",
       "\t24 & 4 & 10.4 & 3 \\\\\n",
       "\t25 & 4 & 10.5 & 1 \\\\\n",
       "\t26 & 4 & 10.9 & 3 \\\\\n",
       "\t27 & 4 & 11.0 & 4 \\\\\n",
       "\t28 & 4 & 11.1 & 1 \\\\\n",
       "\t29 & 4 & 11.2 & 3 \\\\\n",
       "\t30 & 4 & 11.3 & 1 \\\\\n",
       "\t$\\dots$ & $\\dots$ & $\\dots$ & $\\dots$ \\\\\n",
       "\\end{tabular}\n"
      ],
      "text/plain": [
       "\u001b[1m190×3 DataFrame\u001b[0m\n",
       "\u001b[1m Row \u001b[0m│\u001b[1m quality \u001b[0m\u001b[1m alcohol \u001b[0m\u001b[1m liczba \u001b[0m\n",
       "     │\u001b[90m Int64   \u001b[0m\u001b[90m Float64 \u001b[0m\u001b[90m Int64  \u001b[0m\n",
       "─────┼──────────────────────────\n",
       "   1 │       3     8.4        1\n",
       "   2 │       3     9.0        1\n",
       "   3 │       3     9.7        1\n",
       "   4 │       3     9.8        1\n",
       "   5 │       3     9.9        1\n",
       "   6 │       3     9.95       1\n",
       "   7 │       3    10.2        1\n",
       "   8 │       3    10.7        1\n",
       "   9 │       3    10.9        1\n",
       "  10 │       3    11.0        1\n",
       "  11 │       4     9.0        2\n",
       "  ⋮  │    ⋮        ⋮       ⋮\n",
       " 181 │       8    11.7        2\n",
       " 182 │       8    11.8        1\n",
       " 183 │       8    12.5        1\n",
       " 184 │       8    12.6        1\n",
       " 185 │       8    12.7        1\n",
       " 186 │       8    12.8        1\n",
       " 187 │       8    12.9        1\n",
       " 188 │       8    13.1        1\n",
       " 189 │       8    13.4        1\n",
       " 190 │       8    14.0        2\n",
       "\u001b[36m                169 rows omitted\u001b[0m"
      ]
     },
     "execution_count": 30,
     "metadata": {},
     "output_type": "execute_result"
    }
   ],
   "source": [
    "# zliczenie liczby win o danej jakości i zawartości alkoholu, posortowane\n",
    "wine_grouped2=sort(combine(groupby(mydata, [:quality,:alcohol]),nrow=> :liczba), [:quality,:alcohol])"
   ]
  },
  {
   "cell_type": "code",
   "execution_count": 31,
   "metadata": {},
   "outputs": [
    {
     "data": {
      "text/plain": [
       "\"dataframe1.csv\""
      ]
     },
     "execution_count": 31,
     "metadata": {},
     "output_type": "execute_result"
    }
   ],
   "source": [
    "# zapis do pliku\n",
    "CSV.write(\"dataframe1.csv\", wine_grouped2)"
   ]
  },
  {
   "cell_type": "markdown",
   "metadata": {},
   "source": [
    "\n",
    "### Graficzna reprezentacja DataFrames\n",
    "\n",
    "\n"
   ]
  },
  {
   "cell_type": "code",
   "execution_count": 32,
   "metadata": {},
   "outputs": [
    {
     "data": {
      "text/html": [
       "<div><div style = \"float: left;\"><span>10×5 DataFrame</span></div><div style = \"clear: both;\"></div></div><div class = \"data-frame\" style = \"overflow-x: scroll;\"><table class = \"data-frame\" style = \"margin-bottom: 6px;\"><thead><tr class = \"header\"><th class = \"rowNumber\" style = \"font-weight: bold; text-align: right;\">Row</th><th style = \"text-align: left;\">a</th><th style = \"text-align: left;\">b</th><th style = \"text-align: left;\">c</th><th style = \"text-align: left;\">d</th><th style = \"text-align: left;\">e</th></tr><tr class = \"subheader headerLastRow\"><th class = \"rowNumber\" style = \"font-weight: bold; text-align: right;\"></th><th title = \"Int64\" style = \"text-align: left;\">Int64</th><th title = \"Int64\" style = \"text-align: left;\">Int64</th><th title = \"Float64\" style = \"text-align: left;\">Float64</th><th title = \"Float64\" style = \"text-align: left;\">Float64</th><th title = \"Int64\" style = \"text-align: left;\">Int64</th></tr></thead><tbody><tr><td class = \"rowNumber\" style = \"font-weight: bold; text-align: right;\">1</td><td style = \"text-align: right;\">1</td><td style = \"text-align: right;\">2</td><td style = \"text-align: right;\">0.0</td><td style = \"text-align: right;\">0.12562</td><td style = \"text-align: right;\">1</td></tr><tr><td class = \"rowNumber\" style = \"font-weight: bold; text-align: right;\">2</td><td style = \"text-align: right;\">2</td><td style = \"text-align: right;\">4</td><td style = \"text-align: right;\">0.693147</td><td style = \"text-align: right;\">0.361037</td><td style = \"text-align: right;\">0</td></tr><tr><td class = \"rowNumber\" style = \"font-weight: bold; text-align: right;\">3</td><td style = \"text-align: right;\">3</td><td style = \"text-align: right;\">6</td><td style = \"text-align: right;\">1.09861</td><td style = \"text-align: right;\">0.162514</td><td style = \"text-align: right;\">1</td></tr><tr><td class = \"rowNumber\" style = \"font-weight: bold; text-align: right;\">4</td><td style = \"text-align: right;\">4</td><td style = \"text-align: right;\">8</td><td style = \"text-align: right;\">1.38629</td><td style = \"text-align: right;\">0.713907</td><td style = \"text-align: right;\">0</td></tr><tr><td class = \"rowNumber\" style = \"font-weight: bold; text-align: right;\">5</td><td style = \"text-align: right;\">5</td><td style = \"text-align: right;\">10</td><td style = \"text-align: right;\">1.60944</td><td style = \"text-align: right;\">0.579722</td><td style = \"text-align: right;\">1</td></tr><tr><td class = \"rowNumber\" style = \"font-weight: bold; text-align: right;\">6</td><td style = \"text-align: right;\">6</td><td style = \"text-align: right;\">12</td><td style = \"text-align: right;\">1.79176</td><td style = \"text-align: right;\">0.517183</td><td style = \"text-align: right;\">0</td></tr><tr><td class = \"rowNumber\" style = \"font-weight: bold; text-align: right;\">7</td><td style = \"text-align: right;\">7</td><td style = \"text-align: right;\">14</td><td style = \"text-align: right;\">1.94591</td><td style = \"text-align: right;\">0.718332</td><td style = \"text-align: right;\">1</td></tr><tr><td class = \"rowNumber\" style = \"font-weight: bold; text-align: right;\">8</td><td style = \"text-align: right;\">8</td><td style = \"text-align: right;\">16</td><td style = \"text-align: right;\">2.07944</td><td style = \"text-align: right;\">0.175663</td><td style = \"text-align: right;\">0</td></tr><tr><td class = \"rowNumber\" style = \"font-weight: bold; text-align: right;\">9</td><td style = \"text-align: right;\">9</td><td style = \"text-align: right;\">18</td><td style = \"text-align: right;\">2.19722</td><td style = \"text-align: right;\">0.969323</td><td style = \"text-align: right;\">1</td></tr><tr><td class = \"rowNumber\" style = \"font-weight: bold; text-align: right;\">10</td><td style = \"text-align: right;\">10</td><td style = \"text-align: right;\">20</td><td style = \"text-align: right;\">2.30259</td><td style = \"text-align: right;\">0.097939</td><td style = \"text-align: right;\">0</td></tr></tbody></table></div>"
      ],
      "text/latex": [
       "\\begin{tabular}{r|ccccc}\n",
       "\t& a & b & c & d & e\\\\\n",
       "\t\\hline\n",
       "\t& Int64 & Int64 & Float64 & Float64 & Int64\\\\\n",
       "\t\\hline\n",
       "\t1 & 1 & 2 & 0.0 & 0.12562 & 1 \\\\\n",
       "\t2 & 2 & 4 & 0.693147 & 0.361037 & 0 \\\\\n",
       "\t3 & 3 & 6 & 1.09861 & 0.162514 & 1 \\\\\n",
       "\t4 & 4 & 8 & 1.38629 & 0.713907 & 0 \\\\\n",
       "\t5 & 5 & 10 & 1.60944 & 0.579722 & 1 \\\\\n",
       "\t6 & 6 & 12 & 1.79176 & 0.517183 & 0 \\\\\n",
       "\t7 & 7 & 14 & 1.94591 & 0.718332 & 1 \\\\\n",
       "\t8 & 8 & 16 & 2.07944 & 0.175663 & 0 \\\\\n",
       "\t9 & 9 & 18 & 2.19722 & 0.969323 & 1 \\\\\n",
       "\t10 & 10 & 20 & 2.30259 & 0.097939 & 0 \\\\\n",
       "\\end{tabular}\n"
      ],
      "text/plain": [
       "\u001b[1m10×5 DataFrame\u001b[0m\n",
       "\u001b[1m Row \u001b[0m│\u001b[1m a     \u001b[0m\u001b[1m b     \u001b[0m\u001b[1m c        \u001b[0m\u001b[1m d        \u001b[0m\u001b[1m e     \u001b[0m\n",
       "     │\u001b[90m Int64 \u001b[0m\u001b[90m Int64 \u001b[0m\u001b[90m Float64  \u001b[0m\u001b[90m Float64  \u001b[0m\u001b[90m Int64 \u001b[0m\n",
       "─────┼─────────────────────────────────────────\n",
       "   1 │     1      2  0.0       0.12562       1\n",
       "   2 │     2      4  0.693147  0.361037      0\n",
       "   3 │     3      6  1.09861   0.162514      1\n",
       "   4 │     4      8  1.38629   0.713907      0\n",
       "   5 │     5     10  1.60944   0.579722      1\n",
       "   6 │     6     12  1.79176   0.517183      0\n",
       "   7 │     7     14  1.94591   0.718332      1\n",
       "   8 │     8     16  2.07944   0.175663      0\n",
       "   9 │     9     18  2.19722   0.969323      1\n",
       "  10 │    10     20  2.30259   0.097939      0"
      ]
     },
     "execution_count": 32,
     "metadata": {},
     "output_type": "execute_result"
    }
   ],
   "source": [
    "using DataFrames\n",
    "df = DataFrame(a = 1:10, b = map(x->2x,(1:10)), c = map(x->log(x),(1:10)), d=rand(10), e=map(x->x%2,(1:10)))"
   ]
  },
  {
   "cell_type": "code",
   "execution_count": 33,
   "metadata": {},
   "outputs": [
    {
     "name": "stderr",
     "output_type": "stream",
     "text": [
      "\u001b[32m\u001b[1m   Resolving\u001b[22m\u001b[39m package versions...\n",
      "\u001b[32m\u001b[1m   Installed\u001b[22m\u001b[39m GR_jll ─────────────────────── v0.73.13+0\n",
      "\u001b[32m\u001b[1m   Installed\u001b[22m\u001b[39m libdecor_jll ───────────────── v0.2.2+0\n",
      "\u001b[32m\u001b[1m   Installed\u001b[22m\u001b[39m JpegTurbo_jll ──────────────── v3.1.1+0\n",
      "\u001b[32m\u001b[1m   Installed\u001b[22m\u001b[39m libfdk_aac_jll ─────────────── v2.0.3+0\n",
      "\u001b[32m\u001b[1m   Installed\u001b[22m\u001b[39m x265_jll ───────────────────── v3.5.0+0\n",
      "\u001b[32m\u001b[1m   Installed\u001b[22m\u001b[39m LERC_jll ───────────────────── v4.0.1+0\n",
      "\u001b[32m\u001b[1m   Installed\u001b[22m\u001b[39m Libmount_jll ───────────────── v2.40.3+0\n",
      "\u001b[32m\u001b[1m   Installed\u001b[22m\u001b[39m LoggingExtras ──────────────── v1.1.0\n",
      "\u001b[32m\u001b[1m   Installed\u001b[22m\u001b[39m Opus_jll ───────────────────── v1.3.3+0\n",
      "\u001b[32m\u001b[1m   Installed\u001b[22m\u001b[39m Xorg_xkbcomp_jll ───────────── v1.4.6+1\n",
      "\u001b[32m\u001b[1m   Installed\u001b[22m\u001b[39m RelocatableFolders ─────────── v1.0.1\n",
      "\u001b[32m\u001b[1m   Installed\u001b[22m\u001b[39m Unitful ────────────────────── v1.22.0\n",
      "\u001b[32m\u001b[1m   Installed\u001b[22m\u001b[39m Measures ───────────────────── v0.3.2\n",
      "\u001b[32m\u001b[1m   Installed\u001b[22m\u001b[39m Contour ────────────────────── v0.6.3\n",
      "\u001b[32m\u001b[1m   Installed\u001b[22m\u001b[39m Xorg_xcb_util_image_jll ────── v0.4.0+1\n",
      "\u001b[32m\u001b[1m   Installed\u001b[22m\u001b[39m RecipesPipeline ────────────── v0.6.12\n",
      "\u001b[32m\u001b[1m   Installed\u001b[22m\u001b[39m PlotUtils ──────────────────── v1.4.3\n",
      "\u001b[32m\u001b[1m   Installed\u001b[22m\u001b[39m Xorg_xcb_util_wm_jll ───────── v0.4.1+1\n",
      "\u001b[32m\u001b[1m   Installed\u001b[22m\u001b[39m Grisu ──────────────────────── v1.0.2\n",
      "\u001b[32m\u001b[1m   Installed\u001b[22m\u001b[39m DelimitedFiles ─────────────── v1.9.1\n",
      "\u001b[32m\u001b[1m   Installed\u001b[22m\u001b[39m ConcurrentUtilities ────────── v2.5.0\n",
      "\u001b[32m\u001b[1m   Installed\u001b[22m\u001b[39m Xorg_libpthread_stubs_jll ──── v0.1.2+0\n",
      "\u001b[32m\u001b[1m   Installed\u001b[22m\u001b[39m OpenSSL ────────────────────── v1.4.3\n",
      "\u001b[32m\u001b[1m   Installed\u001b[22m\u001b[39m Cairo_jll ──────────────────── v1.18.2+1\n",
      "\u001b[32m\u001b[1m   Installed\u001b[22m\u001b[39m Xorg_libSM_jll ─────────────── v1.2.4+0\n",
      "\u001b[32m\u001b[1m   Installed\u001b[22m\u001b[39m Xorg_xcb_util_jll ──────────── v0.4.0+1\n",
      "\u001b[32m\u001b[1m   Installed\u001b[22m\u001b[39m Libgpg_error_jll ───────────── v1.51.1+0\n",
      "\u001b[32m\u001b[1m   Installed\u001b[22m\u001b[39m Fontconfig_jll ─────────────── v2.15.0+0\n",
      "\u001b[32m\u001b[1m   Installed\u001b[22m\u001b[39m Xorg_libXinerama_jll ───────── v1.1.5+0\n",
      "\u001b[32m\u001b[1m   Installed\u001b[22m\u001b[39m Xorg_libxkbfile_jll ────────── v1.1.2+1\n",
      "\u001b[32m\u001b[1m   Installed\u001b[22m\u001b[39m HTTP ───────────────────────── v1.10.15\n",
      "\u001b[32m\u001b[1m   Installed\u001b[22m\u001b[39m EpollShim_jll ──────────────── v0.0.20230411+1\n",
      "\u001b[32m\u001b[1m   Installed\u001b[22m\u001b[39m Showoff ────────────────────── v1.0.3\n",
      "\u001b[32m\u001b[1m   Installed\u001b[22m\u001b[39m IrrationalConstants ────────── v0.2.4\n",
      "\u001b[32m\u001b[1m   Installed\u001b[22m\u001b[39m FFMPEG ─────────────────────── v0.4.2\n",
      "\u001b[32m\u001b[1m   Installed\u001b[22m\u001b[39m Xorg_libXau_jll ────────────── v1.0.12+0\n",
      "\u001b[32m\u001b[1m   Installed\u001b[22m\u001b[39m Pango_jll ──────────────────── v1.56.1+0\n",
      "\u001b[32m\u001b[1m   Installed\u001b[22m\u001b[39m PtrArrays ──────────────────── v1.3.0\n",
      "\u001b[32m\u001b[1m   Installed\u001b[22m\u001b[39m Pipe ───────────────────────── v1.3.0\n",
      "\u001b[32m\u001b[1m   Installed\u001b[22m\u001b[39m Xorg_xcb_util_keysyms_jll ──── v0.4.0+1\n",
      "\u001b[32m\u001b[1m   Installed\u001b[22m\u001b[39m xkbcommon_jll ──────────────── v1.4.1+2\n",
      "\u001b[32m\u001b[1m   Installed\u001b[22m\u001b[39m Bzip2_jll ──────────────────── v1.0.9+0\n",
      "\u001b[32m\u001b[1m   Installed\u001b[22m\u001b[39m SimpleBufferStream ─────────── v1.2.0\n",
      "\u001b[32m\u001b[1m   Installed\u001b[22m\u001b[39m ColorSchemes ───────────────── v3.29.0\n",
      "\u001b[32m\u001b[1m   Installed\u001b[22m\u001b[39m XZ_jll ─────────────────────── v5.6.4+1\n",
      "\u001b[32m\u001b[1m   Installed\u001b[22m\u001b[39m HarfBuzz_jll ───────────────── v8.5.0+0\n",
      "\u001b[32m\u001b[1m   Installed\u001b[22m\u001b[39m LZO_jll ────────────────────── v2.10.3+0\n",
      "\u001b[32m\u001b[1m   Installed\u001b[22m\u001b[39m FriBidi_jll ────────────────── v1.0.16+0\n",
      "\u001b[32m\u001b[1m   Installed\u001b[22m\u001b[39m fzf_jll ────────────────────── v0.56.3+0\n",
      "\u001b[32m\u001b[1m   Installed\u001b[22m\u001b[39m NaNMath ────────────────────── v1.1.2\n",
      "\u001b[32m\u001b[1m   Installed\u001b[22m\u001b[39m PlotThemes ─────────────────── v3.3.0\n",
      "\u001b[32m\u001b[1m   Installed\u001b[22m\u001b[39m GLFW_jll ───────────────────── v3.4.0+2\n",
      "\u001b[32m\u001b[1m   Installed\u001b[22m\u001b[39m x264_jll ───────────────────── v2021.5.5+0\n",
      "\u001b[32m\u001b[1m   Installed\u001b[22m\u001b[39m UnicodeFun ─────────────────── v0.4.1\n",
      "\u001b[32m\u001b[1m   Installed\u001b[22m\u001b[39m StatsAPI ───────────────────── v1.7.0\n",
      "\u001b[32m\u001b[1m   Installed\u001b[22m\u001b[39m JLFzf ──────────────────────── v0.1.9\n",
      "\u001b[32m\u001b[1m   Installed\u001b[22m\u001b[39m FreeType2_jll ──────────────── v2.13.3+1\n",
      "\u001b[32m\u001b[1m   Installed\u001b[22m\u001b[39m Colors ─────────────────────── v0.13.0\n",
      "\u001b[32m\u001b[1m   Installed\u001b[22m\u001b[39m Xorg_libxcb_jll ────────────── v1.17.0+3\n",
      "\u001b[32m\u001b[1m   Installed\u001b[22m\u001b[39m StatsBase ──────────────────── v0.34.4\n",
      "\u001b[32m\u001b[1m   Installed\u001b[22m\u001b[39m libpng_jll ─────────────────── v1.6.47+0\n",
      "\u001b[32m\u001b[1m   Installed\u001b[22m\u001b[39m mtdev_jll ──────────────────── v1.1.6+0\n",
      "\u001b[32m\u001b[1m   Installed\u001b[22m\u001b[39m ExceptionUnwrapping ────────── v0.1.11\n",
      "\u001b[32m\u001b[1m   Installed\u001b[22m\u001b[39m Scratch ────────────────────── v1.2.1\n",
      "\u001b[32m\u001b[1m   Installed\u001b[22m\u001b[39m libaom_jll ─────────────────── v3.11.0+0\n",
      "\u001b[32m\u001b[1m   Installed\u001b[22m\u001b[39m GR ─────────────────────────── v0.73.13\n",
      "\u001b[32m\u001b[1m   Installed\u001b[22m\u001b[39m ColorTypes ─────────────────── v0.12.0\n",
      "\u001b[32m\u001b[1m   Installed\u001b[22m\u001b[39m eudev_jll ──────────────────── v3.2.9+0\n",
      "\u001b[32m\u001b[1m   Installed\u001b[22m\u001b[39m gperf_jll ──────────────────── v3.1.1+1\n",
      "\u001b[32m\u001b[1m   Installed\u001b[22m\u001b[39m Dbus_jll ───────────────────── v1.14.10+0\n",
      "\u001b[32m\u001b[1m   Installed\u001b[22m\u001b[39m Xorg_libXext_jll ───────────── v1.3.6+3\n",
      "\u001b[32m\u001b[1m   Installed\u001b[22m\u001b[39m Xorg_xcb_util_cursor_jll ───── v0.1.4+0\n",
      "\u001b[32m\u001b[1m   Installed\u001b[22m\u001b[39m TensorCore ─────────────────── v0.1.1\n",
      "\u001b[32m\u001b[1m   Installed\u001b[22m\u001b[39m Zstd_jll ───────────────────── v1.5.7+1\n",
      "\u001b[32m\u001b[1m   Installed\u001b[22m\u001b[39m Plots ──────────────────────── v1.40.9\n",
      "\u001b[32m\u001b[1m   Installed\u001b[22m\u001b[39m Expat_jll ──────────────────── v2.6.5+0\n",
      "\u001b[32m\u001b[1m   Installed\u001b[22m\u001b[39m Libffi_jll ─────────────────── v3.2.2+2\n",
      "\u001b[32m\u001b[1m   Installed\u001b[22m\u001b[39m libevdev_jll ───────────────── v1.11.0+0\n",
      "\u001b[32m\u001b[1m   Installed\u001b[22m\u001b[39m Xorg_libXrender_jll ────────── v0.9.11+1\n",
      "\u001b[32m\u001b[1m   Installed\u001b[22m\u001b[39m Libtiff_jll ────────────────── v4.7.1+0\n",
      "\u001b[32m\u001b[1m   Installed\u001b[22m\u001b[39m ColorVectorSpace ───────────── v0.11.0\n",
      "\u001b[32m\u001b[1m   Installed\u001b[22m\u001b[39m Format ─────────────────────── v1.3.7\n",
      "\u001b[32m\u001b[1m   Installed\u001b[22m\u001b[39m libinput_jll ───────────────── v1.18.0+0\n",
      "\u001b[32m\u001b[1m   Installed\u001b[22m\u001b[39m Xorg_libXi_jll ─────────────── v1.8.2+0\n",
      "\u001b[32m\u001b[1m   Installed\u001b[22m\u001b[39m Ogg_jll ────────────────────── v1.3.5+1\n",
      "\u001b[32m\u001b[1m   Installed\u001b[22m\u001b[39m XSLT_jll ───────────────────── v1.1.42+0\n",
      "\u001b[32m\u001b[1m   Installed\u001b[22m\u001b[39m Qt6Declarative_jll ─────────── v6.7.1+2\n",
      "\u001b[32m\u001b[1m   Installed\u001b[22m\u001b[39m Qt6ShaderTools_jll ─────────── v6.7.1+1\n",
      "\u001b[32m\u001b[1m   Installed\u001b[22m\u001b[39m Vulkan_Loader_jll ──────────── v1.3.243+0\n",
      "\u001b[32m\u001b[1m   Installed\u001b[22m\u001b[39m LogExpFunctions ────────────── v0.3.29\n",
      "\u001b[32m\u001b[1m   Installed\u001b[22m\u001b[39m AliasTables ────────────────── v1.1.3\n",
      "\u001b[32m\u001b[1m   Installed\u001b[22m\u001b[39m Wayland_protocols_jll ──────── v1.36.0+0\n",
      "\u001b[32m\u001b[1m   Installed\u001b[22m\u001b[39m Libuuid_jll ────────────────── v2.40.3+0\n",
      "\u001b[32m\u001b[1m   Installed\u001b[22m\u001b[39m Xorg_xcb_util_renderutil_jll ─ v0.3.9+1\n",
      "\u001b[32m\u001b[1m   Installed\u001b[22m\u001b[39m Xorg_libXcursor_jll ────────── v1.2.3+0\n",
      "\u001b[32m\u001b[1m   Installed\u001b[22m\u001b[39m Xorg_libICE_jll ────────────── v1.1.1+0\n",
      "\u001b[32m\u001b[1m   Installed\u001b[22m\u001b[39m MacroTools ─────────────────── v0.5.15\n",
      "\u001b[32m\u001b[1m   Installed\u001b[22m\u001b[39m DocStringExtensions ────────── v0.9.3\n",
      "\u001b[32m\u001b[1m   Installed\u001b[22m\u001b[39m Graphite2_jll ──────────────── v1.3.14+1\n",
      "\u001b[32m\u001b[1m   Installed\u001b[22m\u001b[39m libass_jll ─────────────────── v0.15.2+0\n",
      "\u001b[32m\u001b[1m   Installed\u001b[22m\u001b[39m XML2_jll ───────────────────── v2.13.6+1\n",
      "\u001b[32m\u001b[1m   Installed\u001b[22m\u001b[39m Pixman_jll ─────────────────── v0.43.4+0\n",
      "\u001b[32m\u001b[1m   Installed\u001b[22m\u001b[39m Gettext_jll ────────────────── v0.21.0+0\n",
      "\u001b[32m\u001b[1m   Installed\u001b[22m\u001b[39m StableRNGs ─────────────────── v1.0.2\n",
      "\u001b[32m\u001b[1m   Installed\u001b[22m\u001b[39m Wayland_jll ────────────────── v1.21.0+2\n",
      "\u001b[32m\u001b[1m   Installed\u001b[22m\u001b[39m Latexify ───────────────────── v0.16.6\n",
      "\u001b[32m\u001b[1m   Installed\u001b[22m\u001b[39m Xorg_xkeyboard_config_jll ──── v2.39.0+0\n",
      "\u001b[32m\u001b[1m   Installed\u001b[22m\u001b[39m Xorg_xtrans_jll ────────────── v1.5.1+0\n",
      "\u001b[32m\u001b[1m   Installed\u001b[22m\u001b[39m OpenSSL_jll ────────────────── v3.0.16+0\n",
      "\u001b[32m\u001b[1m   Installed\u001b[22m\u001b[39m Libgcrypt_jll ──────────────── v1.11.0+0\n",
      "\u001b[32m\u001b[1m   Installed\u001b[22m\u001b[39m FFMPEG_jll ─────────────────── v4.4.4+1\n",
      "\u001b[32m\u001b[1m   Installed\u001b[22m\u001b[39m BitFlags ───────────────────── v0.1.9\n",
      "\u001b[32m\u001b[1m   Installed\u001b[22m\u001b[39m LLVMOpenMP_jll ─────────────── v18.1.7+0\n",
      "\u001b[32m\u001b[1m   Installed\u001b[22m\u001b[39m FixedPointNumbers ──────────── v0.8.5\n",
      "\u001b[32m\u001b[1m   Installed\u001b[22m\u001b[39m RecipesBase ────────────────── v1.3.4\n",
      "\u001b[32m\u001b[1m   Installed\u001b[22m\u001b[39m LAME_jll ───────────────────── v3.100.2+0\n",
      "\u001b[32m\u001b[1m   Installed\u001b[22m\u001b[39m Xorg_libXrandr_jll ─────────── v1.5.4+0\n",
      "\u001b[32m\u001b[1m   Installed\u001b[22m\u001b[39m Libiconv_jll ───────────────── v1.18.0+0\n",
      "\u001b[32m\u001b[1m   Installed\u001b[22m\u001b[39m Qt6Wayland_jll ─────────────── v6.7.1+1\n",
      "\u001b[32m\u001b[1m   Installed\u001b[22m\u001b[39m URIs ───────────────────────── v1.5.1\n",
      "\u001b[32m\u001b[1m   Installed\u001b[22m\u001b[39m Qt6Base_jll ────────────────── v6.7.1+1\n",
      "\u001b[32m\u001b[1m   Installed\u001b[22m\u001b[39m Xorg_libXfixes_jll ─────────── v6.0.0+0\n",
      "\u001b[32m\u001b[1m   Installed\u001b[22m\u001b[39m Xorg_libX11_jll ────────────── v1.8.6+3\n",
      "\u001b[32m\u001b[1m   Installed\u001b[22m\u001b[39m Glib_jll ───────────────────── v2.82.4+0\n",
      "\u001b[32m\u001b[1m   Installed\u001b[22m\u001b[39m Libglvnd_jll ───────────────── v1.7.0+0\n",
      "\u001b[32m\u001b[1m   Installed\u001b[22m\u001b[39m Xorg_libXdmcp_jll ──────────── v1.1.5+0\n",
      "\u001b[32m\u001b[1m   Installed\u001b[22m\u001b[39m libvorbis_jll ──────────────── v1.3.7+2\n",
      "\u001b[32m\u001b[1m   Installed\u001b[22m\u001b[39m Unzip ──────────────────────── v0.2.0\n",
      "\u001b[32m\u001b[1m   Installed\u001b[22m\u001b[39m Requires ───────────────────── v1.3.1\n",
      "\u001b[32m\u001b[1m   Installed\u001b[22m\u001b[39m UnitfulLatexify ────────────── v1.6.4\n",
      "\u001b[32m\u001b[1m    Updating\u001b[22m\u001b[39m `C:\\Users\\Mateusz\\.julia\\environments\\v1.11\\Project.toml`\n",
      "  \u001b[90m[91a5bcdd] \u001b[39m\u001b[92m+ Plots v1.40.9\u001b[39m\n",
      "\u001b[32m\u001b[1m    Updating\u001b[22m\u001b[39m `C:\\Users\\Mateusz\\.julia\\environments\\v1.11\\Manifest.toml`\n",
      "  \u001b[90m[66dad0bd] \u001b[39m\u001b[92m+ AliasTables v1.1.3\u001b[39m\n",
      "  \u001b[90m[d1d4a3ce] \u001b[39m\u001b[92m+ BitFlags v0.1.9\u001b[39m\n",
      "  \u001b[90m[35d6a980] \u001b[39m\u001b[92m+ ColorSchemes v3.29.0\u001b[39m\n",
      "  \u001b[90m[3da002f7] \u001b[39m\u001b[92m+ ColorTypes v0.12.0\u001b[39m\n",
      "  \u001b[90m[c3611d14] \u001b[39m\u001b[92m+ ColorVectorSpace v0.11.0\u001b[39m\n",
      "  \u001b[90m[5ae59095] \u001b[39m\u001b[92m+ Colors v0.13.0\u001b[39m\n",
      "  \u001b[90m[f0e56b4a] \u001b[39m\u001b[92m+ ConcurrentUtilities v2.5.0\u001b[39m\n",
      "  \u001b[90m[d38c429a] \u001b[39m\u001b[92m+ Contour v0.6.3\u001b[39m\n",
      "  \u001b[90m[8bb1440f] \u001b[39m\u001b[92m+ DelimitedFiles v1.9.1\u001b[39m\n",
      "  \u001b[90m[ffbed154] \u001b[39m\u001b[92m+ DocStringExtensions v0.9.3\u001b[39m\n",
      "  \u001b[90m[460bff9d] \u001b[39m\u001b[92m+ ExceptionUnwrapping v0.1.11\u001b[39m\n",
      "  \u001b[90m[c87230d0] \u001b[39m\u001b[92m+ FFMPEG v0.4.2\u001b[39m\n",
      "  \u001b[90m[53c48c17] \u001b[39m\u001b[92m+ FixedPointNumbers v0.8.5\u001b[39m\n",
      "  \u001b[90m[1fa38f19] \u001b[39m\u001b[92m+ Format v1.3.7\u001b[39m\n",
      "  \u001b[90m[28b8d3ca] \u001b[39m\u001b[92m+ GR v0.73.13\u001b[39m\n",
      "  \u001b[90m[42e2da0e] \u001b[39m\u001b[92m+ Grisu v1.0.2\u001b[39m\n",
      "  \u001b[90m[cd3eb016] \u001b[39m\u001b[92m+ HTTP v1.10.15\u001b[39m\n",
      "  \u001b[90m[92d709cd] \u001b[39m\u001b[92m+ IrrationalConstants v0.2.4\u001b[39m\n",
      "  \u001b[90m[1019f520] \u001b[39m\u001b[92m+ JLFzf v0.1.9\u001b[39m\n",
      "  \u001b[90m[23fbe1c1] \u001b[39m\u001b[92m+ Latexify v0.16.6\u001b[39m\n",
      "  \u001b[90m[2ab3a3ac] \u001b[39m\u001b[92m+ LogExpFunctions v0.3.29\u001b[39m\n",
      "  \u001b[90m[e6f89c97] \u001b[39m\u001b[92m+ LoggingExtras v1.1.0\u001b[39m\n",
      "  \u001b[90m[1914dd2f] \u001b[39m\u001b[92m+ MacroTools v0.5.15\u001b[39m\n",
      "  \u001b[90m[442fdcdd] \u001b[39m\u001b[92m+ Measures v0.3.2\u001b[39m\n",
      "  \u001b[90m[77ba4419] \u001b[39m\u001b[92m+ NaNMath v1.1.2\u001b[39m\n",
      "  \u001b[90m[4d8831e6] \u001b[39m\u001b[92m+ OpenSSL v1.4.3\u001b[39m\n",
      "  \u001b[90m[b98c9c47] \u001b[39m\u001b[92m+ Pipe v1.3.0\u001b[39m\n",
      "  \u001b[90m[ccf2f8ad] \u001b[39m\u001b[92m+ PlotThemes v3.3.0\u001b[39m\n",
      "  \u001b[90m[995b91a9] \u001b[39m\u001b[92m+ PlotUtils v1.4.3\u001b[39m\n",
      "  \u001b[90m[91a5bcdd] \u001b[39m\u001b[92m+ Plots v1.40.9\u001b[39m\n",
      "  \u001b[90m[43287f4e] \u001b[39m\u001b[92m+ PtrArrays v1.3.0\u001b[39m\n",
      "  \u001b[90m[3cdcf5f2] \u001b[39m\u001b[92m+ RecipesBase v1.3.4\u001b[39m\n",
      "  \u001b[90m[01d81517] \u001b[39m\u001b[92m+ RecipesPipeline v0.6.12\u001b[39m\n",
      "  \u001b[90m[05181044] \u001b[39m\u001b[92m+ RelocatableFolders v1.0.1\u001b[39m\n",
      "  \u001b[90m[ae029012] \u001b[39m\u001b[92m+ Requires v1.3.1\u001b[39m\n",
      "  \u001b[90m[6c6a2e73] \u001b[39m\u001b[92m+ Scratch v1.2.1\u001b[39m\n",
      "  \u001b[90m[992d4aef] \u001b[39m\u001b[92m+ Showoff v1.0.3\u001b[39m\n",
      "  \u001b[90m[777ac1f9] \u001b[39m\u001b[92m+ SimpleBufferStream v1.2.0\u001b[39m\n",
      "  \u001b[90m[860ef19b] \u001b[39m\u001b[92m+ StableRNGs v1.0.2\u001b[39m\n",
      "  \u001b[90m[82ae8749] \u001b[39m\u001b[92m+ StatsAPI v1.7.0\u001b[39m\n",
      "  \u001b[90m[2913bbd2] \u001b[39m\u001b[92m+ StatsBase v0.34.4\u001b[39m\n",
      "  \u001b[90m[62fd8b95] \u001b[39m\u001b[92m+ TensorCore v0.1.1\u001b[39m\n",
      "  \u001b[90m[5c2747f8] \u001b[39m\u001b[92m+ URIs v1.5.1\u001b[39m\n",
      "  \u001b[90m[1cfade01] \u001b[39m\u001b[92m+ UnicodeFun v0.4.1\u001b[39m\n",
      "  \u001b[90m[1986cc42] \u001b[39m\u001b[92m+ Unitful v1.22.0\u001b[39m\n",
      "  \u001b[90m[45397f5d] \u001b[39m\u001b[92m+ UnitfulLatexify v1.6.4\u001b[39m\n",
      "  \u001b[90m[41fe7b60] \u001b[39m\u001b[92m+ Unzip v0.2.0\u001b[39m\n",
      "  \u001b[90m[6e34b625] \u001b[39m\u001b[92m+ Bzip2_jll v1.0.9+0\u001b[39m\n",
      "  \u001b[90m[83423d85] \u001b[39m\u001b[92m+ Cairo_jll v1.18.2+1\u001b[39m\n",
      "  \u001b[90m[ee1fde0b] \u001b[39m\u001b[92m+ Dbus_jll v1.14.10+0\u001b[39m\n",
      "  \u001b[90m[2702e6a9] \u001b[39m\u001b[92m+ EpollShim_jll v0.0.20230411+1\u001b[39m\n",
      "  \u001b[90m[2e619515] \u001b[39m\u001b[92m+ Expat_jll v2.6.5+0\u001b[39m\n",
      "\u001b[33m⌅\u001b[39m \u001b[90m[b22a6f82] \u001b[39m\u001b[92m+ FFMPEG_jll v4.4.4+1\u001b[39m\n",
      "  \u001b[90m[a3f928ae] \u001b[39m\u001b[92m+ Fontconfig_jll v2.15.0+0\u001b[39m\n",
      "  \u001b[90m[d7e528f0] \u001b[39m\u001b[92m+ FreeType2_jll v2.13.3+1\u001b[39m\n",
      "  \u001b[90m[559328eb] \u001b[39m\u001b[92m+ FriBidi_jll v1.0.16+0\u001b[39m\n",
      "  \u001b[90m[0656b61e] \u001b[39m\u001b[92m+ GLFW_jll v3.4.0+2\u001b[39m\n",
      "  \u001b[90m[d2c73de3] \u001b[39m\u001b[92m+ GR_jll v0.73.13+0\u001b[39m\n",
      "  \u001b[90m[78b55507] \u001b[39m\u001b[92m+ Gettext_jll v0.21.0+0\u001b[39m\n",
      "  \u001b[90m[7746bdde] \u001b[39m\u001b[92m+ Glib_jll v2.82.4+0\u001b[39m\n",
      "  \u001b[90m[3b182d85] \u001b[39m\u001b[92m+ Graphite2_jll v1.3.14+1\u001b[39m\n",
      "  \u001b[90m[2e76f6c2] \u001b[39m\u001b[92m+ HarfBuzz_jll v8.5.0+0\u001b[39m\n",
      "  \u001b[90m[aacddb02] \u001b[39m\u001b[92m+ JpegTurbo_jll v3.1.1+0\u001b[39m\n",
      "  \u001b[90m[c1c5ebd0] \u001b[39m\u001b[92m+ LAME_jll v3.100.2+0\u001b[39m\n",
      "  \u001b[90m[88015f11] \u001b[39m\u001b[92m+ LERC_jll v4.0.1+0\u001b[39m\n",
      "  \u001b[90m[1d63c593] \u001b[39m\u001b[92m+ LLVMOpenMP_jll v18.1.7+0\u001b[39m\n",
      "  \u001b[90m[dd4b983a] \u001b[39m\u001b[92m+ LZO_jll v2.10.3+0\u001b[39m\n",
      "\u001b[33m⌅\u001b[39m \u001b[90m[e9f186c6] \u001b[39m\u001b[92m+ Libffi_jll v3.2.2+2\u001b[39m\n",
      "  \u001b[90m[d4300ac3] \u001b[39m\u001b[92m+ Libgcrypt_jll v1.11.0+0\u001b[39m\n",
      "  \u001b[90m[7e76a0d4] \u001b[39m\u001b[92m+ Libglvnd_jll v1.7.0+0\u001b[39m\n",
      "  \u001b[90m[7add5ba3] \u001b[39m\u001b[92m+ Libgpg_error_jll v1.51.1+0\u001b[39m\n",
      "  \u001b[90m[94ce4f54] \u001b[39m\u001b[92m+ Libiconv_jll v1.18.0+0\u001b[39m\n",
      "  \u001b[90m[4b2f31a3] \u001b[39m\u001b[92m+ Libmount_jll v2.40.3+0\u001b[39m\n",
      "  \u001b[90m[89763e89] \u001b[39m\u001b[92m+ Libtiff_jll v4.7.1+0\u001b[39m\n",
      "  \u001b[90m[38a345b3] \u001b[39m\u001b[92m+ Libuuid_jll v2.40.3+0\u001b[39m\n",
      "  \u001b[90m[e7412a2a] \u001b[39m\u001b[92m+ Ogg_jll v1.3.5+1\u001b[39m\n",
      "  \u001b[90m[458c3c95] \u001b[39m\u001b[92m+ OpenSSL_jll v3.0.16+0\u001b[39m\n",
      "  \u001b[90m[91d4177d] \u001b[39m\u001b[92m+ Opus_jll v1.3.3+0\u001b[39m\n",
      "  \u001b[90m[36c8627f] \u001b[39m\u001b[92m+ Pango_jll v1.56.1+0\u001b[39m\n",
      "\u001b[33m⌅\u001b[39m \u001b[90m[30392449] \u001b[39m\u001b[92m+ Pixman_jll v0.43.4+0\u001b[39m\n",
      "\u001b[33m⌅\u001b[39m \u001b[90m[c0090381] \u001b[39m\u001b[92m+ Qt6Base_jll v6.7.1+1\u001b[39m\n",
      "\u001b[33m⌅\u001b[39m \u001b[90m[629bc702] \u001b[39m\u001b[92m+ Qt6Declarative_jll v6.7.1+2\u001b[39m\n",
      "\u001b[33m⌅\u001b[39m \u001b[90m[ce943373] \u001b[39m\u001b[92m+ Qt6ShaderTools_jll v6.7.1+1\u001b[39m\n",
      "\u001b[32m⌃\u001b[39m \u001b[90m[e99dba38] \u001b[39m\u001b[92m+ Qt6Wayland_jll v6.7.1+1\u001b[39m\n",
      "  \u001b[90m[a44049a8] \u001b[39m\u001b[92m+ Vulkan_Loader_jll v1.3.243+0\u001b[39m\n",
      "  \u001b[90m[a2964d1f] \u001b[39m\u001b[92m+ Wayland_jll v1.21.0+2\u001b[39m\n",
      "  \u001b[90m[2381bf8a] \u001b[39m\u001b[92m+ Wayland_protocols_jll v1.36.0+0\u001b[39m\n",
      "  \u001b[90m[02c8fc9c] \u001b[39m\u001b[92m+ XML2_jll v2.13.6+1\u001b[39m\n",
      "  \u001b[90m[aed1982a] \u001b[39m\u001b[92m+ XSLT_jll v1.1.42+0\u001b[39m\n",
      "  \u001b[90m[ffd25f8a] \u001b[39m\u001b[92m+ XZ_jll v5.6.4+1\u001b[39m\n",
      "  \u001b[90m[f67eecfb] \u001b[39m\u001b[92m+ Xorg_libICE_jll v1.1.1+0\u001b[39m\n",
      "  \u001b[90m[c834827a] \u001b[39m\u001b[92m+ Xorg_libSM_jll v1.2.4+0\u001b[39m\n",
      "  \u001b[90m[4f6342f7] \u001b[39m\u001b[92m+ Xorg_libX11_jll v1.8.6+3\u001b[39m\n",
      "  \u001b[90m[0c0b7dd1] \u001b[39m\u001b[92m+ Xorg_libXau_jll v1.0.12+0\u001b[39m\n",
      "  \u001b[90m[935fb764] \u001b[39m\u001b[92m+ Xorg_libXcursor_jll v1.2.3+0\u001b[39m\n",
      "  \u001b[90m[a3789734] \u001b[39m\u001b[92m+ Xorg_libXdmcp_jll v1.1.5+0\u001b[39m\n",
      "  \u001b[90m[1082639a] \u001b[39m\u001b[92m+ Xorg_libXext_jll v1.3.6+3\u001b[39m\n",
      "  \u001b[90m[d091e8ba] \u001b[39m\u001b[92m+ Xorg_libXfixes_jll v6.0.0+0\u001b[39m\n",
      "  \u001b[90m[a51aa0fd] \u001b[39m\u001b[92m+ Xorg_libXi_jll v1.8.2+0\u001b[39m\n",
      "  \u001b[90m[d1454406] \u001b[39m\u001b[92m+ Xorg_libXinerama_jll v1.1.5+0\u001b[39m\n",
      "  \u001b[90m[ec84b674] \u001b[39m\u001b[92m+ Xorg_libXrandr_jll v1.5.4+0\u001b[39m\n",
      "  \u001b[90m[ea2f1a96] \u001b[39m\u001b[92m+ Xorg_libXrender_jll v0.9.11+1\u001b[39m\n",
      "  \u001b[90m[14d82f49] \u001b[39m\u001b[92m+ Xorg_libpthread_stubs_jll v0.1.2+0\u001b[39m\n",
      "  \u001b[90m[c7cfdc94] \u001b[39m\u001b[92m+ Xorg_libxcb_jll v1.17.0+3\u001b[39m\n",
      "  \u001b[90m[cc61e674] \u001b[39m\u001b[92m+ Xorg_libxkbfile_jll v1.1.2+1\u001b[39m\n",
      "  \u001b[90m[e920d4aa] \u001b[39m\u001b[92m+ Xorg_xcb_util_cursor_jll v0.1.4+0\u001b[39m\n",
      "  \u001b[90m[12413925] \u001b[39m\u001b[92m+ Xorg_xcb_util_image_jll v0.4.0+1\u001b[39m\n",
      "  \u001b[90m[2def613f] \u001b[39m\u001b[92m+ Xorg_xcb_util_jll v0.4.0+1\u001b[39m\n",
      "  \u001b[90m[975044d2] \u001b[39m\u001b[92m+ Xorg_xcb_util_keysyms_jll v0.4.0+1\u001b[39m\n",
      "  \u001b[90m[0d47668e] \u001b[39m\u001b[92m+ Xorg_xcb_util_renderutil_jll v0.3.9+1\u001b[39m\n",
      "  \u001b[90m[c22f9ab0] \u001b[39m\u001b[92m+ Xorg_xcb_util_wm_jll v0.4.1+1\u001b[39m\n",
      "  \u001b[90m[35661453] \u001b[39m\u001b[92m+ Xorg_xkbcomp_jll v1.4.6+1\u001b[39m\n",
      "  \u001b[90m[33bec58e] \u001b[39m\u001b[92m+ Xorg_xkeyboard_config_jll v2.39.0+0\u001b[39m\n",
      "  \u001b[90m[c5fb5394] \u001b[39m\u001b[92m+ Xorg_xtrans_jll v1.5.1+0\u001b[39m\n",
      "  \u001b[90m[3161d3a3] \u001b[39m\u001b[92m+ Zstd_jll v1.5.7+1\u001b[39m\n",
      "  \u001b[90m[35ca27e7] \u001b[39m\u001b[92m+ eudev_jll v3.2.9+0\u001b[39m\n",
      "  \u001b[90m[214eeab7] \u001b[39m\u001b[92m+ fzf_jll v0.56.3+0\u001b[39m\n",
      "  \u001b[90m[1a1c6b14] \u001b[39m\u001b[92m+ gperf_jll v3.1.1+1\u001b[39m\n",
      "  \u001b[90m[a4ae2306] \u001b[39m\u001b[92m+ libaom_jll v3.11.0+0\u001b[39m\n",
      "  \u001b[90m[0ac62f75] \u001b[39m\u001b[92m+ libass_jll v0.15.2+0\u001b[39m\n",
      "  \u001b[90m[1183f4f0] \u001b[39m\u001b[92m+ libdecor_jll v0.2.2+0\u001b[39m\n",
      "  \u001b[90m[2db6ffa8] \u001b[39m\u001b[92m+ libevdev_jll v1.11.0+0\u001b[39m\n",
      "  \u001b[90m[f638f0a6] \u001b[39m\u001b[92m+ libfdk_aac_jll v2.0.3+0\u001b[39m\n",
      "  \u001b[90m[36db933b] \u001b[39m\u001b[92m+ libinput_jll v1.18.0+0\u001b[39m\n",
      "  \u001b[90m[b53b4c65] \u001b[39m\u001b[92m+ libpng_jll v1.6.47+0\u001b[39m\n",
      "  \u001b[90m[f27f6e37] \u001b[39m\u001b[92m+ libvorbis_jll v1.3.7+2\u001b[39m\n",
      "  \u001b[90m[009596ad] \u001b[39m\u001b[92m+ mtdev_jll v1.1.6+0\u001b[39m\n",
      "\u001b[33m⌅\u001b[39m \u001b[90m[1270edf5] \u001b[39m\u001b[92m+ x264_jll v2021.5.5+0\u001b[39m\n",
      "\u001b[33m⌅\u001b[39m \u001b[90m[dfaa095f] \u001b[39m\u001b[92m+ x265_jll v3.5.0+0\u001b[39m\n",
      "  \u001b[90m[d8fb68d0] \u001b[39m\u001b[92m+ xkbcommon_jll v1.4.1+2\u001b[39m\n",
      "  \u001b[90m[2f01184e] \u001b[39m\u001b[92m+ SparseArrays v1.11.0\u001b[39m\n",
      "  \u001b[90m[05823500] \u001b[39m\u001b[92m+ OpenLibm_jll v0.8.1+4\u001b[39m\n",
      "  \u001b[90m[efcefdf7] \u001b[39m\u001b[92m+ PCRE2_jll v10.42.0+1\u001b[39m\n",
      "  \u001b[90m[bea87d4a] \u001b[39m\u001b[92m+ SuiteSparse_jll v7.7.0+0\u001b[39m\n",
      "\u001b[36m\u001b[1m        Info\u001b[22m\u001b[39m Packages marked with \u001b[32m⌃\u001b[39m and \u001b[33m⌅\u001b[39m have new versions available. Those with \u001b[32m⌃\u001b[39m may be upgradable, but those with \u001b[33m⌅\u001b[39m are restricted by compatibility constraints from upgrading. To see why use `status --outdated -m`\n",
      "\u001b[92m\u001b[1mPrecompiling\u001b[22m\u001b[39m project...\n",
      "   1798.9 ms\u001b[32m  ✓ \u001b[39m\u001b[90mTensorCore\u001b[39m\n",
      "    953.5 ms\u001b[32m  ✓ \u001b[39m\u001b[90mPipe\u001b[39m\n",
      "   1114.3 ms\u001b[32m  ✓ \u001b[39m\u001b[90mContour\u001b[39m\n",
      "   1166.9 ms\u001b[32m  ✓ \u001b[39m\u001b[90mStatsAPI\u001b[39m\n",
      "   1246.5 ms\u001b[32m  ✓ \u001b[39m\u001b[90mMeasures\u001b[39m\n",
      "   1570.5 ms\u001b[32m  ✓ \u001b[39m\u001b[90mRequires\u001b[39m\n",
      "   2981.0 ms\u001b[32m  ✓ \u001b[39m\u001b[90mFormat\u001b[39m\n",
      "   2205.3 ms\u001b[32m  ✓ \u001b[39m\u001b[90mGrisu\u001b[39m\n",
      "   1252.0 ms\u001b[32m  ✓ \u001b[39m\u001b[90mStableRNGs\u001b[39m\n",
      "   1418.2 ms\u001b[32m  ✓ \u001b[39m\u001b[90mUnzip\u001b[39m\n",
      "    888.7 ms\u001b[32m  ✓ \u001b[39m\u001b[90mSimpleBufferStream\u001b[39m\n",
      "   1603.5 ms\u001b[32m  ✓ \u001b[39m\u001b[90mURIs\u001b[39m\n",
      "    898.4 ms\u001b[32m  ✓ \u001b[39m\u001b[90mPtrArrays\u001b[39m\n",
      "   1594.7 ms\u001b[32m  ✓ \u001b[39m\u001b[90mDelimitedFiles\u001b[39m\n",
      "   2134.4 ms\u001b[32m  ✓ \u001b[39m\u001b[90mNaNMath\u001b[39m\n",
      "   3536.2 ms\u001b[32m  ✓ \u001b[39m\u001b[90mIrrationalConstants\u001b[39m\n",
      "   5735.9 ms\u001b[32m  ✓ \u001b[39m\u001b[90mMacroTools\u001b[39m\n",
      "    923.0 ms\u001b[32m  ✓ \u001b[39m\u001b[90mBitFlags\u001b[39m\n",
      "   3043.6 ms\u001b[32m  ✓ \u001b[39m\u001b[90mStatistics → SparseArraysExt\u001b[39m\n",
      "   1922.6 ms\u001b[32m  ✓ \u001b[39m\u001b[90mConcurrentUtilities\u001b[39m\n",
      "   1079.3 ms\u001b[32m  ✓ \u001b[39m\u001b[90mScratch\u001b[39m\n",
      "   1372.1 ms\u001b[32m  ✓ \u001b[39m\u001b[90mLoggingExtras\u001b[39m\n",
      "   1638.5 ms\u001b[32m  ✓ \u001b[39m\u001b[90mDocStringExtensions\u001b[39m\n",
      "   2559.5 ms\u001b[32m  ✓ \u001b[39m\u001b[90mExceptionUnwrapping\u001b[39m\n",
      "   2059.0 ms\u001b[32m  ✓ \u001b[39m\u001b[90mOpenSSL_jll\u001b[39m\n",
      "   5635.5 ms\u001b[32m  ✓ \u001b[39m\u001b[90mFixedPointNumbers\u001b[39m\n",
      "   4782.9 ms\u001b[32m  ✓ \u001b[39m\u001b[90mUnicodeFun\u001b[39m\n",
      "   1463.0 ms\u001b[32m  ✓ \u001b[39m\u001b[90mLibmount_jll\u001b[39m\n",
      "   1439.3 ms\u001b[32m  ✓ \u001b[39m\u001b[90mEpollShim_jll\u001b[39m\n",
      "   1710.3 ms\u001b[32m  ✓ \u001b[39m\u001b[90mGraphite2_jll\u001b[39m\n",
      "   1523.5 ms\u001b[32m  ✓ \u001b[39m\u001b[90mLLVMOpenMP_jll\u001b[39m\n",
      "   1317.5 ms\u001b[32m  ✓ \u001b[39m\u001b[90mXorg_libICE_jll\u001b[39m\n",
      "   1325.1 ms\u001b[32m  ✓ \u001b[39m\u001b[90mXorg_libXau_jll\u001b[39m\n",
      "   1529.9 ms\u001b[32m  ✓ \u001b[39m\u001b[90mBzip2_jll\u001b[39m\n",
      "   1424.7 ms\u001b[32m  ✓ \u001b[39m\u001b[90mlibfdk_aac_jll\u001b[39m\n",
      "   1585.4 ms\u001b[32m  ✓ \u001b[39m\u001b[90mlibpng_jll\u001b[39m\n",
      "   1515.9 ms\u001b[32m  ✓ \u001b[39m\u001b[90mLAME_jll\u001b[39m\n",
      "   1554.6 ms\u001b[32m  ✓ \u001b[39m\u001b[90mLERC_jll\u001b[39m\n",
      "   1554.5 ms\u001b[32m  ✓ \u001b[39m\u001b[90mfzf_jll\u001b[39m\n",
      "   1661.3 ms\u001b[32m  ✓ \u001b[39m\u001b[90mJpegTurbo_jll\u001b[39m\n",
      "   1540.0 ms\u001b[32m  ✓ \u001b[39m\u001b[90mOgg_jll\u001b[39m\n",
      "   1747.2 ms\u001b[32m  ✓ \u001b[39m\u001b[90mXZ_jll\u001b[39m\n",
      "   1382.2 ms\u001b[32m  ✓ \u001b[39m\u001b[90mmtdev_jll\u001b[39m\n",
      "   1394.5 ms\u001b[32m  ✓ \u001b[39m\u001b[90mXorg_libXdmcp_jll\u001b[39m\n",
      "   1562.9 ms\u001b[32m  ✓ \u001b[39m\u001b[90mgperf_jll\u001b[39m\n",
      "   1612.2 ms\u001b[32m  ✓ \u001b[39m\u001b[90mx265_jll\u001b[39m\n",
      "   1604.3 ms\u001b[32m  ✓ \u001b[39m\u001b[90mx264_jll\u001b[39m\n",
      "   1549.3 ms\u001b[32m  ✓ \u001b[39m\u001b[90mlibaom_jll\u001b[39m\n",
      "   1593.6 ms\u001b[32m  ✓ \u001b[39m\u001b[90mZstd_jll\u001b[39m\n",
      "   1537.3 ms\u001b[32m  ✓ \u001b[39m\u001b[90mExpat_jll\u001b[39m\n",
      "   1485.6 ms\u001b[32m  ✓ \u001b[39m\u001b[90mLZO_jll\u001b[39m\n",
      "   1245.3 ms\u001b[32m  ✓ \u001b[39m\u001b[90mXorg_xtrans_jll\u001b[39m\n",
      "   1476.5 ms\u001b[32m  ✓ \u001b[39m\u001b[90mOpus_jll\u001b[39m\n",
      "   1363.8 ms\u001b[32m  ✓ \u001b[39m\u001b[90mlibevdev_jll\u001b[39m\n",
      "   1460.9 ms\u001b[32m  ✓ \u001b[39m\u001b[90mLibiconv_jll\u001b[39m\n",
      "   1467.2 ms\u001b[32m  ✓ \u001b[39m\u001b[90mLibffi_jll\u001b[39m\n",
      "   1451.5 ms\u001b[32m  ✓ \u001b[39m\u001b[90mLibgpg_error_jll\u001b[39m\n",
      "   1355.8 ms\u001b[32m  ✓ \u001b[39m\u001b[90mWayland_protocols_jll\u001b[39m\n",
      "   1336.1 ms\u001b[32m  ✓ \u001b[39m\u001b[90mXorg_libpthread_stubs_jll\u001b[39m\n",
      "   1339.6 ms\u001b[32m  ✓ \u001b[39m\u001b[90mLibuuid_jll\u001b[39m\n",
      "   1516.4 ms\u001b[32m  ✓ \u001b[39m\u001b[90mFriBidi_jll\u001b[39m\n",
      "   1132.5 ms\u001b[32m  ✓ \u001b[39m\u001b[90mShowoff\u001b[39m\n",
      "   1205.6 ms\u001b[32m  ✓ \u001b[39m\u001b[90mAliasTables\u001b[39m\n",
      "   1050.6 ms\u001b[32m  ✓ \u001b[39m\u001b[90mRelocatableFolders\u001b[39m\n",
      "   1672.9 ms\u001b[32m  ✓ \u001b[39m\u001b[90mLogExpFunctions\u001b[39m\n",
      "   4164.6 ms\u001b[32m  ✓ \u001b[39m\u001b[90mRecipesBase\u001b[39m\n",
      "   1536.1 ms\u001b[32m  ✓ \u001b[39m\u001b[90mPixman_jll\u001b[39m\n",
      "   1464.3 ms\u001b[32m  ✓ \u001b[39m\u001b[90mXorg_libSM_jll\u001b[39m\n",
      "   4890.6 ms\u001b[32m  ✓ \u001b[39m\u001b[90mOpenSSL\u001b[39m\n",
      "   4140.4 ms\u001b[32m  ✓ \u001b[39m\u001b[90mColorTypes\u001b[39m\n",
      "   6979.6 ms\u001b[32m  ✓ \u001b[39m\u001b[90mLatexify\u001b[39m\n",
      "   2350.5 ms\u001b[32m  ✓ \u001b[39m\u001b[90mFreeType2_jll\u001b[39m\n",
      "   1381.6 ms\u001b[32m  ✓ \u001b[39m\u001b[90meudev_jll\u001b[39m\n",
      "   1831.5 ms\u001b[32m  ✓ \u001b[39m\u001b[90mlibvorbis_jll\u001b[39m\n",
      "   1455.1 ms\u001b[32m  ✓ \u001b[39m\u001b[90mDbus_jll\u001b[39m\n",
      "   2289.5 ms\u001b[32m  ✓ \u001b[39m\u001b[90mLibtiff_jll\u001b[39m\n",
      "   3897.9 ms\u001b[32m  ✓ \u001b[39m\u001b[90mJLFzf\u001b[39m\n",
      "   2179.6 ms\u001b[32m  ✓ \u001b[39m\u001b[90mXML2_jll\u001b[39m\n",
      "   2321.1 ms\u001b[32m  ✓ \u001b[39m\u001b[90mLibgcrypt_jll\u001b[39m\n",
      "   1924.7 ms\u001b[32m  ✓ \u001b[39m\u001b[90mColorTypes → StyledStringsExt\u001b[39m\n",
      "   5187.2 ms\u001b[32m  ✓ \u001b[39m\u001b[90mColorVectorSpace\u001b[39m\n",
      "   6778.5 ms\u001b[32m  ✓ \u001b[39m\u001b[90mStatsBase\u001b[39m\n",
      "   2080.0 ms\u001b[32m  ✓ \u001b[39m\u001b[90mLatexify → SparseArraysExt\u001b[39m\n",
      "   3999.2 ms\u001b[32m  ✓ \u001b[39m\u001b[90mFontconfig_jll\u001b[39m\n",
      "   6888.1 ms\u001b[32m  ✓ \u001b[39m\u001b[90mLatexify → DataFramesExt\u001b[39m\n",
      "   4048.1 ms\u001b[32m  ✓ \u001b[39m\u001b[90mlibinput_jll\u001b[39m\n",
      "  13547.0 ms\u001b[32m  ✓ \u001b[39m\u001b[90mColors\u001b[39m\n",
      "   2943.2 ms\u001b[32m  ✓ \u001b[39m\u001b[90mWayland_jll\u001b[39m\n",
      "   5122.4 ms\u001b[32m  ✓ \u001b[39m\u001b[90mGettext_jll\u001b[39m\n",
      "  48578.0 ms\u001b[32m  ✓ \u001b[39m\u001b[90mUnitful\u001b[39m\n",
      "   2851.1 ms\u001b[32m  ✓ \u001b[39m\u001b[90mXSLT_jll\u001b[39m\n",
      "   2400.3 ms\u001b[32m  ✓ \u001b[39m\u001b[90mGlib_jll\u001b[39m\n",
      "   1427.3 ms\u001b[32m  ✓ \u001b[39m\u001b[90mXorg_libxcb_jll\u001b[39m\n",
      "   1361.4 ms\u001b[32m  ✓ \u001b[39m\u001b[90mXorg_xcb_util_jll\u001b[39m\n",
      "   1387.4 ms\u001b[32m  ✓ \u001b[39m\u001b[90mXorg_libX11_jll\u001b[39m\n",
      "   4755.2 ms\u001b[32m  ✓ \u001b[39m\u001b[90mUnitfulLatexify\u001b[39m\n",
      "   1381.6 ms\u001b[32m  ✓ \u001b[39m\u001b[90mXorg_xcb_util_image_jll\u001b[39m\n",
      "   1376.7 ms\u001b[32m  ✓ \u001b[39m\u001b[90mXorg_xcb_util_keysyms_jll\u001b[39m\n",
      "   1447.4 ms\u001b[32m  ✓ \u001b[39m\u001b[90mXorg_xcb_util_renderutil_jll\u001b[39m\n",
      "   1446.5 ms\u001b[32m  ✓ \u001b[39m\u001b[90mXorg_xcb_util_wm_jll\u001b[39m\n",
      "   1460.3 ms\u001b[32m  ✓ \u001b[39m\u001b[90mXorg_libXrender_jll\u001b[39m\n",
      "   1649.4 ms\u001b[32m  ✓ \u001b[39m\u001b[90mXorg_libXext_jll\u001b[39m\n",
      "   1556.3 ms\u001b[32m  ✓ \u001b[39m\u001b[90mXorg_libXfixes_jll\u001b[39m\n",
      "   1565.1 ms\u001b[32m  ✓ \u001b[39m\u001b[90mXorg_libxkbfile_jll\u001b[39m\n",
      "   8771.7 ms\u001b[32m  ✓ \u001b[39m\u001b[90mColorSchemes\u001b[39m\n",
      "   1685.3 ms\u001b[32m  ✓ \u001b[39m\u001b[90mXorg_xcb_util_cursor_jll\u001b[39m\n",
      "   1719.6 ms\u001b[32m  ✓ \u001b[39m\u001b[90mXorg_libXinerama_jll\u001b[39m\n",
      "   1714.1 ms\u001b[32m  ✓ \u001b[39m\u001b[90mXorg_libXrandr_jll\u001b[39m\n",
      "   1785.8 ms\u001b[32m  ✓ \u001b[39m\u001b[90mLibglvnd_jll\u001b[39m\n",
      "   1615.3 ms\u001b[32m  ✓ \u001b[39m\u001b[90mXorg_libXcursor_jll\u001b[39m\n",
      "   3232.7 ms\u001b[32m  ✓ \u001b[39m\u001b[90mCairo_jll\u001b[39m\n",
      "   1792.3 ms\u001b[32m  ✓ \u001b[39m\u001b[90mXorg_libXi_jll\u001b[39m\n",
      "   1542.9 ms\u001b[32m  ✓ \u001b[39m\u001b[90mXorg_xkbcomp_jll\u001b[39m\n",
      "   2544.8 ms\u001b[32m  ✓ \u001b[39m\u001b[90mHarfBuzz_jll\u001b[39m\n",
      "   1765.1 ms\u001b[32m  ✓ \u001b[39m\u001b[90mXorg_xkeyboard_config_jll\u001b[39m\n",
      "   1575.1 ms\u001b[32m  ✓ \u001b[39m\u001b[90mxkbcommon_jll\u001b[39m\n",
      "   2625.0 ms\u001b[32m  ✓ \u001b[39m\u001b[90mlibass_jll\u001b[39m\n",
      "   2677.0 ms\u001b[32m  ✓ \u001b[39m\u001b[90mPango_jll\u001b[39m\n",
      "   1704.2 ms\u001b[32m  ✓ \u001b[39m\u001b[90mVulkan_Loader_jll\u001b[39m\n",
      "   1442.3 ms\u001b[32m  ✓ \u001b[39m\u001b[90mlibdecor_jll\u001b[39m\n",
      "   4481.2 ms\u001b[32m  ✓ \u001b[39m\u001b[90mFFMPEG_jll\u001b[39m\n",
      "   3382.5 ms\u001b[32m  ✓ \u001b[39m\u001b[90mGLFW_jll\u001b[39m\n",
      "   5723.6 ms\u001b[32m  ✓ \u001b[39m\u001b[90mQt6Base_jll\u001b[39m\n",
      "   5396.7 ms\u001b[32m  ✓ \u001b[39m\u001b[90mFFMPEG\u001b[39m\n",
      "  47528.2 ms\u001b[32m  ✓ \u001b[39m\u001b[90mHTTP\u001b[39m\n",
      "   4967.4 ms\u001b[32m  ✓ \u001b[39m\u001b[90mQt6ShaderTools_jll\u001b[39m\n",
      "   5424.0 ms\u001b[32m  ✓ \u001b[39m\u001b[90mGR_jll\u001b[39m\n",
      "   3100.2 ms\u001b[32m  ✓ \u001b[39m\u001b[90mQt6Declarative_jll\u001b[39m\n",
      "   1310.6 ms\u001b[32m  ✓ \u001b[39m\u001b[90mQt6Wayland_jll\u001b[39m\n",
      "  24217.2 ms\u001b[32m  ✓ \u001b[39m\u001b[90mPlotUtils\u001b[39m\n",
      "   5995.9 ms\u001b[32m  ✓ \u001b[39m\u001b[90mPlotThemes\u001b[39m\n",
      "   8752.1 ms\u001b[32m  ✓ \u001b[39m\u001b[90mGR\u001b[39m\n",
      "   8309.1 ms\u001b[32m  ✓ \u001b[39m\u001b[90mRecipesPipeline\u001b[39m\n",
      "  75800.8 ms\u001b[32m  ✓ \u001b[39mPlots\n",
      "   7478.8 ms\u001b[32m  ✓ \u001b[39mPlots → UnitfulExt\n",
      "   7704.3 ms\u001b[32m  ✓ \u001b[39mPlots → IJuliaExt\n",
      "  136 dependencies successfully precompiled in 186 seconds. 80 already precompiled.\n"
     ]
    },
    {
     "data": {
      "image/png": "[encoded data removed]",
      "image/svg+xml": [
       "<?xml version=\"1.0\" encoding=\"utf-8\"?>\n",
       "<svg xmlns=\"http://www.w3.org/2000/svg\" xmlns:xlink=\"http://www.w3.org/1999/xlink\" width=\"600\" height=\"400\" viewBox=\"0 0 2400 1600\">\n",
       "<defs>\n",
       "  <clipPath id=\"clip340\">\n",
       "    <rect x=\"0\" y=\"0\" width=\"2400\" height=\"1600\"/>\n",
       "  </clipPath>\n",
       "</defs>\n",
       "<path clip-path=\"url(#clip340)\" d=\"M0 1600 L2400 1600 L2400 0 L0 0  Z\" fill=\"#ffffff\" fill-rule=\"evenodd\" fill-opacity=\"1\"/>\n",
       "<defs>\n",
       "  <clipPath id=\"clip341\">\n",
       "    <rect x=\"480\" y=\"0\" width=\"1681\" height=\"1600\"/>\n",
       "  </clipPath>\n",
       "</defs>\n",
       "<path clip-path=\"url(#clip340)\" d=\"M140.696 1486.45 L2352.76 1486.45 L2352.76 47.2441 L140.696 47.2441  Z\" fill=\"#ffffff\" fill-rule=\"evenodd\" fill-opacity=\"1\"/>\n",
       "<defs>\n",
       "  <clipPath id=\"clip342\">\n",
       "    <rect x=\"140\" y=\"47\" width=\"2213\" height=\"1440\"/>\n",
       "  </clipPath>\n",
       "</defs>\n",
       "<polyline clip-path=\"url(#clip342)\" style=\"stroke:#000000; stroke-linecap:round; stroke-linejoin:round; stroke-width:2; stroke-opacity:0.1; fill:none\" points=\"435.173,1486.45 435.173,47.2441 \"/>\n",
       "<polyline clip-path=\"url(#clip342)\" style=\"stroke:#000000; stroke-linecap:round; stroke-linejoin:round; stroke-width:2; stroke-opacity:0.1; fill:none\" points=\"898.917,1486.45 898.917,47.2441 \"/>\n",
       "<polyline clip-path=\"url(#clip342)\" style=\"stroke:#000000; stroke-linecap:round; stroke-linejoin:round; stroke-width:2; stroke-opacity:0.1; fill:none\" points=\"1362.66,1486.45 1362.66,47.2441 \"/>\n",
       "<polyline clip-path=\"url(#clip342)\" style=\"stroke:#000000; stroke-linecap:round; stroke-linejoin:round; stroke-width:2; stroke-opacity:0.1; fill:none\" points=\"1826.41,1486.45 1826.41,47.2441 \"/>\n",
       "<polyline clip-path=\"url(#clip342)\" style=\"stroke:#000000; stroke-linecap:round; stroke-linejoin:round; stroke-width:2; stroke-opacity:0.1; fill:none\" points=\"2290.15,1486.45 2290.15,47.2441 \"/>\n",
       "<polyline clip-path=\"url(#clip342)\" style=\"stroke:#000000; stroke-linecap:round; stroke-linejoin:round; stroke-width:2; stroke-opacity:0.1; fill:none\" points=\"140.696,1437.28 2352.76,1437.28 \"/>\n",
       "<polyline clip-path=\"url(#clip342)\" style=\"stroke:#000000; stroke-linecap:round; stroke-linejoin:round; stroke-width:2; stroke-opacity:0.1; fill:none\" points=\"140.696,1101.6 2352.76,1101.6 \"/>\n",
       "<polyline clip-path=\"url(#clip342)\" style=\"stroke:#000000; stroke-linecap:round; stroke-linejoin:round; stroke-width:2; stroke-opacity:0.1; fill:none\" points=\"140.696,765.917 2352.76,765.917 \"/>\n",
       "<polyline clip-path=\"url(#clip342)\" style=\"stroke:#000000; stroke-linecap:round; stroke-linejoin:round; stroke-width:2; stroke-opacity:0.1; fill:none\" points=\"140.696,430.234 2352.76,430.234 \"/>\n",
       "<polyline clip-path=\"url(#clip342)\" style=\"stroke:#000000; stroke-linecap:round; stroke-linejoin:round; stroke-width:2; stroke-opacity:0.1; fill:none\" points=\"140.696,94.5516 2352.76,94.5516 \"/>\n",
       "<polyline clip-path=\"url(#clip340)\" style=\"stroke:#000000; stroke-linecap:round; stroke-linejoin:round; stroke-width:4; stroke-opacity:1; fill:none\" points=\"140.696,1486.45 2352.76,1486.45 \"/>\n",
       "<polyline clip-path=\"url(#clip340)\" style=\"stroke:#000000; stroke-linecap:round; stroke-linejoin:round; stroke-width:4; stroke-opacity:1; fill:none\" points=\"435.173,1486.45 435.173,1467.55 \"/>\n",
       "<polyline clip-path=\"url(#clip340)\" style=\"stroke:#000000; stroke-linecap:round; stroke-linejoin:round; stroke-width:4; stroke-opacity:1; fill:none\" points=\"898.917,1486.45 898.917,1467.55 \"/>\n",
       "<polyline clip-path=\"url(#clip340)\" style=\"stroke:#000000; stroke-linecap:round; stroke-linejoin:round; stroke-width:4; stroke-opacity:1; fill:none\" points=\"1362.66,1486.45 1362.66,1467.55 \"/>\n",
       "<polyline clip-path=\"url(#clip340)\" style=\"stroke:#000000; stroke-linecap:round; stroke-linejoin:round; stroke-width:4; stroke-opacity:1; fill:none\" points=\"1826.41,1486.45 1826.41,1467.55 \"/>\n",
       "<polyline clip-path=\"url(#clip340)\" style=\"stroke:#000000; stroke-linecap:round; stroke-linejoin:round; stroke-width:4; stroke-opacity:1; fill:none\" points=\"2290.15,1486.45 2290.15,1467.55 \"/>\n",
       "<path clip-path=\"url(#clip340)\" d=\"M429.826 1544.91 L446.145 1544.91 L446.145 1548.85 L424.201 1548.85 L424.201 1544.91 Q426.863 1542.16 431.446 1537.53 Q436.053 1532.88 437.233 1531.53 Q439.479 1529.01 440.358 1527.27 Q441.261 1525.51 441.261 1523.82 Q441.261 1521.07 439.317 1519.33 Q437.395 1517.6 434.294 1517.6 Q432.094 1517.6 429.641 1518.36 Q427.21 1519.13 424.432 1520.68 L424.432 1515.95 Q427.257 1514.82 429.71 1514.24 Q432.164 1513.66 434.201 1513.66 Q439.571 1513.66 442.766 1516.35 Q445.96 1519.03 445.96 1523.52 Q445.96 1525.65 445.15 1527.57 Q444.363 1529.47 442.256 1532.07 Q441.678 1532.74 438.576 1535.95 Q435.474 1539.15 429.826 1544.91 Z\" fill=\"#000000\" fill-rule=\"nonzero\" fill-opacity=\"1\" /><path clip-path=\"url(#clip340)\" d=\"M901.927 1518.36 L890.121 1536.81 L901.927 1536.81 L901.927 1518.36 M900.7 1514.29 L906.579 1514.29 L906.579 1536.81 L911.51 1536.81 L911.51 1540.7 L906.579 1540.7 L906.579 1548.85 L901.927 1548.85 L901.927 1540.7 L886.325 1540.7 L886.325 1536.19 L900.7 1514.29 Z\" fill=\"#000000\" fill-rule=\"nonzero\" fill-opacity=\"1\" /><path clip-path=\"url(#clip340)\" d=\"M1363.07 1529.7 Q1359.92 1529.7 1358.07 1531.86 Q1356.24 1534.01 1356.24 1537.76 Q1356.24 1541.49 1358.07 1543.66 Q1359.92 1545.82 1363.07 1545.82 Q1366.22 1545.82 1368.04 1543.66 Q1369.9 1541.49 1369.9 1537.76 Q1369.9 1534.01 1368.04 1531.86 Q1366.22 1529.7 1363.07 1529.7 M1372.35 1515.05 L1372.35 1519.31 Q1370.59 1518.48 1368.78 1518.04 Q1367 1517.6 1365.24 1517.6 Q1360.61 1517.6 1358.16 1520.72 Q1355.73 1523.85 1355.38 1530.17 Q1356.75 1528.15 1358.81 1527.09 Q1360.87 1526 1363.34 1526 Q1368.55 1526 1371.56 1529.17 Q1374.59 1532.32 1374.59 1537.76 Q1374.59 1543.08 1371.45 1546.3 Q1368.3 1549.52 1363.07 1549.52 Q1357.07 1549.52 1353.9 1544.94 Q1350.73 1540.33 1350.73 1531.6 Q1350.73 1523.41 1354.62 1518.55 Q1358.51 1513.66 1365.06 1513.66 Q1366.82 1513.66 1368.6 1514.01 Q1370.4 1514.36 1372.35 1515.05 Z\" fill=\"#000000\" fill-rule=\"nonzero\" fill-opacity=\"1\" /><path clip-path=\"url(#clip340)\" d=\"M1826.41 1532.44 Q1823.07 1532.44 1821.15 1534.22 Q1819.25 1536 1819.25 1539.13 Q1819.25 1542.25 1821.15 1544.03 Q1823.07 1545.82 1826.41 1545.82 Q1829.74 1545.82 1831.66 1544.03 Q1833.58 1542.23 1833.58 1539.13 Q1833.58 1536 1831.66 1534.22 Q1829.76 1532.44 1826.41 1532.44 M1821.73 1530.45 Q1818.72 1529.7 1817.03 1527.64 Q1815.36 1525.58 1815.36 1522.62 Q1815.36 1518.48 1818.3 1516.07 Q1821.27 1513.66 1826.41 1513.66 Q1831.57 1513.66 1834.51 1516.07 Q1837.45 1518.48 1837.45 1522.62 Q1837.45 1525.58 1835.76 1527.64 Q1834.09 1529.7 1831.11 1530.45 Q1834.48 1531.23 1836.36 1533.52 Q1838.26 1535.82 1838.26 1539.13 Q1838.26 1544.15 1835.18 1546.83 Q1832.12 1549.52 1826.41 1549.52 Q1820.69 1549.52 1817.61 1546.83 Q1814.55 1544.15 1814.55 1539.13 Q1814.55 1535.82 1816.45 1533.52 Q1818.35 1531.23 1821.73 1530.45 M1820.02 1523.06 Q1820.02 1525.75 1821.68 1527.25 Q1823.37 1528.76 1826.41 1528.76 Q1829.42 1528.76 1831.11 1527.25 Q1832.82 1525.75 1832.82 1523.06 Q1832.82 1520.38 1831.11 1518.87 Q1829.42 1517.37 1826.41 1517.37 Q1823.37 1517.37 1821.68 1518.87 Q1820.02 1520.38 1820.02 1523.06 Z\" fill=\"#000000\" fill-rule=\"nonzero\" fill-opacity=\"1\" /><path clip-path=\"url(#clip340)\" d=\"M2264.84 1544.91 L2272.48 1544.91 L2272.48 1518.55 L2264.17 1520.21 L2264.17 1515.95 L2272.43 1514.29 L2277.11 1514.29 L2277.11 1544.91 L2284.75 1544.91 L2284.75 1548.85 L2264.84 1548.85 L2264.84 1544.91 Z\" fill=\"#000000\" fill-rule=\"nonzero\" fill-opacity=\"1\" /><path clip-path=\"url(#clip340)\" d=\"M2304.19 1517.37 Q2300.58 1517.37 2298.75 1520.93 Q2296.94 1524.47 2296.94 1531.6 Q2296.94 1538.71 2298.75 1542.27 Q2300.58 1545.82 2304.19 1545.82 Q2307.82 1545.82 2309.63 1542.27 Q2311.46 1538.71 2311.46 1531.6 Q2311.46 1524.47 2309.63 1520.93 Q2307.82 1517.37 2304.19 1517.37 M2304.19 1513.66 Q2310 1513.66 2313.06 1518.27 Q2316.13 1522.85 2316.13 1531.6 Q2316.13 1540.33 2313.06 1544.94 Q2310 1549.52 2304.19 1549.52 Q2298.38 1549.52 2295.3 1544.94 Q2292.25 1540.33 2292.25 1531.6 Q2292.25 1522.85 2295.3 1518.27 Q2298.38 1513.66 2304.19 1513.66 Z\" fill=\"#000000\" fill-rule=\"nonzero\" fill-opacity=\"1\" /><polyline clip-path=\"url(#clip340)\" style=\"stroke:#000000; stroke-linecap:round; stroke-linejoin:round; stroke-width:4; stroke-opacity:1; fill:none\" points=\"140.696,1486.45 140.696,47.2441 \"/>\n",
       "<polyline clip-path=\"url(#clip340)\" style=\"stroke:#000000; stroke-linecap:round; stroke-linejoin:round; stroke-width:4; stroke-opacity:1; fill:none\" points=\"140.696,1437.28 159.593,1437.28 \"/>\n",
       "<polyline clip-path=\"url(#clip340)\" style=\"stroke:#000000; stroke-linecap:round; stroke-linejoin:round; stroke-width:4; stroke-opacity:1; fill:none\" points=\"140.696,1101.6 159.593,1101.6 \"/>\n",
       "<polyline clip-path=\"url(#clip340)\" style=\"stroke:#000000; stroke-linecap:round; stroke-linejoin:round; stroke-width:4; stroke-opacity:1; fill:none\" points=\"140.696,765.917 159.593,765.917 \"/>\n",
       "<polyline clip-path=\"url(#clip340)\" style=\"stroke:#000000; stroke-linecap:round; stroke-linejoin:round; stroke-width:4; stroke-opacity:1; fill:none\" points=\"140.696,430.234 159.593,430.234 \"/>\n",
       "<polyline clip-path=\"url(#clip340)\" style=\"stroke:#000000; stroke-linecap:round; stroke-linejoin:round; stroke-width:4; stroke-opacity:1; fill:none\" points=\"140.696,94.5516 159.593,94.5516 \"/>\n",
       "<path clip-path=\"url(#clip340)\" d=\"M92.7512 1423.08 Q89.1401 1423.08 87.3114 1426.65 Q85.5058 1430.19 85.5058 1437.32 Q85.5058 1444.42 87.3114 1447.99 Q89.1401 1451.53 92.7512 1451.53 Q96.3854 1451.53 98.1909 1447.99 Q100.02 1444.42 100.02 1437.32 Q100.02 1430.19 98.1909 1426.65 Q96.3854 1423.08 92.7512 1423.08 M92.7512 1419.38 Q98.5613 1419.38 101.617 1423.98 Q104.696 1428.57 104.696 1437.32 Q104.696 1446.04 101.617 1450.65 Q98.5613 1455.23 92.7512 1455.23 Q86.941 1455.23 83.8623 1450.65 Q80.8068 1446.04 80.8068 1437.32 Q80.8068 1428.57 83.8623 1423.98 Q86.941 1419.38 92.7512 1419.38 Z\" fill=\"#000000\" fill-rule=\"nonzero\" fill-opacity=\"1\" /><path clip-path=\"url(#clip340)\" d=\"M83.7929 1084.32 L102.149 1084.32 L102.149 1088.25 L88.0753 1088.25 L88.0753 1096.73 Q89.0938 1096.38 90.1123 1096.22 Q91.1308 1096.03 92.1493 1096.03 Q97.9363 1096.03 101.316 1099.2 Q104.696 1102.37 104.696 1107.79 Q104.696 1113.37 101.223 1116.47 Q97.7511 1119.55 91.4317 1119.55 Q89.2558 1119.55 86.9873 1119.18 Q84.7419 1118.81 82.3346 1118.07 L82.3346 1113.37 Q84.4179 1114.5 86.6401 1115.06 Q88.8623 1115.62 91.3391 1115.62 Q95.3437 1115.62 97.6817 1113.51 Q100.02 1111.4 100.02 1107.79 Q100.02 1104.18 97.6817 1102.07 Q95.3437 1099.97 91.3391 1099.97 Q89.4641 1099.97 87.5892 1100.38 Q85.7373 1100.8 83.7929 1101.68 L83.7929 1084.32 Z\" fill=\"#000000\" fill-rule=\"nonzero\" fill-opacity=\"1\" /><path clip-path=\"url(#clip340)\" d=\"M53.3995 779.262 L61.0384 779.262 L61.0384 752.896 L52.7282 754.563 L52.7282 750.303 L60.9921 748.637 L65.668 748.637 L65.668 779.262 L73.3068 779.262 L73.3068 783.197 L53.3995 783.197 L53.3995 779.262 Z\" fill=\"#000000\" fill-rule=\"nonzero\" fill-opacity=\"1\" /><path clip-path=\"url(#clip340)\" d=\"M92.7512 751.715 Q89.1401 751.715 87.3114 755.28 Q85.5058 758.822 85.5058 765.951 Q85.5058 773.058 87.3114 776.623 Q89.1401 780.164 92.7512 780.164 Q96.3854 780.164 98.1909 776.623 Q100.02 773.058 100.02 765.951 Q100.02 758.822 98.1909 755.28 Q96.3854 751.715 92.7512 751.715 M92.7512 748.012 Q98.5613 748.012 101.617 752.618 Q104.696 757.202 104.696 765.951 Q104.696 774.678 101.617 779.285 Q98.5613 783.868 92.7512 783.868 Q86.941 783.868 83.8623 779.285 Q80.8068 774.678 80.8068 765.951 Q80.8068 757.202 83.8623 752.618 Q86.941 748.012 92.7512 748.012 Z\" fill=\"#000000\" fill-rule=\"nonzero\" fill-opacity=\"1\" /><path clip-path=\"url(#clip340)\" d=\"M54.3949 443.579 L62.0337 443.579 L62.0337 417.213 L53.7236 418.88 L53.7236 414.621 L61.9874 412.954 L66.6633 412.954 L66.6633 443.579 L74.3022 443.579 L74.3022 447.514 L54.3949 447.514 L54.3949 443.579 Z\" fill=\"#000000\" fill-rule=\"nonzero\" fill-opacity=\"1\" /><path clip-path=\"url(#clip340)\" d=\"M83.7929 412.954 L102.149 412.954 L102.149 416.889 L88.0753 416.889 L88.0753 425.362 Q89.0938 425.014 90.1123 424.852 Q91.1308 424.667 92.1493 424.667 Q97.9363 424.667 101.316 427.838 Q104.696 431.01 104.696 436.426 Q104.696 442.005 101.223 445.107 Q97.7511 448.185 91.4317 448.185 Q89.2558 448.185 86.9873 447.815 Q84.7419 447.445 82.3346 446.704 L82.3346 442.005 Q84.4179 443.139 86.6401 443.695 Q88.8623 444.25 91.3391 444.25 Q95.3437 444.25 97.6817 442.144 Q100.02 440.037 100.02 436.426 Q100.02 432.815 97.6817 430.709 Q95.3437 428.602 91.3391 428.602 Q89.4641 428.602 87.5892 429.019 Q85.7373 429.436 83.7929 430.315 L83.7929 412.954 Z\" fill=\"#000000\" fill-rule=\"nonzero\" fill-opacity=\"1\" /><path clip-path=\"url(#clip340)\" d=\"M56.6171 107.896 L72.9365 107.896 L72.9365 111.832 L50.9921 111.832 L50.9921 107.896 Q53.6541 105.142 58.2375 100.512 Q62.8439 95.8594 64.0245 94.5168 Q66.2698 91.9937 67.1494 90.2576 Q68.0522 88.4984 68.0522 86.8085 Q68.0522 84.0539 66.1078 82.3178 Q64.1865 80.5817 61.0847 80.5817 Q58.8856 80.5817 56.4319 81.3456 Q54.0014 82.1095 51.2236 83.6604 L51.2236 78.9382 Q54.0477 77.804 56.5014 77.2253 Q58.955 76.6466 60.9921 76.6466 Q66.3624 76.6466 69.5568 79.3317 Q72.7513 82.0169 72.7513 86.5076 Q72.7513 88.6372 71.9411 90.5585 Q71.1541 92.4567 69.0476 95.0492 Q68.4689 95.7205 65.367 98.9381 Q62.2652 102.133 56.6171 107.896 Z\" fill=\"#000000\" fill-rule=\"nonzero\" fill-opacity=\"1\" /><path clip-path=\"url(#clip340)\" d=\"M92.7512 80.3503 Q89.1401 80.3503 87.3114 83.915 Q85.5058 87.4567 85.5058 94.5863 Q85.5058 101.693 87.3114 105.258 Q89.1401 108.799 92.7512 108.799 Q96.3854 108.799 98.1909 105.258 Q100.02 101.693 100.02 94.5863 Q100.02 87.4567 98.1909 83.915 Q96.3854 80.3503 92.7512 80.3503 M92.7512 76.6466 Q98.5613 76.6466 101.617 81.253 Q104.696 85.8363 104.696 94.5863 Q104.696 103.313 101.617 107.92 Q98.5613 112.503 92.7512 112.503 Q86.941 112.503 83.8623 107.92 Q80.8068 103.313 80.8068 94.5863 Q80.8068 85.8363 83.8623 81.253 Q86.941 76.6466 92.7512 76.6466 Z\" fill=\"#000000\" fill-rule=\"nonzero\" fill-opacity=\"1\" /><polyline clip-path=\"url(#clip342)\" style=\"stroke:#000000; stroke-linecap:round; stroke-linejoin:round; stroke-width:4; stroke-opacity:1; fill:none\" points=\"203.301,1311.44 203.301,1294.58 \"/>\n",
       "<polyline clip-path=\"url(#clip342)\" style=\"stroke:#000000; stroke-linecap:round; stroke-linejoin:round; stroke-width:4; stroke-opacity:1; fill:none\" points=\"435.173,1192.97 435.173,1144.5 \"/>\n",
       "<polyline clip-path=\"url(#clip342)\" style=\"stroke:#000000; stroke-linecap:round; stroke-linejoin:round; stroke-width:4; stroke-opacity:1; fill:none\" points=\"667.045,1045.37 667.045,1023.55 \"/>\n",
       "<polyline clip-path=\"url(#clip342)\" style=\"stroke:#000000; stroke-linecap:round; stroke-linejoin:round; stroke-width:4; stroke-opacity:1; fill:none\" points=\"898.917,948.119 898.917,852.261 \"/>\n",
       "<polyline clip-path=\"url(#clip342)\" style=\"stroke:#000000; stroke-linecap:round; stroke-linejoin:round; stroke-width:4; stroke-opacity:1; fill:none\" points=\"1130.79,804.837 1130.79,726.996 \"/>\n",
       "<polyline clip-path=\"url(#clip342)\" style=\"stroke:#000000; stroke-linecap:round; stroke-linejoin:round; stroke-width:4; stroke-opacity:1; fill:none\" points=\"1362.66,666.366 1362.66,596.922 \"/>\n",
       "<polyline clip-path=\"url(#clip342)\" style=\"stroke:#000000; stroke-linecap:round; stroke-linejoin:round; stroke-width:4; stroke-opacity:1; fill:none\" points=\"1594.53,545.597 1594.53,449.144 \"/>\n",
       "<polyline clip-path=\"url(#clip342)\" style=\"stroke:#000000; stroke-linecap:round; stroke-linejoin:round; stroke-width:4; stroke-opacity:1; fill:none\" points=\"1826.41,374.891 1826.41,351.304 \"/>\n",
       "<polyline clip-path=\"url(#clip342)\" style=\"stroke:#000000; stroke-linecap:round; stroke-linejoin:round; stroke-width:4; stroke-opacity:1; fill:none\" points=\"2058.28,293.902 2058.28,163.748 \"/>\n",
       "<polyline clip-path=\"url(#clip342)\" style=\"stroke:#000000; stroke-linecap:round; stroke-linejoin:round; stroke-width:4; stroke-opacity:1; fill:none\" points=\"2290.15,101.127 2290.15,87.9763 \"/>\n",
       "<line clip-path=\"url(#clip342)\" x1=\"219.301\" y1=\"1311.44\" x2=\"187.301\" y2=\"1311.44\" style=\"stroke:#000000; stroke-width:4; stroke-opacity:1\"/>\n",
       "<line clip-path=\"url(#clip342)\" x1=\"219.301\" y1=\"1294.58\" x2=\"187.301\" y2=\"1294.58\" style=\"stroke:#000000; stroke-width:4; stroke-opacity:1\"/>\n",
       "<line clip-path=\"url(#clip342)\" x1=\"451.173\" y1=\"1192.97\" x2=\"419.173\" y2=\"1192.97\" style=\"stroke:#000000; stroke-width:4; stroke-opacity:1\"/>\n",
       "<line clip-path=\"url(#clip342)\" x1=\"451.173\" y1=\"1144.5\" x2=\"419.173\" y2=\"1144.5\" style=\"stroke:#000000; stroke-width:4; stroke-opacity:1\"/>\n",
       "<line clip-path=\"url(#clip342)\" x1=\"683.045\" y1=\"1045.37\" x2=\"651.045\" y2=\"1045.37\" style=\"stroke:#000000; stroke-width:4; stroke-opacity:1\"/>\n",
       "<line clip-path=\"url(#clip342)\" x1=\"683.045\" y1=\"1023.55\" x2=\"651.045\" y2=\"1023.55\" style=\"stroke:#000000; stroke-width:4; stroke-opacity:1\"/>\n",
       "<line clip-path=\"url(#clip342)\" x1=\"914.917\" y1=\"948.119\" x2=\"882.917\" y2=\"948.119\" style=\"stroke:#000000; stroke-width:4; stroke-opacity:1\"/>\n",
       "<line clip-path=\"url(#clip342)\" x1=\"914.917\" y1=\"852.261\" x2=\"882.917\" y2=\"852.261\" style=\"stroke:#000000; stroke-width:4; stroke-opacity:1\"/>\n",
       "<line clip-path=\"url(#clip342)\" x1=\"1146.79\" y1=\"804.837\" x2=\"1114.79\" y2=\"804.837\" style=\"stroke:#000000; stroke-width:4; stroke-opacity:1\"/>\n",
       "<line clip-path=\"url(#clip342)\" x1=\"1146.79\" y1=\"726.996\" x2=\"1114.79\" y2=\"726.996\" style=\"stroke:#000000; stroke-width:4; stroke-opacity:1\"/>\n",
       "<line clip-path=\"url(#clip342)\" x1=\"1378.66\" y1=\"666.366\" x2=\"1346.66\" y2=\"666.366\" style=\"stroke:#000000; stroke-width:4; stroke-opacity:1\"/>\n",
       "<line clip-path=\"url(#clip342)\" x1=\"1378.66\" y1=\"596.922\" x2=\"1346.66\" y2=\"596.922\" style=\"stroke:#000000; stroke-width:4; stroke-opacity:1\"/>\n",
       "<line clip-path=\"url(#clip342)\" x1=\"1610.53\" y1=\"545.597\" x2=\"1578.53\" y2=\"545.597\" style=\"stroke:#000000; stroke-width:4; stroke-opacity:1\"/>\n",
       "<line clip-path=\"url(#clip342)\" x1=\"1610.53\" y1=\"449.144\" x2=\"1578.53\" y2=\"449.144\" style=\"stroke:#000000; stroke-width:4; stroke-opacity:1\"/>\n",
       "<line clip-path=\"url(#clip342)\" x1=\"1842.41\" y1=\"374.891\" x2=\"1810.41\" y2=\"374.891\" style=\"stroke:#000000; stroke-width:4; stroke-opacity:1\"/>\n",
       "<line clip-path=\"url(#clip342)\" x1=\"1842.41\" y1=\"351.304\" x2=\"1810.41\" y2=\"351.304\" style=\"stroke:#000000; stroke-width:4; stroke-opacity:1\"/>\n",
       "<line clip-path=\"url(#clip342)\" x1=\"2074.28\" y1=\"293.902\" x2=\"2042.28\" y2=\"293.902\" style=\"stroke:#000000; stroke-width:4; stroke-opacity:1\"/>\n",
       "<line clip-path=\"url(#clip342)\" x1=\"2074.28\" y1=\"163.748\" x2=\"2042.28\" y2=\"163.748\" style=\"stroke:#000000; stroke-width:4; stroke-opacity:1\"/>\n",
       "<line clip-path=\"url(#clip342)\" x1=\"2306.15\" y1=\"101.127\" x2=\"2274.15\" y2=\"101.127\" style=\"stroke:#000000; stroke-width:4; stroke-opacity:1\"/>\n",
       "<line clip-path=\"url(#clip342)\" x1=\"2306.15\" y1=\"87.9763\" x2=\"2274.15\" y2=\"87.9763\" style=\"stroke:#000000; stroke-width:4; stroke-opacity:1\"/>\n",
       "<circle clip-path=\"url(#clip342)\" cx=\"203.301\" cy=\"1303.01\" r=\"14.4\" fill=\"#ff0000\" fill-rule=\"evenodd\" fill-opacity=\"1\" stroke=\"#000000\" stroke-opacity=\"1\" stroke-width=\"3.2\"/>\n",
       "<circle clip-path=\"url(#clip342)\" cx=\"435.173\" cy=\"1168.74\" r=\"14.4\" fill=\"#ff0000\" fill-rule=\"evenodd\" fill-opacity=\"1\" stroke=\"#000000\" stroke-opacity=\"1\" stroke-width=\"3.2\"/>\n",
       "<circle clip-path=\"url(#clip342)\" cx=\"667.045\" cy=\"1034.46\" r=\"14.4\" fill=\"#ff0000\" fill-rule=\"evenodd\" fill-opacity=\"1\" stroke=\"#000000\" stroke-opacity=\"1\" stroke-width=\"3.2\"/>\n",
       "<circle clip-path=\"url(#clip342)\" cx=\"898.917\" cy=\"900.19\" r=\"14.4\" fill=\"#ff0000\" fill-rule=\"evenodd\" fill-opacity=\"1\" stroke=\"#000000\" stroke-opacity=\"1\" stroke-width=\"3.2\"/>\n",
       "<circle clip-path=\"url(#clip342)\" cx=\"1130.79\" cy=\"765.917\" r=\"14.4\" fill=\"#ff0000\" fill-rule=\"evenodd\" fill-opacity=\"1\" stroke=\"#000000\" stroke-opacity=\"1\" stroke-width=\"3.2\"/>\n",
       "<circle clip-path=\"url(#clip342)\" cx=\"1362.66\" cy=\"631.644\" r=\"14.4\" fill=\"#ff0000\" fill-rule=\"evenodd\" fill-opacity=\"1\" stroke=\"#000000\" stroke-opacity=\"1\" stroke-width=\"3.2\"/>\n",
       "<circle clip-path=\"url(#clip342)\" cx=\"1594.53\" cy=\"497.371\" r=\"14.4\" fill=\"#ff0000\" fill-rule=\"evenodd\" fill-opacity=\"1\" stroke=\"#000000\" stroke-opacity=\"1\" stroke-width=\"3.2\"/>\n",
       "<circle clip-path=\"url(#clip342)\" cx=\"1826.41\" cy=\"363.098\" r=\"14.4\" fill=\"#ff0000\" fill-rule=\"evenodd\" fill-opacity=\"1\" stroke=\"#000000\" stroke-opacity=\"1\" stroke-width=\"3.2\"/>\n",
       "<circle clip-path=\"url(#clip342)\" cx=\"2058.28\" cy=\"228.825\" r=\"14.4\" fill=\"#ff0000\" fill-rule=\"evenodd\" fill-opacity=\"1\" stroke=\"#000000\" stroke-opacity=\"1\" stroke-width=\"3.2\"/>\n",
       "<circle clip-path=\"url(#clip342)\" cx=\"2290.15\" cy=\"94.5516\" r=\"14.4\" fill=\"#ff0000\" fill-rule=\"evenodd\" fill-opacity=\"1\" stroke=\"#000000\" stroke-opacity=\"1\" stroke-width=\"3.2\"/>\n",
       "<polyline clip-path=\"url(#clip342)\" style=\"stroke:#000000; stroke-linecap:round; stroke-linejoin:round; stroke-width:4; stroke-opacity:1; fill:none\" points=\"203.301,1445.72 203.301,1428.85 \"/>\n",
       "<polyline clip-path=\"url(#clip342)\" style=\"stroke:#000000; stroke-linecap:round; stroke-linejoin:round; stroke-width:4; stroke-opacity:1; fill:none\" points=\"435.173,1414.99 435.173,1366.51 \"/>\n",
       "<polyline clip-path=\"url(#clip342)\" style=\"stroke:#000000; stroke-linecap:round; stroke-linejoin:round; stroke-width:4; stroke-opacity:1; fill:none\" points=\"667.045,1374.44 667.045,1352.61 \"/>\n",
       "<polyline clip-path=\"url(#clip342)\" style=\"stroke:#000000; stroke-linecap:round; stroke-linejoin:round; stroke-width:4; stroke-opacity:1; fill:none\" points=\"898.917,1392.14 898.917,1296.28 \"/>\n",
       "<polyline clip-path=\"url(#clip342)\" style=\"stroke:#000000; stroke-linecap:round; stroke-linejoin:round; stroke-width:4; stroke-opacity:1; fill:none\" points=\"1130.79,1368.15 1130.79,1290.31 \"/>\n",
       "<polyline clip-path=\"url(#clip342)\" style=\"stroke:#000000; stroke-linecap:round; stroke-linejoin:round; stroke-width:4; stroke-opacity:1; fill:none\" points=\"1362.66,1351.71 1362.66,1282.27 \"/>\n",
       "<polyline clip-path=\"url(#clip342)\" style=\"stroke:#000000; stroke-linecap:round; stroke-linejoin:round; stroke-width:4; stroke-opacity:1; fill:none\" points=\"1594.53,1354.87 1594.53,1258.41 \"/>\n",
       "<polyline clip-path=\"url(#clip342)\" style=\"stroke:#000000; stroke-linecap:round; stroke-linejoin:round; stroke-width:4; stroke-opacity:1; fill:none\" points=\"1826.41,1309.47 1826.41,1285.88 \"/>\n",
       "<polyline clip-path=\"url(#clip342)\" style=\"stroke:#000000; stroke-linecap:round; stroke-linejoin:round; stroke-width:4; stroke-opacity:1; fill:none\" points=\"2058.28,1354.84 2058.28,1224.69 \"/>\n",
       "<polyline clip-path=\"url(#clip342)\" style=\"stroke:#000000; stroke-linecap:round; stroke-linejoin:round; stroke-width:4; stroke-opacity:1; fill:none\" points=\"2290.15,1289.27 2290.15,1276.12 \"/>\n",
       "<line clip-path=\"url(#clip342)\" x1=\"219.301\" y1=\"1445.72\" x2=\"187.301\" y2=\"1445.72\" style=\"stroke:#000000; stroke-width:4; stroke-opacity:1\"/>\n",
       "<line clip-path=\"url(#clip342)\" x1=\"219.301\" y1=\"1428.85\" x2=\"187.301\" y2=\"1428.85\" style=\"stroke:#000000; stroke-width:4; stroke-opacity:1\"/>\n",
       "<line clip-path=\"url(#clip342)\" x1=\"451.173\" y1=\"1414.99\" x2=\"419.173\" y2=\"1414.99\" style=\"stroke:#000000; stroke-width:4; stroke-opacity:1\"/>\n",
       "<line clip-path=\"url(#clip342)\" x1=\"451.173\" y1=\"1366.51\" x2=\"419.173\" y2=\"1366.51\" style=\"stroke:#000000; stroke-width:4; stroke-opacity:1\"/>\n",
       "<line clip-path=\"url(#clip342)\" x1=\"683.045\" y1=\"1374.44\" x2=\"651.045\" y2=\"1374.44\" style=\"stroke:#000000; stroke-width:4; stroke-opacity:1\"/>\n",
       "<line clip-path=\"url(#clip342)\" x1=\"683.045\" y1=\"1352.61\" x2=\"651.045\" y2=\"1352.61\" style=\"stroke:#000000; stroke-width:4; stroke-opacity:1\"/>\n",
       "<line clip-path=\"url(#clip342)\" x1=\"914.917\" y1=\"1392.14\" x2=\"882.917\" y2=\"1392.14\" style=\"stroke:#000000; stroke-width:4; stroke-opacity:1\"/>\n",
       "<line clip-path=\"url(#clip342)\" x1=\"914.917\" y1=\"1296.28\" x2=\"882.917\" y2=\"1296.28\" style=\"stroke:#000000; stroke-width:4; stroke-opacity:1\"/>\n",
       "<line clip-path=\"url(#clip342)\" x1=\"1146.79\" y1=\"1368.15\" x2=\"1114.79\" y2=\"1368.15\" style=\"stroke:#000000; stroke-width:4; stroke-opacity:1\"/>\n",
       "<line clip-path=\"url(#clip342)\" x1=\"1146.79\" y1=\"1290.31\" x2=\"1114.79\" y2=\"1290.31\" style=\"stroke:#000000; stroke-width:4; stroke-opacity:1\"/>\n",
       "<line clip-path=\"url(#clip342)\" x1=\"1378.66\" y1=\"1351.71\" x2=\"1346.66\" y2=\"1351.71\" style=\"stroke:#000000; stroke-width:4; stroke-opacity:1\"/>\n",
       "<line clip-path=\"url(#clip342)\" x1=\"1378.66\" y1=\"1282.27\" x2=\"1346.66\" y2=\"1282.27\" style=\"stroke:#000000; stroke-width:4; stroke-opacity:1\"/>\n",
       "<line clip-path=\"url(#clip342)\" x1=\"1610.53\" y1=\"1354.87\" x2=\"1578.53\" y2=\"1354.87\" style=\"stroke:#000000; stroke-width:4; stroke-opacity:1\"/>\n",
       "<line clip-path=\"url(#clip342)\" x1=\"1610.53\" y1=\"1258.41\" x2=\"1578.53\" y2=\"1258.41\" style=\"stroke:#000000; stroke-width:4; stroke-opacity:1\"/>\n",
       "<line clip-path=\"url(#clip342)\" x1=\"1842.41\" y1=\"1309.47\" x2=\"1810.41\" y2=\"1309.47\" style=\"stroke:#000000; stroke-width:4; stroke-opacity:1\"/>\n",
       "<line clip-path=\"url(#clip342)\" x1=\"1842.41\" y1=\"1285.88\" x2=\"1810.41\" y2=\"1285.88\" style=\"stroke:#000000; stroke-width:4; stroke-opacity:1\"/>\n",
       "<line clip-path=\"url(#clip342)\" x1=\"2074.28\" y1=\"1354.84\" x2=\"2042.28\" y2=\"1354.84\" style=\"stroke:#000000; stroke-width:4; stroke-opacity:1\"/>\n",
       "<line clip-path=\"url(#clip342)\" x1=\"2074.28\" y1=\"1224.69\" x2=\"2042.28\" y2=\"1224.69\" style=\"stroke:#000000; stroke-width:4; stroke-opacity:1\"/>\n",
       "<line clip-path=\"url(#clip342)\" x1=\"2306.15\" y1=\"1289.27\" x2=\"2274.15\" y2=\"1289.27\" style=\"stroke:#000000; stroke-width:4; stroke-opacity:1\"/>\n",
       "<line clip-path=\"url(#clip342)\" x1=\"2306.15\" y1=\"1276.12\" x2=\"2274.15\" y2=\"1276.12\" style=\"stroke:#000000; stroke-width:4; stroke-opacity:1\"/>\n",
       "<circle clip-path=\"url(#clip342)\" cx=\"203.301\" cy=\"1437.28\" r=\"14.4\" fill=\"#0000ff\" fill-rule=\"evenodd\" fill-opacity=\"1\" stroke=\"#000000\" stroke-opacity=\"1\" stroke-width=\"3.2\"/>\n",
       "<circle clip-path=\"url(#clip342)\" cx=\"435.173\" cy=\"1390.75\" r=\"14.4\" fill=\"#0000ff\" fill-rule=\"evenodd\" fill-opacity=\"1\" stroke=\"#000000\" stroke-opacity=\"1\" stroke-width=\"3.2\"/>\n",
       "<circle clip-path=\"url(#clip342)\" cx=\"667.045\" cy=\"1363.52\" r=\"14.4\" fill=\"#0000ff\" fill-rule=\"evenodd\" fill-opacity=\"1\" stroke=\"#000000\" stroke-opacity=\"1\" stroke-width=\"3.2\"/>\n",
       "<circle clip-path=\"url(#clip342)\" cx=\"898.917\" cy=\"1344.21\" r=\"14.4\" fill=\"#0000ff\" fill-rule=\"evenodd\" fill-opacity=\"1\" stroke=\"#000000\" stroke-opacity=\"1\" stroke-width=\"3.2\"/>\n",
       "<circle clip-path=\"url(#clip342)\" cx=\"1130.79\" cy=\"1329.23\" r=\"14.4\" fill=\"#0000ff\" fill-rule=\"evenodd\" fill-opacity=\"1\" stroke=\"#000000\" stroke-opacity=\"1\" stroke-width=\"3.2\"/>\n",
       "<circle clip-path=\"url(#clip342)\" cx=\"1362.66\" cy=\"1316.99\" r=\"14.4\" fill=\"#0000ff\" fill-rule=\"evenodd\" fill-opacity=\"1\" stroke=\"#000000\" stroke-opacity=\"1\" stroke-width=\"3.2\"/>\n",
       "<circle clip-path=\"url(#clip342)\" cx=\"1594.53\" cy=\"1306.64\" r=\"14.4\" fill=\"#0000ff\" fill-rule=\"evenodd\" fill-opacity=\"1\" stroke=\"#000000\" stroke-opacity=\"1\" stroke-width=\"3.2\"/>\n",
       "<circle clip-path=\"url(#clip342)\" cx=\"1826.41\" cy=\"1297.68\" r=\"14.4\" fill=\"#0000ff\" fill-rule=\"evenodd\" fill-opacity=\"1\" stroke=\"#000000\" stroke-opacity=\"1\" stroke-width=\"3.2\"/>\n",
       "<circle clip-path=\"url(#clip342)\" cx=\"2058.28\" cy=\"1289.77\" r=\"14.4\" fill=\"#0000ff\" fill-rule=\"evenodd\" fill-opacity=\"1\" stroke=\"#000000\" stroke-opacity=\"1\" stroke-width=\"3.2\"/>\n",
       "<circle clip-path=\"url(#clip342)\" cx=\"2290.15\" cy=\"1282.69\" r=\"14.4\" fill=\"#0000ff\" fill-rule=\"evenodd\" fill-opacity=\"1\" stroke=\"#000000\" stroke-opacity=\"1\" stroke-width=\"3.2\"/>\n",
       "<path clip-path=\"url(#clip340)\" d=\"M214.431 250.738 L488.067 250.738 L488.067 95.2176 L214.431 95.2176  Z\" fill=\"#ffffff\" fill-rule=\"evenodd\" fill-opacity=\"1\"/>\n",
       "<polyline clip-path=\"url(#clip340)\" style=\"stroke:#000000; stroke-linecap:round; stroke-linejoin:round; stroke-width:4; stroke-opacity:1; fill:none\" points=\"214.431,250.738 488.067,250.738 488.067,95.2176 214.431,95.2176 214.431,250.738 \"/>\n",
       "<circle clip-path=\"url(#clip340)\" cx=\"312.745\" cy=\"147.058\" r=\"20.48\" fill=\"#ff0000\" fill-rule=\"evenodd\" fill-opacity=\"1\" stroke=\"#000000\" stroke-opacity=\"1\" stroke-width=\"4.55111\"/>\n",
       "<path clip-path=\"url(#clip340)\" d=\"M424.901 166.745 Q423.095 171.375 421.382 172.787 Q419.67 174.199 416.799 174.199 L413.396 174.199 L413.396 170.634 L415.896 170.634 Q417.656 170.634 418.628 169.8 Q419.6 168.967 420.781 165.865 L421.545 163.921 L411.058 138.412 L415.572 138.412 L423.674 158.689 L431.776 138.412 L436.29 138.412 L424.901 166.745 Z\" fill=\"#000000\" fill-rule=\"nonzero\" fill-opacity=\"1\" /><path clip-path=\"url(#clip340)\" d=\"M443.581 160.402 L451.22 160.402 L451.22 134.037 L442.91 135.703 L442.91 131.444 L451.174 129.778 L455.85 129.778 L455.85 160.402 L463.489 160.402 L463.489 164.338 L443.581 164.338 L443.581 160.402 Z\" fill=\"#000000\" fill-rule=\"nonzero\" fill-opacity=\"1\" /><circle clip-path=\"url(#clip340)\" cx=\"312.745\" cy=\"198.898\" r=\"20.48\" fill=\"#0000ff\" fill-rule=\"evenodd\" fill-opacity=\"1\" stroke=\"#000000\" stroke-opacity=\"1\" stroke-width=\"4.55111\"/>\n",
       "<path clip-path=\"url(#clip340)\" d=\"M424.901 218.585 Q423.095 223.215 421.382 224.627 Q419.67 226.039 416.799 226.039 L413.396 226.039 L413.396 222.474 L415.896 222.474 Q417.656 222.474 418.628 221.64 Q419.6 220.807 420.781 217.705 L421.545 215.761 L411.058 190.252 L415.572 190.252 L423.674 210.529 L431.776 190.252 L436.29 190.252 L424.901 218.585 Z\" fill=\"#000000\" fill-rule=\"nonzero\" fill-opacity=\"1\" /><path clip-path=\"url(#clip340)\" d=\"M446.799 212.242 L463.118 212.242 L463.118 216.178 L441.174 216.178 L441.174 212.242 Q443.836 209.488 448.419 204.858 Q453.026 200.205 454.206 198.863 Q456.452 196.34 457.331 194.604 Q458.234 192.844 458.234 191.155 Q458.234 188.4 456.29 186.664 Q454.368 184.928 451.267 184.928 Q449.068 184.928 446.614 185.692 Q444.183 186.455 441.406 188.006 L441.406 183.284 Q444.23 182.15 446.683 181.571 Q449.137 180.993 451.174 180.993 Q456.544 180.993 459.739 183.678 Q462.933 186.363 462.933 190.854 Q462.933 192.983 462.123 194.905 Q461.336 196.803 459.23 199.395 Q458.651 200.067 455.549 203.284 Q452.447 206.479 446.799 212.242 Z\" fill=\"#000000\" fill-rule=\"nonzero\" fill-opacity=\"1\" /></svg>\n"
      ],
      "text/html": [
       "<?xml version=\"1.0\" encoding=\"utf-8\"?>\n",
       "<svg xmlns=\"http://www.w3.org/2000/svg\" xmlns:xlink=\"http://www.w3.org/1999/xlink\" width=\"600\" height=\"400\" viewBox=\"0 0 2400 1600\">\n",
       "<defs>\n",
       "  <clipPath id=\"clip390\">\n",
       "    <rect x=\"0\" y=\"0\" width=\"2400\" height=\"1600\"/>\n",
       "  </clipPath>\n",
       "</defs>\n",
       "<path clip-path=\"url(#clip390)\" d=\"M0 1600 L2400 1600 L2400 0 L0 0  Z\" fill=\"#ffffff\" fill-rule=\"evenodd\" fill-opacity=\"1\"/>\n",
       "<defs>\n",
       "  <clipPath id=\"clip391\">\n",
       "    <rect x=\"480\" y=\"0\" width=\"1681\" height=\"1600\"/>\n",
       "  </clipPath>\n",
       "</defs>\n",
       "<path clip-path=\"url(#clip390)\" d=\"M140.696 1486.45 L2352.76 1486.45 L2352.76 47.2441 L140.696 47.2441  Z\" fill=\"#ffffff\" fill-rule=\"evenodd\" fill-opacity=\"1\"/>\n",
       "<defs>\n",
       "  <clipPath id=\"clip392\">\n",
       "    <rect x=\"140\" y=\"47\" width=\"2213\" height=\"1440\"/>\n",
       "  </clipPath>\n",
       "</defs>\n",
       "<polyline clip-path=\"url(#clip392)\" style=\"stroke:#000000; stroke-linecap:round; stroke-linejoin:round; stroke-width:2; stroke-opacity:0.1; fill:none\" points=\"435.173,1486.45 435.173,47.2441 \"/>\n",
       "<polyline clip-path=\"url(#clip392)\" style=\"stroke:#000000; stroke-linecap:round; stroke-linejoin:round; stroke-width:2; stroke-opacity:0.1; fill:none\" points=\"898.917,1486.45 898.917,47.2441 \"/>\n",
       "<polyline clip-path=\"url(#clip392)\" style=\"stroke:#000000; stroke-linecap:round; stroke-linejoin:round; stroke-width:2; stroke-opacity:0.1; fill:none\" points=\"1362.66,1486.45 1362.66,47.2441 \"/>\n",
       "<polyline clip-path=\"url(#clip392)\" style=\"stroke:#000000; stroke-linecap:round; stroke-linejoin:round; stroke-width:2; stroke-opacity:0.1; fill:none\" points=\"1826.41,1486.45 1826.41,47.2441 \"/>\n",
       "<polyline clip-path=\"url(#clip392)\" style=\"stroke:#000000; stroke-linecap:round; stroke-linejoin:round; stroke-width:2; stroke-opacity:0.1; fill:none\" points=\"2290.15,1486.45 2290.15,47.2441 \"/>\n",
       "<polyline clip-path=\"url(#clip392)\" style=\"stroke:#000000; stroke-linecap:round; stroke-linejoin:round; stroke-width:2; stroke-opacity:0.1; fill:none\" points=\"140.696,1437.28 2352.76,1437.28 \"/>\n",
       "<polyline clip-path=\"url(#clip392)\" style=\"stroke:#000000; stroke-linecap:round; stroke-linejoin:round; stroke-width:2; stroke-opacity:0.1; fill:none\" points=\"140.696,1101.6 2352.76,1101.6 \"/>\n",
       "<polyline clip-path=\"url(#clip392)\" style=\"stroke:#000000; stroke-linecap:round; stroke-linejoin:round; stroke-width:2; stroke-opacity:0.1; fill:none\" points=\"140.696,765.917 2352.76,765.917 \"/>\n",
       "<polyline clip-path=\"url(#clip392)\" style=\"stroke:#000000; stroke-linecap:round; stroke-linejoin:round; stroke-width:2; stroke-opacity:0.1; fill:none\" points=\"140.696,430.234 2352.76,430.234 \"/>\n",
       "<polyline clip-path=\"url(#clip392)\" style=\"stroke:#000000; stroke-linecap:round; stroke-linejoin:round; stroke-width:2; stroke-opacity:0.1; fill:none\" points=\"140.696,94.5516 2352.76,94.5516 \"/>\n",
       "<polyline clip-path=\"url(#clip390)\" style=\"stroke:#000000; stroke-linecap:round; stroke-linejoin:round; stroke-width:4; stroke-opacity:1; fill:none\" points=\"140.696,1486.45 2352.76,1486.45 \"/>\n",
       "<polyline clip-path=\"url(#clip390)\" style=\"stroke:#000000; stroke-linecap:round; stroke-linejoin:round; stroke-width:4; stroke-opacity:1; fill:none\" points=\"435.173,1486.45 435.173,1467.55 \"/>\n",
       "<polyline clip-path=\"url(#clip390)\" style=\"stroke:#000000; stroke-linecap:round; stroke-linejoin:round; stroke-width:4; stroke-opacity:1; fill:none\" points=\"898.917,1486.45 898.917,1467.55 \"/>\n",
       "<polyline clip-path=\"url(#clip390)\" style=\"stroke:#000000; stroke-linecap:round; stroke-linejoin:round; stroke-width:4; stroke-opacity:1; fill:none\" points=\"1362.66,1486.45 1362.66,1467.55 \"/>\n",
       "<polyline clip-path=\"url(#clip390)\" style=\"stroke:#000000; stroke-linecap:round; stroke-linejoin:round; stroke-width:4; stroke-opacity:1; fill:none\" points=\"1826.41,1486.45 1826.41,1467.55 \"/>\n",
       "<polyline clip-path=\"url(#clip390)\" style=\"stroke:#000000; stroke-linecap:round; stroke-linejoin:round; stroke-width:4; stroke-opacity:1; fill:none\" points=\"2290.15,1486.45 2290.15,1467.55 \"/>\n",
       "<path clip-path=\"url(#clip390)\" d=\"M429.826 1544.91 L446.145 1544.91 L446.145 1548.85 L424.201 1548.85 L424.201 1544.91 Q426.863 1542.16 431.446 1537.53 Q436.053 1532.88 437.233 1531.53 Q439.479 1529.01 440.358 1527.27 Q441.261 1525.51 441.261 1523.82 Q441.261 1521.07 439.317 1519.33 Q437.395 1517.6 434.294 1517.6 Q432.094 1517.6 429.641 1518.36 Q427.21 1519.13 424.432 1520.68 L424.432 1515.95 Q427.257 1514.82 429.71 1514.24 Q432.164 1513.66 434.201 1513.66 Q439.571 1513.66 442.766 1516.35 Q445.96 1519.03 445.96 1523.52 Q445.96 1525.65 445.15 1527.57 Q444.363 1529.47 442.256 1532.07 Q441.678 1532.74 438.576 1535.95 Q435.474 1539.15 429.826 1544.91 Z\" fill=\"#000000\" fill-rule=\"nonzero\" fill-opacity=\"1\" /><path clip-path=\"url(#clip390)\" d=\"M901.927 1518.36 L890.121 1536.81 L901.927 1536.81 L901.927 1518.36 M900.7 1514.29 L906.579 1514.29 L906.579 1536.81 L911.51 1536.81 L911.51 1540.7 L906.579 1540.7 L906.579 1548.85 L901.927 1548.85 L901.927 1540.7 L886.325 1540.7 L886.325 1536.19 L900.7 1514.29 Z\" fill=\"#000000\" fill-rule=\"nonzero\" fill-opacity=\"1\" /><path clip-path=\"url(#clip390)\" d=\"M1363.07 1529.7 Q1359.92 1529.7 1358.07 1531.86 Q1356.24 1534.01 1356.24 1537.76 Q1356.24 1541.49 1358.07 1543.66 Q1359.92 1545.82 1363.07 1545.82 Q1366.22 1545.82 1368.04 1543.66 Q1369.9 1541.49 1369.9 1537.76 Q1369.9 1534.01 1368.04 1531.86 Q1366.22 1529.7 1363.07 1529.7 M1372.35 1515.05 L1372.35 1519.31 Q1370.59 1518.48 1368.78 1518.04 Q1367 1517.6 1365.24 1517.6 Q1360.61 1517.6 1358.16 1520.72 Q1355.73 1523.85 1355.38 1530.17 Q1356.75 1528.15 1358.81 1527.09 Q1360.87 1526 1363.34 1526 Q1368.55 1526 1371.56 1529.17 Q1374.59 1532.32 1374.59 1537.76 Q1374.59 1543.08 1371.45 1546.3 Q1368.3 1549.52 1363.07 1549.52 Q1357.07 1549.52 1353.9 1544.94 Q1350.73 1540.33 1350.73 1531.6 Q1350.73 1523.41 1354.62 1518.55 Q1358.51 1513.66 1365.06 1513.66 Q1366.82 1513.66 1368.6 1514.01 Q1370.4 1514.36 1372.35 1515.05 Z\" fill=\"#000000\" fill-rule=\"nonzero\" fill-opacity=\"1\" /><path clip-path=\"url(#clip390)\" d=\"M1826.41 1532.44 Q1823.07 1532.44 1821.15 1534.22 Q1819.25 1536 1819.25 1539.13 Q1819.25 1542.25 1821.15 1544.03 Q1823.07 1545.82 1826.41 1545.82 Q1829.74 1545.82 1831.66 1544.03 Q1833.58 1542.23 1833.58 1539.13 Q1833.58 1536 1831.66 1534.22 Q1829.76 1532.44 1826.41 1532.44 M1821.73 1530.45 Q1818.72 1529.7 1817.03 1527.64 Q1815.36 1525.58 1815.36 1522.62 Q1815.36 1518.48 1818.3 1516.07 Q1821.27 1513.66 1826.41 1513.66 Q1831.57 1513.66 1834.51 1516.07 Q1837.45 1518.48 1837.45 1522.62 Q1837.45 1525.58 1835.76 1527.64 Q1834.09 1529.7 1831.11 1530.45 Q1834.48 1531.23 1836.36 1533.52 Q1838.26 1535.82 1838.26 1539.13 Q1838.26 1544.15 1835.18 1546.83 Q1832.12 1549.52 1826.41 1549.52 Q1820.69 1549.52 1817.61 1546.83 Q1814.55 1544.15 1814.55 1539.13 Q1814.55 1535.82 1816.45 1533.52 Q1818.35 1531.23 1821.73 1530.45 M1820.02 1523.06 Q1820.02 1525.75 1821.68 1527.25 Q1823.37 1528.76 1826.41 1528.76 Q1829.42 1528.76 1831.11 1527.25 Q1832.82 1525.75 1832.82 1523.06 Q1832.82 1520.38 1831.11 1518.87 Q1829.42 1517.37 1826.41 1517.37 Q1823.37 1517.37 1821.68 1518.87 Q1820.02 1520.38 1820.02 1523.06 Z\" fill=\"#000000\" fill-rule=\"nonzero\" fill-opacity=\"1\" /><path clip-path=\"url(#clip390)\" d=\"M2264.84 1544.91 L2272.48 1544.91 L2272.48 1518.55 L2264.17 1520.21 L2264.17 1515.95 L2272.43 1514.29 L2277.11 1514.29 L2277.11 1544.91 L2284.75 1544.91 L2284.75 1548.85 L2264.84 1548.85 L2264.84 1544.91 Z\" fill=\"#000000\" fill-rule=\"nonzero\" fill-opacity=\"1\" /><path clip-path=\"url(#clip390)\" d=\"M2304.19 1517.37 Q2300.58 1517.37 2298.75 1520.93 Q2296.94 1524.47 2296.94 1531.6 Q2296.94 1538.71 2298.75 1542.27 Q2300.58 1545.82 2304.19 1545.82 Q2307.82 1545.82 2309.63 1542.27 Q2311.46 1538.71 2311.46 1531.6 Q2311.46 1524.47 2309.63 1520.93 Q2307.82 1517.37 2304.19 1517.37 M2304.19 1513.66 Q2310 1513.66 2313.06 1518.27 Q2316.13 1522.85 2316.13 1531.6 Q2316.13 1540.33 2313.06 1544.94 Q2310 1549.52 2304.19 1549.52 Q2298.38 1549.52 2295.3 1544.94 Q2292.25 1540.33 2292.25 1531.6 Q2292.25 1522.85 2295.3 1518.27 Q2298.38 1513.66 2304.19 1513.66 Z\" fill=\"#000000\" fill-rule=\"nonzero\" fill-opacity=\"1\" /><polyline clip-path=\"url(#clip390)\" style=\"stroke:#000000; stroke-linecap:round; stroke-linejoin:round; stroke-width:4; stroke-opacity:1; fill:none\" points=\"140.696,1486.45 140.696,47.2441 \"/>\n",
       "<polyline clip-path=\"url(#clip390)\" style=\"stroke:#000000; stroke-linecap:round; stroke-linejoin:round; stroke-width:4; stroke-opacity:1; fill:none\" points=\"140.696,1437.28 159.593,1437.28 \"/>\n",
       "<polyline clip-path=\"url(#clip390)\" style=\"stroke:#000000; stroke-linecap:round; stroke-linejoin:round; stroke-width:4; stroke-opacity:1; fill:none\" points=\"140.696,1101.6 159.593,1101.6 \"/>\n",
       "<polyline clip-path=\"url(#clip390)\" style=\"stroke:#000000; stroke-linecap:round; stroke-linejoin:round; stroke-width:4; stroke-opacity:1; fill:none\" points=\"140.696,765.917 159.593,765.917 \"/>\n",
       "<polyline clip-path=\"url(#clip390)\" style=\"stroke:#000000; stroke-linecap:round; stroke-linejoin:round; stroke-width:4; stroke-opacity:1; fill:none\" points=\"140.696,430.234 159.593,430.234 \"/>\n",
       "<polyline clip-path=\"url(#clip390)\" style=\"stroke:#000000; stroke-linecap:round; stroke-linejoin:round; stroke-width:4; stroke-opacity:1; fill:none\" points=\"140.696,94.5516 159.593,94.5516 \"/>\n",
       "<path clip-path=\"url(#clip390)\" d=\"M92.7512 1423.08 Q89.1401 1423.08 87.3114 1426.65 Q85.5058 1430.19 85.5058 1437.32 Q85.5058 1444.42 87.3114 1447.99 Q89.1401 1451.53 92.7512 1451.53 Q96.3854 1451.53 98.1909 1447.99 Q100.02 1444.42 100.02 1437.32 Q100.02 1430.19 98.1909 1426.65 Q96.3854 1423.08 92.7512 1423.08 M92.7512 1419.38 Q98.5613 1419.38 101.617 1423.98 Q104.696 1428.57 104.696 1437.32 Q104.696 1446.04 101.617 1450.65 Q98.5613 1455.23 92.7512 1455.23 Q86.941 1455.23 83.8623 1450.65 Q80.8068 1446.04 80.8068 1437.32 Q80.8068 1428.57 83.8623 1423.98 Q86.941 1419.38 92.7512 1419.38 Z\" fill=\"#000000\" fill-rule=\"nonzero\" fill-opacity=\"1\" /><path clip-path=\"url(#clip390)\" d=\"M83.7929 1084.32 L102.149 1084.32 L102.149 1088.25 L88.0753 1088.25 L88.0753 1096.73 Q89.0938 1096.38 90.1123 1096.22 Q91.1308 1096.03 92.1493 1096.03 Q97.9363 1096.03 101.316 1099.2 Q104.696 1102.37 104.696 1107.79 Q104.696 1113.37 101.223 1116.47 Q97.7511 1119.55 91.4317 1119.55 Q89.2558 1119.55 86.9873 1119.18 Q84.7419 1118.81 82.3346 1118.07 L82.3346 1113.37 Q84.4179 1114.5 86.6401 1115.06 Q88.8623 1115.62 91.3391 1115.62 Q95.3437 1115.62 97.6817 1113.51 Q100.02 1111.4 100.02 1107.79 Q100.02 1104.18 97.6817 1102.07 Q95.3437 1099.97 91.3391 1099.97 Q89.4641 1099.97 87.5892 1100.38 Q85.7373 1100.8 83.7929 1101.68 L83.7929 1084.32 Z\" fill=\"#000000\" fill-rule=\"nonzero\" fill-opacity=\"1\" /><path clip-path=\"url(#clip390)\" d=\"M53.3995 779.262 L61.0384 779.262 L61.0384 752.896 L52.7282 754.563 L52.7282 750.303 L60.9921 748.637 L65.668 748.637 L65.668 779.262 L73.3068 779.262 L73.3068 783.197 L53.3995 783.197 L53.3995 779.262 Z\" fill=\"#000000\" fill-rule=\"nonzero\" fill-opacity=\"1\" /><path clip-path=\"url(#clip390)\" d=\"M92.7512 751.715 Q89.1401 751.715 87.3114 755.28 Q85.5058 758.822 85.5058 765.951 Q85.5058 773.058 87.3114 776.623 Q89.1401 780.164 92.7512 780.164 Q96.3854 780.164 98.1909 776.623 Q100.02 773.058 100.02 765.951 Q100.02 758.822 98.1909 755.28 Q96.3854 751.715 92.7512 751.715 M92.7512 748.012 Q98.5613 748.012 101.617 752.618 Q104.696 757.202 104.696 765.951 Q104.696 774.678 101.617 779.285 Q98.5613 783.868 92.7512 783.868 Q86.941 783.868 83.8623 779.285 Q80.8068 774.678 80.8068 765.951 Q80.8068 757.202 83.8623 752.618 Q86.941 748.012 92.7512 748.012 Z\" fill=\"#000000\" fill-rule=\"nonzero\" fill-opacity=\"1\" /><path clip-path=\"url(#clip390)\" d=\"M54.3949 443.579 L62.0337 443.579 L62.0337 417.213 L53.7236 418.88 L53.7236 414.621 L61.9874 412.954 L66.6633 412.954 L66.6633 443.579 L74.3022 443.579 L74.3022 447.514 L54.3949 447.514 L54.3949 443.579 Z\" fill=\"#000000\" fill-rule=\"nonzero\" fill-opacity=\"1\" /><path clip-path=\"url(#clip390)\" d=\"M83.7929 412.954 L102.149 412.954 L102.149 416.889 L88.0753 416.889 L88.0753 425.362 Q89.0938 425.014 90.1123 424.852 Q91.1308 424.667 92.1493 424.667 Q97.9363 424.667 101.316 427.838 Q104.696 431.01 104.696 436.426 Q104.696 442.005 101.223 445.107 Q97.7511 448.185 91.4317 448.185 Q89.2558 448.185 86.9873 447.815 Q84.7419 447.445 82.3346 446.704 L82.3346 442.005 Q84.4179 443.139 86.6401 443.695 Q88.8623 444.25 91.3391 444.25 Q95.3437 444.25 97.6817 442.144 Q100.02 440.037 100.02 436.426 Q100.02 432.815 97.6817 430.709 Q95.3437 428.602 91.3391 428.602 Q89.4641 428.602 87.5892 429.019 Q85.7373 429.436 83.7929 430.315 L83.7929 412.954 Z\" fill=\"#000000\" fill-rule=\"nonzero\" fill-opacity=\"1\" /><path clip-path=\"url(#clip390)\" d=\"M56.6171 107.896 L72.9365 107.896 L72.9365 111.832 L50.9921 111.832 L50.9921 107.896 Q53.6541 105.142 58.2375 100.512 Q62.8439 95.8594 64.0245 94.5168 Q66.2698 91.9937 67.1494 90.2576 Q68.0522 88.4984 68.0522 86.8085 Q68.0522 84.0539 66.1078 82.3178 Q64.1865 80.5817 61.0847 80.5817 Q58.8856 80.5817 56.4319 81.3456 Q54.0014 82.1095 51.2236 83.6604 L51.2236 78.9382 Q54.0477 77.804 56.5014 77.2253 Q58.955 76.6466 60.9921 76.6466 Q66.3624 76.6466 69.5568 79.3317 Q72.7513 82.0169 72.7513 86.5076 Q72.7513 88.6372 71.9411 90.5585 Q71.1541 92.4567 69.0476 95.0492 Q68.4689 95.7205 65.367 98.9381 Q62.2652 102.133 56.6171 107.896 Z\" fill=\"#000000\" fill-rule=\"nonzero\" fill-opacity=\"1\" /><path clip-path=\"url(#clip390)\" d=\"M92.7512 80.3503 Q89.1401 80.3503 87.3114 83.915 Q85.5058 87.4567 85.5058 94.5863 Q85.5058 101.693 87.3114 105.258 Q89.1401 108.799 92.7512 108.799 Q96.3854 108.799 98.1909 105.258 Q100.02 101.693 100.02 94.5863 Q100.02 87.4567 98.1909 83.915 Q96.3854 80.3503 92.7512 80.3503 M92.7512 76.6466 Q98.5613 76.6466 101.617 81.253 Q104.696 85.8363 104.696 94.5863 Q104.696 103.313 101.617 107.92 Q98.5613 112.503 92.7512 112.503 Q86.941 112.503 83.8623 107.92 Q80.8068 103.313 80.8068 94.5863 Q80.8068 85.8363 83.8623 81.253 Q86.941 76.6466 92.7512 76.6466 Z\" fill=\"#000000\" fill-rule=\"nonzero\" fill-opacity=\"1\" /><polyline clip-path=\"url(#clip392)\" style=\"stroke:#000000; stroke-linecap:round; stroke-linejoin:round; stroke-width:4; stroke-opacity:1; fill:none\" points=\"203.301,1311.44 203.301,1294.58 \"/>\n",
       "<polyline clip-path=\"url(#clip392)\" style=\"stroke:#000000; stroke-linecap:round; stroke-linejoin:round; stroke-width:4; stroke-opacity:1; fill:none\" points=\"435.173,1192.97 435.173,1144.5 \"/>\n",
       "<polyline clip-path=\"url(#clip392)\" style=\"stroke:#000000; stroke-linecap:round; stroke-linejoin:round; stroke-width:4; stroke-opacity:1; fill:none\" points=\"667.045,1045.37 667.045,1023.55 \"/>\n",
       "<polyline clip-path=\"url(#clip392)\" style=\"stroke:#000000; stroke-linecap:round; stroke-linejoin:round; stroke-width:4; stroke-opacity:1; fill:none\" points=\"898.917,948.119 898.917,852.261 \"/>\n",
       "<polyline clip-path=\"url(#clip392)\" style=\"stroke:#000000; stroke-linecap:round; stroke-linejoin:round; stroke-width:4; stroke-opacity:1; fill:none\" points=\"1130.79,804.837 1130.79,726.996 \"/>\n",
       "<polyline clip-path=\"url(#clip392)\" style=\"stroke:#000000; stroke-linecap:round; stroke-linejoin:round; stroke-width:4; stroke-opacity:1; fill:none\" points=\"1362.66,666.366 1362.66,596.922 \"/>\n",
       "<polyline clip-path=\"url(#clip392)\" style=\"stroke:#000000; stroke-linecap:round; stroke-linejoin:round; stroke-width:4; stroke-opacity:1; fill:none\" points=\"1594.53,545.597 1594.53,449.144 \"/>\n",
       "<polyline clip-path=\"url(#clip392)\" style=\"stroke:#000000; stroke-linecap:round; stroke-linejoin:round; stroke-width:4; stroke-opacity:1; fill:none\" points=\"1826.41,374.891 1826.41,351.304 \"/>\n",
       "<polyline clip-path=\"url(#clip392)\" style=\"stroke:#000000; stroke-linecap:round; stroke-linejoin:round; stroke-width:4; stroke-opacity:1; fill:none\" points=\"2058.28,293.902 2058.28,163.748 \"/>\n",
       "<polyline clip-path=\"url(#clip392)\" style=\"stroke:#000000; stroke-linecap:round; stroke-linejoin:round; stroke-width:4; stroke-opacity:1; fill:none\" points=\"2290.15,101.127 2290.15,87.9763 \"/>\n",
       "<line clip-path=\"url(#clip392)\" x1=\"219.301\" y1=\"1311.44\" x2=\"187.301\" y2=\"1311.44\" style=\"stroke:#000000; stroke-width:4; stroke-opacity:1\"/>\n",
       "<line clip-path=\"url(#clip392)\" x1=\"219.301\" y1=\"1294.58\" x2=\"187.301\" y2=\"1294.58\" style=\"stroke:#000000; stroke-width:4; stroke-opacity:1\"/>\n",
       "<line clip-path=\"url(#clip392)\" x1=\"451.173\" y1=\"1192.97\" x2=\"419.173\" y2=\"1192.97\" style=\"stroke:#000000; stroke-width:4; stroke-opacity:1\"/>\n",
       "<line clip-path=\"url(#clip392)\" x1=\"451.173\" y1=\"1144.5\" x2=\"419.173\" y2=\"1144.5\" style=\"stroke:#000000; stroke-width:4; stroke-opacity:1\"/>\n",
       "<line clip-path=\"url(#clip392)\" x1=\"683.045\" y1=\"1045.37\" x2=\"651.045\" y2=\"1045.37\" style=\"stroke:#000000; stroke-width:4; stroke-opacity:1\"/>\n",
       "<line clip-path=\"url(#clip392)\" x1=\"683.045\" y1=\"1023.55\" x2=\"651.045\" y2=\"1023.55\" style=\"stroke:#000000; stroke-width:4; stroke-opacity:1\"/>\n",
       "<line clip-path=\"url(#clip392)\" x1=\"914.917\" y1=\"948.119\" x2=\"882.917\" y2=\"948.119\" style=\"stroke:#000000; stroke-width:4; stroke-opacity:1\"/>\n",
       "<line clip-path=\"url(#clip392)\" x1=\"914.917\" y1=\"852.261\" x2=\"882.917\" y2=\"852.261\" style=\"stroke:#000000; stroke-width:4; stroke-opacity:1\"/>\n",
       "<line clip-path=\"url(#clip392)\" x1=\"1146.79\" y1=\"804.837\" x2=\"1114.79\" y2=\"804.837\" style=\"stroke:#000000; stroke-width:4; stroke-opacity:1\"/>\n",
       "<line clip-path=\"url(#clip392)\" x1=\"1146.79\" y1=\"726.996\" x2=\"1114.79\" y2=\"726.996\" style=\"stroke:#000000; stroke-width:4; stroke-opacity:1\"/>\n",
       "<line clip-path=\"url(#clip392)\" x1=\"1378.66\" y1=\"666.366\" x2=\"1346.66\" y2=\"666.366\" style=\"stroke:#000000; stroke-width:4; stroke-opacity:1\"/>\n",
       "<line clip-path=\"url(#clip392)\" x1=\"1378.66\" y1=\"596.922\" x2=\"1346.66\" y2=\"596.922\" style=\"stroke:#000000; stroke-width:4; stroke-opacity:1\"/>\n",
       "<line clip-path=\"url(#clip392)\" x1=\"1610.53\" y1=\"545.597\" x2=\"1578.53\" y2=\"545.597\" style=\"stroke:#000000; stroke-width:4; stroke-opacity:1\"/>\n",
       "<line clip-path=\"url(#clip392)\" x1=\"1610.53\" y1=\"449.144\" x2=\"1578.53\" y2=\"449.144\" style=\"stroke:#000000; stroke-width:4; stroke-opacity:1\"/>\n",
       "<line clip-path=\"url(#clip392)\" x1=\"1842.41\" y1=\"374.891\" x2=\"1810.41\" y2=\"374.891\" style=\"stroke:#000000; stroke-width:4; stroke-opacity:1\"/>\n",
       "<line clip-path=\"url(#clip392)\" x1=\"1842.41\" y1=\"351.304\" x2=\"1810.41\" y2=\"351.304\" style=\"stroke:#000000; stroke-width:4; stroke-opacity:1\"/>\n",
       "<line clip-path=\"url(#clip392)\" x1=\"2074.28\" y1=\"293.902\" x2=\"2042.28\" y2=\"293.902\" style=\"stroke:#000000; stroke-width:4; stroke-opacity:1\"/>\n",
       "<line clip-path=\"url(#clip392)\" x1=\"2074.28\" y1=\"163.748\" x2=\"2042.28\" y2=\"163.748\" style=\"stroke:#000000; stroke-width:4; stroke-opacity:1\"/>\n",
       "<line clip-path=\"url(#clip392)\" x1=\"2306.15\" y1=\"101.127\" x2=\"2274.15\" y2=\"101.127\" style=\"stroke:#000000; stroke-width:4; stroke-opacity:1\"/>\n",
       "<line clip-path=\"url(#clip392)\" x1=\"2306.15\" y1=\"87.9763\" x2=\"2274.15\" y2=\"87.9763\" style=\"stroke:#000000; stroke-width:4; stroke-opacity:1\"/>\n",
       "<circle clip-path=\"url(#clip392)\" cx=\"203.301\" cy=\"1303.01\" r=\"14.4\" fill=\"#ff0000\" fill-rule=\"evenodd\" fill-opacity=\"1\" stroke=\"#000000\" stroke-opacity=\"1\" stroke-width=\"3.2\"/>\n",
       "<circle clip-path=\"url(#clip392)\" cx=\"435.173\" cy=\"1168.74\" r=\"14.4\" fill=\"#ff0000\" fill-rule=\"evenodd\" fill-opacity=\"1\" stroke=\"#000000\" stroke-opacity=\"1\" stroke-width=\"3.2\"/>\n",
       "<circle clip-path=\"url(#clip392)\" cx=\"667.045\" cy=\"1034.46\" r=\"14.4\" fill=\"#ff0000\" fill-rule=\"evenodd\" fill-opacity=\"1\" stroke=\"#000000\" stroke-opacity=\"1\" stroke-width=\"3.2\"/>\n",
       "<circle clip-path=\"url(#clip392)\" cx=\"898.917\" cy=\"900.19\" r=\"14.4\" fill=\"#ff0000\" fill-rule=\"evenodd\" fill-opacity=\"1\" stroke=\"#000000\" stroke-opacity=\"1\" stroke-width=\"3.2\"/>\n",
       "<circle clip-path=\"url(#clip392)\" cx=\"1130.79\" cy=\"765.917\" r=\"14.4\" fill=\"#ff0000\" fill-rule=\"evenodd\" fill-opacity=\"1\" stroke=\"#000000\" stroke-opacity=\"1\" stroke-width=\"3.2\"/>\n",
       "<circle clip-path=\"url(#clip392)\" cx=\"1362.66\" cy=\"631.644\" r=\"14.4\" fill=\"#ff0000\" fill-rule=\"evenodd\" fill-opacity=\"1\" stroke=\"#000000\" stroke-opacity=\"1\" stroke-width=\"3.2\"/>\n",
       "<circle clip-path=\"url(#clip392)\" cx=\"1594.53\" cy=\"497.371\" r=\"14.4\" fill=\"#ff0000\" fill-rule=\"evenodd\" fill-opacity=\"1\" stroke=\"#000000\" stroke-opacity=\"1\" stroke-width=\"3.2\"/>\n",
       "<circle clip-path=\"url(#clip392)\" cx=\"1826.41\" cy=\"363.098\" r=\"14.4\" fill=\"#ff0000\" fill-rule=\"evenodd\" fill-opacity=\"1\" stroke=\"#000000\" stroke-opacity=\"1\" stroke-width=\"3.2\"/>\n",
       "<circle clip-path=\"url(#clip392)\" cx=\"2058.28\" cy=\"228.825\" r=\"14.4\" fill=\"#ff0000\" fill-rule=\"evenodd\" fill-opacity=\"1\" stroke=\"#000000\" stroke-opacity=\"1\" stroke-width=\"3.2\"/>\n",
       "<circle clip-path=\"url(#clip392)\" cx=\"2290.15\" cy=\"94.5516\" r=\"14.4\" fill=\"#ff0000\" fill-rule=\"evenodd\" fill-opacity=\"1\" stroke=\"#000000\" stroke-opacity=\"1\" stroke-width=\"3.2\"/>\n",
       "<polyline clip-path=\"url(#clip392)\" style=\"stroke:#000000; stroke-linecap:round; stroke-linejoin:round; stroke-width:4; stroke-opacity:1; fill:none\" points=\"203.301,1445.72 203.301,1428.85 \"/>\n",
       "<polyline clip-path=\"url(#clip392)\" style=\"stroke:#000000; stroke-linecap:round; stroke-linejoin:round; stroke-width:4; stroke-opacity:1; fill:none\" points=\"435.173,1414.99 435.173,1366.51 \"/>\n",
       "<polyline clip-path=\"url(#clip392)\" style=\"stroke:#000000; stroke-linecap:round; stroke-linejoin:round; stroke-width:4; stroke-opacity:1; fill:none\" points=\"667.045,1374.44 667.045,1352.61 \"/>\n",
       "<polyline clip-path=\"url(#clip392)\" style=\"stroke:#000000; stroke-linecap:round; stroke-linejoin:round; stroke-width:4; stroke-opacity:1; fill:none\" points=\"898.917,1392.14 898.917,1296.28 \"/>\n",
       "<polyline clip-path=\"url(#clip392)\" style=\"stroke:#000000; stroke-linecap:round; stroke-linejoin:round; stroke-width:4; stroke-opacity:1; fill:none\" points=\"1130.79,1368.15 1130.79,1290.31 \"/>\n",
       "<polyline clip-path=\"url(#clip392)\" style=\"stroke:#000000; stroke-linecap:round; stroke-linejoin:round; stroke-width:4; stroke-opacity:1; fill:none\" points=\"1362.66,1351.71 1362.66,1282.27 \"/>\n",
       "<polyline clip-path=\"url(#clip392)\" style=\"stroke:#000000; stroke-linecap:round; stroke-linejoin:round; stroke-width:4; stroke-opacity:1; fill:none\" points=\"1594.53,1354.87 1594.53,1258.41 \"/>\n",
       "<polyline clip-path=\"url(#clip392)\" style=\"stroke:#000000; stroke-linecap:round; stroke-linejoin:round; stroke-width:4; stroke-opacity:1; fill:none\" points=\"1826.41,1309.47 1826.41,1285.88 \"/>\n",
       "<polyline clip-path=\"url(#clip392)\" style=\"stroke:#000000; stroke-linecap:round; stroke-linejoin:round; stroke-width:4; stroke-opacity:1; fill:none\" points=\"2058.28,1354.84 2058.28,1224.69 \"/>\n",
       "<polyline clip-path=\"url(#clip392)\" style=\"stroke:#000000; stroke-linecap:round; stroke-linejoin:round; stroke-width:4; stroke-opacity:1; fill:none\" points=\"2290.15,1289.27 2290.15,1276.12 \"/>\n",
       "<line clip-path=\"url(#clip392)\" x1=\"219.301\" y1=\"1445.72\" x2=\"187.301\" y2=\"1445.72\" style=\"stroke:#000000; stroke-width:4; stroke-opacity:1\"/>\n",
       "<line clip-path=\"url(#clip392)\" x1=\"219.301\" y1=\"1428.85\" x2=\"187.301\" y2=\"1428.85\" style=\"stroke:#000000; stroke-width:4; stroke-opacity:1\"/>\n",
       "<line clip-path=\"url(#clip392)\" x1=\"451.173\" y1=\"1414.99\" x2=\"419.173\" y2=\"1414.99\" style=\"stroke:#000000; stroke-width:4; stroke-opacity:1\"/>\n",
       "<line clip-path=\"url(#clip392)\" x1=\"451.173\" y1=\"1366.51\" x2=\"419.173\" y2=\"1366.51\" style=\"stroke:#000000; stroke-width:4; stroke-opacity:1\"/>\n",
       "<line clip-path=\"url(#clip392)\" x1=\"683.045\" y1=\"1374.44\" x2=\"651.045\" y2=\"1374.44\" style=\"stroke:#000000; stroke-width:4; stroke-opacity:1\"/>\n",
       "<line clip-path=\"url(#clip392)\" x1=\"683.045\" y1=\"1352.61\" x2=\"651.045\" y2=\"1352.61\" style=\"stroke:#000000; stroke-width:4; stroke-opacity:1\"/>\n",
       "<line clip-path=\"url(#clip392)\" x1=\"914.917\" y1=\"1392.14\" x2=\"882.917\" y2=\"1392.14\" style=\"stroke:#000000; stroke-width:4; stroke-opacity:1\"/>\n",
       "<line clip-path=\"url(#clip392)\" x1=\"914.917\" y1=\"1296.28\" x2=\"882.917\" y2=\"1296.28\" style=\"stroke:#000000; stroke-width:4; stroke-opacity:1\"/>\n",
       "<line clip-path=\"url(#clip392)\" x1=\"1146.79\" y1=\"1368.15\" x2=\"1114.79\" y2=\"1368.15\" style=\"stroke:#000000; stroke-width:4; stroke-opacity:1\"/>\n",
       "<line clip-path=\"url(#clip392)\" x1=\"1146.79\" y1=\"1290.31\" x2=\"1114.79\" y2=\"1290.31\" style=\"stroke:#000000; stroke-width:4; stroke-opacity:1\"/>\n",
       "<line clip-path=\"url(#clip392)\" x1=\"1378.66\" y1=\"1351.71\" x2=\"1346.66\" y2=\"1351.71\" style=\"stroke:#000000; stroke-width:4; stroke-opacity:1\"/>\n",
       "<line clip-path=\"url(#clip392)\" x1=\"1378.66\" y1=\"1282.27\" x2=\"1346.66\" y2=\"1282.27\" style=\"stroke:#000000; stroke-width:4; stroke-opacity:1\"/>\n",
       "<line clip-path=\"url(#clip392)\" x1=\"1610.53\" y1=\"1354.87\" x2=\"1578.53\" y2=\"1354.87\" style=\"stroke:#000000; stroke-width:4; stroke-opacity:1\"/>\n",
       "<line clip-path=\"url(#clip392)\" x1=\"1610.53\" y1=\"1258.41\" x2=\"1578.53\" y2=\"1258.41\" style=\"stroke:#000000; stroke-width:4; stroke-opacity:1\"/>\n",
       "<line clip-path=\"url(#clip392)\" x1=\"1842.41\" y1=\"1309.47\" x2=\"1810.41\" y2=\"1309.47\" style=\"stroke:#000000; stroke-width:4; stroke-opacity:1\"/>\n",
       "<line clip-path=\"url(#clip392)\" x1=\"1842.41\" y1=\"1285.88\" x2=\"1810.41\" y2=\"1285.88\" style=\"stroke:#000000; stroke-width:4; stroke-opacity:1\"/>\n",
       "<line clip-path=\"url(#clip392)\" x1=\"2074.28\" y1=\"1354.84\" x2=\"2042.28\" y2=\"1354.84\" style=\"stroke:#000000; stroke-width:4; stroke-opacity:1\"/>\n",
       "<line clip-path=\"url(#clip392)\" x1=\"2074.28\" y1=\"1224.69\" x2=\"2042.28\" y2=\"1224.69\" style=\"stroke:#000000; stroke-width:4; stroke-opacity:1\"/>\n",
       "<line clip-path=\"url(#clip392)\" x1=\"2306.15\" y1=\"1289.27\" x2=\"2274.15\" y2=\"1289.27\" style=\"stroke:#000000; stroke-width:4; stroke-opacity:1\"/>\n",
       "<line clip-path=\"url(#clip392)\" x1=\"2306.15\" y1=\"1276.12\" x2=\"2274.15\" y2=\"1276.12\" style=\"stroke:#000000; stroke-width:4; stroke-opacity:1\"/>\n",
       "<circle clip-path=\"url(#clip392)\" cx=\"203.301\" cy=\"1437.28\" r=\"14.4\" fill=\"#0000ff\" fill-rule=\"evenodd\" fill-opacity=\"1\" stroke=\"#000000\" stroke-opacity=\"1\" stroke-width=\"3.2\"/>\n",
       "<circle clip-path=\"url(#clip392)\" cx=\"435.173\" cy=\"1390.75\" r=\"14.4\" fill=\"#0000ff\" fill-rule=\"evenodd\" fill-opacity=\"1\" stroke=\"#000000\" stroke-opacity=\"1\" stroke-width=\"3.2\"/>\n",
       "<circle clip-path=\"url(#clip392)\" cx=\"667.045\" cy=\"1363.52\" r=\"14.4\" fill=\"#0000ff\" fill-rule=\"evenodd\" fill-opacity=\"1\" stroke=\"#000000\" stroke-opacity=\"1\" stroke-width=\"3.2\"/>\n",
       "<circle clip-path=\"url(#clip392)\" cx=\"898.917\" cy=\"1344.21\" r=\"14.4\" fill=\"#0000ff\" fill-rule=\"evenodd\" fill-opacity=\"1\" stroke=\"#000000\" stroke-opacity=\"1\" stroke-width=\"3.2\"/>\n",
       "<circle clip-path=\"url(#clip392)\" cx=\"1130.79\" cy=\"1329.23\" r=\"14.4\" fill=\"#0000ff\" fill-rule=\"evenodd\" fill-opacity=\"1\" stroke=\"#000000\" stroke-opacity=\"1\" stroke-width=\"3.2\"/>\n",
       "<circle clip-path=\"url(#clip392)\" cx=\"1362.66\" cy=\"1316.99\" r=\"14.4\" fill=\"#0000ff\" fill-rule=\"evenodd\" fill-opacity=\"1\" stroke=\"#000000\" stroke-opacity=\"1\" stroke-width=\"3.2\"/>\n",
       "<circle clip-path=\"url(#clip392)\" cx=\"1594.53\" cy=\"1306.64\" r=\"14.4\" fill=\"#0000ff\" fill-rule=\"evenodd\" fill-opacity=\"1\" stroke=\"#000000\" stroke-opacity=\"1\" stroke-width=\"3.2\"/>\n",
       "<circle clip-path=\"url(#clip392)\" cx=\"1826.41\" cy=\"1297.68\" r=\"14.4\" fill=\"#0000ff\" fill-rule=\"evenodd\" fill-opacity=\"1\" stroke=\"#000000\" stroke-opacity=\"1\" stroke-width=\"3.2\"/>\n",
       "<circle clip-path=\"url(#clip392)\" cx=\"2058.28\" cy=\"1289.77\" r=\"14.4\" fill=\"#0000ff\" fill-rule=\"evenodd\" fill-opacity=\"1\" stroke=\"#000000\" stroke-opacity=\"1\" stroke-width=\"3.2\"/>\n",
       "<circle clip-path=\"url(#clip392)\" cx=\"2290.15\" cy=\"1282.69\" r=\"14.4\" fill=\"#0000ff\" fill-rule=\"evenodd\" fill-opacity=\"1\" stroke=\"#000000\" stroke-opacity=\"1\" stroke-width=\"3.2\"/>\n",
       "<path clip-path=\"url(#clip390)\" d=\"M214.431 250.738 L488.067 250.738 L488.067 95.2176 L214.431 95.2176  Z\" fill=\"#ffffff\" fill-rule=\"evenodd\" fill-opacity=\"1\"/>\n",
       "<polyline clip-path=\"url(#clip390)\" style=\"stroke:#000000; stroke-linecap:round; stroke-linejoin:round; stroke-width:4; stroke-opacity:1; fill:none\" points=\"214.431,250.738 488.067,250.738 488.067,95.2176 214.431,95.2176 214.431,250.738 \"/>\n",
       "<circle clip-path=\"url(#clip390)\" cx=\"312.745\" cy=\"147.058\" r=\"20.48\" fill=\"#ff0000\" fill-rule=\"evenodd\" fill-opacity=\"1\" stroke=\"#000000\" stroke-opacity=\"1\" stroke-width=\"4.55111\"/>\n",
       "<path clip-path=\"url(#clip390)\" d=\"M424.901 166.745 Q423.095 171.375 421.382 172.787 Q419.67 174.199 416.799 174.199 L413.396 174.199 L413.396 170.634 L415.896 170.634 Q417.656 170.634 418.628 169.8 Q419.6 168.967 420.781 165.865 L421.545 163.921 L411.058 138.412 L415.572 138.412 L423.674 158.689 L431.776 138.412 L436.29 138.412 L424.901 166.745 Z\" fill=\"#000000\" fill-rule=\"nonzero\" fill-opacity=\"1\" /><path clip-path=\"url(#clip390)\" d=\"M443.581 160.402 L451.22 160.402 L451.22 134.037 L442.91 135.703 L442.91 131.444 L451.174 129.778 L455.85 129.778 L455.85 160.402 L463.489 160.402 L463.489 164.338 L443.581 164.338 L443.581 160.402 Z\" fill=\"#000000\" fill-rule=\"nonzero\" fill-opacity=\"1\" /><circle clip-path=\"url(#clip390)\" cx=\"312.745\" cy=\"198.898\" r=\"20.48\" fill=\"#0000ff\" fill-rule=\"evenodd\" fill-opacity=\"1\" stroke=\"#000000\" stroke-opacity=\"1\" stroke-width=\"4.55111\"/>\n",
       "<path clip-path=\"url(#clip390)\" d=\"M424.901 218.585 Q423.095 223.215 421.382 224.627 Q419.67 226.039 416.799 226.039 L413.396 226.039 L413.396 222.474 L415.896 222.474 Q417.656 222.474 418.628 221.64 Q419.6 220.807 420.781 217.705 L421.545 215.761 L411.058 190.252 L415.572 190.252 L423.674 210.529 L431.776 190.252 L436.29 190.252 L424.901 218.585 Z\" fill=\"#000000\" fill-rule=\"nonzero\" fill-opacity=\"1\" /><path clip-path=\"url(#clip390)\" d=\"M446.799 212.242 L463.118 212.242 L463.118 216.178 L441.174 216.178 L441.174 212.242 Q443.836 209.488 448.419 204.858 Q453.026 200.205 454.206 198.863 Q456.452 196.34 457.331 194.604 Q458.234 192.844 458.234 191.155 Q458.234 188.4 456.29 186.664 Q454.368 184.928 451.267 184.928 Q449.068 184.928 446.614 185.692 Q444.183 186.455 441.406 188.006 L441.406 183.284 Q444.23 182.15 446.683 181.571 Q449.137 180.993 451.174 180.993 Q456.544 180.993 459.739 183.678 Q462.933 186.363 462.933 190.854 Q462.933 192.983 462.123 194.905 Q461.336 196.803 459.23 199.395 Q458.651 200.067 455.549 203.284 Q452.447 206.479 446.799 212.242 Z\" fill=\"#000000\" fill-rule=\"nonzero\" fill-opacity=\"1\" /></svg>\n"
      ]
     },
     "execution_count": 33,
     "metadata": {},
     "output_type": "execute_result"
    }
   ],
   "source": [
    "# Mozna odwolywac sie bezposrednio do kolumn w poniższy sposób (gdyz sa typu jednowymiarowych tablic \n",
    "# Array{T,1})\n",
    "Pkg.add(\"Plots\")\n",
    "using Plots\n",
    "scatter(df.a, [df.b, df.c], colour = [:red :blue], yerr=df.d)\n"
   ]
  },
  {
   "cell_type": "code",
   "execution_count": 34,
   "metadata": {},
   "outputs": [
    {
     "data": {
      "image/png": "[encoded data removed]",
      "image/svg+xml": [
       "<?xml version=\"1.0\" encoding=\"utf-8\"?>\n",
       "<svg xmlns=\"http://www.w3.org/2000/svg\" xmlns:xlink=\"http://www.w3.org/1999/xlink\" width=\"600\" height=\"400\" viewBox=\"0 0 2400 1600\">\n",
       "<defs>\n",
       "  <clipPath id=\"clip430\">\n",
       "    <rect x=\"0\" y=\"0\" width=\"2400\" height=\"1600\"/>\n",
       "  </clipPath>\n",
       "</defs>\n",
       "<path clip-path=\"url(#clip430)\" d=\"M0 1600 L2400 1600 L2400 0 L0 0  Z\" fill=\"#ffffff\" fill-rule=\"evenodd\" fill-opacity=\"1\"/>\n",
       "<defs>\n",
       "  <clipPath id=\"clip431\">\n",
       "    <rect x=\"480\" y=\"0\" width=\"1681\" height=\"1600\"/>\n",
       "  </clipPath>\n",
       "</defs>\n",
       "<path clip-path=\"url(#clip430)\" d=\"M140.696 1486.45 L1145.05 1486.45 L1145.05 47.2441 L140.696 47.2441  Z\" fill=\"#ffffff\" fill-rule=\"evenodd\" fill-opacity=\"1\"/>\n",
       "<defs>\n",
       "  <clipPath id=\"clip432\">\n",
       "    <rect x=\"140\" y=\"47\" width=\"1005\" height=\"1440\"/>\n",
       "  </clipPath>\n",
       "</defs>\n",
       "<polyline clip-path=\"url(#clip432)\" style=\"stroke:#000000; stroke-linecap:round; stroke-linejoin:round; stroke-width:2; stroke-opacity:0.1; fill:none\" points=\"274.399,1486.45 274.399,47.2441 \"/>\n",
       "<polyline clip-path=\"url(#clip432)\" style=\"stroke:#000000; stroke-linecap:round; stroke-linejoin:round; stroke-width:2; stroke-opacity:0.1; fill:none\" points=\"484.955,1486.45 484.955,47.2441 \"/>\n",
       "<polyline clip-path=\"url(#clip432)\" style=\"stroke:#000000; stroke-linecap:round; stroke-linejoin:round; stroke-width:2; stroke-opacity:0.1; fill:none\" points=\"695.511,1486.45 695.511,47.2441 \"/>\n",
       "<polyline clip-path=\"url(#clip432)\" style=\"stroke:#000000; stroke-linecap:round; stroke-linejoin:round; stroke-width:2; stroke-opacity:0.1; fill:none\" points=\"906.067,1486.45 906.067,47.2441 \"/>\n",
       "<polyline clip-path=\"url(#clip432)\" style=\"stroke:#000000; stroke-linecap:round; stroke-linejoin:round; stroke-width:2; stroke-opacity:0.1; fill:none\" points=\"1116.62,1486.45 1116.62,47.2441 \"/>\n",
       "<polyline clip-path=\"url(#clip432)\" style=\"stroke:#000000; stroke-linecap:round; stroke-linejoin:round; stroke-width:2; stroke-opacity:0.1; fill:none\" points=\"140.696,1219.43 1145.05,1219.43 \"/>\n",
       "<polyline clip-path=\"url(#clip432)\" style=\"stroke:#000000; stroke-linecap:round; stroke-linejoin:round; stroke-width:2; stroke-opacity:0.1; fill:none\" points=\"140.696,842.276 1145.05,842.276 \"/>\n",
       "<polyline clip-path=\"url(#clip432)\" style=\"stroke:#000000; stroke-linecap:round; stroke-linejoin:round; stroke-width:2; stroke-opacity:0.1; fill:none\" points=\"140.696,465.126 1145.05,465.126 \"/>\n",
       "<polyline clip-path=\"url(#clip432)\" style=\"stroke:#000000; stroke-linecap:round; stroke-linejoin:round; stroke-width:2; stroke-opacity:0.1; fill:none\" points=\"140.696,87.9763 1145.05,87.9763 \"/>\n",
       "<polyline clip-path=\"url(#clip430)\" style=\"stroke:#000000; stroke-linecap:round; stroke-linejoin:round; stroke-width:4; stroke-opacity:1; fill:none\" points=\"140.696,1486.45 1145.05,1486.45 \"/>\n",
       "<polyline clip-path=\"url(#clip430)\" style=\"stroke:#000000; stroke-linecap:round; stroke-linejoin:round; stroke-width:4; stroke-opacity:1; fill:none\" points=\"274.399,1486.45 274.399,1467.55 \"/>\n",
       "<polyline clip-path=\"url(#clip430)\" style=\"stroke:#000000; stroke-linecap:round; stroke-linejoin:round; stroke-width:4; stroke-opacity:1; fill:none\" points=\"484.955,1486.45 484.955,1467.55 \"/>\n",
       "<polyline clip-path=\"url(#clip430)\" style=\"stroke:#000000; stroke-linecap:round; stroke-linejoin:round; stroke-width:4; stroke-opacity:1; fill:none\" points=\"695.511,1486.45 695.511,1467.55 \"/>\n",
       "<polyline clip-path=\"url(#clip430)\" style=\"stroke:#000000; stroke-linecap:round; stroke-linejoin:round; stroke-width:4; stroke-opacity:1; fill:none\" points=\"906.067,1486.45 906.067,1467.55 \"/>\n",
       "<polyline clip-path=\"url(#clip430)\" style=\"stroke:#000000; stroke-linecap:round; stroke-linejoin:round; stroke-width:4; stroke-opacity:1; fill:none\" points=\"1116.62,1486.45 1116.62,1467.55 \"/>\n",
       "<path clip-path=\"url(#clip430)\" d=\"M269.051 1544.91 L285.371 1544.91 L285.371 1548.85 L263.426 1548.85 L263.426 1544.91 Q266.088 1542.16 270.672 1537.53 Q275.278 1532.88 276.459 1531.53 Q278.704 1529.01 279.584 1527.27 Q280.487 1525.51 280.487 1523.82 Q280.487 1521.07 278.542 1519.33 Q276.621 1517.6 273.519 1517.6 Q271.32 1517.6 268.866 1518.36 Q266.436 1519.13 263.658 1520.68 L263.658 1515.95 Q266.482 1514.82 268.936 1514.24 Q271.389 1513.66 273.426 1513.66 Q278.797 1513.66 281.991 1516.35 Q285.186 1519.03 285.186 1523.52 Q285.186 1525.65 284.375 1527.57 Q283.588 1529.47 281.482 1532.07 Q280.903 1532.74 277.801 1535.95 Q274.7 1539.15 269.051 1544.91 Z\" fill=\"#000000\" fill-rule=\"nonzero\" fill-opacity=\"1\" /><path clip-path=\"url(#clip430)\" d=\"M487.964 1518.36 L476.158 1536.81 L487.964 1536.81 L487.964 1518.36 M486.737 1514.29 L492.617 1514.29 L492.617 1536.81 L497.547 1536.81 L497.547 1540.7 L492.617 1540.7 L492.617 1548.85 L487.964 1548.85 L487.964 1540.7 L472.362 1540.7 L472.362 1536.19 L486.737 1514.29 Z\" fill=\"#000000\" fill-rule=\"nonzero\" fill-opacity=\"1\" /><path clip-path=\"url(#clip430)\" d=\"M695.916 1529.7 Q692.768 1529.7 690.916 1531.86 Q689.087 1534.01 689.087 1537.76 Q689.087 1541.49 690.916 1543.66 Q692.768 1545.82 695.916 1545.82 Q699.064 1545.82 700.892 1543.66 Q702.744 1541.49 702.744 1537.76 Q702.744 1534.01 700.892 1531.86 Q699.064 1529.7 695.916 1529.7 M705.198 1515.05 L705.198 1519.31 Q703.439 1518.48 701.633 1518.04 Q699.851 1517.6 698.092 1517.6 Q693.462 1517.6 691.008 1520.72 Q688.578 1523.85 688.231 1530.17 Q689.596 1528.15 691.656 1527.09 Q693.717 1526 696.193 1526 Q701.402 1526 704.411 1529.17 Q707.443 1532.32 707.443 1537.76 Q707.443 1543.08 704.295 1546.3 Q701.147 1549.52 695.916 1549.52 Q689.92 1549.52 686.749 1544.94 Q683.578 1540.33 683.578 1531.6 Q683.578 1523.41 687.467 1518.55 Q691.356 1513.66 697.906 1513.66 Q699.666 1513.66 701.448 1514.01 Q703.254 1514.36 705.198 1515.05 Z\" fill=\"#000000\" fill-rule=\"nonzero\" fill-opacity=\"1\" /><path clip-path=\"url(#clip430)\" d=\"M906.067 1532.44 Q902.733 1532.44 900.812 1534.22 Q898.914 1536 898.914 1539.13 Q898.914 1542.25 900.812 1544.03 Q902.733 1545.82 906.067 1545.82 Q909.4 1545.82 911.321 1544.03 Q913.242 1542.23 913.242 1539.13 Q913.242 1536 911.321 1534.22 Q909.423 1532.44 906.067 1532.44 M901.391 1530.45 Q898.381 1529.7 896.692 1527.64 Q895.025 1525.58 895.025 1522.62 Q895.025 1518.48 897.965 1516.07 Q900.928 1513.66 906.067 1513.66 Q911.229 1513.66 914.168 1516.07 Q917.108 1518.48 917.108 1522.62 Q917.108 1525.58 915.418 1527.64 Q913.752 1529.7 910.766 1530.45 Q914.145 1531.23 916.02 1533.52 Q917.918 1535.82 917.918 1539.13 Q917.918 1544.15 914.84 1546.83 Q911.784 1549.52 906.067 1549.52 Q900.349 1549.52 897.27 1546.83 Q894.215 1544.15 894.215 1539.13 Q894.215 1535.82 896.113 1533.52 Q898.011 1531.23 901.391 1530.45 M899.678 1523.06 Q899.678 1525.75 901.344 1527.25 Q903.034 1528.76 906.067 1528.76 Q909.076 1528.76 910.766 1527.25 Q912.479 1525.75 912.479 1523.06 Q912.479 1520.38 910.766 1518.87 Q909.076 1517.37 906.067 1517.37 Q903.034 1517.37 901.344 1518.87 Q899.678 1520.38 899.678 1523.06 Z\" fill=\"#000000\" fill-rule=\"nonzero\" fill-opacity=\"1\" /><path clip-path=\"url(#clip430)\" d=\"M1091.31 1544.91 L1098.95 1544.91 L1098.95 1518.55 L1090.64 1520.21 L1090.64 1515.95 L1098.9 1514.29 L1103.58 1514.29 L1103.58 1544.91 L1111.22 1544.91 L1111.22 1548.85 L1091.31 1548.85 L1091.31 1544.91 Z\" fill=\"#000000\" fill-rule=\"nonzero\" fill-opacity=\"1\" /><path clip-path=\"url(#clip430)\" d=\"M1130.66 1517.37 Q1127.05 1517.37 1125.22 1520.93 Q1123.42 1524.47 1123.42 1531.6 Q1123.42 1538.71 1125.22 1542.27 Q1127.05 1545.82 1130.66 1545.82 Q1134.3 1545.82 1136.1 1542.27 Q1137.93 1538.71 1137.93 1531.6 Q1137.93 1524.47 1136.1 1520.93 Q1134.3 1517.37 1130.66 1517.37 M1130.66 1513.66 Q1136.47 1513.66 1139.53 1518.27 Q1142.61 1522.85 1142.61 1531.6 Q1142.61 1540.33 1139.53 1544.94 Q1136.47 1549.52 1130.66 1549.52 Q1124.85 1549.52 1121.77 1544.94 Q1118.72 1540.33 1118.72 1531.6 Q1118.72 1522.85 1121.77 1518.27 Q1124.85 1513.66 1130.66 1513.66 Z\" fill=\"#000000\" fill-rule=\"nonzero\" fill-opacity=\"1\" /><polyline clip-path=\"url(#clip430)\" style=\"stroke:#000000; stroke-linecap:round; stroke-linejoin:round; stroke-width:4; stroke-opacity:1; fill:none\" points=\"140.696,1486.45 140.696,47.2441 \"/>\n",
       "<polyline clip-path=\"url(#clip430)\" style=\"stroke:#000000; stroke-linecap:round; stroke-linejoin:round; stroke-width:4; stroke-opacity:1; fill:none\" points=\"140.696,1219.43 159.593,1219.43 \"/>\n",
       "<polyline clip-path=\"url(#clip430)\" style=\"stroke:#000000; stroke-linecap:round; stroke-linejoin:round; stroke-width:4; stroke-opacity:1; fill:none\" points=\"140.696,842.276 159.593,842.276 \"/>\n",
       "<polyline clip-path=\"url(#clip430)\" style=\"stroke:#000000; stroke-linecap:round; stroke-linejoin:round; stroke-width:4; stroke-opacity:1; fill:none\" points=\"140.696,465.126 159.593,465.126 \"/>\n",
       "<polyline clip-path=\"url(#clip430)\" style=\"stroke:#000000; stroke-linecap:round; stroke-linejoin:round; stroke-width:4; stroke-opacity:1; fill:none\" points=\"140.696,87.9763 159.593,87.9763 \"/>\n",
       "<path clip-path=\"url(#clip430)\" d=\"M83.7929 1202.15 L102.149 1202.15 L102.149 1206.08 L88.0753 1206.08 L88.0753 1214.55 Q89.0938 1214.21 90.1123 1214.04 Q91.1308 1213.86 92.1493 1213.86 Q97.9363 1213.86 101.316 1217.03 Q104.696 1220.2 104.696 1225.62 Q104.696 1231.2 101.223 1234.3 Q97.7511 1237.38 91.4317 1237.38 Q89.2558 1237.38 86.9873 1237.01 Q84.7419 1236.64 82.3346 1235.9 L82.3346 1231.2 Q84.4179 1232.33 86.6401 1232.89 Q88.8623 1233.44 91.3391 1233.44 Q95.3437 1233.44 97.6817 1231.34 Q100.02 1229.23 100.02 1225.62 Q100.02 1222.01 97.6817 1219.9 Q95.3437 1217.79 91.3391 1217.79 Q89.4641 1217.79 87.5892 1218.21 Q85.7373 1218.63 83.7929 1219.51 L83.7929 1202.15 Z\" fill=\"#000000\" fill-rule=\"nonzero\" fill-opacity=\"1\" /><path clip-path=\"url(#clip430)\" d=\"M53.3995 855.621 L61.0384 855.621 L61.0384 829.255 L52.7282 830.922 L52.7282 826.663 L60.9921 824.996 L65.668 824.996 L65.668 855.621 L73.3068 855.621 L73.3068 859.556 L53.3995 859.556 L53.3995 855.621 Z\" fill=\"#000000\" fill-rule=\"nonzero\" fill-opacity=\"1\" /><path clip-path=\"url(#clip430)\" d=\"M92.7512 828.075 Q89.1401 828.075 87.3114 831.639 Q85.5058 835.181 85.5058 842.311 Q85.5058 849.417 87.3114 852.982 Q89.1401 856.524 92.7512 856.524 Q96.3854 856.524 98.1909 852.982 Q100.02 849.417 100.02 842.311 Q100.02 835.181 98.1909 831.639 Q96.3854 828.075 92.7512 828.075 M92.7512 824.371 Q98.5613 824.371 101.617 828.977 Q104.696 833.561 104.696 842.311 Q104.696 851.037 101.617 855.644 Q98.5613 860.227 92.7512 860.227 Q86.941 860.227 83.8623 855.644 Q80.8068 851.037 80.8068 842.311 Q80.8068 833.561 83.8623 828.977 Q86.941 824.371 92.7512 824.371 Z\" fill=\"#000000\" fill-rule=\"nonzero\" fill-opacity=\"1\" /><path clip-path=\"url(#clip430)\" d=\"M54.3949 478.471 L62.0337 478.471 L62.0337 452.105 L53.7236 453.772 L53.7236 449.513 L61.9874 447.846 L66.6633 447.846 L66.6633 478.471 L74.3022 478.471 L74.3022 482.406 L54.3949 482.406 L54.3949 478.471 Z\" fill=\"#000000\" fill-rule=\"nonzero\" fill-opacity=\"1\" /><path clip-path=\"url(#clip430)\" d=\"M83.7929 447.846 L102.149 447.846 L102.149 451.781 L88.0753 451.781 L88.0753 460.253 Q89.0938 459.906 90.1123 459.744 Q91.1308 459.559 92.1493 459.559 Q97.9363 459.559 101.316 462.73 Q104.696 465.902 104.696 471.318 Q104.696 476.897 101.223 479.999 Q97.7511 483.077 91.4317 483.077 Q89.2558 483.077 86.9873 482.707 Q84.7419 482.337 82.3346 481.596 L82.3346 476.897 Q84.4179 478.031 86.6401 478.587 Q88.8623 479.142 91.3391 479.142 Q95.3437 479.142 97.6817 477.036 Q100.02 474.929 100.02 471.318 Q100.02 467.707 97.6817 465.601 Q95.3437 463.494 91.3391 463.494 Q89.4641 463.494 87.5892 463.911 Q85.7373 464.328 83.7929 465.207 L83.7929 447.846 Z\" fill=\"#000000\" fill-rule=\"nonzero\" fill-opacity=\"1\" /><path clip-path=\"url(#clip430)\" d=\"M56.6171 101.321 L72.9365 101.321 L72.9365 105.256 L50.9921 105.256 L50.9921 101.321 Q53.6541 98.5665 58.2375 93.9369 Q62.8439 89.2841 64.0245 87.9416 Q66.2698 85.4184 67.1494 83.6823 Q68.0522 81.9231 68.0522 80.2333 Q68.0522 77.4786 66.1078 75.7425 Q64.1865 74.0064 61.0847 74.0064 Q58.8856 74.0064 56.4319 74.7703 Q54.0014 75.5342 51.2236 77.0851 L51.2236 72.3629 Q54.0477 71.2287 56.5014 70.65 Q58.955 70.0713 60.9921 70.0713 Q66.3624 70.0713 69.5568 72.7565 Q72.7513 75.4416 72.7513 79.9323 Q72.7513 82.062 71.9411 83.9832 Q71.1541 85.8814 69.0476 88.474 Q68.4689 89.1453 65.367 92.3628 Q62.2652 95.5573 56.6171 101.321 Z\" fill=\"#000000\" fill-rule=\"nonzero\" fill-opacity=\"1\" /><path clip-path=\"url(#clip430)\" d=\"M92.7512 73.775 Q89.1401 73.775 87.3114 77.3398 Q85.5058 80.8814 85.5058 88.011 Q85.5058 95.1174 87.3114 98.6822 Q89.1401 102.224 92.7512 102.224 Q96.3854 102.224 98.1909 98.6822 Q100.02 95.1174 100.02 88.011 Q100.02 80.8814 98.1909 77.3398 Q96.3854 73.775 92.7512 73.775 M92.7512 70.0713 Q98.5613 70.0713 101.617 74.6777 Q104.696 79.261 104.696 88.011 Q104.696 96.7378 101.617 101.344 Q98.5613 105.928 92.7512 105.928 Q86.941 105.928 83.8623 101.344 Q80.8068 96.7378 80.8068 88.011 Q80.8068 79.261 83.8623 74.6777 Q86.941 70.0713 92.7512 70.0713 Z\" fill=\"#000000\" fill-rule=\"nonzero\" fill-opacity=\"1\" /><circle clip-path=\"url(#clip432)\" cx=\"169.121\" cy=\"1445.72\" r=\"14.4\" fill=\"#ff0000\" fill-rule=\"evenodd\" fill-opacity=\"1\" stroke=\"#000000\" stroke-opacity=\"1\" stroke-width=\"3.2\"/>\n",
       "<circle clip-path=\"url(#clip432)\" cx=\"274.399\" cy=\"1294.86\" r=\"14.4\" fill=\"#ff0000\" fill-rule=\"evenodd\" fill-opacity=\"1\" stroke=\"#000000\" stroke-opacity=\"1\" stroke-width=\"3.2\"/>\n",
       "<circle clip-path=\"url(#clip432)\" cx=\"379.677\" cy=\"1144\" r=\"14.4\" fill=\"#ff0000\" fill-rule=\"evenodd\" fill-opacity=\"1\" stroke=\"#000000\" stroke-opacity=\"1\" stroke-width=\"3.2\"/>\n",
       "<circle clip-path=\"url(#clip432)\" cx=\"484.955\" cy=\"993.136\" r=\"14.4\" fill=\"#ff0000\" fill-rule=\"evenodd\" fill-opacity=\"1\" stroke=\"#000000\" stroke-opacity=\"1\" stroke-width=\"3.2\"/>\n",
       "<circle clip-path=\"url(#clip432)\" cx=\"590.233\" cy=\"842.276\" r=\"14.4\" fill=\"#ff0000\" fill-rule=\"evenodd\" fill-opacity=\"1\" stroke=\"#000000\" stroke-opacity=\"1\" stroke-width=\"3.2\"/>\n",
       "<circle clip-path=\"url(#clip432)\" cx=\"695.511\" cy=\"691.416\" r=\"14.4\" fill=\"#ff0000\" fill-rule=\"evenodd\" fill-opacity=\"1\" stroke=\"#000000\" stroke-opacity=\"1\" stroke-width=\"3.2\"/>\n",
       "<circle clip-path=\"url(#clip432)\" cx=\"800.789\" cy=\"540.556\" r=\"14.4\" fill=\"#ff0000\" fill-rule=\"evenodd\" fill-opacity=\"1\" stroke=\"#000000\" stroke-opacity=\"1\" stroke-width=\"3.2\"/>\n",
       "<circle clip-path=\"url(#clip432)\" cx=\"906.067\" cy=\"389.696\" r=\"14.4\" fill=\"#ff0000\" fill-rule=\"evenodd\" fill-opacity=\"1\" stroke=\"#000000\" stroke-opacity=\"1\" stroke-width=\"3.2\"/>\n",
       "<circle clip-path=\"url(#clip432)\" cx=\"1011.34\" cy=\"238.836\" r=\"14.4\" fill=\"#ff0000\" fill-rule=\"evenodd\" fill-opacity=\"1\" stroke=\"#000000\" stroke-opacity=\"1\" stroke-width=\"3.2\"/>\n",
       "<circle clip-path=\"url(#clip432)\" cx=\"1116.62\" cy=\"87.9763\" r=\"14.4\" fill=\"#ff0000\" fill-rule=\"evenodd\" fill-opacity=\"1\" stroke=\"#000000\" stroke-opacity=\"1\" stroke-width=\"3.2\"/>\n",
       "<path clip-path=\"url(#clip430)\" d=\"M174.174 198.898 L327.039 198.898 L327.039 95.2176 L174.174 95.2176  Z\" fill=\"#ffffff\" fill-rule=\"evenodd\" fill-opacity=\"1\"/>\n",
       "<polyline clip-path=\"url(#clip430)\" style=\"stroke:#000000; stroke-linecap:round; stroke-linejoin:round; stroke-width:4; stroke-opacity:1; fill:none\" points=\"174.174,198.898 327.039,198.898 327.039,95.2176 174.174,95.2176 174.174,198.898 \"/>\n",
       "<circle clip-path=\"url(#clip430)\" cx=\"218.812\" cy=\"147.058\" r=\"20.48\" fill=\"#ff0000\" fill-rule=\"evenodd\" fill-opacity=\"1\" stroke=\"#000000\" stroke-opacity=\"1\" stroke-width=\"4.55111\"/>\n",
       "<path clip-path=\"url(#clip430)\" d=\"M277.292 166.745 Q275.487 171.375 273.774 172.787 Q272.061 174.199 269.19 174.199 L265.788 174.199 L265.788 170.634 L268.288 170.634 Q270.047 170.634 271.019 169.8 Q271.991 168.967 273.172 165.865 L273.936 163.921 L263.45 138.412 L267.964 138.412 L276.065 158.689 L284.167 138.412 L288.681 138.412 L277.292 166.745 Z\" fill=\"#000000\" fill-rule=\"nonzero\" fill-opacity=\"1\" /><path clip-path=\"url(#clip430)\" d=\"M295.973 160.402 L303.612 160.402 L303.612 134.037 L295.301 135.703 L295.301 131.444 L303.565 129.778 L308.241 129.778 L308.241 160.402 L315.88 160.402 L315.88 164.338 L295.973 164.338 L295.973 160.402 Z\" fill=\"#000000\" fill-rule=\"nonzero\" fill-opacity=\"1\" /><path clip-path=\"url(#clip430)\" d=\"M1348.4 1486.45 L2352.76 1486.45 L2352.76 47.2441 L1348.4 47.2441  Z\" fill=\"#ffffff\" fill-rule=\"evenodd\" fill-opacity=\"1\"/>\n",
       "<defs>\n",
       "  <clipPath id=\"clip433\">\n",
       "    <rect x=\"1348\" y=\"47\" width=\"1005\" height=\"1440\"/>\n",
       "  </clipPath>\n",
       "</defs>\n",
       "<polyline clip-path=\"url(#clip433)\" style=\"stroke:#000000; stroke-linecap:round; stroke-linejoin:round; stroke-width:2; stroke-opacity:0.1; fill:none\" points=\"1482.11,1486.45 1482.11,47.2441 \"/>\n",
       "<polyline clip-path=\"url(#clip433)\" style=\"stroke:#000000; stroke-linecap:round; stroke-linejoin:round; stroke-width:2; stroke-opacity:0.1; fill:none\" points=\"1692.66,1486.45 1692.66,47.2441 \"/>\n",
       "<polyline clip-path=\"url(#clip433)\" style=\"stroke:#000000; stroke-linecap:round; stroke-linejoin:round; stroke-width:2; stroke-opacity:0.1; fill:none\" points=\"1903.22,1486.45 1903.22,47.2441 \"/>\n",
       "<polyline clip-path=\"url(#clip433)\" style=\"stroke:#000000; stroke-linecap:round; stroke-linejoin:round; stroke-width:2; stroke-opacity:0.1; fill:none\" points=\"2113.77,1486.45 2113.77,47.2441 \"/>\n",
       "<polyline clip-path=\"url(#clip433)\" style=\"stroke:#000000; stroke-linecap:round; stroke-linejoin:round; stroke-width:2; stroke-opacity:0.1; fill:none\" points=\"2324.33,1486.45 2324.33,47.2441 \"/>\n",
       "<polyline clip-path=\"url(#clip433)\" style=\"stroke:#000000; stroke-linecap:round; stroke-linejoin:round; stroke-width:2; stroke-opacity:0.1; fill:none\" points=\"1348.4,1445.72 2352.76,1445.72 \"/>\n",
       "<polyline clip-path=\"url(#clip433)\" style=\"stroke:#000000; stroke-linecap:round; stroke-linejoin:round; stroke-width:2; stroke-opacity:0.1; fill:none\" points=\"1348.4,1150.89 2352.76,1150.89 \"/>\n",
       "<polyline clip-path=\"url(#clip433)\" style=\"stroke:#000000; stroke-linecap:round; stroke-linejoin:round; stroke-width:2; stroke-opacity:0.1; fill:none\" points=\"1348.4,856.057 2352.76,856.057 \"/>\n",
       "<polyline clip-path=\"url(#clip433)\" style=\"stroke:#000000; stroke-linecap:round; stroke-linejoin:round; stroke-width:2; stroke-opacity:0.1; fill:none\" points=\"1348.4,561.228 2352.76,561.228 \"/>\n",
       "<polyline clip-path=\"url(#clip433)\" style=\"stroke:#000000; stroke-linecap:round; stroke-linejoin:round; stroke-width:2; stroke-opacity:0.1; fill:none\" points=\"1348.4,266.398 2352.76,266.398 \"/>\n",
       "<polyline clip-path=\"url(#clip430)\" style=\"stroke:#000000; stroke-linecap:round; stroke-linejoin:round; stroke-width:4; stroke-opacity:1; fill:none\" points=\"1348.4,1486.45 2352.76,1486.45 \"/>\n",
       "<polyline clip-path=\"url(#clip430)\" style=\"stroke:#000000; stroke-linecap:round; stroke-linejoin:round; stroke-width:4; stroke-opacity:1; fill:none\" points=\"1482.11,1486.45 1482.11,1467.55 \"/>\n",
       "<polyline clip-path=\"url(#clip430)\" style=\"stroke:#000000; stroke-linecap:round; stroke-linejoin:round; stroke-width:4; stroke-opacity:1; fill:none\" points=\"1692.66,1486.45 1692.66,1467.55 \"/>\n",
       "<polyline clip-path=\"url(#clip430)\" style=\"stroke:#000000; stroke-linecap:round; stroke-linejoin:round; stroke-width:4; stroke-opacity:1; fill:none\" points=\"1903.22,1486.45 1903.22,1467.55 \"/>\n",
       "<polyline clip-path=\"url(#clip430)\" style=\"stroke:#000000; stroke-linecap:round; stroke-linejoin:round; stroke-width:4; stroke-opacity:1; fill:none\" points=\"2113.77,1486.45 2113.77,1467.55 \"/>\n",
       "<polyline clip-path=\"url(#clip430)\" style=\"stroke:#000000; stroke-linecap:round; stroke-linejoin:round; stroke-width:4; stroke-opacity:1; fill:none\" points=\"2324.33,1486.45 2324.33,1467.55 \"/>\n",
       "<path clip-path=\"url(#clip430)\" d=\"M1476.76 1544.91 L1493.08 1544.91 L1493.08 1548.85 L1471.13 1548.85 L1471.13 1544.91 Q1473.8 1542.16 1478.38 1537.53 Q1482.99 1532.88 1484.17 1531.53 Q1486.41 1529.01 1487.29 1527.27 Q1488.19 1525.51 1488.19 1523.82 Q1488.19 1521.07 1486.25 1519.33 Q1484.33 1517.6 1481.23 1517.6 Q1479.03 1517.6 1476.57 1518.36 Q1474.14 1519.13 1471.37 1520.68 L1471.37 1515.95 Q1474.19 1514.82 1476.64 1514.24 Q1479.1 1513.66 1481.13 1513.66 Q1486.51 1513.66 1489.7 1516.35 Q1492.89 1519.03 1492.89 1523.52 Q1492.89 1525.65 1492.08 1527.57 Q1491.3 1529.47 1489.19 1532.07 Q1488.61 1532.74 1485.51 1535.95 Q1482.41 1539.15 1476.76 1544.91 Z\" fill=\"#000000\" fill-rule=\"nonzero\" fill-opacity=\"1\" /><path clip-path=\"url(#clip430)\" d=\"M1695.67 1518.36 L1683.87 1536.81 L1695.67 1536.81 L1695.67 1518.36 M1694.45 1514.29 L1700.32 1514.29 L1700.32 1536.81 L1705.26 1536.81 L1705.26 1540.7 L1700.32 1540.7 L1700.32 1548.85 L1695.67 1548.85 L1695.67 1540.7 L1680.07 1540.7 L1680.07 1536.19 L1694.45 1514.29 Z\" fill=\"#000000\" fill-rule=\"nonzero\" fill-opacity=\"1\" /><path clip-path=\"url(#clip430)\" d=\"M1903.62 1529.7 Q1900.48 1529.7 1898.62 1531.86 Q1896.8 1534.01 1896.8 1537.76 Q1896.8 1541.49 1898.62 1543.66 Q1900.48 1545.82 1903.62 1545.82 Q1906.77 1545.82 1908.6 1543.66 Q1910.45 1541.49 1910.45 1537.76 Q1910.45 1534.01 1908.6 1531.86 Q1906.77 1529.7 1903.62 1529.7 M1912.91 1515.05 L1912.91 1519.31 Q1911.15 1518.48 1909.34 1518.04 Q1907.56 1517.6 1905.8 1517.6 Q1901.17 1517.6 1898.72 1520.72 Q1896.29 1523.85 1895.94 1530.17 Q1897.3 1528.15 1899.36 1527.09 Q1901.42 1526 1903.9 1526 Q1909.11 1526 1912.12 1529.17 Q1915.15 1532.32 1915.15 1537.76 Q1915.15 1543.08 1912 1546.3 Q1908.86 1549.52 1903.62 1549.52 Q1897.63 1549.52 1894.46 1544.94 Q1891.29 1540.33 1891.29 1531.6 Q1891.29 1523.41 1895.17 1518.55 Q1899.06 1513.66 1905.61 1513.66 Q1907.37 1513.66 1909.16 1514.01 Q1910.96 1514.36 1912.91 1515.05 Z\" fill=\"#000000\" fill-rule=\"nonzero\" fill-opacity=\"1\" /><path clip-path=\"url(#clip430)\" d=\"M2113.77 1532.44 Q2110.44 1532.44 2108.52 1534.22 Q2106.62 1536 2106.62 1539.13 Q2106.62 1542.25 2108.52 1544.03 Q2110.44 1545.82 2113.77 1545.82 Q2117.11 1545.82 2119.03 1544.03 Q2120.95 1542.23 2120.95 1539.13 Q2120.95 1536 2119.03 1534.22 Q2117.13 1532.44 2113.77 1532.44 M2109.1 1530.45 Q2106.09 1529.7 2104.4 1527.64 Q2102.73 1525.58 2102.73 1522.62 Q2102.73 1518.48 2105.67 1516.07 Q2108.64 1513.66 2113.77 1513.66 Q2118.94 1513.66 2121.88 1516.07 Q2124.82 1518.48 2124.82 1522.62 Q2124.82 1525.58 2123.13 1527.64 Q2121.46 1529.7 2118.47 1530.45 Q2121.85 1531.23 2123.73 1533.52 Q2125.63 1535.82 2125.63 1539.13 Q2125.63 1544.15 2122.55 1546.83 Q2119.49 1549.52 2113.77 1549.52 Q2108.06 1549.52 2104.98 1546.83 Q2101.92 1544.15 2101.92 1539.13 Q2101.92 1535.82 2103.82 1533.52 Q2105.72 1531.23 2109.1 1530.45 M2107.39 1523.06 Q2107.39 1525.75 2109.05 1527.25 Q2110.74 1528.76 2113.77 1528.76 Q2116.78 1528.76 2118.47 1527.25 Q2120.19 1525.75 2120.19 1523.06 Q2120.19 1520.38 2118.47 1518.87 Q2116.78 1517.37 2113.77 1517.37 Q2110.74 1517.37 2109.05 1518.87 Q2107.39 1520.38 2107.39 1523.06 Z\" fill=\"#000000\" fill-rule=\"nonzero\" fill-opacity=\"1\" /><path clip-path=\"url(#clip430)\" d=\"M2299.02 1544.91 L2306.66 1544.91 L2306.66 1518.55 L2298.35 1520.21 L2298.35 1515.95 L2306.61 1514.29 L2311.29 1514.29 L2311.29 1544.91 L2318.93 1544.91 L2318.93 1548.85 L2299.02 1548.85 L2299.02 1544.91 Z\" fill=\"#000000\" fill-rule=\"nonzero\" fill-opacity=\"1\" /><path clip-path=\"url(#clip430)\" d=\"M2338.37 1517.37 Q2334.76 1517.37 2332.93 1520.93 Q2331.12 1524.47 2331.12 1531.6 Q2331.12 1538.71 2332.93 1542.27 Q2334.76 1545.82 2338.37 1545.82 Q2342 1545.82 2343.81 1542.27 Q2345.64 1538.71 2345.64 1531.6 Q2345.64 1524.47 2343.81 1520.93 Q2342 1517.37 2338.37 1517.37 M2338.37 1513.66 Q2344.18 1513.66 2347.24 1518.27 Q2350.31 1522.85 2350.31 1531.6 Q2350.31 1540.33 2347.24 1544.94 Q2344.18 1549.52 2338.37 1549.52 Q2332.56 1549.52 2329.48 1544.94 Q2326.43 1540.33 2326.43 1531.6 Q2326.43 1522.85 2329.48 1518.27 Q2332.56 1513.66 2338.37 1513.66 Z\" fill=\"#000000\" fill-rule=\"nonzero\" fill-opacity=\"1\" /><polyline clip-path=\"url(#clip430)\" style=\"stroke:#000000; stroke-linecap:round; stroke-linejoin:round; stroke-width:4; stroke-opacity:1; fill:none\" points=\"1348.4,1486.45 1348.4,47.2441 \"/>\n",
       "<polyline clip-path=\"url(#clip430)\" style=\"stroke:#000000; stroke-linecap:round; stroke-linejoin:round; stroke-width:4; stroke-opacity:1; fill:none\" points=\"1348.4,1445.72 1367.3,1445.72 \"/>\n",
       "<polyline clip-path=\"url(#clip430)\" style=\"stroke:#000000; stroke-linecap:round; stroke-linejoin:round; stroke-width:4; stroke-opacity:1; fill:none\" points=\"1348.4,1150.89 1367.3,1150.89 \"/>\n",
       "<polyline clip-path=\"url(#clip430)\" style=\"stroke:#000000; stroke-linecap:round; stroke-linejoin:round; stroke-width:4; stroke-opacity:1; fill:none\" points=\"1348.4,856.057 1367.3,856.057 \"/>\n",
       "<polyline clip-path=\"url(#clip430)\" style=\"stroke:#000000; stroke-linecap:round; stroke-linejoin:round; stroke-width:4; stroke-opacity:1; fill:none\" points=\"1348.4,561.228 1367.3,561.228 \"/>\n",
       "<polyline clip-path=\"url(#clip430)\" style=\"stroke:#000000; stroke-linecap:round; stroke-linejoin:round; stroke-width:4; stroke-opacity:1; fill:none\" points=\"1348.4,266.398 1367.3,266.398 \"/>\n",
       "<path clip-path=\"url(#clip430)\" d=\"M1255.23 1431.51 Q1251.62 1431.51 1249.79 1435.08 Q1247.98 1438.62 1247.98 1445.75 Q1247.98 1452.86 1249.79 1456.42 Q1251.62 1459.96 1255.23 1459.96 Q1258.86 1459.96 1260.67 1456.42 Q1262.5 1452.86 1262.5 1445.75 Q1262.5 1438.62 1260.67 1435.08 Q1258.86 1431.51 1255.23 1431.51 M1255.23 1427.81 Q1261.04 1427.81 1264.09 1432.42 Q1267.17 1437 1267.17 1445.75 Q1267.17 1454.48 1264.09 1459.08 Q1261.04 1463.67 1255.23 1463.67 Q1249.42 1463.67 1246.34 1459.08 Q1243.28 1454.48 1243.28 1445.75 Q1243.28 1437 1246.34 1432.42 Q1249.42 1427.81 1255.23 1427.81 Z\" fill=\"#000000\" fill-rule=\"nonzero\" fill-opacity=\"1\" /><path clip-path=\"url(#clip430)\" d=\"M1275.39 1457.12 L1280.27 1457.12 L1280.27 1463 L1275.39 1463 L1275.39 1457.12 Z\" fill=\"#000000\" fill-rule=\"nonzero\" fill-opacity=\"1\" /><path clip-path=\"url(#clip430)\" d=\"M1300.46 1431.51 Q1296.85 1431.51 1295.02 1435.08 Q1293.21 1438.62 1293.21 1445.75 Q1293.21 1452.86 1295.02 1456.42 Q1296.85 1459.96 1300.46 1459.96 Q1304.09 1459.96 1305.9 1456.42 Q1307.73 1452.86 1307.73 1445.75 Q1307.73 1438.62 1305.9 1435.08 Q1304.09 1431.51 1300.46 1431.51 M1300.46 1427.81 Q1306.27 1427.81 1309.33 1432.42 Q1312.4 1437 1312.4 1445.75 Q1312.4 1454.48 1309.33 1459.08 Q1306.27 1463.67 1300.46 1463.67 Q1294.65 1463.67 1291.57 1459.08 Q1288.52 1454.48 1288.52 1445.75 Q1288.52 1437 1291.57 1432.42 Q1294.65 1427.81 1300.46 1427.81 Z\" fill=\"#000000\" fill-rule=\"nonzero\" fill-opacity=\"1\" /><path clip-path=\"url(#clip430)\" d=\"M1256.22 1136.69 Q1252.61 1136.69 1250.78 1140.25 Q1248.98 1143.79 1248.98 1150.92 Q1248.98 1158.03 1250.78 1161.59 Q1252.61 1165.13 1256.22 1165.13 Q1259.86 1165.13 1261.66 1161.59 Q1263.49 1158.03 1263.49 1150.92 Q1263.49 1143.79 1261.66 1140.25 Q1259.86 1136.69 1256.22 1136.69 M1256.22 1132.98 Q1262.03 1132.98 1265.09 1137.59 Q1268.17 1142.17 1268.17 1150.92 Q1268.17 1159.65 1265.09 1164.25 Q1262.03 1168.84 1256.22 1168.84 Q1250.41 1168.84 1247.33 1164.25 Q1244.28 1159.65 1244.28 1150.92 Q1244.28 1142.17 1247.33 1137.59 Q1250.41 1132.98 1256.22 1132.98 Z\" fill=\"#000000\" fill-rule=\"nonzero\" fill-opacity=\"1\" /><path clip-path=\"url(#clip430)\" d=\"M1276.39 1162.29 L1281.27 1162.29 L1281.27 1168.17 L1276.39 1168.17 L1276.39 1162.29 Z\" fill=\"#000000\" fill-rule=\"nonzero\" fill-opacity=\"1\" /><path clip-path=\"url(#clip430)\" d=\"M1291.5 1133.61 L1309.86 1133.61 L1309.86 1137.54 L1295.78 1137.54 L1295.78 1146.01 Q1296.8 1145.67 1297.82 1145.5 Q1298.84 1145.32 1299.86 1145.32 Q1305.64 1145.32 1309.02 1148.49 Q1312.4 1151.66 1312.4 1157.08 Q1312.4 1162.66 1308.93 1165.76 Q1305.46 1168.84 1299.14 1168.84 Q1296.96 1168.84 1294.7 1168.47 Q1292.45 1168.1 1290.04 1167.36 L1290.04 1162.66 Q1292.13 1163.79 1294.35 1164.35 Q1296.57 1164.9 1299.05 1164.9 Q1303.05 1164.9 1305.39 1162.8 Q1307.73 1160.69 1307.73 1157.08 Q1307.73 1153.47 1305.39 1151.36 Q1303.05 1149.25 1299.05 1149.25 Q1297.17 1149.25 1295.3 1149.67 Q1293.45 1150.09 1291.5 1150.97 L1291.5 1133.61 Z\" fill=\"#000000\" fill-rule=\"nonzero\" fill-opacity=\"1\" /><path clip-path=\"url(#clip430)\" d=\"M1246.04 869.402 L1253.68 869.402 L1253.68 843.036 L1245.37 844.703 L1245.37 840.444 L1253.63 838.777 L1258.31 838.777 L1258.31 869.402 L1265.95 869.402 L1265.95 873.337 L1246.04 873.337 L1246.04 869.402 Z\" fill=\"#000000\" fill-rule=\"nonzero\" fill-opacity=\"1\" /><path clip-path=\"url(#clip430)\" d=\"M1275.39 867.457 L1280.27 867.457 L1280.27 873.337 L1275.39 873.337 L1275.39 867.457 Z\" fill=\"#000000\" fill-rule=\"nonzero\" fill-opacity=\"1\" /><path clip-path=\"url(#clip430)\" d=\"M1300.46 841.856 Q1296.85 841.856 1295.02 845.42 Q1293.21 848.962 1293.21 856.092 Q1293.21 863.198 1295.02 866.763 Q1296.85 870.305 1300.46 870.305 Q1304.09 870.305 1305.9 866.763 Q1307.73 863.198 1307.73 856.092 Q1307.73 848.962 1305.9 845.42 Q1304.09 841.856 1300.46 841.856 M1300.46 838.152 Q1306.27 838.152 1309.33 842.758 Q1312.4 847.342 1312.4 856.092 Q1312.4 864.818 1309.33 869.425 Q1306.27 874.008 1300.46 874.008 Q1294.65 874.008 1291.57 869.425 Q1288.52 864.818 1288.52 856.092 Q1288.52 847.342 1291.57 842.758 Q1294.65 838.152 1300.46 838.152 Z\" fill=\"#000000\" fill-rule=\"nonzero\" fill-opacity=\"1\" /><path clip-path=\"url(#clip430)\" d=\"M1247.03 574.572 L1254.67 574.572 L1254.67 548.207 L1246.36 549.873 L1246.36 545.614 L1254.63 543.948 L1259.3 543.948 L1259.3 574.572 L1266.94 574.572 L1266.94 578.508 L1247.03 578.508 L1247.03 574.572 Z\" fill=\"#000000\" fill-rule=\"nonzero\" fill-opacity=\"1\" /><path clip-path=\"url(#clip430)\" d=\"M1276.39 572.628 L1281.27 572.628 L1281.27 578.508 L1276.39 578.508 L1276.39 572.628 Z\" fill=\"#000000\" fill-rule=\"nonzero\" fill-opacity=\"1\" /><path clip-path=\"url(#clip430)\" d=\"M1291.5 543.948 L1309.86 543.948 L1309.86 547.883 L1295.78 547.883 L1295.78 556.355 Q1296.8 556.008 1297.82 555.846 Q1298.84 555.66 1299.86 555.66 Q1305.64 555.66 1309.02 558.832 Q1312.4 562.003 1312.4 567.42 Q1312.4 572.998 1308.93 576.1 Q1305.46 579.179 1299.14 579.179 Q1296.96 579.179 1294.7 578.809 Q1292.45 578.438 1290.04 577.697 L1290.04 572.998 Q1292.13 574.133 1294.35 574.688 Q1296.57 575.244 1299.05 575.244 Q1303.05 575.244 1305.39 573.137 Q1307.73 571.031 1307.73 567.42 Q1307.73 563.809 1305.39 561.702 Q1303.05 559.596 1299.05 559.596 Q1297.17 559.596 1295.3 560.012 Q1293.45 560.429 1291.5 561.309 L1291.5 543.948 Z\" fill=\"#000000\" fill-rule=\"nonzero\" fill-opacity=\"1\" /><path clip-path=\"url(#clip430)\" d=\"M1249.26 279.743 L1265.58 279.743 L1265.58 283.678 L1243.63 283.678 L1243.63 279.743 Q1246.29 276.988 1250.88 272.359 Q1255.48 267.706 1256.66 266.363 Q1258.91 263.84 1259.79 262.104 Q1260.69 260.345 1260.69 258.655 Q1260.69 255.901 1258.75 254.164 Q1256.83 252.428 1253.72 252.428 Q1251.52 252.428 1249.07 253.192 Q1246.64 253.956 1243.86 255.507 L1243.86 250.785 Q1246.69 249.651 1249.14 249.072 Q1251.59 248.493 1253.63 248.493 Q1259 248.493 1262.2 251.178 Q1265.39 253.864 1265.39 258.354 Q1265.39 260.484 1264.58 262.405 Q1263.79 264.303 1261.69 266.896 Q1261.11 267.567 1258.01 270.785 Q1254.9 273.979 1249.26 279.743 Z\" fill=\"#000000\" fill-rule=\"nonzero\" fill-opacity=\"1\" /><path clip-path=\"url(#clip430)\" d=\"M1275.39 277.799 L1280.27 277.799 L1280.27 283.678 L1275.39 283.678 L1275.39 277.799 Z\" fill=\"#000000\" fill-rule=\"nonzero\" fill-opacity=\"1\" /><path clip-path=\"url(#clip430)\" d=\"M1300.46 252.197 Q1296.85 252.197 1295.02 255.762 Q1293.21 259.303 1293.21 266.433 Q1293.21 273.539 1295.02 277.104 Q1296.85 280.646 1300.46 280.646 Q1304.09 280.646 1305.9 277.104 Q1307.73 273.539 1307.73 266.433 Q1307.73 259.303 1305.9 255.762 Q1304.09 252.197 1300.46 252.197 M1300.46 248.493 Q1306.27 248.493 1309.33 253.1 Q1312.4 257.683 1312.4 266.433 Q1312.4 275.16 1309.33 279.766 Q1306.27 284.35 1300.46 284.35 Q1294.65 284.35 1291.57 279.766 Q1288.52 275.16 1288.52 266.433 Q1288.52 257.683 1291.57 253.1 Q1294.65 248.493 1300.46 248.493 Z\" fill=\"#000000\" fill-rule=\"nonzero\" fill-opacity=\"1\" /><circle clip-path=\"url(#clip433)\" cx=\"1376.83\" cy=\"1445.72\" r=\"14.4\" fill=\"#0000ff\" fill-rule=\"evenodd\" fill-opacity=\"1\" stroke=\"#000000\" stroke-opacity=\"1\" stroke-width=\"3.2\"/>\n",
       "<circle clip-path=\"url(#clip433)\" cx=\"1482.11\" cy=\"1037\" r=\"14.4\" fill=\"#0000ff\" fill-rule=\"evenodd\" fill-opacity=\"1\" stroke=\"#000000\" stroke-opacity=\"1\" stroke-width=\"3.2\"/>\n",
       "<circle clip-path=\"url(#clip433)\" cx=\"1587.38\" cy=\"797.909\" r=\"14.4\" fill=\"#0000ff\" fill-rule=\"evenodd\" fill-opacity=\"1\" stroke=\"#000000\" stroke-opacity=\"1\" stroke-width=\"3.2\"/>\n",
       "<circle clip-path=\"url(#clip433)\" cx=\"1692.66\" cy=\"628.275\" r=\"14.4\" fill=\"#0000ff\" fill-rule=\"evenodd\" fill-opacity=\"1\" stroke=\"#000000\" stroke-opacity=\"1\" stroke-width=\"3.2\"/>\n",
       "<circle clip-path=\"url(#clip433)\" cx=\"1797.94\" cy=\"496.697\" r=\"14.4\" fill=\"#0000ff\" fill-rule=\"evenodd\" fill-opacity=\"1\" stroke=\"#000000\" stroke-opacity=\"1\" stroke-width=\"3.2\"/>\n",
       "<circle clip-path=\"url(#clip433)\" cx=\"1903.22\" cy=\"389.189\" r=\"14.4\" fill=\"#0000ff\" fill-rule=\"evenodd\" fill-opacity=\"1\" stroke=\"#000000\" stroke-opacity=\"1\" stroke-width=\"3.2\"/>\n",
       "<circle clip-path=\"url(#clip433)\" cx=\"2008.5\" cy=\"298.293\" r=\"14.4\" fill=\"#0000ff\" fill-rule=\"evenodd\" fill-opacity=\"1\" stroke=\"#000000\" stroke-opacity=\"1\" stroke-width=\"3.2\"/>\n",
       "<circle clip-path=\"url(#clip433)\" cx=\"2113.77\" cy=\"219.555\" r=\"14.4\" fill=\"#0000ff\" fill-rule=\"evenodd\" fill-opacity=\"1\" stroke=\"#000000\" stroke-opacity=\"1\" stroke-width=\"3.2\"/>\n",
       "<circle clip-path=\"url(#clip433)\" cx=\"2219.05\" cy=\"150.103\" r=\"14.4\" fill=\"#0000ff\" fill-rule=\"evenodd\" fill-opacity=\"1\" stroke=\"#000000\" stroke-opacity=\"1\" stroke-width=\"3.2\"/>\n",
       "<circle clip-path=\"url(#clip433)\" cx=\"2324.33\" cy=\"87.9763\" r=\"14.4\" fill=\"#0000ff\" fill-rule=\"evenodd\" fill-opacity=\"1\" stroke=\"#000000\" stroke-opacity=\"1\" stroke-width=\"3.2\"/>\n",
       "<path clip-path=\"url(#clip430)\" d=\"M1381.88 198.898 L1534.38 198.898 L1534.38 95.2176 L1381.88 95.2176  Z\" fill=\"#ffffff\" fill-rule=\"evenodd\" fill-opacity=\"1\"/>\n",
       "<polyline clip-path=\"url(#clip430)\" style=\"stroke:#000000; stroke-linecap:round; stroke-linejoin:round; stroke-width:4; stroke-opacity:1; fill:none\" points=\"1381.88,198.898 1534.38,198.898 1534.38,95.2176 1381.88,95.2176 1381.88,198.898 \"/>\n",
       "<circle clip-path=\"url(#clip430)\" cx=\"1426.52\" cy=\"147.058\" r=\"20.48\" fill=\"#0000ff\" fill-rule=\"evenodd\" fill-opacity=\"1\" stroke=\"#000000\" stroke-opacity=\"1\" stroke-width=\"4.55111\"/>\n",
       "<path clip-path=\"url(#clip430)\" d=\"M1485 166.745 Q1483.19 171.375 1481.48 172.787 Q1479.77 174.199 1476.9 174.199 L1473.5 174.199 L1473.5 170.634 L1476 170.634 Q1477.76 170.634 1478.73 169.8 Q1479.7 168.967 1480.88 165.865 L1481.64 163.921 L1471.16 138.412 L1475.67 138.412 L1483.77 158.689 L1491.88 138.412 L1496.39 138.412 L1485 166.745 Z\" fill=\"#000000\" fill-rule=\"nonzero\" fill-opacity=\"1\" /><path clip-path=\"url(#clip430)\" d=\"M1506.9 160.402 L1523.22 160.402 L1523.22 164.338 L1501.27 164.338 L1501.27 160.402 Q1503.94 157.648 1508.52 153.018 Q1513.13 148.365 1514.31 147.023 Q1516.55 144.5 1517.43 142.764 Q1518.33 141.004 1518.33 139.315 Q1518.33 136.56 1516.39 134.824 Q1514.47 133.088 1511.37 133.088 Q1509.17 133.088 1506.71 133.852 Q1504.28 134.615 1501.51 136.166 L1501.51 131.444 Q1504.33 130.31 1506.78 129.731 Q1509.24 129.153 1511.27 129.153 Q1516.64 129.153 1519.84 131.838 Q1523.03 134.523 1523.03 139.014 Q1523.03 141.143 1522.22 143.065 Q1521.44 144.963 1519.33 147.555 Q1518.75 148.227 1515.65 151.444 Q1512.55 154.639 1506.9 160.402 Z\" fill=\"#000000\" fill-rule=\"nonzero\" fill-opacity=\"1\" /></svg>\n"
      ],
      "text/html": [
       "<?xml version=\"1.0\" encoding=\"utf-8\"?>\n",
       "<svg xmlns=\"http://www.w3.org/2000/svg\" xmlns:xlink=\"http://www.w3.org/1999/xlink\" width=\"600\" height=\"400\" viewBox=\"0 0 2400 1600\">\n",
       "<defs>\n",
       "  <clipPath id=\"clip480\">\n",
       "    <rect x=\"0\" y=\"0\" width=\"2400\" height=\"1600\"/>\n",
       "  </clipPath>\n",
       "</defs>\n",
       "<path clip-path=\"url(#clip480)\" d=\"M0 1600 L2400 1600 L2400 0 L0 0  Z\" fill=\"#ffffff\" fill-rule=\"evenodd\" fill-opacity=\"1\"/>\n",
       "<defs>\n",
       "  <clipPath id=\"clip481\">\n",
       "    <rect x=\"480\" y=\"0\" width=\"1681\" height=\"1600\"/>\n",
       "  </clipPath>\n",
       "</defs>\n",
       "<path clip-path=\"url(#clip480)\" d=\"M140.696 1486.45 L1145.05 1486.45 L1145.05 47.2441 L140.696 47.2441  Z\" fill=\"#ffffff\" fill-rule=\"evenodd\" fill-opacity=\"1\"/>\n",
       "<defs>\n",
       "  <clipPath id=\"clip482\">\n",
       "    <rect x=\"140\" y=\"47\" width=\"1005\" height=\"1440\"/>\n",
       "  </clipPath>\n",
       "</defs>\n",
       "<polyline clip-path=\"url(#clip482)\" style=\"stroke:#000000; stroke-linecap:round; stroke-linejoin:round; stroke-width:2; stroke-opacity:0.1; fill:none\" points=\"274.399,1486.45 274.399,47.2441 \"/>\n",
       "<polyline clip-path=\"url(#clip482)\" style=\"stroke:#000000; stroke-linecap:round; stroke-linejoin:round; stroke-width:2; stroke-opacity:0.1; fill:none\" points=\"484.955,1486.45 484.955,47.2441 \"/>\n",
       "<polyline clip-path=\"url(#clip482)\" style=\"stroke:#000000; stroke-linecap:round; stroke-linejoin:round; stroke-width:2; stroke-opacity:0.1; fill:none\" points=\"695.511,1486.45 695.511,47.2441 \"/>\n",
       "<polyline clip-path=\"url(#clip482)\" style=\"stroke:#000000; stroke-linecap:round; stroke-linejoin:round; stroke-width:2; stroke-opacity:0.1; fill:none\" points=\"906.067,1486.45 906.067,47.2441 \"/>\n",
       "<polyline clip-path=\"url(#clip482)\" style=\"stroke:#000000; stroke-linecap:round; stroke-linejoin:round; stroke-width:2; stroke-opacity:0.1; fill:none\" points=\"1116.62,1486.45 1116.62,47.2441 \"/>\n",
       "<polyline clip-path=\"url(#clip482)\" style=\"stroke:#000000; stroke-linecap:round; stroke-linejoin:round; stroke-width:2; stroke-opacity:0.1; fill:none\" points=\"140.696,1219.43 1145.05,1219.43 \"/>\n",
       "<polyline clip-path=\"url(#clip482)\" style=\"stroke:#000000; stroke-linecap:round; stroke-linejoin:round; stroke-width:2; stroke-opacity:0.1; fill:none\" points=\"140.696,842.276 1145.05,842.276 \"/>\n",
       "<polyline clip-path=\"url(#clip482)\" style=\"stroke:#000000; stroke-linecap:round; stroke-linejoin:round; stroke-width:2; stroke-opacity:0.1; fill:none\" points=\"140.696,465.126 1145.05,465.126 \"/>\n",
       "<polyline clip-path=\"url(#clip482)\" style=\"stroke:#000000; stroke-linecap:round; stroke-linejoin:round; stroke-width:2; stroke-opacity:0.1; fill:none\" points=\"140.696,87.9763 1145.05,87.9763 \"/>\n",
       "<polyline clip-path=\"url(#clip480)\" style=\"stroke:#000000; stroke-linecap:round; stroke-linejoin:round; stroke-width:4; stroke-opacity:1; fill:none\" points=\"140.696,1486.45 1145.05,1486.45 \"/>\n",
       "<polyline clip-path=\"url(#clip480)\" style=\"stroke:#000000; stroke-linecap:round; stroke-linejoin:round; stroke-width:4; stroke-opacity:1; fill:none\" points=\"274.399,1486.45 274.399,1467.55 \"/>\n",
       "<polyline clip-path=\"url(#clip480)\" style=\"stroke:#000000; stroke-linecap:round; stroke-linejoin:round; stroke-width:4; stroke-opacity:1; fill:none\" points=\"484.955,1486.45 484.955,1467.55 \"/>\n",
       "<polyline clip-path=\"url(#clip480)\" style=\"stroke:#000000; stroke-linecap:round; stroke-linejoin:round; stroke-width:4; stroke-opacity:1; fill:none\" points=\"695.511,1486.45 695.511,1467.55 \"/>\n",
       "<polyline clip-path=\"url(#clip480)\" style=\"stroke:#000000; stroke-linecap:round; stroke-linejoin:round; stroke-width:4; stroke-opacity:1; fill:none\" points=\"906.067,1486.45 906.067,1467.55 \"/>\n",
       "<polyline clip-path=\"url(#clip480)\" style=\"stroke:#000000; stroke-linecap:round; stroke-linejoin:round; stroke-width:4; stroke-opacity:1; fill:none\" points=\"1116.62,1486.45 1116.62,1467.55 \"/>\n",
       "<path clip-path=\"url(#clip480)\" d=\"M269.051 1544.91 L285.371 1544.91 L285.371 1548.85 L263.426 1548.85 L263.426 1544.91 Q266.088 1542.16 270.672 1537.53 Q275.278 1532.88 276.459 1531.53 Q278.704 1529.01 279.584 1527.27 Q280.487 1525.51 280.487 1523.82 Q280.487 1521.07 278.542 1519.33 Q276.621 1517.6 273.519 1517.6 Q271.32 1517.6 268.866 1518.36 Q266.436 1519.13 263.658 1520.68 L263.658 1515.95 Q266.482 1514.82 268.936 1514.24 Q271.389 1513.66 273.426 1513.66 Q278.797 1513.66 281.991 1516.35 Q285.186 1519.03 285.186 1523.52 Q285.186 1525.65 284.375 1527.57 Q283.588 1529.47 281.482 1532.07 Q280.903 1532.74 277.801 1535.95 Q274.7 1539.15 269.051 1544.91 Z\" fill=\"#000000\" fill-rule=\"nonzero\" fill-opacity=\"1\" /><path clip-path=\"url(#clip480)\" d=\"M487.964 1518.36 L476.158 1536.81 L487.964 1536.81 L487.964 1518.36 M486.737 1514.29 L492.617 1514.29 L492.617 1536.81 L497.547 1536.81 L497.547 1540.7 L492.617 1540.7 L492.617 1548.85 L487.964 1548.85 L487.964 1540.7 L472.362 1540.7 L472.362 1536.19 L486.737 1514.29 Z\" fill=\"#000000\" fill-rule=\"nonzero\" fill-opacity=\"1\" /><path clip-path=\"url(#clip480)\" d=\"M695.916 1529.7 Q692.768 1529.7 690.916 1531.86 Q689.087 1534.01 689.087 1537.76 Q689.087 1541.49 690.916 1543.66 Q692.768 1545.82 695.916 1545.82 Q699.064 1545.82 700.892 1543.66 Q702.744 1541.49 702.744 1537.76 Q702.744 1534.01 700.892 1531.86 Q699.064 1529.7 695.916 1529.7 M705.198 1515.05 L705.198 1519.31 Q703.439 1518.48 701.633 1518.04 Q699.851 1517.6 698.092 1517.6 Q693.462 1517.6 691.008 1520.72 Q688.578 1523.85 688.231 1530.17 Q689.596 1528.15 691.656 1527.09 Q693.717 1526 696.193 1526 Q701.402 1526 704.411 1529.17 Q707.443 1532.32 707.443 1537.76 Q707.443 1543.08 704.295 1546.3 Q701.147 1549.52 695.916 1549.52 Q689.92 1549.52 686.749 1544.94 Q683.578 1540.33 683.578 1531.6 Q683.578 1523.41 687.467 1518.55 Q691.356 1513.66 697.906 1513.66 Q699.666 1513.66 701.448 1514.01 Q703.254 1514.36 705.198 1515.05 Z\" fill=\"#000000\" fill-rule=\"nonzero\" fill-opacity=\"1\" /><path clip-path=\"url(#clip480)\" d=\"M906.067 1532.44 Q902.733 1532.44 900.812 1534.22 Q898.914 1536 898.914 1539.13 Q898.914 1542.25 900.812 1544.03 Q902.733 1545.82 906.067 1545.82 Q909.4 1545.82 911.321 1544.03 Q913.242 1542.23 913.242 1539.13 Q913.242 1536 911.321 1534.22 Q909.423 1532.44 906.067 1532.44 M901.391 1530.45 Q898.381 1529.7 896.692 1527.64 Q895.025 1525.58 895.025 1522.62 Q895.025 1518.48 897.965 1516.07 Q900.928 1513.66 906.067 1513.66 Q911.229 1513.66 914.168 1516.07 Q917.108 1518.48 917.108 1522.62 Q917.108 1525.58 915.418 1527.64 Q913.752 1529.7 910.766 1530.45 Q914.145 1531.23 916.02 1533.52 Q917.918 1535.82 917.918 1539.13 Q917.918 1544.15 914.84 1546.83 Q911.784 1549.52 906.067 1549.52 Q900.349 1549.52 897.27 1546.83 Q894.215 1544.15 894.215 1539.13 Q894.215 1535.82 896.113 1533.52 Q898.011 1531.23 901.391 1530.45 M899.678 1523.06 Q899.678 1525.75 901.344 1527.25 Q903.034 1528.76 906.067 1528.76 Q909.076 1528.76 910.766 1527.25 Q912.479 1525.75 912.479 1523.06 Q912.479 1520.38 910.766 1518.87 Q909.076 1517.37 906.067 1517.37 Q903.034 1517.37 901.344 1518.87 Q899.678 1520.38 899.678 1523.06 Z\" fill=\"#000000\" fill-rule=\"nonzero\" fill-opacity=\"1\" /><path clip-path=\"url(#clip480)\" d=\"M1091.31 1544.91 L1098.95 1544.91 L1098.95 1518.55 L1090.64 1520.21 L1090.64 1515.95 L1098.9 1514.29 L1103.58 1514.29 L1103.58 1544.91 L1111.22 1544.91 L1111.22 1548.85 L1091.31 1548.85 L1091.31 1544.91 Z\" fill=\"#000000\" fill-rule=\"nonzero\" fill-opacity=\"1\" /><path clip-path=\"url(#clip480)\" d=\"M1130.66 1517.37 Q1127.05 1517.37 1125.22 1520.93 Q1123.42 1524.47 1123.42 1531.6 Q1123.42 1538.71 1125.22 1542.27 Q1127.05 1545.82 1130.66 1545.82 Q1134.3 1545.82 1136.1 1542.27 Q1137.93 1538.71 1137.93 1531.6 Q1137.93 1524.47 1136.1 1520.93 Q1134.3 1517.37 1130.66 1517.37 M1130.66 1513.66 Q1136.47 1513.66 1139.53 1518.27 Q1142.61 1522.85 1142.61 1531.6 Q1142.61 1540.33 1139.53 1544.94 Q1136.47 1549.52 1130.66 1549.52 Q1124.85 1549.52 1121.77 1544.94 Q1118.72 1540.33 1118.72 1531.6 Q1118.72 1522.85 1121.77 1518.27 Q1124.85 1513.66 1130.66 1513.66 Z\" fill=\"#000000\" fill-rule=\"nonzero\" fill-opacity=\"1\" /><polyline clip-path=\"url(#clip480)\" style=\"stroke:#000000; stroke-linecap:round; stroke-linejoin:round; stroke-width:4; stroke-opacity:1; fill:none\" points=\"140.696,1486.45 140.696,47.2441 \"/>\n",
       "<polyline clip-path=\"url(#clip480)\" style=\"stroke:#000000; stroke-linecap:round; stroke-linejoin:round; stroke-width:4; stroke-opacity:1; fill:none\" points=\"140.696,1219.43 159.593,1219.43 \"/>\n",
       "<polyline clip-path=\"url(#clip480)\" style=\"stroke:#000000; stroke-linecap:round; stroke-linejoin:round; stroke-width:4; stroke-opacity:1; fill:none\" points=\"140.696,842.276 159.593,842.276 \"/>\n",
       "<polyline clip-path=\"url(#clip480)\" style=\"stroke:#000000; stroke-linecap:round; stroke-linejoin:round; stroke-width:4; stroke-opacity:1; fill:none\" points=\"140.696,465.126 159.593,465.126 \"/>\n",
       "<polyline clip-path=\"url(#clip480)\" style=\"stroke:#000000; stroke-linecap:round; stroke-linejoin:round; stroke-width:4; stroke-opacity:1; fill:none\" points=\"140.696,87.9763 159.593,87.9763 \"/>\n",
       "<path clip-path=\"url(#clip480)\" d=\"M83.7929 1202.15 L102.149 1202.15 L102.149 1206.08 L88.0753 1206.08 L88.0753 1214.55 Q89.0938 1214.21 90.1123 1214.04 Q91.1308 1213.86 92.1493 1213.86 Q97.9363 1213.86 101.316 1217.03 Q104.696 1220.2 104.696 1225.62 Q104.696 1231.2 101.223 1234.3 Q97.7511 1237.38 91.4317 1237.38 Q89.2558 1237.38 86.9873 1237.01 Q84.7419 1236.64 82.3346 1235.9 L82.3346 1231.2 Q84.4179 1232.33 86.6401 1232.89 Q88.8623 1233.44 91.3391 1233.44 Q95.3437 1233.44 97.6817 1231.34 Q100.02 1229.23 100.02 1225.62 Q100.02 1222.01 97.6817 1219.9 Q95.3437 1217.79 91.3391 1217.79 Q89.4641 1217.79 87.5892 1218.21 Q85.7373 1218.63 83.7929 1219.51 L83.7929 1202.15 Z\" fill=\"#000000\" fill-rule=\"nonzero\" fill-opacity=\"1\" /><path clip-path=\"url(#clip480)\" d=\"M53.3995 855.621 L61.0384 855.621 L61.0384 829.255 L52.7282 830.922 L52.7282 826.663 L60.9921 824.996 L65.668 824.996 L65.668 855.621 L73.3068 855.621 L73.3068 859.556 L53.3995 859.556 L53.3995 855.621 Z\" fill=\"#000000\" fill-rule=\"nonzero\" fill-opacity=\"1\" /><path clip-path=\"url(#clip480)\" d=\"M92.7512 828.075 Q89.1401 828.075 87.3114 831.639 Q85.5058 835.181 85.5058 842.311 Q85.5058 849.417 87.3114 852.982 Q89.1401 856.524 92.7512 856.524 Q96.3854 856.524 98.1909 852.982 Q100.02 849.417 100.02 842.311 Q100.02 835.181 98.1909 831.639 Q96.3854 828.075 92.7512 828.075 M92.7512 824.371 Q98.5613 824.371 101.617 828.977 Q104.696 833.561 104.696 842.311 Q104.696 851.037 101.617 855.644 Q98.5613 860.227 92.7512 860.227 Q86.941 860.227 83.8623 855.644 Q80.8068 851.037 80.8068 842.311 Q80.8068 833.561 83.8623 828.977 Q86.941 824.371 92.7512 824.371 Z\" fill=\"#000000\" fill-rule=\"nonzero\" fill-opacity=\"1\" /><path clip-path=\"url(#clip480)\" d=\"M54.3949 478.471 L62.0337 478.471 L62.0337 452.105 L53.7236 453.772 L53.7236 449.513 L61.9874 447.846 L66.6633 447.846 L66.6633 478.471 L74.3022 478.471 L74.3022 482.406 L54.3949 482.406 L54.3949 478.471 Z\" fill=\"#000000\" fill-rule=\"nonzero\" fill-opacity=\"1\" /><path clip-path=\"url(#clip480)\" d=\"M83.7929 447.846 L102.149 447.846 L102.149 451.781 L88.0753 451.781 L88.0753 460.253 Q89.0938 459.906 90.1123 459.744 Q91.1308 459.559 92.1493 459.559 Q97.9363 459.559 101.316 462.73 Q104.696 465.902 104.696 471.318 Q104.696 476.897 101.223 479.999 Q97.7511 483.077 91.4317 483.077 Q89.2558 483.077 86.9873 482.707 Q84.7419 482.337 82.3346 481.596 L82.3346 476.897 Q84.4179 478.031 86.6401 478.587 Q88.8623 479.142 91.3391 479.142 Q95.3437 479.142 97.6817 477.036 Q100.02 474.929 100.02 471.318 Q100.02 467.707 97.6817 465.601 Q95.3437 463.494 91.3391 463.494 Q89.4641 463.494 87.5892 463.911 Q85.7373 464.328 83.7929 465.207 L83.7929 447.846 Z\" fill=\"#000000\" fill-rule=\"nonzero\" fill-opacity=\"1\" /><path clip-path=\"url(#clip480)\" d=\"M56.6171 101.321 L72.9365 101.321 L72.9365 105.256 L50.9921 105.256 L50.9921 101.321 Q53.6541 98.5665 58.2375 93.9369 Q62.8439 89.2841 64.0245 87.9416 Q66.2698 85.4184 67.1494 83.6823 Q68.0522 81.9231 68.0522 80.2333 Q68.0522 77.4786 66.1078 75.7425 Q64.1865 74.0064 61.0847 74.0064 Q58.8856 74.0064 56.4319 74.7703 Q54.0014 75.5342 51.2236 77.0851 L51.2236 72.3629 Q54.0477 71.2287 56.5014 70.65 Q58.955 70.0713 60.9921 70.0713 Q66.3624 70.0713 69.5568 72.7565 Q72.7513 75.4416 72.7513 79.9323 Q72.7513 82.062 71.9411 83.9832 Q71.1541 85.8814 69.0476 88.474 Q68.4689 89.1453 65.367 92.3628 Q62.2652 95.5573 56.6171 101.321 Z\" fill=\"#000000\" fill-rule=\"nonzero\" fill-opacity=\"1\" /><path clip-path=\"url(#clip480)\" d=\"M92.7512 73.775 Q89.1401 73.775 87.3114 77.3398 Q85.5058 80.8814 85.5058 88.011 Q85.5058 95.1174 87.3114 98.6822 Q89.1401 102.224 92.7512 102.224 Q96.3854 102.224 98.1909 98.6822 Q100.02 95.1174 100.02 88.011 Q100.02 80.8814 98.1909 77.3398 Q96.3854 73.775 92.7512 73.775 M92.7512 70.0713 Q98.5613 70.0713 101.617 74.6777 Q104.696 79.261 104.696 88.011 Q104.696 96.7378 101.617 101.344 Q98.5613 105.928 92.7512 105.928 Q86.941 105.928 83.8623 101.344 Q80.8068 96.7378 80.8068 88.011 Q80.8068 79.261 83.8623 74.6777 Q86.941 70.0713 92.7512 70.0713 Z\" fill=\"#000000\" fill-rule=\"nonzero\" fill-opacity=\"1\" /><circle clip-path=\"url(#clip482)\" cx=\"169.121\" cy=\"1445.72\" r=\"14.4\" fill=\"#ff0000\" fill-rule=\"evenodd\" fill-opacity=\"1\" stroke=\"#000000\" stroke-opacity=\"1\" stroke-width=\"3.2\"/>\n",
       "<circle clip-path=\"url(#clip482)\" cx=\"274.399\" cy=\"1294.86\" r=\"14.4\" fill=\"#ff0000\" fill-rule=\"evenodd\" fill-opacity=\"1\" stroke=\"#000000\" stroke-opacity=\"1\" stroke-width=\"3.2\"/>\n",
       "<circle clip-path=\"url(#clip482)\" cx=\"379.677\" cy=\"1144\" r=\"14.4\" fill=\"#ff0000\" fill-rule=\"evenodd\" fill-opacity=\"1\" stroke=\"#000000\" stroke-opacity=\"1\" stroke-width=\"3.2\"/>\n",
       "<circle clip-path=\"url(#clip482)\" cx=\"484.955\" cy=\"993.136\" r=\"14.4\" fill=\"#ff0000\" fill-rule=\"evenodd\" fill-opacity=\"1\" stroke=\"#000000\" stroke-opacity=\"1\" stroke-width=\"3.2\"/>\n",
       "<circle clip-path=\"url(#clip482)\" cx=\"590.233\" cy=\"842.276\" r=\"14.4\" fill=\"#ff0000\" fill-rule=\"evenodd\" fill-opacity=\"1\" stroke=\"#000000\" stroke-opacity=\"1\" stroke-width=\"3.2\"/>\n",
       "<circle clip-path=\"url(#clip482)\" cx=\"695.511\" cy=\"691.416\" r=\"14.4\" fill=\"#ff0000\" fill-rule=\"evenodd\" fill-opacity=\"1\" stroke=\"#000000\" stroke-opacity=\"1\" stroke-width=\"3.2\"/>\n",
       "<circle clip-path=\"url(#clip482)\" cx=\"800.789\" cy=\"540.556\" r=\"14.4\" fill=\"#ff0000\" fill-rule=\"evenodd\" fill-opacity=\"1\" stroke=\"#000000\" stroke-opacity=\"1\" stroke-width=\"3.2\"/>\n",
       "<circle clip-path=\"url(#clip482)\" cx=\"906.067\" cy=\"389.696\" r=\"14.4\" fill=\"#ff0000\" fill-rule=\"evenodd\" fill-opacity=\"1\" stroke=\"#000000\" stroke-opacity=\"1\" stroke-width=\"3.2\"/>\n",
       "<circle clip-path=\"url(#clip482)\" cx=\"1011.34\" cy=\"238.836\" r=\"14.4\" fill=\"#ff0000\" fill-rule=\"evenodd\" fill-opacity=\"1\" stroke=\"#000000\" stroke-opacity=\"1\" stroke-width=\"3.2\"/>\n",
       "<circle clip-path=\"url(#clip482)\" cx=\"1116.62\" cy=\"87.9763\" r=\"14.4\" fill=\"#ff0000\" fill-rule=\"evenodd\" fill-opacity=\"1\" stroke=\"#000000\" stroke-opacity=\"1\" stroke-width=\"3.2\"/>\n",
       "<path clip-path=\"url(#clip480)\" d=\"M174.174 198.898 L327.039 198.898 L327.039 95.2176 L174.174 95.2176  Z\" fill=\"#ffffff\" fill-rule=\"evenodd\" fill-opacity=\"1\"/>\n",
       "<polyline clip-path=\"url(#clip480)\" style=\"stroke:#000000; stroke-linecap:round; stroke-linejoin:round; stroke-width:4; stroke-opacity:1; fill:none\" points=\"174.174,198.898 327.039,198.898 327.039,95.2176 174.174,95.2176 174.174,198.898 \"/>\n",
       "<circle clip-path=\"url(#clip480)\" cx=\"218.812\" cy=\"147.058\" r=\"20.48\" fill=\"#ff0000\" fill-rule=\"evenodd\" fill-opacity=\"1\" stroke=\"#000000\" stroke-opacity=\"1\" stroke-width=\"4.55111\"/>\n",
       "<path clip-path=\"url(#clip480)\" d=\"M277.292 166.745 Q275.487 171.375 273.774 172.787 Q272.061 174.199 269.19 174.199 L265.788 174.199 L265.788 170.634 L268.288 170.634 Q270.047 170.634 271.019 169.8 Q271.991 168.967 273.172 165.865 L273.936 163.921 L263.45 138.412 L267.964 138.412 L276.065 158.689 L284.167 138.412 L288.681 138.412 L277.292 166.745 Z\" fill=\"#000000\" fill-rule=\"nonzero\" fill-opacity=\"1\" /><path clip-path=\"url(#clip480)\" d=\"M295.973 160.402 L303.612 160.402 L303.612 134.037 L295.301 135.703 L295.301 131.444 L303.565 129.778 L308.241 129.778 L308.241 160.402 L315.88 160.402 L315.88 164.338 L295.973 164.338 L295.973 160.402 Z\" fill=\"#000000\" fill-rule=\"nonzero\" fill-opacity=\"1\" /><path clip-path=\"url(#clip480)\" d=\"M1348.4 1486.45 L2352.76 1486.45 L2352.76 47.2441 L1348.4 47.2441  Z\" fill=\"#ffffff\" fill-rule=\"evenodd\" fill-opacity=\"1\"/>\n",
       "<defs>\n",
       "  <clipPath id=\"clip483\">\n",
       "    <rect x=\"1348\" y=\"47\" width=\"1005\" height=\"1440\"/>\n",
       "  </clipPath>\n",
       "</defs>\n",
       "<polyline clip-path=\"url(#clip483)\" style=\"stroke:#000000; stroke-linecap:round; stroke-linejoin:round; stroke-width:2; stroke-opacity:0.1; fill:none\" points=\"1482.11,1486.45 1482.11,47.2441 \"/>\n",
       "<polyline clip-path=\"url(#clip483)\" style=\"stroke:#000000; stroke-linecap:round; stroke-linejoin:round; stroke-width:2; stroke-opacity:0.1; fill:none\" points=\"1692.66,1486.45 1692.66,47.2441 \"/>\n",
       "<polyline clip-path=\"url(#clip483)\" style=\"stroke:#000000; stroke-linecap:round; stroke-linejoin:round; stroke-width:2; stroke-opacity:0.1; fill:none\" points=\"1903.22,1486.45 1903.22,47.2441 \"/>\n",
       "<polyline clip-path=\"url(#clip483)\" style=\"stroke:#000000; stroke-linecap:round; stroke-linejoin:round; stroke-width:2; stroke-opacity:0.1; fill:none\" points=\"2113.77,1486.45 2113.77,47.2441 \"/>\n",
       "<polyline clip-path=\"url(#clip483)\" style=\"stroke:#000000; stroke-linecap:round; stroke-linejoin:round; stroke-width:2; stroke-opacity:0.1; fill:none\" points=\"2324.33,1486.45 2324.33,47.2441 \"/>\n",
       "<polyline clip-path=\"url(#clip483)\" style=\"stroke:#000000; stroke-linecap:round; stroke-linejoin:round; stroke-width:2; stroke-opacity:0.1; fill:none\" points=\"1348.4,1445.72 2352.76,1445.72 \"/>\n",
       "<polyline clip-path=\"url(#clip483)\" style=\"stroke:#000000; stroke-linecap:round; stroke-linejoin:round; stroke-width:2; stroke-opacity:0.1; fill:none\" points=\"1348.4,1150.89 2352.76,1150.89 \"/>\n",
       "<polyline clip-path=\"url(#clip483)\" style=\"stroke:#000000; stroke-linecap:round; stroke-linejoin:round; stroke-width:2; stroke-opacity:0.1; fill:none\" points=\"1348.4,856.057 2352.76,856.057 \"/>\n",
       "<polyline clip-path=\"url(#clip483)\" style=\"stroke:#000000; stroke-linecap:round; stroke-linejoin:round; stroke-width:2; stroke-opacity:0.1; fill:none\" points=\"1348.4,561.228 2352.76,561.228 \"/>\n",
       "<polyline clip-path=\"url(#clip483)\" style=\"stroke:#000000; stroke-linecap:round; stroke-linejoin:round; stroke-width:2; stroke-opacity:0.1; fill:none\" points=\"1348.4,266.398 2352.76,266.398 \"/>\n",
       "<polyline clip-path=\"url(#clip480)\" style=\"stroke:#000000; stroke-linecap:round; stroke-linejoin:round; stroke-width:4; stroke-opacity:1; fill:none\" points=\"1348.4,1486.45 2352.76,1486.45 \"/>\n",
       "<polyline clip-path=\"url(#clip480)\" style=\"stroke:#000000; stroke-linecap:round; stroke-linejoin:round; stroke-width:4; stroke-opacity:1; fill:none\" points=\"1482.11,1486.45 1482.11,1467.55 \"/>\n",
       "<polyline clip-path=\"url(#clip480)\" style=\"stroke:#000000; stroke-linecap:round; stroke-linejoin:round; stroke-width:4; stroke-opacity:1; fill:none\" points=\"1692.66,1486.45 1692.66,1467.55 \"/>\n",
       "<polyline clip-path=\"url(#clip480)\" style=\"stroke:#000000; stroke-linecap:round; stroke-linejoin:round; stroke-width:4; stroke-opacity:1; fill:none\" points=\"1903.22,1486.45 1903.22,1467.55 \"/>\n",
       "<polyline clip-path=\"url(#clip480)\" style=\"stroke:#000000; stroke-linecap:round; stroke-linejoin:round; stroke-width:4; stroke-opacity:1; fill:none\" points=\"2113.77,1486.45 2113.77,1467.55 \"/>\n",
       "<polyline clip-path=\"url(#clip480)\" style=\"stroke:#000000; stroke-linecap:round; stroke-linejoin:round; stroke-width:4; stroke-opacity:1; fill:none\" points=\"2324.33,1486.45 2324.33,1467.55 \"/>\n",
       "<path clip-path=\"url(#clip480)\" d=\"M1476.76 1544.91 L1493.08 1544.91 L1493.08 1548.85 L1471.13 1548.85 L1471.13 1544.91 Q1473.8 1542.16 1478.38 1537.53 Q1482.99 1532.88 1484.17 1531.53 Q1486.41 1529.01 1487.29 1527.27 Q1488.19 1525.51 1488.19 1523.82 Q1488.19 1521.07 1486.25 1519.33 Q1484.33 1517.6 1481.23 1517.6 Q1479.03 1517.6 1476.57 1518.36 Q1474.14 1519.13 1471.37 1520.68 L1471.37 1515.95 Q1474.19 1514.82 1476.64 1514.24 Q1479.1 1513.66 1481.13 1513.66 Q1486.51 1513.66 1489.7 1516.35 Q1492.89 1519.03 1492.89 1523.52 Q1492.89 1525.65 1492.08 1527.57 Q1491.3 1529.47 1489.19 1532.07 Q1488.61 1532.74 1485.51 1535.95 Q1482.41 1539.15 1476.76 1544.91 Z\" fill=\"#000000\" fill-rule=\"nonzero\" fill-opacity=\"1\" /><path clip-path=\"url(#clip480)\" d=\"M1695.67 1518.36 L1683.87 1536.81 L1695.67 1536.81 L1695.67 1518.36 M1694.45 1514.29 L1700.32 1514.29 L1700.32 1536.81 L1705.26 1536.81 L1705.26 1540.7 L1700.32 1540.7 L1700.32 1548.85 L1695.67 1548.85 L1695.67 1540.7 L1680.07 1540.7 L1680.07 1536.19 L1694.45 1514.29 Z\" fill=\"#000000\" fill-rule=\"nonzero\" fill-opacity=\"1\" /><path clip-path=\"url(#clip480)\" d=\"M1903.62 1529.7 Q1900.48 1529.7 1898.62 1531.86 Q1896.8 1534.01 1896.8 1537.76 Q1896.8 1541.49 1898.62 1543.66 Q1900.48 1545.82 1903.62 1545.82 Q1906.77 1545.82 1908.6 1543.66 Q1910.45 1541.49 1910.45 1537.76 Q1910.45 1534.01 1908.6 1531.86 Q1906.77 1529.7 1903.62 1529.7 M1912.91 1515.05 L1912.91 1519.31 Q1911.15 1518.48 1909.34 1518.04 Q1907.56 1517.6 1905.8 1517.6 Q1901.17 1517.6 1898.72 1520.72 Q1896.29 1523.85 1895.94 1530.17 Q1897.3 1528.15 1899.36 1527.09 Q1901.42 1526 1903.9 1526 Q1909.11 1526 1912.12 1529.17 Q1915.15 1532.32 1915.15 1537.76 Q1915.15 1543.08 1912 1546.3 Q1908.86 1549.52 1903.62 1549.52 Q1897.63 1549.52 1894.46 1544.94 Q1891.29 1540.33 1891.29 1531.6 Q1891.29 1523.41 1895.17 1518.55 Q1899.06 1513.66 1905.61 1513.66 Q1907.37 1513.66 1909.16 1514.01 Q1910.96 1514.36 1912.91 1515.05 Z\" fill=\"#000000\" fill-rule=\"nonzero\" fill-opacity=\"1\" /><path clip-path=\"url(#clip480)\" d=\"M2113.77 1532.44 Q2110.44 1532.44 2108.52 1534.22 Q2106.62 1536 2106.62 1539.13 Q2106.62 1542.25 2108.52 1544.03 Q2110.44 1545.82 2113.77 1545.82 Q2117.11 1545.82 2119.03 1544.03 Q2120.95 1542.23 2120.95 1539.13 Q2120.95 1536 2119.03 1534.22 Q2117.13 1532.44 2113.77 1532.44 M2109.1 1530.45 Q2106.09 1529.7 2104.4 1527.64 Q2102.73 1525.58 2102.73 1522.62 Q2102.73 1518.48 2105.67 1516.07 Q2108.64 1513.66 2113.77 1513.66 Q2118.94 1513.66 2121.88 1516.07 Q2124.82 1518.48 2124.82 1522.62 Q2124.82 1525.58 2123.13 1527.64 Q2121.46 1529.7 2118.47 1530.45 Q2121.85 1531.23 2123.73 1533.52 Q2125.63 1535.82 2125.63 1539.13 Q2125.63 1544.15 2122.55 1546.83 Q2119.49 1549.52 2113.77 1549.52 Q2108.06 1549.52 2104.98 1546.83 Q2101.92 1544.15 2101.92 1539.13 Q2101.92 1535.82 2103.82 1533.52 Q2105.72 1531.23 2109.1 1530.45 M2107.39 1523.06 Q2107.39 1525.75 2109.05 1527.25 Q2110.74 1528.76 2113.77 1528.76 Q2116.78 1528.76 2118.47 1527.25 Q2120.19 1525.75 2120.19 1523.06 Q2120.19 1520.38 2118.47 1518.87 Q2116.78 1517.37 2113.77 1517.37 Q2110.74 1517.37 2109.05 1518.87 Q2107.39 1520.38 2107.39 1523.06 Z\" fill=\"#000000\" fill-rule=\"nonzero\" fill-opacity=\"1\" /><path clip-path=\"url(#clip480)\" d=\"M2299.02 1544.91 L2306.66 1544.91 L2306.66 1518.55 L2298.35 1520.21 L2298.35 1515.95 L2306.61 1514.29 L2311.29 1514.29 L2311.29 1544.91 L2318.93 1544.91 L2318.93 1548.85 L2299.02 1548.85 L2299.02 1544.91 Z\" fill=\"#000000\" fill-rule=\"nonzero\" fill-opacity=\"1\" /><path clip-path=\"url(#clip480)\" d=\"M2338.37 1517.37 Q2334.76 1517.37 2332.93 1520.93 Q2331.12 1524.47 2331.12 1531.6 Q2331.12 1538.71 2332.93 1542.27 Q2334.76 1545.82 2338.37 1545.82 Q2342 1545.82 2343.81 1542.27 Q2345.64 1538.71 2345.64 1531.6 Q2345.64 1524.47 2343.81 1520.93 Q2342 1517.37 2338.37 1517.37 M2338.37 1513.66 Q2344.18 1513.66 2347.24 1518.27 Q2350.31 1522.85 2350.31 1531.6 Q2350.31 1540.33 2347.24 1544.94 Q2344.18 1549.52 2338.37 1549.52 Q2332.56 1549.52 2329.48 1544.94 Q2326.43 1540.33 2326.43 1531.6 Q2326.43 1522.85 2329.48 1518.27 Q2332.56 1513.66 2338.37 1513.66 Z\" fill=\"#000000\" fill-rule=\"nonzero\" fill-opacity=\"1\" /><polyline clip-path=\"url(#clip480)\" style=\"stroke:#000000; stroke-linecap:round; stroke-linejoin:round; stroke-width:4; stroke-opacity:1; fill:none\" points=\"1348.4,1486.45 1348.4,47.2441 \"/>\n",
       "<polyline clip-path=\"url(#clip480)\" style=\"stroke:#000000; stroke-linecap:round; stroke-linejoin:round; stroke-width:4; stroke-opacity:1; fill:none\" points=\"1348.4,1445.72 1367.3,1445.72 \"/>\n",
       "<polyline clip-path=\"url(#clip480)\" style=\"stroke:#000000; stroke-linecap:round; stroke-linejoin:round; stroke-width:4; stroke-opacity:1; fill:none\" points=\"1348.4,1150.89 1367.3,1150.89 \"/>\n",
       "<polyline clip-path=\"url(#clip480)\" style=\"stroke:#000000; stroke-linecap:round; stroke-linejoin:round; stroke-width:4; stroke-opacity:1; fill:none\" points=\"1348.4,856.057 1367.3,856.057 \"/>\n",
       "<polyline clip-path=\"url(#clip480)\" style=\"stroke:#000000; stroke-linecap:round; stroke-linejoin:round; stroke-width:4; stroke-opacity:1; fill:none\" points=\"1348.4,561.228 1367.3,561.228 \"/>\n",
       "<polyline clip-path=\"url(#clip480)\" style=\"stroke:#000000; stroke-linecap:round; stroke-linejoin:round; stroke-width:4; stroke-opacity:1; fill:none\" points=\"1348.4,266.398 1367.3,266.398 \"/>\n",
       "<path clip-path=\"url(#clip480)\" d=\"M1255.23 1431.51 Q1251.62 1431.51 1249.79 1435.08 Q1247.98 1438.62 1247.98 1445.75 Q1247.98 1452.86 1249.79 1456.42 Q1251.62 1459.96 1255.23 1459.96 Q1258.86 1459.96 1260.67 1456.42 Q1262.5 1452.86 1262.5 1445.75 Q1262.5 1438.62 1260.67 1435.08 Q1258.86 1431.51 1255.23 1431.51 M1255.23 1427.81 Q1261.04 1427.81 1264.09 1432.42 Q1267.17 1437 1267.17 1445.75 Q1267.17 1454.48 1264.09 1459.08 Q1261.04 1463.67 1255.23 1463.67 Q1249.42 1463.67 1246.34 1459.08 Q1243.28 1454.48 1243.28 1445.75 Q1243.28 1437 1246.34 1432.42 Q1249.42 1427.81 1255.23 1427.81 Z\" fill=\"#000000\" fill-rule=\"nonzero\" fill-opacity=\"1\" /><path clip-path=\"url(#clip480)\" d=\"M1275.39 1457.12 L1280.27 1457.12 L1280.27 1463 L1275.39 1463 L1275.39 1457.12 Z\" fill=\"#000000\" fill-rule=\"nonzero\" fill-opacity=\"1\" /><path clip-path=\"url(#clip480)\" d=\"M1300.46 1431.51 Q1296.85 1431.51 1295.02 1435.08 Q1293.21 1438.62 1293.21 1445.75 Q1293.21 1452.86 1295.02 1456.42 Q1296.85 1459.96 1300.46 1459.96 Q1304.09 1459.96 1305.9 1456.42 Q1307.73 1452.86 1307.73 1445.75 Q1307.73 1438.62 1305.9 1435.08 Q1304.09 1431.51 1300.46 1431.51 M1300.46 1427.81 Q1306.27 1427.81 1309.33 1432.42 Q1312.4 1437 1312.4 1445.75 Q1312.4 1454.48 1309.33 1459.08 Q1306.27 1463.67 1300.46 1463.67 Q1294.65 1463.67 1291.57 1459.08 Q1288.52 1454.48 1288.52 1445.75 Q1288.52 1437 1291.57 1432.42 Q1294.65 1427.81 1300.46 1427.81 Z\" fill=\"#000000\" fill-rule=\"nonzero\" fill-opacity=\"1\" /><path clip-path=\"url(#clip480)\" d=\"M1256.22 1136.69 Q1252.61 1136.69 1250.78 1140.25 Q1248.98 1143.79 1248.98 1150.92 Q1248.98 1158.03 1250.78 1161.59 Q1252.61 1165.13 1256.22 1165.13 Q1259.86 1165.13 1261.66 1161.59 Q1263.49 1158.03 1263.49 1150.92 Q1263.49 1143.79 1261.66 1140.25 Q1259.86 1136.69 1256.22 1136.69 M1256.22 1132.98 Q1262.03 1132.98 1265.09 1137.59 Q1268.17 1142.17 1268.17 1150.92 Q1268.17 1159.65 1265.09 1164.25 Q1262.03 1168.84 1256.22 1168.84 Q1250.41 1168.84 1247.33 1164.25 Q1244.28 1159.65 1244.28 1150.92 Q1244.28 1142.17 1247.33 1137.59 Q1250.41 1132.98 1256.22 1132.98 Z\" fill=\"#000000\" fill-rule=\"nonzero\" fill-opacity=\"1\" /><path clip-path=\"url(#clip480)\" d=\"M1276.39 1162.29 L1281.27 1162.29 L1281.27 1168.17 L1276.39 1168.17 L1276.39 1162.29 Z\" fill=\"#000000\" fill-rule=\"nonzero\" fill-opacity=\"1\" /><path clip-path=\"url(#clip480)\" d=\"M1291.5 1133.61 L1309.86 1133.61 L1309.86 1137.54 L1295.78 1137.54 L1295.78 1146.01 Q1296.8 1145.67 1297.82 1145.5 Q1298.84 1145.32 1299.86 1145.32 Q1305.64 1145.32 1309.02 1148.49 Q1312.4 1151.66 1312.4 1157.08 Q1312.4 1162.66 1308.93 1165.76 Q1305.46 1168.84 1299.14 1168.84 Q1296.96 1168.84 1294.7 1168.47 Q1292.45 1168.1 1290.04 1167.36 L1290.04 1162.66 Q1292.13 1163.79 1294.35 1164.35 Q1296.57 1164.9 1299.05 1164.9 Q1303.05 1164.9 1305.39 1162.8 Q1307.73 1160.69 1307.73 1157.08 Q1307.73 1153.47 1305.39 1151.36 Q1303.05 1149.25 1299.05 1149.25 Q1297.17 1149.25 1295.3 1149.67 Q1293.45 1150.09 1291.5 1150.97 L1291.5 1133.61 Z\" fill=\"#000000\" fill-rule=\"nonzero\" fill-opacity=\"1\" /><path clip-path=\"url(#clip480)\" d=\"M1246.04 869.402 L1253.68 869.402 L1253.68 843.036 L1245.37 844.703 L1245.37 840.444 L1253.63 838.777 L1258.31 838.777 L1258.31 869.402 L1265.95 869.402 L1265.95 873.337 L1246.04 873.337 L1246.04 869.402 Z\" fill=\"#000000\" fill-rule=\"nonzero\" fill-opacity=\"1\" /><path clip-path=\"url(#clip480)\" d=\"M1275.39 867.457 L1280.27 867.457 L1280.27 873.337 L1275.39 873.337 L1275.39 867.457 Z\" fill=\"#000000\" fill-rule=\"nonzero\" fill-opacity=\"1\" /><path clip-path=\"url(#clip480)\" d=\"M1300.46 841.856 Q1296.85 841.856 1295.02 845.42 Q1293.21 848.962 1293.21 856.092 Q1293.21 863.198 1295.02 866.763 Q1296.85 870.305 1300.46 870.305 Q1304.09 870.305 1305.9 866.763 Q1307.73 863.198 1307.73 856.092 Q1307.73 848.962 1305.9 845.42 Q1304.09 841.856 1300.46 841.856 M1300.46 838.152 Q1306.27 838.152 1309.33 842.758 Q1312.4 847.342 1312.4 856.092 Q1312.4 864.818 1309.33 869.425 Q1306.27 874.008 1300.46 874.008 Q1294.65 874.008 1291.57 869.425 Q1288.52 864.818 1288.52 856.092 Q1288.52 847.342 1291.57 842.758 Q1294.65 838.152 1300.46 838.152 Z\" fill=\"#000000\" fill-rule=\"nonzero\" fill-opacity=\"1\" /><path clip-path=\"url(#clip480)\" d=\"M1247.03 574.572 L1254.67 574.572 L1254.67 548.207 L1246.36 549.873 L1246.36 545.614 L1254.63 543.948 L1259.3 543.948 L1259.3 574.572 L1266.94 574.572 L1266.94 578.508 L1247.03 578.508 L1247.03 574.572 Z\" fill=\"#000000\" fill-rule=\"nonzero\" fill-opacity=\"1\" /><path clip-path=\"url(#clip480)\" d=\"M1276.39 572.628 L1281.27 572.628 L1281.27 578.508 L1276.39 578.508 L1276.39 572.628 Z\" fill=\"#000000\" fill-rule=\"nonzero\" fill-opacity=\"1\" /><path clip-path=\"url(#clip480)\" d=\"M1291.5 543.948 L1309.86 543.948 L1309.86 547.883 L1295.78 547.883 L1295.78 556.355 Q1296.8 556.008 1297.82 555.846 Q1298.84 555.66 1299.86 555.66 Q1305.64 555.66 1309.02 558.832 Q1312.4 562.003 1312.4 567.42 Q1312.4 572.998 1308.93 576.1 Q1305.46 579.179 1299.14 579.179 Q1296.96 579.179 1294.7 578.809 Q1292.45 578.438 1290.04 577.697 L1290.04 572.998 Q1292.13 574.133 1294.35 574.688 Q1296.57 575.244 1299.05 575.244 Q1303.05 575.244 1305.39 573.137 Q1307.73 571.031 1307.73 567.42 Q1307.73 563.809 1305.39 561.702 Q1303.05 559.596 1299.05 559.596 Q1297.17 559.596 1295.3 560.012 Q1293.45 560.429 1291.5 561.309 L1291.5 543.948 Z\" fill=\"#000000\" fill-rule=\"nonzero\" fill-opacity=\"1\" /><path clip-path=\"url(#clip480)\" d=\"M1249.26 279.743 L1265.58 279.743 L1265.58 283.678 L1243.63 283.678 L1243.63 279.743 Q1246.29 276.988 1250.88 272.359 Q1255.48 267.706 1256.66 266.363 Q1258.91 263.84 1259.79 262.104 Q1260.69 260.345 1260.69 258.655 Q1260.69 255.901 1258.75 254.164 Q1256.83 252.428 1253.72 252.428 Q1251.52 252.428 1249.07 253.192 Q1246.64 253.956 1243.86 255.507 L1243.86 250.785 Q1246.69 249.651 1249.14 249.072 Q1251.59 248.493 1253.63 248.493 Q1259 248.493 1262.2 251.178 Q1265.39 253.864 1265.39 258.354 Q1265.39 260.484 1264.58 262.405 Q1263.79 264.303 1261.69 266.896 Q1261.11 267.567 1258.01 270.785 Q1254.9 273.979 1249.26 279.743 Z\" fill=\"#000000\" fill-rule=\"nonzero\" fill-opacity=\"1\" /><path clip-path=\"url(#clip480)\" d=\"M1275.39 277.799 L1280.27 277.799 L1280.27 283.678 L1275.39 283.678 L1275.39 277.799 Z\" fill=\"#000000\" fill-rule=\"nonzero\" fill-opacity=\"1\" /><path clip-path=\"url(#clip480)\" d=\"M1300.46 252.197 Q1296.85 252.197 1295.02 255.762 Q1293.21 259.303 1293.21 266.433 Q1293.21 273.539 1295.02 277.104 Q1296.85 280.646 1300.46 280.646 Q1304.09 280.646 1305.9 277.104 Q1307.73 273.539 1307.73 266.433 Q1307.73 259.303 1305.9 255.762 Q1304.09 252.197 1300.46 252.197 M1300.46 248.493 Q1306.27 248.493 1309.33 253.1 Q1312.4 257.683 1312.4 266.433 Q1312.4 275.16 1309.33 279.766 Q1306.27 284.35 1300.46 284.35 Q1294.65 284.35 1291.57 279.766 Q1288.52 275.16 1288.52 266.433 Q1288.52 257.683 1291.57 253.1 Q1294.65 248.493 1300.46 248.493 Z\" fill=\"#000000\" fill-rule=\"nonzero\" fill-opacity=\"1\" /><circle clip-path=\"url(#clip483)\" cx=\"1376.83\" cy=\"1445.72\" r=\"14.4\" fill=\"#0000ff\" fill-rule=\"evenodd\" fill-opacity=\"1\" stroke=\"#000000\" stroke-opacity=\"1\" stroke-width=\"3.2\"/>\n",
       "<circle clip-path=\"url(#clip483)\" cx=\"1482.11\" cy=\"1037\" r=\"14.4\" fill=\"#0000ff\" fill-rule=\"evenodd\" fill-opacity=\"1\" stroke=\"#000000\" stroke-opacity=\"1\" stroke-width=\"3.2\"/>\n",
       "<circle clip-path=\"url(#clip483)\" cx=\"1587.38\" cy=\"797.909\" r=\"14.4\" fill=\"#0000ff\" fill-rule=\"evenodd\" fill-opacity=\"1\" stroke=\"#000000\" stroke-opacity=\"1\" stroke-width=\"3.2\"/>\n",
       "<circle clip-path=\"url(#clip483)\" cx=\"1692.66\" cy=\"628.275\" r=\"14.4\" fill=\"#0000ff\" fill-rule=\"evenodd\" fill-opacity=\"1\" stroke=\"#000000\" stroke-opacity=\"1\" stroke-width=\"3.2\"/>\n",
       "<circle clip-path=\"url(#clip483)\" cx=\"1797.94\" cy=\"496.697\" r=\"14.4\" fill=\"#0000ff\" fill-rule=\"evenodd\" fill-opacity=\"1\" stroke=\"#000000\" stroke-opacity=\"1\" stroke-width=\"3.2\"/>\n",
       "<circle clip-path=\"url(#clip483)\" cx=\"1903.22\" cy=\"389.189\" r=\"14.4\" fill=\"#0000ff\" fill-rule=\"evenodd\" fill-opacity=\"1\" stroke=\"#000000\" stroke-opacity=\"1\" stroke-width=\"3.2\"/>\n",
       "<circle clip-path=\"url(#clip483)\" cx=\"2008.5\" cy=\"298.293\" r=\"14.4\" fill=\"#0000ff\" fill-rule=\"evenodd\" fill-opacity=\"1\" stroke=\"#000000\" stroke-opacity=\"1\" stroke-width=\"3.2\"/>\n",
       "<circle clip-path=\"url(#clip483)\" cx=\"2113.77\" cy=\"219.555\" r=\"14.4\" fill=\"#0000ff\" fill-rule=\"evenodd\" fill-opacity=\"1\" stroke=\"#000000\" stroke-opacity=\"1\" stroke-width=\"3.2\"/>\n",
       "<circle clip-path=\"url(#clip483)\" cx=\"2219.05\" cy=\"150.103\" r=\"14.4\" fill=\"#0000ff\" fill-rule=\"evenodd\" fill-opacity=\"1\" stroke=\"#000000\" stroke-opacity=\"1\" stroke-width=\"3.2\"/>\n",
       "<circle clip-path=\"url(#clip483)\" cx=\"2324.33\" cy=\"87.9763\" r=\"14.4\" fill=\"#0000ff\" fill-rule=\"evenodd\" fill-opacity=\"1\" stroke=\"#000000\" stroke-opacity=\"1\" stroke-width=\"3.2\"/>\n",
       "<path clip-path=\"url(#clip480)\" d=\"M1381.88 198.898 L1534.38 198.898 L1534.38 95.2176 L1381.88 95.2176  Z\" fill=\"#ffffff\" fill-rule=\"evenodd\" fill-opacity=\"1\"/>\n",
       "<polyline clip-path=\"url(#clip480)\" style=\"stroke:#000000; stroke-linecap:round; stroke-linejoin:round; stroke-width:4; stroke-opacity:1; fill:none\" points=\"1381.88,198.898 1534.38,198.898 1534.38,95.2176 1381.88,95.2176 1381.88,198.898 \"/>\n",
       "<circle clip-path=\"url(#clip480)\" cx=\"1426.52\" cy=\"147.058\" r=\"20.48\" fill=\"#0000ff\" fill-rule=\"evenodd\" fill-opacity=\"1\" stroke=\"#000000\" stroke-opacity=\"1\" stroke-width=\"4.55111\"/>\n",
       "<path clip-path=\"url(#clip480)\" d=\"M1485 166.745 Q1483.19 171.375 1481.48 172.787 Q1479.77 174.199 1476.9 174.199 L1473.5 174.199 L1473.5 170.634 L1476 170.634 Q1477.76 170.634 1478.73 169.8 Q1479.7 168.967 1480.88 165.865 L1481.64 163.921 L1471.16 138.412 L1475.67 138.412 L1483.77 158.689 L1491.88 138.412 L1496.39 138.412 L1485 166.745 Z\" fill=\"#000000\" fill-rule=\"nonzero\" fill-opacity=\"1\" /><path clip-path=\"url(#clip480)\" d=\"M1506.9 160.402 L1523.22 160.402 L1523.22 164.338 L1501.27 164.338 L1501.27 160.402 Q1503.94 157.648 1508.52 153.018 Q1513.13 148.365 1514.31 147.023 Q1516.55 144.5 1517.43 142.764 Q1518.33 141.004 1518.33 139.315 Q1518.33 136.56 1516.39 134.824 Q1514.47 133.088 1511.37 133.088 Q1509.17 133.088 1506.71 133.852 Q1504.28 134.615 1501.51 136.166 L1501.51 131.444 Q1504.33 130.31 1506.78 129.731 Q1509.24 129.153 1511.27 129.153 Q1516.64 129.153 1519.84 131.838 Q1523.03 134.523 1523.03 139.014 Q1523.03 141.143 1522.22 143.065 Q1521.44 144.963 1519.33 147.555 Q1518.75 148.227 1515.65 151.444 Q1512.55 154.639 1506.9 160.402 Z\" fill=\"#000000\" fill-rule=\"nonzero\" fill-opacity=\"1\" /></svg>\n"
      ]
     },
     "execution_count": 34,
     "metadata": {},
     "output_type": "execute_result"
    }
   ],
   "source": [
    "# użycie opcji layout\n",
    "scatter(df.a, [df.b, df.c],  colour = [:red :blue ], layout=2)"
   ]
  },
  {
   "cell_type": "code",
   "execution_count": null,
   "metadata": {},
   "outputs": [
    {
     "data": {
      "image/png": "[encoded data removed]",
      "image/svg+xml": [
       "<?xml version=\"1.0\" encoding=\"utf-8\"?>\n",
       "<svg xmlns=\"http://www.w3.org/2000/svg\" xmlns:xlink=\"http://www.w3.org/1999/xlink\" width=\"600\" height=\"400\" viewBox=\"0 0 2400 1600\">\n",
       "<defs>\n",
       "  <clipPath id=\"clip850\">\n",
       "    <rect x=\"0\" y=\"0\" width=\"2400\" height=\"1600\"/>\n",
       "  </clipPath>\n",
       "</defs>\n",
       "<path clip-path=\"url(#clip850)\" d=\"M0 1600 L2400 1600 L2400 0 L0 0  Z\" fill=\"#ffffff\" fill-rule=\"evenodd\" fill-opacity=\"1\"/>\n",
       "<defs>\n",
       "  <clipPath id=\"clip851\">\n",
       "    <rect x=\"480\" y=\"0\" width=\"1681\" height=\"1600\"/>\n",
       "  </clipPath>\n",
       "</defs>\n",
       "<path clip-path=\"url(#clip850)\" d=\"M140.696 1486.45 L1145.05 1486.45 L1145.05 47.2441 L140.696 47.2441  Z\" fill=\"#ffffff\" fill-rule=\"evenodd\" fill-opacity=\"1\"/>\n",
       "<defs>\n",
       "  <clipPath id=\"clip852\">\n",
       "    <rect x=\"140\" y=\"47\" width=\"1005\" height=\"1440\"/>\n",
       "  </clipPath>\n",
       "</defs>\n",
       "<polyline clip-path=\"url(#clip852)\" style=\"stroke:#000000; stroke-linecap:round; stroke-linejoin:round; stroke-width:2; stroke-opacity:0.1; fill:none\" points=\"274.399,1486.45 274.399,47.2441 \"/>\n",
       "<polyline clip-path=\"url(#clip852)\" style=\"stroke:#000000; stroke-linecap:round; stroke-linejoin:round; stroke-width:2; stroke-opacity:0.1; fill:none\" points=\"484.955,1486.45 484.955,47.2441 \"/>\n",
       "<polyline clip-path=\"url(#clip852)\" style=\"stroke:#000000; stroke-linecap:round; stroke-linejoin:round; stroke-width:2; stroke-opacity:0.1; fill:none\" points=\"695.511,1486.45 695.511,47.2441 \"/>\n",
       "<polyline clip-path=\"url(#clip852)\" style=\"stroke:#000000; stroke-linecap:round; stroke-linejoin:round; stroke-width:2; stroke-opacity:0.1; fill:none\" points=\"906.067,1486.45 906.067,47.2441 \"/>\n",
       "<polyline clip-path=\"url(#clip852)\" style=\"stroke:#000000; stroke-linecap:round; stroke-linejoin:round; stroke-width:2; stroke-opacity:0.1; fill:none\" points=\"1116.62,1486.45 1116.62,47.2441 \"/>\n",
       "<polyline clip-path=\"url(#clip852)\" style=\"stroke:#000000; stroke-linecap:round; stroke-linejoin:round; stroke-width:2; stroke-opacity:0.1; fill:none\" points=\"140.696,1219.43 1145.05,1219.43 \"/>\n",
       "<polyline clip-path=\"url(#clip852)\" style=\"stroke:#000000; stroke-linecap:round; stroke-linejoin:round; stroke-width:2; stroke-opacity:0.1; fill:none\" points=\"140.696,842.276 1145.05,842.276 \"/>\n",
       "<polyline clip-path=\"url(#clip852)\" style=\"stroke:#000000; stroke-linecap:round; stroke-linejoin:round; stroke-width:2; stroke-opacity:0.1; fill:none\" points=\"140.696,465.126 1145.05,465.126 \"/>\n",
       "<polyline clip-path=\"url(#clip852)\" style=\"stroke:#000000; stroke-linecap:round; stroke-linejoin:round; stroke-width:2; stroke-opacity:0.1; fill:none\" points=\"140.696,87.9763 1145.05,87.9763 \"/>\n",
       "<polyline clip-path=\"url(#clip850)\" style=\"stroke:#000000; stroke-linecap:round; stroke-linejoin:round; stroke-width:4; stroke-opacity:1; fill:none\" points=\"140.696,1486.45 1145.05,1486.45 \"/>\n",
       "<polyline clip-path=\"url(#clip850)\" style=\"stroke:#000000; stroke-linecap:round; stroke-linejoin:round; stroke-width:4; stroke-opacity:1; fill:none\" points=\"274.399,1486.45 274.399,1467.55 \"/>\n",
       "<polyline clip-path=\"url(#clip850)\" style=\"stroke:#000000; stroke-linecap:round; stroke-linejoin:round; stroke-width:4; stroke-opacity:1; fill:none\" points=\"484.955,1486.45 484.955,1467.55 \"/>\n",
       "<polyline clip-path=\"url(#clip850)\" style=\"stroke:#000000; stroke-linecap:round; stroke-linejoin:round; stroke-width:4; stroke-opacity:1; fill:none\" points=\"695.511,1486.45 695.511,1467.55 \"/>\n",
       "<polyline clip-path=\"url(#clip850)\" style=\"stroke:#000000; stroke-linecap:round; stroke-linejoin:round; stroke-width:4; stroke-opacity:1; fill:none\" points=\"906.067,1486.45 906.067,1467.55 \"/>\n",
       "<polyline clip-path=\"url(#clip850)\" style=\"stroke:#000000; stroke-linecap:round; stroke-linejoin:round; stroke-width:4; stroke-opacity:1; fill:none\" points=\"1116.62,1486.45 1116.62,1467.55 \"/>\n",
       "<path clip-path=\"url(#clip850)\" d=\"M269.051 1544.91 L285.371 1544.91 L285.371 1548.85 L263.426 1548.85 L263.426 1544.91 Q266.088 1542.16 270.672 1537.53 Q275.278 1532.88 276.459 1531.53 Q278.704 1529.01 279.584 1527.27 Q280.487 1525.51 280.487 1523.82 Q280.487 1521.07 278.542 1519.33 Q276.621 1517.6 273.519 1517.6 Q271.32 1517.6 268.866 1518.36 Q266.436 1519.13 263.658 1520.68 L263.658 1515.95 Q266.482 1514.82 268.936 1514.24 Q271.389 1513.66 273.426 1513.66 Q278.797 1513.66 281.991 1516.35 Q285.186 1519.03 285.186 1523.52 Q285.186 1525.65 284.375 1527.57 Q283.588 1529.47 281.482 1532.07 Q280.903 1532.74 277.801 1535.95 Q274.7 1539.15 269.051 1544.91 Z\" fill=\"#000000\" fill-rule=\"nonzero\" fill-opacity=\"1\" /><path clip-path=\"url(#clip850)\" d=\"M487.964 1518.36 L476.158 1536.81 L487.964 1536.81 L487.964 1518.36 M486.737 1514.29 L492.617 1514.29 L492.617 1536.81 L497.547 1536.81 L497.547 1540.7 L492.617 1540.7 L492.617 1548.85 L487.964 1548.85 L487.964 1540.7 L472.362 1540.7 L472.362 1536.19 L486.737 1514.29 Z\" fill=\"#000000\" fill-rule=\"nonzero\" fill-opacity=\"1\" /><path clip-path=\"url(#clip850)\" d=\"M695.916 1529.7 Q692.768 1529.7 690.916 1531.86 Q689.087 1534.01 689.087 1537.76 Q689.087 1541.49 690.916 1543.66 Q692.768 1545.82 695.916 1545.82 Q699.064 1545.82 700.892 1543.66 Q702.744 1541.49 702.744 1537.76 Q702.744 1534.01 700.892 1531.86 Q699.064 1529.7 695.916 1529.7 M705.198 1515.05 L705.198 1519.31 Q703.439 1518.48 701.633 1518.04 Q699.851 1517.6 698.092 1517.6 Q693.462 1517.6 691.008 1520.72 Q688.578 1523.85 688.231 1530.17 Q689.596 1528.15 691.656 1527.09 Q693.717 1526 696.193 1526 Q701.402 1526 704.411 1529.17 Q707.443 1532.32 707.443 1537.76 Q707.443 1543.08 704.295 1546.3 Q701.147 1549.52 695.916 1549.52 Q689.92 1549.52 686.749 1544.94 Q683.578 1540.33 683.578 1531.6 Q683.578 1523.41 687.467 1518.55 Q691.356 1513.66 697.906 1513.66 Q699.666 1513.66 701.448 1514.01 Q703.254 1514.36 705.198 1515.05 Z\" fill=\"#000000\" fill-rule=\"nonzero\" fill-opacity=\"1\" /><path clip-path=\"url(#clip850)\" d=\"M906.067 1532.44 Q902.733 1532.44 900.812 1534.22 Q898.914 1536 898.914 1539.13 Q898.914 1542.25 900.812 1544.03 Q902.733 1545.82 906.067 1545.82 Q909.4 1545.82 911.321 1544.03 Q913.242 1542.23 913.242 1539.13 Q913.242 1536 911.321 1534.22 Q909.423 1532.44 906.067 1532.44 M901.391 1530.45 Q898.381 1529.7 896.692 1527.64 Q895.025 1525.58 895.025 1522.62 Q895.025 1518.48 897.965 1516.07 Q900.928 1513.66 906.067 1513.66 Q911.229 1513.66 914.168 1516.07 Q917.108 1518.48 917.108 1522.62 Q917.108 1525.58 915.418 1527.64 Q913.752 1529.7 910.766 1530.45 Q914.145 1531.23 916.02 1533.52 Q917.918 1535.82 917.918 1539.13 Q917.918 1544.15 914.84 1546.83 Q911.784 1549.52 906.067 1549.52 Q900.349 1549.52 897.27 1546.83 Q894.215 1544.15 894.215 1539.13 Q894.215 1535.82 896.113 1533.52 Q898.011 1531.23 901.391 1530.45 M899.678 1523.06 Q899.678 1525.75 901.344 1527.25 Q903.034 1528.76 906.067 1528.76 Q909.076 1528.76 910.766 1527.25 Q912.479 1525.75 912.479 1523.06 Q912.479 1520.38 910.766 1518.87 Q909.076 1517.37 906.067 1517.37 Q903.034 1517.37 901.344 1518.87 Q899.678 1520.38 899.678 1523.06 Z\" fill=\"#000000\" fill-rule=\"nonzero\" fill-opacity=\"1\" /><path clip-path=\"url(#clip850)\" d=\"M1091.31 1544.91 L1098.95 1544.91 L1098.95 1518.55 L1090.64 1520.21 L1090.64 1515.95 L1098.9 1514.29 L1103.58 1514.29 L1103.58 1544.91 L1111.22 1544.91 L1111.22 1548.85 L1091.31 1548.85 L1091.31 1544.91 Z\" fill=\"#000000\" fill-rule=\"nonzero\" fill-opacity=\"1\" /><path clip-path=\"url(#clip850)\" d=\"M1130.66 1517.37 Q1127.05 1517.37 1125.22 1520.93 Q1123.42 1524.47 1123.42 1531.6 Q1123.42 1538.71 1125.22 1542.27 Q1127.05 1545.82 1130.66 1545.82 Q1134.3 1545.82 1136.1 1542.27 Q1137.93 1538.71 1137.93 1531.6 Q1137.93 1524.47 1136.1 1520.93 Q1134.3 1517.37 1130.66 1517.37 M1130.66 1513.66 Q1136.47 1513.66 1139.53 1518.27 Q1142.61 1522.85 1142.61 1531.6 Q1142.61 1540.33 1139.53 1544.94 Q1136.47 1549.52 1130.66 1549.52 Q1124.85 1549.52 1121.77 1544.94 Q1118.72 1540.33 1118.72 1531.6 Q1118.72 1522.85 1121.77 1518.27 Q1124.85 1513.66 1130.66 1513.66 Z\" fill=\"#000000\" fill-rule=\"nonzero\" fill-opacity=\"1\" /><polyline clip-path=\"url(#clip850)\" style=\"stroke:#000000; stroke-linecap:round; stroke-linejoin:round; stroke-width:4; stroke-opacity:1; fill:none\" points=\"140.696,1486.45 140.696,47.2441 \"/>\n",
       "<polyline clip-path=\"url(#clip850)\" style=\"stroke:#000000; stroke-linecap:round; stroke-linejoin:round; stroke-width:4; stroke-opacity:1; fill:none\" points=\"140.696,1219.43 159.593,1219.43 \"/>\n",
       "<polyline clip-path=\"url(#clip850)\" style=\"stroke:#000000; stroke-linecap:round; stroke-linejoin:round; stroke-width:4; stroke-opacity:1; fill:none\" points=\"140.696,842.276 159.593,842.276 \"/>\n",
       "<polyline clip-path=\"url(#clip850)\" style=\"stroke:#000000; stroke-linecap:round; stroke-linejoin:round; stroke-width:4; stroke-opacity:1; fill:none\" points=\"140.696,465.126 159.593,465.126 \"/>\n",
       "<polyline clip-path=\"url(#clip850)\" style=\"stroke:#000000; stroke-linecap:round; stroke-linejoin:round; stroke-width:4; stroke-opacity:1; fill:none\" points=\"140.696,87.9763 159.593,87.9763 \"/>\n",
       "<path clip-path=\"url(#clip850)\" d=\"M83.7929 1202.15 L102.149 1202.15 L102.149 1206.08 L88.0753 1206.08 L88.0753 1214.55 Q89.0938 1214.21 90.1123 1214.04 Q91.1308 1213.86 92.1493 1213.86 Q97.9363 1213.86 101.316 1217.03 Q104.696 1220.2 104.696 1225.62 Q104.696 1231.2 101.223 1234.3 Q97.7511 1237.38 91.4317 1237.38 Q89.2558 1237.38 86.9873 1237.01 Q84.7419 1236.64 82.3346 1235.9 L82.3346 1231.2 Q84.4179 1232.33 86.6401 1232.89 Q88.8623 1233.44 91.3391 1233.44 Q95.3437 1233.44 97.6817 1231.34 Q100.02 1229.23 100.02 1225.62 Q100.02 1222.01 97.6817 1219.9 Q95.3437 1217.79 91.3391 1217.79 Q89.4641 1217.79 87.5892 1218.21 Q85.7373 1218.63 83.7929 1219.51 L83.7929 1202.15 Z\" fill=\"#000000\" fill-rule=\"nonzero\" fill-opacity=\"1\" /><path clip-path=\"url(#clip850)\" d=\"M53.3995 855.621 L61.0384 855.621 L61.0384 829.255 L52.7282 830.922 L52.7282 826.663 L60.9921 824.996 L65.668 824.996 L65.668 855.621 L73.3068 855.621 L73.3068 859.556 L53.3995 859.556 L53.3995 855.621 Z\" fill=\"#000000\" fill-rule=\"nonzero\" fill-opacity=\"1\" /><path clip-path=\"url(#clip850)\" d=\"M92.7512 828.075 Q89.1401 828.075 87.3114 831.639 Q85.5058 835.181 85.5058 842.311 Q85.5058 849.417 87.3114 852.982 Q89.1401 856.524 92.7512 856.524 Q96.3854 856.524 98.1909 852.982 Q100.02 849.417 100.02 842.311 Q100.02 835.181 98.1909 831.639 Q96.3854 828.075 92.7512 828.075 M92.7512 824.371 Q98.5613 824.371 101.617 828.977 Q104.696 833.561 104.696 842.311 Q104.696 851.037 101.617 855.644 Q98.5613 860.227 92.7512 860.227 Q86.941 860.227 83.8623 855.644 Q80.8068 851.037 80.8068 842.311 Q80.8068 833.561 83.8623 828.977 Q86.941 824.371 92.7512 824.371 Z\" fill=\"#000000\" fill-rule=\"nonzero\" fill-opacity=\"1\" /><path clip-path=\"url(#clip850)\" d=\"M54.3949 478.471 L62.0337 478.471 L62.0337 452.105 L53.7236 453.772 L53.7236 449.513 L61.9874 447.846 L66.6633 447.846 L66.6633 478.471 L74.3022 478.471 L74.3022 482.406 L54.3949 482.406 L54.3949 478.471 Z\" fill=\"#000000\" fill-rule=\"nonzero\" fill-opacity=\"1\" /><path clip-path=\"url(#clip850)\" d=\"M83.7929 447.846 L102.149 447.846 L102.149 451.781 L88.0753 451.781 L88.0753 460.253 Q89.0938 459.906 90.1123 459.744 Q91.1308 459.559 92.1493 459.559 Q97.9363 459.559 101.316 462.73 Q104.696 465.902 104.696 471.318 Q104.696 476.897 101.223 479.999 Q97.7511 483.077 91.4317 483.077 Q89.2558 483.077 86.9873 482.707 Q84.7419 482.337 82.3346 481.596 L82.3346 476.897 Q84.4179 478.031 86.6401 478.587 Q88.8623 479.142 91.3391 479.142 Q95.3437 479.142 97.6817 477.036 Q100.02 474.929 100.02 471.318 Q100.02 467.707 97.6817 465.601 Q95.3437 463.494 91.3391 463.494 Q89.4641 463.494 87.5892 463.911 Q85.7373 464.328 83.7929 465.207 L83.7929 447.846 Z\" fill=\"#000000\" fill-rule=\"nonzero\" fill-opacity=\"1\" /><path clip-path=\"url(#clip850)\" d=\"M56.6171 101.321 L72.9365 101.321 L72.9365 105.256 L50.9921 105.256 L50.9921 101.321 Q53.6541 98.5665 58.2375 93.9369 Q62.8439 89.2841 64.0245 87.9416 Q66.2698 85.4184 67.1494 83.6823 Q68.0522 81.9231 68.0522 80.2333 Q68.0522 77.4786 66.1078 75.7425 Q64.1865 74.0064 61.0847 74.0064 Q58.8856 74.0064 56.4319 74.7703 Q54.0014 75.5342 51.2236 77.0851 L51.2236 72.3629 Q54.0477 71.2287 56.5014 70.65 Q58.955 70.0713 60.9921 70.0713 Q66.3624 70.0713 69.5568 72.7565 Q72.7513 75.4416 72.7513 79.9323 Q72.7513 82.062 71.9411 83.9832 Q71.1541 85.8814 69.0476 88.474 Q68.4689 89.1453 65.367 92.3628 Q62.2652 95.5573 56.6171 101.321 Z\" fill=\"#000000\" fill-rule=\"nonzero\" fill-opacity=\"1\" /><path clip-path=\"url(#clip850)\" d=\"M92.7512 73.775 Q89.1401 73.775 87.3114 77.3398 Q85.5058 80.8814 85.5058 88.011 Q85.5058 95.1174 87.3114 98.6822 Q89.1401 102.224 92.7512 102.224 Q96.3854 102.224 98.1909 98.6822 Q100.02 95.1174 100.02 88.011 Q100.02 80.8814 98.1909 77.3398 Q96.3854 73.775 92.7512 73.775 M92.7512 70.0713 Q98.5613 70.0713 101.617 74.6777 Q104.696 79.261 104.696 88.011 Q104.696 96.7378 101.617 101.344 Q98.5613 105.928 92.7512 105.928 Q86.941 105.928 83.8623 101.344 Q80.8068 96.7378 80.8068 88.011 Q80.8068 79.261 83.8623 74.6777 Q86.941 70.0713 92.7512 70.0713 Z\" fill=\"#000000\" fill-rule=\"nonzero\" fill-opacity=\"1\" /><circle clip-path=\"url(#clip852)\" cx=\"274.399\" cy=\"1294.86\" r=\"14.4\" fill=\"#ff0000\" fill-rule=\"evenodd\" fill-opacity=\"1\" stroke=\"#000000\" stroke-opacity=\"1\" stroke-width=\"3.2\"/>\n",
       "<circle clip-path=\"url(#clip852)\" cx=\"484.955\" cy=\"993.136\" r=\"14.4\" fill=\"#ff0000\" fill-rule=\"evenodd\" fill-opacity=\"1\" stroke=\"#000000\" stroke-opacity=\"1\" stroke-width=\"3.2\"/>\n",
       "<circle clip-path=\"url(#clip852)\" cx=\"695.511\" cy=\"691.416\" r=\"14.4\" fill=\"#ff0000\" fill-rule=\"evenodd\" fill-opacity=\"1\" stroke=\"#000000\" stroke-opacity=\"1\" stroke-width=\"3.2\"/>\n",
       "<circle clip-path=\"url(#clip852)\" cx=\"906.067\" cy=\"389.696\" r=\"14.4\" fill=\"#ff0000\" fill-rule=\"evenodd\" fill-opacity=\"1\" stroke=\"#000000\" stroke-opacity=\"1\" stroke-width=\"3.2\"/>\n",
       "<circle clip-path=\"url(#clip852)\" cx=\"1116.62\" cy=\"87.9763\" r=\"14.4\" fill=\"#ff0000\" fill-rule=\"evenodd\" fill-opacity=\"1\" stroke=\"#000000\" stroke-opacity=\"1\" stroke-width=\"3.2\"/>\n",
       "<circle clip-path=\"url(#clip852)\" cx=\"169.121\" cy=\"1445.72\" r=\"14.4\" fill=\"#008000\" fill-rule=\"evenodd\" fill-opacity=\"1\" stroke=\"#000000\" stroke-opacity=\"1\" stroke-width=\"3.2\"/>\n",
       "<circle clip-path=\"url(#clip852)\" cx=\"379.677\" cy=\"1144\" r=\"14.4\" fill=\"#008000\" fill-rule=\"evenodd\" fill-opacity=\"1\" stroke=\"#000000\" stroke-opacity=\"1\" stroke-width=\"3.2\"/>\n",
       "<circle clip-path=\"url(#clip852)\" cx=\"590.233\" cy=\"842.276\" r=\"14.4\" fill=\"#008000\" fill-rule=\"evenodd\" fill-opacity=\"1\" stroke=\"#000000\" stroke-opacity=\"1\" stroke-width=\"3.2\"/>\n",
       "<circle clip-path=\"url(#clip852)\" cx=\"800.789\" cy=\"540.556\" r=\"14.4\" fill=\"#008000\" fill-rule=\"evenodd\" fill-opacity=\"1\" stroke=\"#000000\" stroke-opacity=\"1\" stroke-width=\"3.2\"/>\n",
       "<circle clip-path=\"url(#clip852)\" cx=\"1011.34\" cy=\"238.836\" r=\"14.4\" fill=\"#008000\" fill-rule=\"evenodd\" fill-opacity=\"1\" stroke=\"#000000\" stroke-opacity=\"1\" stroke-width=\"3.2\"/>\n",
       "<path clip-path=\"url(#clip850)\" d=\"M174.174 250.738 L298.498 250.738 L298.498 95.2176 L174.174 95.2176  Z\" fill=\"#ffffff\" fill-rule=\"evenodd\" fill-opacity=\"1\"/>\n",
       "<polyline clip-path=\"url(#clip850)\" style=\"stroke:#000000; stroke-linecap:round; stroke-linejoin:round; stroke-width:4; stroke-opacity:1; fill:none\" points=\"174.174,250.738 298.498,250.738 298.498,95.2176 174.174,95.2176 174.174,250.738 \"/>\n",
       "<circle clip-path=\"url(#clip850)\" cx=\"218.812\" cy=\"147.058\" r=\"20.48\" fill=\"#ff0000\" fill-rule=\"evenodd\" fill-opacity=\"1\" stroke=\"#000000\" stroke-opacity=\"1\" stroke-width=\"4.55111\"/>\n",
       "<path clip-path=\"url(#clip850)\" d=\"M275.394 132.856 Q271.783 132.856 269.954 136.421 Q268.149 139.963 268.149 147.092 Q268.149 154.199 269.954 157.764 Q271.783 161.305 275.394 161.305 Q279.028 161.305 280.834 157.764 Q282.663 154.199 282.663 147.092 Q282.663 139.963 280.834 136.421 Q279.028 132.856 275.394 132.856 M275.394 129.153 Q281.204 129.153 284.26 133.759 Q287.338 138.342 287.338 147.092 Q287.338 155.819 284.26 160.426 Q281.204 165.009 275.394 165.009 Q269.584 165.009 266.505 160.426 Q263.45 155.819 263.45 147.092 Q263.45 138.342 266.505 133.759 Q269.584 129.153 275.394 129.153 Z\" fill=\"#000000\" fill-rule=\"nonzero\" fill-opacity=\"1\" /><circle clip-path=\"url(#clip850)\" cx=\"218.812\" cy=\"198.898\" r=\"20.48\" fill=\"#008000\" fill-rule=\"evenodd\" fill-opacity=\"1\" stroke=\"#000000\" stroke-opacity=\"1\" stroke-width=\"4.55111\"/>\n",
       "<path clip-path=\"url(#clip850)\" d=\"M264.121 212.242 L271.76 212.242 L271.76 185.877 L263.45 187.543 L263.45 183.284 L271.714 181.618 L276.389 181.618 L276.389 212.242 L284.028 212.242 L284.028 216.178 L264.121 216.178 L264.121 212.242 Z\" fill=\"#000000\" fill-rule=\"nonzero\" fill-opacity=\"1\" /><path clip-path=\"url(#clip850)\" d=\"M1348.4 1486.45 L2352.76 1486.45 L2352.76 47.2441 L1348.4 47.2441  Z\" fill=\"#ffffff\" fill-rule=\"evenodd\" fill-opacity=\"1\"/>\n",
       "<defs>\n",
       "  <clipPath id=\"clip853\">\n",
       "    <rect x=\"1348\" y=\"47\" width=\"1005\" height=\"1440\"/>\n",
       "  </clipPath>\n",
       "</defs>\n",
       "<polyline clip-path=\"url(#clip853)\" style=\"stroke:#000000; stroke-linecap:round; stroke-linejoin:round; stroke-width:2; stroke-opacity:0.1; fill:none\" points=\"1482.11,1486.45 1482.11,47.2441 \"/>\n",
       "<polyline clip-path=\"url(#clip853)\" style=\"stroke:#000000; stroke-linecap:round; stroke-linejoin:round; stroke-width:2; stroke-opacity:0.1; fill:none\" points=\"1692.66,1486.45 1692.66,47.2441 \"/>\n",
       "<polyline clip-path=\"url(#clip853)\" style=\"stroke:#000000; stroke-linecap:round; stroke-linejoin:round; stroke-width:2; stroke-opacity:0.1; fill:none\" points=\"1903.22,1486.45 1903.22,47.2441 \"/>\n",
       "<polyline clip-path=\"url(#clip853)\" style=\"stroke:#000000; stroke-linecap:round; stroke-linejoin:round; stroke-width:2; stroke-opacity:0.1; fill:none\" points=\"2113.77,1486.45 2113.77,47.2441 \"/>\n",
       "<polyline clip-path=\"url(#clip853)\" style=\"stroke:#000000; stroke-linecap:round; stroke-linejoin:round; stroke-width:2; stroke-opacity:0.1; fill:none\" points=\"2324.33,1486.45 2324.33,47.2441 \"/>\n",
       "<polyline clip-path=\"url(#clip853)\" style=\"stroke:#000000; stroke-linecap:round; stroke-linejoin:round; stroke-width:2; stroke-opacity:0.1; fill:none\" points=\"1348.4,1445.72 2352.76,1445.72 \"/>\n",
       "<polyline clip-path=\"url(#clip853)\" style=\"stroke:#000000; stroke-linecap:round; stroke-linejoin:round; stroke-width:2; stroke-opacity:0.1; fill:none\" points=\"1348.4,1150.89 2352.76,1150.89 \"/>\n",
       "<polyline clip-path=\"url(#clip853)\" style=\"stroke:#000000; stroke-linecap:round; stroke-linejoin:round; stroke-width:2; stroke-opacity:0.1; fill:none\" points=\"1348.4,856.057 2352.76,856.057 \"/>\n",
       "<polyline clip-path=\"url(#clip853)\" style=\"stroke:#000000; stroke-linecap:round; stroke-linejoin:round; stroke-width:2; stroke-opacity:0.1; fill:none\" points=\"1348.4,561.228 2352.76,561.228 \"/>\n",
       "<polyline clip-path=\"url(#clip853)\" style=\"stroke:#000000; stroke-linecap:round; stroke-linejoin:round; stroke-width:2; stroke-opacity:0.1; fill:none\" points=\"1348.4,266.398 2352.76,266.398 \"/>\n",
       "<polyline clip-path=\"url(#clip850)\" style=\"stroke:#000000; stroke-linecap:round; stroke-linejoin:round; stroke-width:4; stroke-opacity:1; fill:none\" points=\"1348.4,1486.45 2352.76,1486.45 \"/>\n",
       "<polyline clip-path=\"url(#clip850)\" style=\"stroke:#000000; stroke-linecap:round; stroke-linejoin:round; stroke-width:4; stroke-opacity:1; fill:none\" points=\"1482.11,1486.45 1482.11,1467.55 \"/>\n",
       "<polyline clip-path=\"url(#clip850)\" style=\"stroke:#000000; stroke-linecap:round; stroke-linejoin:round; stroke-width:4; stroke-opacity:1; fill:none\" points=\"1692.66,1486.45 1692.66,1467.55 \"/>\n",
       "<polyline clip-path=\"url(#clip850)\" style=\"stroke:#000000; stroke-linecap:round; stroke-linejoin:round; stroke-width:4; stroke-opacity:1; fill:none\" points=\"1903.22,1486.45 1903.22,1467.55 \"/>\n",
       "<polyline clip-path=\"url(#clip850)\" style=\"stroke:#000000; stroke-linecap:round; stroke-linejoin:round; stroke-width:4; stroke-opacity:1; fill:none\" points=\"2113.77,1486.45 2113.77,1467.55 \"/>\n",
       "<polyline clip-path=\"url(#clip850)\" style=\"stroke:#000000; stroke-linecap:round; stroke-linejoin:round; stroke-width:4; stroke-opacity:1; fill:none\" points=\"2324.33,1486.45 2324.33,1467.55 \"/>\n",
       "<path clip-path=\"url(#clip850)\" d=\"M1476.76 1544.91 L1493.08 1544.91 L1493.08 1548.85 L1471.13 1548.85 L1471.13 1544.91 Q1473.8 1542.16 1478.38 1537.53 Q1482.99 1532.88 1484.17 1531.53 Q1486.41 1529.01 1487.29 1527.27 Q1488.19 1525.51 1488.19 1523.82 Q1488.19 1521.07 1486.25 1519.33 Q1484.33 1517.6 1481.23 1517.6 Q1479.03 1517.6 1476.57 1518.36 Q1474.14 1519.13 1471.37 1520.68 L1471.37 1515.95 Q1474.19 1514.82 1476.64 1514.24 Q1479.1 1513.66 1481.13 1513.66 Q1486.51 1513.66 1489.7 1516.35 Q1492.89 1519.03 1492.89 1523.52 Q1492.89 1525.65 1492.08 1527.57 Q1491.3 1529.47 1489.19 1532.07 Q1488.61 1532.74 1485.51 1535.95 Q1482.41 1539.15 1476.76 1544.91 Z\" fill=\"#000000\" fill-rule=\"nonzero\" fill-opacity=\"1\" /><path clip-path=\"url(#clip850)\" d=\"M1695.67 1518.36 L1683.87 1536.81 L1695.67 1536.81 L1695.67 1518.36 M1694.45 1514.29 L1700.32 1514.29 L1700.32 1536.81 L1705.26 1536.81 L1705.26 1540.7 L1700.32 1540.7 L1700.32 1548.85 L1695.67 1548.85 L1695.67 1540.7 L1680.07 1540.7 L1680.07 1536.19 L1694.45 1514.29 Z\" fill=\"#000000\" fill-rule=\"nonzero\" fill-opacity=\"1\" /><path clip-path=\"url(#clip850)\" d=\"M1903.62 1529.7 Q1900.48 1529.7 1898.62 1531.86 Q1896.8 1534.01 1896.8 1537.76 Q1896.8 1541.49 1898.62 1543.66 Q1900.48 1545.82 1903.62 1545.82 Q1906.77 1545.82 1908.6 1543.66 Q1910.45 1541.49 1910.45 1537.76 Q1910.45 1534.01 1908.6 1531.86 Q1906.77 1529.7 1903.62 1529.7 M1912.91 1515.05 L1912.91 1519.31 Q1911.15 1518.48 1909.34 1518.04 Q1907.56 1517.6 1905.8 1517.6 Q1901.17 1517.6 1898.72 1520.72 Q1896.29 1523.85 1895.94 1530.17 Q1897.3 1528.15 1899.36 1527.09 Q1901.42 1526 1903.9 1526 Q1909.11 1526 1912.12 1529.17 Q1915.15 1532.32 1915.15 1537.76 Q1915.15 1543.08 1912 1546.3 Q1908.86 1549.52 1903.62 1549.52 Q1897.63 1549.52 1894.46 1544.94 Q1891.29 1540.33 1891.29 1531.6 Q1891.29 1523.41 1895.17 1518.55 Q1899.06 1513.66 1905.61 1513.66 Q1907.37 1513.66 1909.16 1514.01 Q1910.96 1514.36 1912.91 1515.05 Z\" fill=\"#000000\" fill-rule=\"nonzero\" fill-opacity=\"1\" /><path clip-path=\"url(#clip850)\" d=\"M2113.77 1532.44 Q2110.44 1532.44 2108.52 1534.22 Q2106.62 1536 2106.62 1539.13 Q2106.62 1542.25 2108.52 1544.03 Q2110.44 1545.82 2113.77 1545.82 Q2117.11 1545.82 2119.03 1544.03 Q2120.95 1542.23 2120.95 1539.13 Q2120.95 1536 2119.03 1534.22 Q2117.13 1532.44 2113.77 1532.44 M2109.1 1530.45 Q2106.09 1529.7 2104.4 1527.64 Q2102.73 1525.58 2102.73 1522.62 Q2102.73 1518.48 2105.67 1516.07 Q2108.64 1513.66 2113.77 1513.66 Q2118.94 1513.66 2121.88 1516.07 Q2124.82 1518.48 2124.82 1522.62 Q2124.82 1525.58 2123.13 1527.64 Q2121.46 1529.7 2118.47 1530.45 Q2121.85 1531.23 2123.73 1533.52 Q2125.63 1535.82 2125.63 1539.13 Q2125.63 1544.15 2122.55 1546.83 Q2119.49 1549.52 2113.77 1549.52 Q2108.06 1549.52 2104.98 1546.83 Q2101.92 1544.15 2101.92 1539.13 Q2101.92 1535.82 2103.82 1533.52 Q2105.72 1531.23 2109.1 1530.45 M2107.39 1523.06 Q2107.39 1525.75 2109.05 1527.25 Q2110.74 1528.76 2113.77 1528.76 Q2116.78 1528.76 2118.47 1527.25 Q2120.19 1525.75 2120.19 1523.06 Q2120.19 1520.38 2118.47 1518.87 Q2116.78 1517.37 2113.77 1517.37 Q2110.74 1517.37 2109.05 1518.87 Q2107.39 1520.38 2107.39 1523.06 Z\" fill=\"#000000\" fill-rule=\"nonzero\" fill-opacity=\"1\" /><path clip-path=\"url(#clip850)\" d=\"M2299.02 1544.91 L2306.66 1544.91 L2306.66 1518.55 L2298.35 1520.21 L2298.35 1515.95 L2306.61 1514.29 L2311.29 1514.29 L2311.29 1544.91 L2318.93 1544.91 L2318.93 1548.85 L2299.02 1548.85 L2299.02 1544.91 Z\" fill=\"#000000\" fill-rule=\"nonzero\" fill-opacity=\"1\" /><path clip-path=\"url(#clip850)\" d=\"M2338.37 1517.37 Q2334.76 1517.37 2332.93 1520.93 Q2331.12 1524.47 2331.12 1531.6 Q2331.12 1538.71 2332.93 1542.27 Q2334.76 1545.82 2338.37 1545.82 Q2342 1545.82 2343.81 1542.27 Q2345.64 1538.71 2345.64 1531.6 Q2345.64 1524.47 2343.81 1520.93 Q2342 1517.37 2338.37 1517.37 M2338.37 1513.66 Q2344.18 1513.66 2347.24 1518.27 Q2350.31 1522.85 2350.31 1531.6 Q2350.31 1540.33 2347.24 1544.94 Q2344.18 1549.52 2338.37 1549.52 Q2332.56 1549.52 2329.48 1544.94 Q2326.43 1540.33 2326.43 1531.6 Q2326.43 1522.85 2329.48 1518.27 Q2332.56 1513.66 2338.37 1513.66 Z\" fill=\"#000000\" fill-rule=\"nonzero\" fill-opacity=\"1\" /><polyline clip-path=\"url(#clip850)\" style=\"stroke:#000000; stroke-linecap:round; stroke-linejoin:round; stroke-width:4; stroke-opacity:1; fill:none\" points=\"1348.4,1486.45 1348.4,47.2441 \"/>\n",
       "<polyline clip-path=\"url(#clip850)\" style=\"stroke:#000000; stroke-linecap:round; stroke-linejoin:round; stroke-width:4; stroke-opacity:1; fill:none\" points=\"1348.4,1445.72 1367.3,1445.72 \"/>\n",
       "<polyline clip-path=\"url(#clip850)\" style=\"stroke:#000000; stroke-linecap:round; stroke-linejoin:round; stroke-width:4; stroke-opacity:1; fill:none\" points=\"1348.4,1150.89 1367.3,1150.89 \"/>\n",
       "<polyline clip-path=\"url(#clip850)\" style=\"stroke:#000000; stroke-linecap:round; stroke-linejoin:round; stroke-width:4; stroke-opacity:1; fill:none\" points=\"1348.4,856.057 1367.3,856.057 \"/>\n",
       "<polyline clip-path=\"url(#clip850)\" style=\"stroke:#000000; stroke-linecap:round; stroke-linejoin:round; stroke-width:4; stroke-opacity:1; fill:none\" points=\"1348.4,561.228 1367.3,561.228 \"/>\n",
       "<polyline clip-path=\"url(#clip850)\" style=\"stroke:#000000; stroke-linecap:round; stroke-linejoin:round; stroke-width:4; stroke-opacity:1; fill:none\" points=\"1348.4,266.398 1367.3,266.398 \"/>\n",
       "<path clip-path=\"url(#clip850)\" d=\"M1255.23 1431.51 Q1251.62 1431.51 1249.79 1435.08 Q1247.98 1438.62 1247.98 1445.75 Q1247.98 1452.86 1249.79 1456.42 Q1251.62 1459.96 1255.23 1459.96 Q1258.86 1459.96 1260.67 1456.42 Q1262.5 1452.86 1262.5 1445.75 Q1262.5 1438.62 1260.67 1435.08 Q1258.86 1431.51 1255.23 1431.51 M1255.23 1427.81 Q1261.04 1427.81 1264.09 1432.42 Q1267.17 1437 1267.17 1445.75 Q1267.17 1454.48 1264.09 1459.08 Q1261.04 1463.67 1255.23 1463.67 Q1249.42 1463.67 1246.34 1459.08 Q1243.28 1454.48 1243.28 1445.75 Q1243.28 1437 1246.34 1432.42 Q1249.42 1427.81 1255.23 1427.81 Z\" fill=\"#000000\" fill-rule=\"nonzero\" fill-opacity=\"1\" /><path clip-path=\"url(#clip850)\" d=\"M1275.39 1457.12 L1280.27 1457.12 L1280.27 1463 L1275.39 1463 L1275.39 1457.12 Z\" fill=\"#000000\" fill-rule=\"nonzero\" fill-opacity=\"1\" /><path clip-path=\"url(#clip850)\" d=\"M1300.46 1431.51 Q1296.85 1431.51 1295.02 1435.08 Q1293.21 1438.62 1293.21 1445.75 Q1293.21 1452.86 1295.02 1456.42 Q1296.85 1459.96 1300.46 1459.96 Q1304.09 1459.96 1305.9 1456.42 Q1307.73 1452.86 1307.73 1445.75 Q1307.73 1438.62 1305.9 1435.08 Q1304.09 1431.51 1300.46 1431.51 M1300.46 1427.81 Q1306.27 1427.81 1309.33 1432.42 Q1312.4 1437 1312.4 1445.75 Q1312.4 1454.48 1309.33 1459.08 Q1306.27 1463.67 1300.46 1463.67 Q1294.65 1463.67 1291.57 1459.08 Q1288.52 1454.48 1288.52 1445.75 Q1288.52 1437 1291.57 1432.42 Q1294.65 1427.81 1300.46 1427.81 Z\" fill=\"#000000\" fill-rule=\"nonzero\" fill-opacity=\"1\" /><path clip-path=\"url(#clip850)\" d=\"M1256.22 1136.69 Q1252.61 1136.69 1250.78 1140.25 Q1248.98 1143.79 1248.98 1150.92 Q1248.98 1158.03 1250.78 1161.59 Q1252.61 1165.13 1256.22 1165.13 Q1259.86 1165.13 1261.66 1161.59 Q1263.49 1158.03 1263.49 1150.92 Q1263.49 1143.79 1261.66 1140.25 Q1259.86 1136.69 1256.22 1136.69 M1256.22 1132.98 Q1262.03 1132.98 1265.09 1137.59 Q1268.17 1142.17 1268.17 1150.92 Q1268.17 1159.65 1265.09 1164.25 Q1262.03 1168.84 1256.22 1168.84 Q1250.41 1168.84 1247.33 1164.25 Q1244.28 1159.65 1244.28 1150.92 Q1244.28 1142.17 1247.33 1137.59 Q1250.41 1132.98 1256.22 1132.98 Z\" fill=\"#000000\" fill-rule=\"nonzero\" fill-opacity=\"1\" /><path clip-path=\"url(#clip850)\" d=\"M1276.39 1162.29 L1281.27 1162.29 L1281.27 1168.17 L1276.39 1168.17 L1276.39 1162.29 Z\" fill=\"#000000\" fill-rule=\"nonzero\" fill-opacity=\"1\" /><path clip-path=\"url(#clip850)\" d=\"M1291.5 1133.61 L1309.86 1133.61 L1309.86 1137.54 L1295.78 1137.54 L1295.78 1146.01 Q1296.8 1145.67 1297.82 1145.5 Q1298.84 1145.32 1299.86 1145.32 Q1305.64 1145.32 1309.02 1148.49 Q1312.4 1151.66 1312.4 1157.08 Q1312.4 1162.66 1308.93 1165.76 Q1305.46 1168.84 1299.14 1168.84 Q1296.96 1168.84 1294.7 1168.47 Q1292.45 1168.1 1290.04 1167.36 L1290.04 1162.66 Q1292.13 1163.79 1294.35 1164.35 Q1296.57 1164.9 1299.05 1164.9 Q1303.05 1164.9 1305.39 1162.8 Q1307.73 1160.69 1307.73 1157.08 Q1307.73 1153.47 1305.39 1151.36 Q1303.05 1149.25 1299.05 1149.25 Q1297.17 1149.25 1295.3 1149.67 Q1293.45 1150.09 1291.5 1150.97 L1291.5 1133.61 Z\" fill=\"#000000\" fill-rule=\"nonzero\" fill-opacity=\"1\" /><path clip-path=\"url(#clip850)\" d=\"M1246.04 869.402 L1253.68 869.402 L1253.68 843.036 L1245.37 844.703 L1245.37 840.444 L1253.63 838.777 L1258.31 838.777 L1258.31 869.402 L1265.95 869.402 L1265.95 873.337 L1246.04 873.337 L1246.04 869.402 Z\" fill=\"#000000\" fill-rule=\"nonzero\" fill-opacity=\"1\" /><path clip-path=\"url(#clip850)\" d=\"M1275.39 867.457 L1280.27 867.457 L1280.27 873.337 L1275.39 873.337 L1275.39 867.457 Z\" fill=\"#000000\" fill-rule=\"nonzero\" fill-opacity=\"1\" /><path clip-path=\"url(#clip850)\" d=\"M1300.46 841.856 Q1296.85 841.856 1295.02 845.42 Q1293.21 848.962 1293.21 856.092 Q1293.21 863.198 1295.02 866.763 Q1296.85 870.305 1300.46 870.305 Q1304.09 870.305 1305.9 866.763 Q1307.73 863.198 1307.73 856.092 Q1307.73 848.962 1305.9 845.42 Q1304.09 841.856 1300.46 841.856 M1300.46 838.152 Q1306.27 838.152 1309.33 842.758 Q1312.4 847.342 1312.4 856.092 Q1312.4 864.818 1309.33 869.425 Q1306.27 874.008 1300.46 874.008 Q1294.65 874.008 1291.57 869.425 Q1288.52 864.818 1288.52 856.092 Q1288.52 847.342 1291.57 842.758 Q1294.65 838.152 1300.46 838.152 Z\" fill=\"#000000\" fill-rule=\"nonzero\" fill-opacity=\"1\" /><path clip-path=\"url(#clip850)\" d=\"M1247.03 574.572 L1254.67 574.572 L1254.67 548.207 L1246.36 549.873 L1246.36 545.614 L1254.63 543.948 L1259.3 543.948 L1259.3 574.572 L1266.94 574.572 L1266.94 578.508 L1247.03 578.508 L1247.03 574.572 Z\" fill=\"#000000\" fill-rule=\"nonzero\" fill-opacity=\"1\" /><path clip-path=\"url(#clip850)\" d=\"M1276.39 572.628 L1281.27 572.628 L1281.27 578.508 L1276.39 578.508 L1276.39 572.628 Z\" fill=\"#000000\" fill-rule=\"nonzero\" fill-opacity=\"1\" /><path clip-path=\"url(#clip850)\" d=\"M1291.5 543.948 L1309.86 543.948 L1309.86 547.883 L1295.78 547.883 L1295.78 556.355 Q1296.8 556.008 1297.82 555.846 Q1298.84 555.66 1299.86 555.66 Q1305.64 555.66 1309.02 558.832 Q1312.4 562.003 1312.4 567.42 Q1312.4 572.998 1308.93 576.1 Q1305.46 579.179 1299.14 579.179 Q1296.96 579.179 1294.7 578.809 Q1292.45 578.438 1290.04 577.697 L1290.04 572.998 Q1292.13 574.133 1294.35 574.688 Q1296.57 575.244 1299.05 575.244 Q1303.05 575.244 1305.39 573.137 Q1307.73 571.031 1307.73 567.42 Q1307.73 563.809 1305.39 561.702 Q1303.05 559.596 1299.05 559.596 Q1297.17 559.596 1295.3 560.012 Q1293.45 560.429 1291.5 561.309 L1291.5 543.948 Z\" fill=\"#000000\" fill-rule=\"nonzero\" fill-opacity=\"1\" /><path clip-path=\"url(#clip850)\" d=\"M1249.26 279.743 L1265.58 279.743 L1265.58 283.678 L1243.63 283.678 L1243.63 279.743 Q1246.29 276.988 1250.88 272.359 Q1255.48 267.706 1256.66 266.363 Q1258.91 263.84 1259.79 262.104 Q1260.69 260.345 1260.69 258.655 Q1260.69 255.901 1258.75 254.164 Q1256.83 252.428 1253.72 252.428 Q1251.52 252.428 1249.07 253.192 Q1246.64 253.956 1243.86 255.507 L1243.86 250.785 Q1246.69 249.651 1249.14 249.072 Q1251.59 248.493 1253.63 248.493 Q1259 248.493 1262.2 251.178 Q1265.39 253.864 1265.39 258.354 Q1265.39 260.484 1264.58 262.405 Q1263.79 264.303 1261.69 266.896 Q1261.11 267.567 1258.01 270.785 Q1254.9 273.979 1249.26 279.743 Z\" fill=\"#000000\" fill-rule=\"nonzero\" fill-opacity=\"1\" /><path clip-path=\"url(#clip850)\" d=\"M1275.39 277.799 L1280.27 277.799 L1280.27 283.678 L1275.39 283.678 L1275.39 277.799 Z\" fill=\"#000000\" fill-rule=\"nonzero\" fill-opacity=\"1\" /><path clip-path=\"url(#clip850)\" d=\"M1300.46 252.197 Q1296.85 252.197 1295.02 255.762 Q1293.21 259.303 1293.21 266.433 Q1293.21 273.539 1295.02 277.104 Q1296.85 280.646 1300.46 280.646 Q1304.09 280.646 1305.9 277.104 Q1307.73 273.539 1307.73 266.433 Q1307.73 259.303 1305.9 255.762 Q1304.09 252.197 1300.46 252.197 M1300.46 248.493 Q1306.27 248.493 1309.33 253.1 Q1312.4 257.683 1312.4 266.433 Q1312.4 275.16 1309.33 279.766 Q1306.27 284.35 1300.46 284.35 Q1294.65 284.35 1291.57 279.766 Q1288.52 275.16 1288.52 266.433 Q1288.52 257.683 1291.57 253.1 Q1294.65 248.493 1300.46 248.493 Z\" fill=\"#000000\" fill-rule=\"nonzero\" fill-opacity=\"1\" /><circle clip-path=\"url(#clip853)\" cx=\"1482.11\" cy=\"1037\" r=\"14.4\" fill=\"#0000ff\" fill-rule=\"evenodd\" fill-opacity=\"1\" stroke=\"#000000\" stroke-opacity=\"1\" stroke-width=\"3.2\"/>\n",
       "<circle clip-path=\"url(#clip853)\" cx=\"1692.66\" cy=\"628.275\" r=\"14.4\" fill=\"#0000ff\" fill-rule=\"evenodd\" fill-opacity=\"1\" stroke=\"#000000\" stroke-opacity=\"1\" stroke-width=\"3.2\"/>\n",
       "<circle clip-path=\"url(#clip853)\" cx=\"1903.22\" cy=\"389.189\" r=\"14.4\" fill=\"#0000ff\" fill-rule=\"evenodd\" fill-opacity=\"1\" stroke=\"#000000\" stroke-opacity=\"1\" stroke-width=\"3.2\"/>\n",
       "<circle clip-path=\"url(#clip853)\" cx=\"2113.77\" cy=\"219.555\" r=\"14.4\" fill=\"#0000ff\" fill-rule=\"evenodd\" fill-opacity=\"1\" stroke=\"#000000\" stroke-opacity=\"1\" stroke-width=\"3.2\"/>\n",
       "<circle clip-path=\"url(#clip853)\" cx=\"2324.33\" cy=\"87.9763\" r=\"14.4\" fill=\"#0000ff\" fill-rule=\"evenodd\" fill-opacity=\"1\" stroke=\"#000000\" stroke-opacity=\"1\" stroke-width=\"3.2\"/>\n",
       "<circle clip-path=\"url(#clip853)\" cx=\"1376.83\" cy=\"1445.72\" r=\"14.4\" fill=\"#000000\" fill-rule=\"evenodd\" fill-opacity=\"1\" stroke=\"none\"/>\n",
       "<circle clip-path=\"url(#clip853)\" cx=\"1587.38\" cy=\"797.909\" r=\"14.4\" fill=\"#000000\" fill-rule=\"evenodd\" fill-opacity=\"1\" stroke=\"none\"/>\n",
       "<circle clip-path=\"url(#clip853)\" cx=\"1797.94\" cy=\"496.697\" r=\"14.4\" fill=\"#000000\" fill-rule=\"evenodd\" fill-opacity=\"1\" stroke=\"none\"/>\n",
       "<circle clip-path=\"url(#clip853)\" cx=\"2008.5\" cy=\"298.293\" r=\"14.4\" fill=\"#000000\" fill-rule=\"evenodd\" fill-opacity=\"1\" stroke=\"none\"/>\n",
       "<circle clip-path=\"url(#clip853)\" cx=\"2219.05\" cy=\"150.103\" r=\"14.4\" fill=\"#000000\" fill-rule=\"evenodd\" fill-opacity=\"1\" stroke=\"none\"/>\n",
       "<path clip-path=\"url(#clip850)\" d=\"M1381.88 250.738 L1506.21 250.738 L1506.21 95.2176 L1381.88 95.2176  Z\" fill=\"#ffffff\" fill-rule=\"evenodd\" fill-opacity=\"1\"/>\n",
       "<polyline clip-path=\"url(#clip850)\" style=\"stroke:#000000; stroke-linecap:round; stroke-linejoin:round; stroke-width:4; stroke-opacity:1; fill:none\" points=\"1381.88,250.738 1506.21,250.738 1506.21,95.2176 1381.88,95.2176 1381.88,250.738 \"/>\n",
       "<circle clip-path=\"url(#clip850)\" cx=\"1426.52\" cy=\"147.058\" r=\"20.48\" fill=\"#0000ff\" fill-rule=\"evenodd\" fill-opacity=\"1\" stroke=\"#000000\" stroke-opacity=\"1\" stroke-width=\"4.55111\"/>\n",
       "<path clip-path=\"url(#clip850)\" d=\"M1483.1 132.856 Q1479.49 132.856 1477.66 136.421 Q1475.86 139.963 1475.86 147.092 Q1475.86 154.199 1477.66 157.764 Q1479.49 161.305 1483.1 161.305 Q1486.74 161.305 1488.54 157.764 Q1490.37 154.199 1490.37 147.092 Q1490.37 139.963 1488.54 136.421 Q1486.74 132.856 1483.1 132.856 M1483.1 129.153 Q1488.91 129.153 1491.97 133.759 Q1495.05 138.342 1495.05 147.092 Q1495.05 155.819 1491.97 160.426 Q1488.91 165.009 1483.1 165.009 Q1477.29 165.009 1474.21 160.426 Q1471.16 155.819 1471.16 147.092 Q1471.16 138.342 1474.21 133.759 Q1477.29 129.153 1483.1 129.153 Z\" fill=\"#000000\" fill-rule=\"nonzero\" fill-opacity=\"1\" /><circle clip-path=\"url(#clip850)\" cx=\"1426.52\" cy=\"198.898\" r=\"20.48\" fill=\"#000000\" fill-rule=\"evenodd\" fill-opacity=\"1\" stroke=\"none\"/>\n",
       "<path clip-path=\"url(#clip850)\" d=\"M1471.83 212.242 L1479.47 212.242 L1479.47 185.877 L1471.16 187.543 L1471.16 183.284 L1479.42 181.618 L1484.1 181.618 L1484.1 212.242 L1491.74 212.242 L1491.74 216.178 L1471.83 216.178 L1471.83 212.242 Z\" fill=\"#000000\" fill-rule=\"nonzero\" fill-opacity=\"1\" /></svg>\n"
      ],
      "text/html": [
       "<?xml version=\"1.0\" encoding=\"utf-8\"?>\n",
       "<svg xmlns=\"http://www.w3.org/2000/svg\" xmlns:xlink=\"http://www.w3.org/1999/xlink\" width=\"600\" height=\"400\" viewBox=\"0 0 2400 1600\">\n",
       "<defs>\n",
       "  <clipPath id=\"clip900\">\n",
       "    <rect x=\"0\" y=\"0\" width=\"2400\" height=\"1600\"/>\n",
       "  </clipPath>\n",
       "</defs>\n",
       "<path clip-path=\"url(#clip900)\" d=\"M0 1600 L2400 1600 L2400 0 L0 0  Z\" fill=\"#ffffff\" fill-rule=\"evenodd\" fill-opacity=\"1\"/>\n",
       "<defs>\n",
       "  <clipPath id=\"clip901\">\n",
       "    <rect x=\"480\" y=\"0\" width=\"1681\" height=\"1600\"/>\n",
       "  </clipPath>\n",
       "</defs>\n",
       "<path clip-path=\"url(#clip900)\" d=\"M140.696 1486.45 L1145.05 1486.45 L1145.05 47.2441 L140.696 47.2441  Z\" fill=\"#ffffff\" fill-rule=\"evenodd\" fill-opacity=\"1\"/>\n",
       "<defs>\n",
       "  <clipPath id=\"clip902\">\n",
       "    <rect x=\"140\" y=\"47\" width=\"1005\" height=\"1440\"/>\n",
       "  </clipPath>\n",
       "</defs>\n",
       "<polyline clip-path=\"url(#clip902)\" style=\"stroke:#000000; stroke-linecap:round; stroke-linejoin:round; stroke-width:2; stroke-opacity:0.1; fill:none\" points=\"274.399,1486.45 274.399,47.2441 \"/>\n",
       "<polyline clip-path=\"url(#clip902)\" style=\"stroke:#000000; stroke-linecap:round; stroke-linejoin:round; stroke-width:2; stroke-opacity:0.1; fill:none\" points=\"484.955,1486.45 484.955,47.2441 \"/>\n",
       "<polyline clip-path=\"url(#clip902)\" style=\"stroke:#000000; stroke-linecap:round; stroke-linejoin:round; stroke-width:2; stroke-opacity:0.1; fill:none\" points=\"695.511,1486.45 695.511,47.2441 \"/>\n",
       "<polyline clip-path=\"url(#clip902)\" style=\"stroke:#000000; stroke-linecap:round; stroke-linejoin:round; stroke-width:2; stroke-opacity:0.1; fill:none\" points=\"906.067,1486.45 906.067,47.2441 \"/>\n",
       "<polyline clip-path=\"url(#clip902)\" style=\"stroke:#000000; stroke-linecap:round; stroke-linejoin:round; stroke-width:2; stroke-opacity:0.1; fill:none\" points=\"1116.62,1486.45 1116.62,47.2441 \"/>\n",
       "<polyline clip-path=\"url(#clip902)\" style=\"stroke:#000000; stroke-linecap:round; stroke-linejoin:round; stroke-width:2; stroke-opacity:0.1; fill:none\" points=\"140.696,1219.43 1145.05,1219.43 \"/>\n",
       "<polyline clip-path=\"url(#clip902)\" style=\"stroke:#000000; stroke-linecap:round; stroke-linejoin:round; stroke-width:2; stroke-opacity:0.1; fill:none\" points=\"140.696,842.276 1145.05,842.276 \"/>\n",
       "<polyline clip-path=\"url(#clip902)\" style=\"stroke:#000000; stroke-linecap:round; stroke-linejoin:round; stroke-width:2; stroke-opacity:0.1; fill:none\" points=\"140.696,465.126 1145.05,465.126 \"/>\n",
       "<polyline clip-path=\"url(#clip902)\" style=\"stroke:#000000; stroke-linecap:round; stroke-linejoin:round; stroke-width:2; stroke-opacity:0.1; fill:none\" points=\"140.696,87.9763 1145.05,87.9763 \"/>\n",
       "<polyline clip-path=\"url(#clip900)\" style=\"stroke:#000000; stroke-linecap:round; stroke-linejoin:round; stroke-width:4; stroke-opacity:1; fill:none\" points=\"140.696,1486.45 1145.05,1486.45 \"/>\n",
       "<polyline clip-path=\"url(#clip900)\" style=\"stroke:#000000; stroke-linecap:round; stroke-linejoin:round; stroke-width:4; stroke-opacity:1; fill:none\" points=\"274.399,1486.45 274.399,1467.55 \"/>\n",
       "<polyline clip-path=\"url(#clip900)\" style=\"stroke:#000000; stroke-linecap:round; stroke-linejoin:round; stroke-width:4; stroke-opacity:1; fill:none\" points=\"484.955,1486.45 484.955,1467.55 \"/>\n",
       "<polyline clip-path=\"url(#clip900)\" style=\"stroke:#000000; stroke-linecap:round; stroke-linejoin:round; stroke-width:4; stroke-opacity:1; fill:none\" points=\"695.511,1486.45 695.511,1467.55 \"/>\n",
       "<polyline clip-path=\"url(#clip900)\" style=\"stroke:#000000; stroke-linecap:round; stroke-linejoin:round; stroke-width:4; stroke-opacity:1; fill:none\" points=\"906.067,1486.45 906.067,1467.55 \"/>\n",
       "<polyline clip-path=\"url(#clip900)\" style=\"stroke:#000000; stroke-linecap:round; stroke-linejoin:round; stroke-width:4; stroke-opacity:1; fill:none\" points=\"1116.62,1486.45 1116.62,1467.55 \"/>\n",
       "<path clip-path=\"url(#clip900)\" d=\"M269.051 1544.91 L285.371 1544.91 L285.371 1548.85 L263.426 1548.85 L263.426 1544.91 Q266.088 1542.16 270.672 1537.53 Q275.278 1532.88 276.459 1531.53 Q278.704 1529.01 279.584 1527.27 Q280.487 1525.51 280.487 1523.82 Q280.487 1521.07 278.542 1519.33 Q276.621 1517.6 273.519 1517.6 Q271.32 1517.6 268.866 1518.36 Q266.436 1519.13 263.658 1520.68 L263.658 1515.95 Q266.482 1514.82 268.936 1514.24 Q271.389 1513.66 273.426 1513.66 Q278.797 1513.66 281.991 1516.35 Q285.186 1519.03 285.186 1523.52 Q285.186 1525.65 284.375 1527.57 Q283.588 1529.47 281.482 1532.07 Q280.903 1532.74 277.801 1535.95 Q274.7 1539.15 269.051 1544.91 Z\" fill=\"#000000\" fill-rule=\"nonzero\" fill-opacity=\"1\" /><path clip-path=\"url(#clip900)\" d=\"M487.964 1518.36 L476.158 1536.81 L487.964 1536.81 L487.964 1518.36 M486.737 1514.29 L492.617 1514.29 L492.617 1536.81 L497.547 1536.81 L497.547 1540.7 L492.617 1540.7 L492.617 1548.85 L487.964 1548.85 L487.964 1540.7 L472.362 1540.7 L472.362 1536.19 L486.737 1514.29 Z\" fill=\"#000000\" fill-rule=\"nonzero\" fill-opacity=\"1\" /><path clip-path=\"url(#clip900)\" d=\"M695.916 1529.7 Q692.768 1529.7 690.916 1531.86 Q689.087 1534.01 689.087 1537.76 Q689.087 1541.49 690.916 1543.66 Q692.768 1545.82 695.916 1545.82 Q699.064 1545.82 700.892 1543.66 Q702.744 1541.49 702.744 1537.76 Q702.744 1534.01 700.892 1531.86 Q699.064 1529.7 695.916 1529.7 M705.198 1515.05 L705.198 1519.31 Q703.439 1518.48 701.633 1518.04 Q699.851 1517.6 698.092 1517.6 Q693.462 1517.6 691.008 1520.72 Q688.578 1523.85 688.231 1530.17 Q689.596 1528.15 691.656 1527.09 Q693.717 1526 696.193 1526 Q701.402 1526 704.411 1529.17 Q707.443 1532.32 707.443 1537.76 Q707.443 1543.08 704.295 1546.3 Q701.147 1549.52 695.916 1549.52 Q689.92 1549.52 686.749 1544.94 Q683.578 1540.33 683.578 1531.6 Q683.578 1523.41 687.467 1518.55 Q691.356 1513.66 697.906 1513.66 Q699.666 1513.66 701.448 1514.01 Q703.254 1514.36 705.198 1515.05 Z\" fill=\"#000000\" fill-rule=\"nonzero\" fill-opacity=\"1\" /><path clip-path=\"url(#clip900)\" d=\"M906.067 1532.44 Q902.733 1532.44 900.812 1534.22 Q898.914 1536 898.914 1539.13 Q898.914 1542.25 900.812 1544.03 Q902.733 1545.82 906.067 1545.82 Q909.4 1545.82 911.321 1544.03 Q913.242 1542.23 913.242 1539.13 Q913.242 1536 911.321 1534.22 Q909.423 1532.44 906.067 1532.44 M901.391 1530.45 Q898.381 1529.7 896.692 1527.64 Q895.025 1525.58 895.025 1522.62 Q895.025 1518.48 897.965 1516.07 Q900.928 1513.66 906.067 1513.66 Q911.229 1513.66 914.168 1516.07 Q917.108 1518.48 917.108 1522.62 Q917.108 1525.58 915.418 1527.64 Q913.752 1529.7 910.766 1530.45 Q914.145 1531.23 916.02 1533.52 Q917.918 1535.82 917.918 1539.13 Q917.918 1544.15 914.84 1546.83 Q911.784 1549.52 906.067 1549.52 Q900.349 1549.52 897.27 1546.83 Q894.215 1544.15 894.215 1539.13 Q894.215 1535.82 896.113 1533.52 Q898.011 1531.23 901.391 1530.45 M899.678 1523.06 Q899.678 1525.75 901.344 1527.25 Q903.034 1528.76 906.067 1528.76 Q909.076 1528.76 910.766 1527.25 Q912.479 1525.75 912.479 1523.06 Q912.479 1520.38 910.766 1518.87 Q909.076 1517.37 906.067 1517.37 Q903.034 1517.37 901.344 1518.87 Q899.678 1520.38 899.678 1523.06 Z\" fill=\"#000000\" fill-rule=\"nonzero\" fill-opacity=\"1\" /><path clip-path=\"url(#clip900)\" d=\"M1091.31 1544.91 L1098.95 1544.91 L1098.95 1518.55 L1090.64 1520.21 L1090.64 1515.95 L1098.9 1514.29 L1103.58 1514.29 L1103.58 1544.91 L1111.22 1544.91 L1111.22 1548.85 L1091.31 1548.85 L1091.31 1544.91 Z\" fill=\"#000000\" fill-rule=\"nonzero\" fill-opacity=\"1\" /><path clip-path=\"url(#clip900)\" d=\"M1130.66 1517.37 Q1127.05 1517.37 1125.22 1520.93 Q1123.42 1524.47 1123.42 1531.6 Q1123.42 1538.71 1125.22 1542.27 Q1127.05 1545.82 1130.66 1545.82 Q1134.3 1545.82 1136.1 1542.27 Q1137.93 1538.71 1137.93 1531.6 Q1137.93 1524.47 1136.1 1520.93 Q1134.3 1517.37 1130.66 1517.37 M1130.66 1513.66 Q1136.47 1513.66 1139.53 1518.27 Q1142.61 1522.85 1142.61 1531.6 Q1142.61 1540.33 1139.53 1544.94 Q1136.47 1549.52 1130.66 1549.52 Q1124.85 1549.52 1121.77 1544.94 Q1118.72 1540.33 1118.72 1531.6 Q1118.72 1522.85 1121.77 1518.27 Q1124.85 1513.66 1130.66 1513.66 Z\" fill=\"#000000\" fill-rule=\"nonzero\" fill-opacity=\"1\" /><polyline clip-path=\"url(#clip900)\" style=\"stroke:#000000; stroke-linecap:round; stroke-linejoin:round; stroke-width:4; stroke-opacity:1; fill:none\" points=\"140.696,1486.45 140.696,47.2441 \"/>\n",
       "<polyline clip-path=\"url(#clip900)\" style=\"stroke:#000000; stroke-linecap:round; stroke-linejoin:round; stroke-width:4; stroke-opacity:1; fill:none\" points=\"140.696,1219.43 159.593,1219.43 \"/>\n",
       "<polyline clip-path=\"url(#clip900)\" style=\"stroke:#000000; stroke-linecap:round; stroke-linejoin:round; stroke-width:4; stroke-opacity:1; fill:none\" points=\"140.696,842.276 159.593,842.276 \"/>\n",
       "<polyline clip-path=\"url(#clip900)\" style=\"stroke:#000000; stroke-linecap:round; stroke-linejoin:round; stroke-width:4; stroke-opacity:1; fill:none\" points=\"140.696,465.126 159.593,465.126 \"/>\n",
       "<polyline clip-path=\"url(#clip900)\" style=\"stroke:#000000; stroke-linecap:round; stroke-linejoin:round; stroke-width:4; stroke-opacity:1; fill:none\" points=\"140.696,87.9763 159.593,87.9763 \"/>\n",
       "<path clip-path=\"url(#clip900)\" d=\"M83.7929 1202.15 L102.149 1202.15 L102.149 1206.08 L88.0753 1206.08 L88.0753 1214.55 Q89.0938 1214.21 90.1123 1214.04 Q91.1308 1213.86 92.1493 1213.86 Q97.9363 1213.86 101.316 1217.03 Q104.696 1220.2 104.696 1225.62 Q104.696 1231.2 101.223 1234.3 Q97.7511 1237.38 91.4317 1237.38 Q89.2558 1237.38 86.9873 1237.01 Q84.7419 1236.64 82.3346 1235.9 L82.3346 1231.2 Q84.4179 1232.33 86.6401 1232.89 Q88.8623 1233.44 91.3391 1233.44 Q95.3437 1233.44 97.6817 1231.34 Q100.02 1229.23 100.02 1225.62 Q100.02 1222.01 97.6817 1219.9 Q95.3437 1217.79 91.3391 1217.79 Q89.4641 1217.79 87.5892 1218.21 Q85.7373 1218.63 83.7929 1219.51 L83.7929 1202.15 Z\" fill=\"#000000\" fill-rule=\"nonzero\" fill-opacity=\"1\" /><path clip-path=\"url(#clip900)\" d=\"M53.3995 855.621 L61.0384 855.621 L61.0384 829.255 L52.7282 830.922 L52.7282 826.663 L60.9921 824.996 L65.668 824.996 L65.668 855.621 L73.3068 855.621 L73.3068 859.556 L53.3995 859.556 L53.3995 855.621 Z\" fill=\"#000000\" fill-rule=\"nonzero\" fill-opacity=\"1\" /><path clip-path=\"url(#clip900)\" d=\"M92.7512 828.075 Q89.1401 828.075 87.3114 831.639 Q85.5058 835.181 85.5058 842.311 Q85.5058 849.417 87.3114 852.982 Q89.1401 856.524 92.7512 856.524 Q96.3854 856.524 98.1909 852.982 Q100.02 849.417 100.02 842.311 Q100.02 835.181 98.1909 831.639 Q96.3854 828.075 92.7512 828.075 M92.7512 824.371 Q98.5613 824.371 101.617 828.977 Q104.696 833.561 104.696 842.311 Q104.696 851.037 101.617 855.644 Q98.5613 860.227 92.7512 860.227 Q86.941 860.227 83.8623 855.644 Q80.8068 851.037 80.8068 842.311 Q80.8068 833.561 83.8623 828.977 Q86.941 824.371 92.7512 824.371 Z\" fill=\"#000000\" fill-rule=\"nonzero\" fill-opacity=\"1\" /><path clip-path=\"url(#clip900)\" d=\"M54.3949 478.471 L62.0337 478.471 L62.0337 452.105 L53.7236 453.772 L53.7236 449.513 L61.9874 447.846 L66.6633 447.846 L66.6633 478.471 L74.3022 478.471 L74.3022 482.406 L54.3949 482.406 L54.3949 478.471 Z\" fill=\"#000000\" fill-rule=\"nonzero\" fill-opacity=\"1\" /><path clip-path=\"url(#clip900)\" d=\"M83.7929 447.846 L102.149 447.846 L102.149 451.781 L88.0753 451.781 L88.0753 460.253 Q89.0938 459.906 90.1123 459.744 Q91.1308 459.559 92.1493 459.559 Q97.9363 459.559 101.316 462.73 Q104.696 465.902 104.696 471.318 Q104.696 476.897 101.223 479.999 Q97.7511 483.077 91.4317 483.077 Q89.2558 483.077 86.9873 482.707 Q84.7419 482.337 82.3346 481.596 L82.3346 476.897 Q84.4179 478.031 86.6401 478.587 Q88.8623 479.142 91.3391 479.142 Q95.3437 479.142 97.6817 477.036 Q100.02 474.929 100.02 471.318 Q100.02 467.707 97.6817 465.601 Q95.3437 463.494 91.3391 463.494 Q89.4641 463.494 87.5892 463.911 Q85.7373 464.328 83.7929 465.207 L83.7929 447.846 Z\" fill=\"#000000\" fill-rule=\"nonzero\" fill-opacity=\"1\" /><path clip-path=\"url(#clip900)\" d=\"M56.6171 101.321 L72.9365 101.321 L72.9365 105.256 L50.9921 105.256 L50.9921 101.321 Q53.6541 98.5665 58.2375 93.9369 Q62.8439 89.2841 64.0245 87.9416 Q66.2698 85.4184 67.1494 83.6823 Q68.0522 81.9231 68.0522 80.2333 Q68.0522 77.4786 66.1078 75.7425 Q64.1865 74.0064 61.0847 74.0064 Q58.8856 74.0064 56.4319 74.7703 Q54.0014 75.5342 51.2236 77.0851 L51.2236 72.3629 Q54.0477 71.2287 56.5014 70.65 Q58.955 70.0713 60.9921 70.0713 Q66.3624 70.0713 69.5568 72.7565 Q72.7513 75.4416 72.7513 79.9323 Q72.7513 82.062 71.9411 83.9832 Q71.1541 85.8814 69.0476 88.474 Q68.4689 89.1453 65.367 92.3628 Q62.2652 95.5573 56.6171 101.321 Z\" fill=\"#000000\" fill-rule=\"nonzero\" fill-opacity=\"1\" /><path clip-path=\"url(#clip900)\" d=\"M92.7512 73.775 Q89.1401 73.775 87.3114 77.3398 Q85.5058 80.8814 85.5058 88.011 Q85.5058 95.1174 87.3114 98.6822 Q89.1401 102.224 92.7512 102.224 Q96.3854 102.224 98.1909 98.6822 Q100.02 95.1174 100.02 88.011 Q100.02 80.8814 98.1909 77.3398 Q96.3854 73.775 92.7512 73.775 M92.7512 70.0713 Q98.5613 70.0713 101.617 74.6777 Q104.696 79.261 104.696 88.011 Q104.696 96.7378 101.617 101.344 Q98.5613 105.928 92.7512 105.928 Q86.941 105.928 83.8623 101.344 Q80.8068 96.7378 80.8068 88.011 Q80.8068 79.261 83.8623 74.6777 Q86.941 70.0713 92.7512 70.0713 Z\" fill=\"#000000\" fill-rule=\"nonzero\" fill-opacity=\"1\" /><circle clip-path=\"url(#clip902)\" cx=\"274.399\" cy=\"1294.86\" r=\"14.4\" fill=\"#ff0000\" fill-rule=\"evenodd\" fill-opacity=\"1\" stroke=\"#000000\" stroke-opacity=\"1\" stroke-width=\"3.2\"/>\n",
       "<circle clip-path=\"url(#clip902)\" cx=\"484.955\" cy=\"993.136\" r=\"14.4\" fill=\"#ff0000\" fill-rule=\"evenodd\" fill-opacity=\"1\" stroke=\"#000000\" stroke-opacity=\"1\" stroke-width=\"3.2\"/>\n",
       "<circle clip-path=\"url(#clip902)\" cx=\"695.511\" cy=\"691.416\" r=\"14.4\" fill=\"#ff0000\" fill-rule=\"evenodd\" fill-opacity=\"1\" stroke=\"#000000\" stroke-opacity=\"1\" stroke-width=\"3.2\"/>\n",
       "<circle clip-path=\"url(#clip902)\" cx=\"906.067\" cy=\"389.696\" r=\"14.4\" fill=\"#ff0000\" fill-rule=\"evenodd\" fill-opacity=\"1\" stroke=\"#000000\" stroke-opacity=\"1\" stroke-width=\"3.2\"/>\n",
       "<circle clip-path=\"url(#clip902)\" cx=\"1116.62\" cy=\"87.9763\" r=\"14.4\" fill=\"#ff0000\" fill-rule=\"evenodd\" fill-opacity=\"1\" stroke=\"#000000\" stroke-opacity=\"1\" stroke-width=\"3.2\"/>\n",
       "<circle clip-path=\"url(#clip902)\" cx=\"169.121\" cy=\"1445.72\" r=\"14.4\" fill=\"#008000\" fill-rule=\"evenodd\" fill-opacity=\"1\" stroke=\"#000000\" stroke-opacity=\"1\" stroke-width=\"3.2\"/>\n",
       "<circle clip-path=\"url(#clip902)\" cx=\"379.677\" cy=\"1144\" r=\"14.4\" fill=\"#008000\" fill-rule=\"evenodd\" fill-opacity=\"1\" stroke=\"#000000\" stroke-opacity=\"1\" stroke-width=\"3.2\"/>\n",
       "<circle clip-path=\"url(#clip902)\" cx=\"590.233\" cy=\"842.276\" r=\"14.4\" fill=\"#008000\" fill-rule=\"evenodd\" fill-opacity=\"1\" stroke=\"#000000\" stroke-opacity=\"1\" stroke-width=\"3.2\"/>\n",
       "<circle clip-path=\"url(#clip902)\" cx=\"800.789\" cy=\"540.556\" r=\"14.4\" fill=\"#008000\" fill-rule=\"evenodd\" fill-opacity=\"1\" stroke=\"#000000\" stroke-opacity=\"1\" stroke-width=\"3.2\"/>\n",
       "<circle clip-path=\"url(#clip902)\" cx=\"1011.34\" cy=\"238.836\" r=\"14.4\" fill=\"#008000\" fill-rule=\"evenodd\" fill-opacity=\"1\" stroke=\"#000000\" stroke-opacity=\"1\" stroke-width=\"3.2\"/>\n",
       "<path clip-path=\"url(#clip900)\" d=\"M174.174 250.738 L298.498 250.738 L298.498 95.2176 L174.174 95.2176  Z\" fill=\"#ffffff\" fill-rule=\"evenodd\" fill-opacity=\"1\"/>\n",
       "<polyline clip-path=\"url(#clip900)\" style=\"stroke:#000000; stroke-linecap:round; stroke-linejoin:round; stroke-width:4; stroke-opacity:1; fill:none\" points=\"174.174,250.738 298.498,250.738 298.498,95.2176 174.174,95.2176 174.174,250.738 \"/>\n",
       "<circle clip-path=\"url(#clip900)\" cx=\"218.812\" cy=\"147.058\" r=\"20.48\" fill=\"#ff0000\" fill-rule=\"evenodd\" fill-opacity=\"1\" stroke=\"#000000\" stroke-opacity=\"1\" stroke-width=\"4.55111\"/>\n",
       "<path clip-path=\"url(#clip900)\" d=\"M275.394 132.856 Q271.783 132.856 269.954 136.421 Q268.149 139.963 268.149 147.092 Q268.149 154.199 269.954 157.764 Q271.783 161.305 275.394 161.305 Q279.028 161.305 280.834 157.764 Q282.663 154.199 282.663 147.092 Q282.663 139.963 280.834 136.421 Q279.028 132.856 275.394 132.856 M275.394 129.153 Q281.204 129.153 284.26 133.759 Q287.338 138.342 287.338 147.092 Q287.338 155.819 284.26 160.426 Q281.204 165.009 275.394 165.009 Q269.584 165.009 266.505 160.426 Q263.45 155.819 263.45 147.092 Q263.45 138.342 266.505 133.759 Q269.584 129.153 275.394 129.153 Z\" fill=\"#000000\" fill-rule=\"nonzero\" fill-opacity=\"1\" /><circle clip-path=\"url(#clip900)\" cx=\"218.812\" cy=\"198.898\" r=\"20.48\" fill=\"#008000\" fill-rule=\"evenodd\" fill-opacity=\"1\" stroke=\"#000000\" stroke-opacity=\"1\" stroke-width=\"4.55111\"/>\n",
       "<path clip-path=\"url(#clip900)\" d=\"M264.121 212.242 L271.76 212.242 L271.76 185.877 L263.45 187.543 L263.45 183.284 L271.714 181.618 L276.389 181.618 L276.389 212.242 L284.028 212.242 L284.028 216.178 L264.121 216.178 L264.121 212.242 Z\" fill=\"#000000\" fill-rule=\"nonzero\" fill-opacity=\"1\" /><path clip-path=\"url(#clip900)\" d=\"M1348.4 1486.45 L2352.76 1486.45 L2352.76 47.2441 L1348.4 47.2441  Z\" fill=\"#ffffff\" fill-rule=\"evenodd\" fill-opacity=\"1\"/>\n",
       "<defs>\n",
       "  <clipPath id=\"clip903\">\n",
       "    <rect x=\"1348\" y=\"47\" width=\"1005\" height=\"1440\"/>\n",
       "  </clipPath>\n",
       "</defs>\n",
       "<polyline clip-path=\"url(#clip903)\" style=\"stroke:#000000; stroke-linecap:round; stroke-linejoin:round; stroke-width:2; stroke-opacity:0.1; fill:none\" points=\"1482.11,1486.45 1482.11,47.2441 \"/>\n",
       "<polyline clip-path=\"url(#clip903)\" style=\"stroke:#000000; stroke-linecap:round; stroke-linejoin:round; stroke-width:2; stroke-opacity:0.1; fill:none\" points=\"1692.66,1486.45 1692.66,47.2441 \"/>\n",
       "<polyline clip-path=\"url(#clip903)\" style=\"stroke:#000000; stroke-linecap:round; stroke-linejoin:round; stroke-width:2; stroke-opacity:0.1; fill:none\" points=\"1903.22,1486.45 1903.22,47.2441 \"/>\n",
       "<polyline clip-path=\"url(#clip903)\" style=\"stroke:#000000; stroke-linecap:round; stroke-linejoin:round; stroke-width:2; stroke-opacity:0.1; fill:none\" points=\"2113.77,1486.45 2113.77,47.2441 \"/>\n",
       "<polyline clip-path=\"url(#clip903)\" style=\"stroke:#000000; stroke-linecap:round; stroke-linejoin:round; stroke-width:2; stroke-opacity:0.1; fill:none\" points=\"2324.33,1486.45 2324.33,47.2441 \"/>\n",
       "<polyline clip-path=\"url(#clip903)\" style=\"stroke:#000000; stroke-linecap:round; stroke-linejoin:round; stroke-width:2; stroke-opacity:0.1; fill:none\" points=\"1348.4,1445.72 2352.76,1445.72 \"/>\n",
       "<polyline clip-path=\"url(#clip903)\" style=\"stroke:#000000; stroke-linecap:round; stroke-linejoin:round; stroke-width:2; stroke-opacity:0.1; fill:none\" points=\"1348.4,1150.89 2352.76,1150.89 \"/>\n",
       "<polyline clip-path=\"url(#clip903)\" style=\"stroke:#000000; stroke-linecap:round; stroke-linejoin:round; stroke-width:2; stroke-opacity:0.1; fill:none\" points=\"1348.4,856.057 2352.76,856.057 \"/>\n",
       "<polyline clip-path=\"url(#clip903)\" style=\"stroke:#000000; stroke-linecap:round; stroke-linejoin:round; stroke-width:2; stroke-opacity:0.1; fill:none\" points=\"1348.4,561.228 2352.76,561.228 \"/>\n",
       "<polyline clip-path=\"url(#clip903)\" style=\"stroke:#000000; stroke-linecap:round; stroke-linejoin:round; stroke-width:2; stroke-opacity:0.1; fill:none\" points=\"1348.4,266.398 2352.76,266.398 \"/>\n",
       "<polyline clip-path=\"url(#clip900)\" style=\"stroke:#000000; stroke-linecap:round; stroke-linejoin:round; stroke-width:4; stroke-opacity:1; fill:none\" points=\"1348.4,1486.45 2352.76,1486.45 \"/>\n",
       "<polyline clip-path=\"url(#clip900)\" style=\"stroke:#000000; stroke-linecap:round; stroke-linejoin:round; stroke-width:4; stroke-opacity:1; fill:none\" points=\"1482.11,1486.45 1482.11,1467.55 \"/>\n",
       "<polyline clip-path=\"url(#clip900)\" style=\"stroke:#000000; stroke-linecap:round; stroke-linejoin:round; stroke-width:4; stroke-opacity:1; fill:none\" points=\"1692.66,1486.45 1692.66,1467.55 \"/>\n",
       "<polyline clip-path=\"url(#clip900)\" style=\"stroke:#000000; stroke-linecap:round; stroke-linejoin:round; stroke-width:4; stroke-opacity:1; fill:none\" points=\"1903.22,1486.45 1903.22,1467.55 \"/>\n",
       "<polyline clip-path=\"url(#clip900)\" style=\"stroke:#000000; stroke-linecap:round; stroke-linejoin:round; stroke-width:4; stroke-opacity:1; fill:none\" points=\"2113.77,1486.45 2113.77,1467.55 \"/>\n",
       "<polyline clip-path=\"url(#clip900)\" style=\"stroke:#000000; stroke-linecap:round; stroke-linejoin:round; stroke-width:4; stroke-opacity:1; fill:none\" points=\"2324.33,1486.45 2324.33,1467.55 \"/>\n",
       "<path clip-path=\"url(#clip900)\" d=\"M1476.76 1544.91 L1493.08 1544.91 L1493.08 1548.85 L1471.13 1548.85 L1471.13 1544.91 Q1473.8 1542.16 1478.38 1537.53 Q1482.99 1532.88 1484.17 1531.53 Q1486.41 1529.01 1487.29 1527.27 Q1488.19 1525.51 1488.19 1523.82 Q1488.19 1521.07 1486.25 1519.33 Q1484.33 1517.6 1481.23 1517.6 Q1479.03 1517.6 1476.57 1518.36 Q1474.14 1519.13 1471.37 1520.68 L1471.37 1515.95 Q1474.19 1514.82 1476.64 1514.24 Q1479.1 1513.66 1481.13 1513.66 Q1486.51 1513.66 1489.7 1516.35 Q1492.89 1519.03 1492.89 1523.52 Q1492.89 1525.65 1492.08 1527.57 Q1491.3 1529.47 1489.19 1532.07 Q1488.61 1532.74 1485.51 1535.95 Q1482.41 1539.15 1476.76 1544.91 Z\" fill=\"#000000\" fill-rule=\"nonzero\" fill-opacity=\"1\" /><path clip-path=\"url(#clip900)\" d=\"M1695.67 1518.36 L1683.87 1536.81 L1695.67 1536.81 L1695.67 1518.36 M1694.45 1514.29 L1700.32 1514.29 L1700.32 1536.81 L1705.26 1536.81 L1705.26 1540.7 L1700.32 1540.7 L1700.32 1548.85 L1695.67 1548.85 L1695.67 1540.7 L1680.07 1540.7 L1680.07 1536.19 L1694.45 1514.29 Z\" fill=\"#000000\" fill-rule=\"nonzero\" fill-opacity=\"1\" /><path clip-path=\"url(#clip900)\" d=\"M1903.62 1529.7 Q1900.48 1529.7 1898.62 1531.86 Q1896.8 1534.01 1896.8 1537.76 Q1896.8 1541.49 1898.62 1543.66 Q1900.48 1545.82 1903.62 1545.82 Q1906.77 1545.82 1908.6 1543.66 Q1910.45 1541.49 1910.45 1537.76 Q1910.45 1534.01 1908.6 1531.86 Q1906.77 1529.7 1903.62 1529.7 M1912.91 1515.05 L1912.91 1519.31 Q1911.15 1518.48 1909.34 1518.04 Q1907.56 1517.6 1905.8 1517.6 Q1901.17 1517.6 1898.72 1520.72 Q1896.29 1523.85 1895.94 1530.17 Q1897.3 1528.15 1899.36 1527.09 Q1901.42 1526 1903.9 1526 Q1909.11 1526 1912.12 1529.17 Q1915.15 1532.32 1915.15 1537.76 Q1915.15 1543.08 1912 1546.3 Q1908.86 1549.52 1903.62 1549.52 Q1897.63 1549.52 1894.46 1544.94 Q1891.29 1540.33 1891.29 1531.6 Q1891.29 1523.41 1895.17 1518.55 Q1899.06 1513.66 1905.61 1513.66 Q1907.37 1513.66 1909.16 1514.01 Q1910.96 1514.36 1912.91 1515.05 Z\" fill=\"#000000\" fill-rule=\"nonzero\" fill-opacity=\"1\" /><path clip-path=\"url(#clip900)\" d=\"M2113.77 1532.44 Q2110.44 1532.44 2108.52 1534.22 Q2106.62 1536 2106.62 1539.13 Q2106.62 1542.25 2108.52 1544.03 Q2110.44 1545.82 2113.77 1545.82 Q2117.11 1545.82 2119.03 1544.03 Q2120.95 1542.23 2120.95 1539.13 Q2120.95 1536 2119.03 1534.22 Q2117.13 1532.44 2113.77 1532.44 M2109.1 1530.45 Q2106.09 1529.7 2104.4 1527.64 Q2102.73 1525.58 2102.73 1522.62 Q2102.73 1518.48 2105.67 1516.07 Q2108.64 1513.66 2113.77 1513.66 Q2118.94 1513.66 2121.88 1516.07 Q2124.82 1518.48 2124.82 1522.62 Q2124.82 1525.58 2123.13 1527.64 Q2121.46 1529.7 2118.47 1530.45 Q2121.85 1531.23 2123.73 1533.52 Q2125.63 1535.82 2125.63 1539.13 Q2125.63 1544.15 2122.55 1546.83 Q2119.49 1549.52 2113.77 1549.52 Q2108.06 1549.52 2104.98 1546.83 Q2101.92 1544.15 2101.92 1539.13 Q2101.92 1535.82 2103.82 1533.52 Q2105.72 1531.23 2109.1 1530.45 M2107.39 1523.06 Q2107.39 1525.75 2109.05 1527.25 Q2110.74 1528.76 2113.77 1528.76 Q2116.78 1528.76 2118.47 1527.25 Q2120.19 1525.75 2120.19 1523.06 Q2120.19 1520.38 2118.47 1518.87 Q2116.78 1517.37 2113.77 1517.37 Q2110.74 1517.37 2109.05 1518.87 Q2107.39 1520.38 2107.39 1523.06 Z\" fill=\"#000000\" fill-rule=\"nonzero\" fill-opacity=\"1\" /><path clip-path=\"url(#clip900)\" d=\"M2299.02 1544.91 L2306.66 1544.91 L2306.66 1518.55 L2298.35 1520.21 L2298.35 1515.95 L2306.61 1514.29 L2311.29 1514.29 L2311.29 1544.91 L2318.93 1544.91 L2318.93 1548.85 L2299.02 1548.85 L2299.02 1544.91 Z\" fill=\"#000000\" fill-rule=\"nonzero\" fill-opacity=\"1\" /><path clip-path=\"url(#clip900)\" d=\"M2338.37 1517.37 Q2334.76 1517.37 2332.93 1520.93 Q2331.12 1524.47 2331.12 1531.6 Q2331.12 1538.71 2332.93 1542.27 Q2334.76 1545.82 2338.37 1545.82 Q2342 1545.82 2343.81 1542.27 Q2345.64 1538.71 2345.64 1531.6 Q2345.64 1524.47 2343.81 1520.93 Q2342 1517.37 2338.37 1517.37 M2338.37 1513.66 Q2344.18 1513.66 2347.24 1518.27 Q2350.31 1522.85 2350.31 1531.6 Q2350.31 1540.33 2347.24 1544.94 Q2344.18 1549.52 2338.37 1549.52 Q2332.56 1549.52 2329.48 1544.94 Q2326.43 1540.33 2326.43 1531.6 Q2326.43 1522.85 2329.48 1518.27 Q2332.56 1513.66 2338.37 1513.66 Z\" fill=\"#000000\" fill-rule=\"nonzero\" fill-opacity=\"1\" /><polyline clip-path=\"url(#clip900)\" style=\"stroke:#000000; stroke-linecap:round; stroke-linejoin:round; stroke-width:4; stroke-opacity:1; fill:none\" points=\"1348.4,1486.45 1348.4,47.2441 \"/>\n",
       "<polyline clip-path=\"url(#clip900)\" style=\"stroke:#000000; stroke-linecap:round; stroke-linejoin:round; stroke-width:4; stroke-opacity:1; fill:none\" points=\"1348.4,1445.72 1367.3,1445.72 \"/>\n",
       "<polyline clip-path=\"url(#clip900)\" style=\"stroke:#000000; stroke-linecap:round; stroke-linejoin:round; stroke-width:4; stroke-opacity:1; fill:none\" points=\"1348.4,1150.89 1367.3,1150.89 \"/>\n",
       "<polyline clip-path=\"url(#clip900)\" style=\"stroke:#000000; stroke-linecap:round; stroke-linejoin:round; stroke-width:4; stroke-opacity:1; fill:none\" points=\"1348.4,856.057 1367.3,856.057 \"/>\n",
       "<polyline clip-path=\"url(#clip900)\" style=\"stroke:#000000; stroke-linecap:round; stroke-linejoin:round; stroke-width:4; stroke-opacity:1; fill:none\" points=\"1348.4,561.228 1367.3,561.228 \"/>\n",
       "<polyline clip-path=\"url(#clip900)\" style=\"stroke:#000000; stroke-linecap:round; stroke-linejoin:round; stroke-width:4; stroke-opacity:1; fill:none\" points=\"1348.4,266.398 1367.3,266.398 \"/>\n",
       "<path clip-path=\"url(#clip900)\" d=\"M1255.23 1431.51 Q1251.62 1431.51 1249.79 1435.08 Q1247.98 1438.62 1247.98 1445.75 Q1247.98 1452.86 1249.79 1456.42 Q1251.62 1459.96 1255.23 1459.96 Q1258.86 1459.96 1260.67 1456.42 Q1262.5 1452.86 1262.5 1445.75 Q1262.5 1438.62 1260.67 1435.08 Q1258.86 1431.51 1255.23 1431.51 M1255.23 1427.81 Q1261.04 1427.81 1264.09 1432.42 Q1267.17 1437 1267.17 1445.75 Q1267.17 1454.48 1264.09 1459.08 Q1261.04 1463.67 1255.23 1463.67 Q1249.42 1463.67 1246.34 1459.08 Q1243.28 1454.48 1243.28 1445.75 Q1243.28 1437 1246.34 1432.42 Q1249.42 1427.81 1255.23 1427.81 Z\" fill=\"#000000\" fill-rule=\"nonzero\" fill-opacity=\"1\" /><path clip-path=\"url(#clip900)\" d=\"M1275.39 1457.12 L1280.27 1457.12 L1280.27 1463 L1275.39 1463 L1275.39 1457.12 Z\" fill=\"#000000\" fill-rule=\"nonzero\" fill-opacity=\"1\" /><path clip-path=\"url(#clip900)\" d=\"M1300.46 1431.51 Q1296.85 1431.51 1295.02 1435.08 Q1293.21 1438.62 1293.21 1445.75 Q1293.21 1452.86 1295.02 1456.42 Q1296.85 1459.96 1300.46 1459.96 Q1304.09 1459.96 1305.9 1456.42 Q1307.73 1452.86 1307.73 1445.75 Q1307.73 1438.62 1305.9 1435.08 Q1304.09 1431.51 1300.46 1431.51 M1300.46 1427.81 Q1306.27 1427.81 1309.33 1432.42 Q1312.4 1437 1312.4 1445.75 Q1312.4 1454.48 1309.33 1459.08 Q1306.27 1463.67 1300.46 1463.67 Q1294.65 1463.67 1291.57 1459.08 Q1288.52 1454.48 1288.52 1445.75 Q1288.52 1437 1291.57 1432.42 Q1294.65 1427.81 1300.46 1427.81 Z\" fill=\"#000000\" fill-rule=\"nonzero\" fill-opacity=\"1\" /><path clip-path=\"url(#clip900)\" d=\"M1256.22 1136.69 Q1252.61 1136.69 1250.78 1140.25 Q1248.98 1143.79 1248.98 1150.92 Q1248.98 1158.03 1250.78 1161.59 Q1252.61 1165.13 1256.22 1165.13 Q1259.86 1165.13 1261.66 1161.59 Q1263.49 1158.03 1263.49 1150.92 Q1263.49 1143.79 1261.66 1140.25 Q1259.86 1136.69 1256.22 1136.69 M1256.22 1132.98 Q1262.03 1132.98 1265.09 1137.59 Q1268.17 1142.17 1268.17 1150.92 Q1268.17 1159.65 1265.09 1164.25 Q1262.03 1168.84 1256.22 1168.84 Q1250.41 1168.84 1247.33 1164.25 Q1244.28 1159.65 1244.28 1150.92 Q1244.28 1142.17 1247.33 1137.59 Q1250.41 1132.98 1256.22 1132.98 Z\" fill=\"#000000\" fill-rule=\"nonzero\" fill-opacity=\"1\" /><path clip-path=\"url(#clip900)\" d=\"M1276.39 1162.29 L1281.27 1162.29 L1281.27 1168.17 L1276.39 1168.17 L1276.39 1162.29 Z\" fill=\"#000000\" fill-rule=\"nonzero\" fill-opacity=\"1\" /><path clip-path=\"url(#clip900)\" d=\"M1291.5 1133.61 L1309.86 1133.61 L1309.86 1137.54 L1295.78 1137.54 L1295.78 1146.01 Q1296.8 1145.67 1297.82 1145.5 Q1298.84 1145.32 1299.86 1145.32 Q1305.64 1145.32 1309.02 1148.49 Q1312.4 1151.66 1312.4 1157.08 Q1312.4 1162.66 1308.93 1165.76 Q1305.46 1168.84 1299.14 1168.84 Q1296.96 1168.84 1294.7 1168.47 Q1292.45 1168.1 1290.04 1167.36 L1290.04 1162.66 Q1292.13 1163.79 1294.35 1164.35 Q1296.57 1164.9 1299.05 1164.9 Q1303.05 1164.9 1305.39 1162.8 Q1307.73 1160.69 1307.73 1157.08 Q1307.73 1153.47 1305.39 1151.36 Q1303.05 1149.25 1299.05 1149.25 Q1297.17 1149.25 1295.3 1149.67 Q1293.45 1150.09 1291.5 1150.97 L1291.5 1133.61 Z\" fill=\"#000000\" fill-rule=\"nonzero\" fill-opacity=\"1\" /><path clip-path=\"url(#clip900)\" d=\"M1246.04 869.402 L1253.68 869.402 L1253.68 843.036 L1245.37 844.703 L1245.37 840.444 L1253.63 838.777 L1258.31 838.777 L1258.31 869.402 L1265.95 869.402 L1265.95 873.337 L1246.04 873.337 L1246.04 869.402 Z\" fill=\"#000000\" fill-rule=\"nonzero\" fill-opacity=\"1\" /><path clip-path=\"url(#clip900)\" d=\"M1275.39 867.457 L1280.27 867.457 L1280.27 873.337 L1275.39 873.337 L1275.39 867.457 Z\" fill=\"#000000\" fill-rule=\"nonzero\" fill-opacity=\"1\" /><path clip-path=\"url(#clip900)\" d=\"M1300.46 841.856 Q1296.85 841.856 1295.02 845.42 Q1293.21 848.962 1293.21 856.092 Q1293.21 863.198 1295.02 866.763 Q1296.85 870.305 1300.46 870.305 Q1304.09 870.305 1305.9 866.763 Q1307.73 863.198 1307.73 856.092 Q1307.73 848.962 1305.9 845.42 Q1304.09 841.856 1300.46 841.856 M1300.46 838.152 Q1306.27 838.152 1309.33 842.758 Q1312.4 847.342 1312.4 856.092 Q1312.4 864.818 1309.33 869.425 Q1306.27 874.008 1300.46 874.008 Q1294.65 874.008 1291.57 869.425 Q1288.52 864.818 1288.52 856.092 Q1288.52 847.342 1291.57 842.758 Q1294.65 838.152 1300.46 838.152 Z\" fill=\"#000000\" fill-rule=\"nonzero\" fill-opacity=\"1\" /><path clip-path=\"url(#clip900)\" d=\"M1247.03 574.572 L1254.67 574.572 L1254.67 548.207 L1246.36 549.873 L1246.36 545.614 L1254.63 543.948 L1259.3 543.948 L1259.3 574.572 L1266.94 574.572 L1266.94 578.508 L1247.03 578.508 L1247.03 574.572 Z\" fill=\"#000000\" fill-rule=\"nonzero\" fill-opacity=\"1\" /><path clip-path=\"url(#clip900)\" d=\"M1276.39 572.628 L1281.27 572.628 L1281.27 578.508 L1276.39 578.508 L1276.39 572.628 Z\" fill=\"#000000\" fill-rule=\"nonzero\" fill-opacity=\"1\" /><path clip-path=\"url(#clip900)\" d=\"M1291.5 543.948 L1309.86 543.948 L1309.86 547.883 L1295.78 547.883 L1295.78 556.355 Q1296.8 556.008 1297.82 555.846 Q1298.84 555.66 1299.86 555.66 Q1305.64 555.66 1309.02 558.832 Q1312.4 562.003 1312.4 567.42 Q1312.4 572.998 1308.93 576.1 Q1305.46 579.179 1299.14 579.179 Q1296.96 579.179 1294.7 578.809 Q1292.45 578.438 1290.04 577.697 L1290.04 572.998 Q1292.13 574.133 1294.35 574.688 Q1296.57 575.244 1299.05 575.244 Q1303.05 575.244 1305.39 573.137 Q1307.73 571.031 1307.73 567.42 Q1307.73 563.809 1305.39 561.702 Q1303.05 559.596 1299.05 559.596 Q1297.17 559.596 1295.3 560.012 Q1293.45 560.429 1291.5 561.309 L1291.5 543.948 Z\" fill=\"#000000\" fill-rule=\"nonzero\" fill-opacity=\"1\" /><path clip-path=\"url(#clip900)\" d=\"M1249.26 279.743 L1265.58 279.743 L1265.58 283.678 L1243.63 283.678 L1243.63 279.743 Q1246.29 276.988 1250.88 272.359 Q1255.48 267.706 1256.66 266.363 Q1258.91 263.84 1259.79 262.104 Q1260.69 260.345 1260.69 258.655 Q1260.69 255.901 1258.75 254.164 Q1256.83 252.428 1253.72 252.428 Q1251.52 252.428 1249.07 253.192 Q1246.64 253.956 1243.86 255.507 L1243.86 250.785 Q1246.69 249.651 1249.14 249.072 Q1251.59 248.493 1253.63 248.493 Q1259 248.493 1262.2 251.178 Q1265.39 253.864 1265.39 258.354 Q1265.39 260.484 1264.58 262.405 Q1263.79 264.303 1261.69 266.896 Q1261.11 267.567 1258.01 270.785 Q1254.9 273.979 1249.26 279.743 Z\" fill=\"#000000\" fill-rule=\"nonzero\" fill-opacity=\"1\" /><path clip-path=\"url(#clip900)\" d=\"M1275.39 277.799 L1280.27 277.799 L1280.27 283.678 L1275.39 283.678 L1275.39 277.799 Z\" fill=\"#000000\" fill-rule=\"nonzero\" fill-opacity=\"1\" /><path clip-path=\"url(#clip900)\" d=\"M1300.46 252.197 Q1296.85 252.197 1295.02 255.762 Q1293.21 259.303 1293.21 266.433 Q1293.21 273.539 1295.02 277.104 Q1296.85 280.646 1300.46 280.646 Q1304.09 280.646 1305.9 277.104 Q1307.73 273.539 1307.73 266.433 Q1307.73 259.303 1305.9 255.762 Q1304.09 252.197 1300.46 252.197 M1300.46 248.493 Q1306.27 248.493 1309.33 253.1 Q1312.4 257.683 1312.4 266.433 Q1312.4 275.16 1309.33 279.766 Q1306.27 284.35 1300.46 284.35 Q1294.65 284.35 1291.57 279.766 Q1288.52 275.16 1288.52 266.433 Q1288.52 257.683 1291.57 253.1 Q1294.65 248.493 1300.46 248.493 Z\" fill=\"#000000\" fill-rule=\"nonzero\" fill-opacity=\"1\" /><circle clip-path=\"url(#clip903)\" cx=\"1482.11\" cy=\"1037\" r=\"14.4\" fill=\"#0000ff\" fill-rule=\"evenodd\" fill-opacity=\"1\" stroke=\"#000000\" stroke-opacity=\"1\" stroke-width=\"3.2\"/>\n",
       "<circle clip-path=\"url(#clip903)\" cx=\"1692.66\" cy=\"628.275\" r=\"14.4\" fill=\"#0000ff\" fill-rule=\"evenodd\" fill-opacity=\"1\" stroke=\"#000000\" stroke-opacity=\"1\" stroke-width=\"3.2\"/>\n",
       "<circle clip-path=\"url(#clip903)\" cx=\"1903.22\" cy=\"389.189\" r=\"14.4\" fill=\"#0000ff\" fill-rule=\"evenodd\" fill-opacity=\"1\" stroke=\"#000000\" stroke-opacity=\"1\" stroke-width=\"3.2\"/>\n",
       "<circle clip-path=\"url(#clip903)\" cx=\"2113.77\" cy=\"219.555\" r=\"14.4\" fill=\"#0000ff\" fill-rule=\"evenodd\" fill-opacity=\"1\" stroke=\"#000000\" stroke-opacity=\"1\" stroke-width=\"3.2\"/>\n",
       "<circle clip-path=\"url(#clip903)\" cx=\"2324.33\" cy=\"87.9763\" r=\"14.4\" fill=\"#0000ff\" fill-rule=\"evenodd\" fill-opacity=\"1\" stroke=\"#000000\" stroke-opacity=\"1\" stroke-width=\"3.2\"/>\n",
       "<circle clip-path=\"url(#clip903)\" cx=\"1376.83\" cy=\"1445.72\" r=\"14.4\" fill=\"#000000\" fill-rule=\"evenodd\" fill-opacity=\"1\" stroke=\"none\"/>\n",
       "<circle clip-path=\"url(#clip903)\" cx=\"1587.38\" cy=\"797.909\" r=\"14.4\" fill=\"#000000\" fill-rule=\"evenodd\" fill-opacity=\"1\" stroke=\"none\"/>\n",
       "<circle clip-path=\"url(#clip903)\" cx=\"1797.94\" cy=\"496.697\" r=\"14.4\" fill=\"#000000\" fill-rule=\"evenodd\" fill-opacity=\"1\" stroke=\"none\"/>\n",
       "<circle clip-path=\"url(#clip903)\" cx=\"2008.5\" cy=\"298.293\" r=\"14.4\" fill=\"#000000\" fill-rule=\"evenodd\" fill-opacity=\"1\" stroke=\"none\"/>\n",
       "<circle clip-path=\"url(#clip903)\" cx=\"2219.05\" cy=\"150.103\" r=\"14.4\" fill=\"#000000\" fill-rule=\"evenodd\" fill-opacity=\"1\" stroke=\"none\"/>\n",
       "<path clip-path=\"url(#clip900)\" d=\"M1381.88 250.738 L1506.21 250.738 L1506.21 95.2176 L1381.88 95.2176  Z\" fill=\"#ffffff\" fill-rule=\"evenodd\" fill-opacity=\"1\"/>\n",
       "<polyline clip-path=\"url(#clip900)\" style=\"stroke:#000000; stroke-linecap:round; stroke-linejoin:round; stroke-width:4; stroke-opacity:1; fill:none\" points=\"1381.88,250.738 1506.21,250.738 1506.21,95.2176 1381.88,95.2176 1381.88,250.738 \"/>\n",
       "<circle clip-path=\"url(#clip900)\" cx=\"1426.52\" cy=\"147.058\" r=\"20.48\" fill=\"#0000ff\" fill-rule=\"evenodd\" fill-opacity=\"1\" stroke=\"#000000\" stroke-opacity=\"1\" stroke-width=\"4.55111\"/>\n",
       "<path clip-path=\"url(#clip900)\" d=\"M1483.1 132.856 Q1479.49 132.856 1477.66 136.421 Q1475.86 139.963 1475.86 147.092 Q1475.86 154.199 1477.66 157.764 Q1479.49 161.305 1483.1 161.305 Q1486.74 161.305 1488.54 157.764 Q1490.37 154.199 1490.37 147.092 Q1490.37 139.963 1488.54 136.421 Q1486.74 132.856 1483.1 132.856 M1483.1 129.153 Q1488.91 129.153 1491.97 133.759 Q1495.05 138.342 1495.05 147.092 Q1495.05 155.819 1491.97 160.426 Q1488.91 165.009 1483.1 165.009 Q1477.29 165.009 1474.21 160.426 Q1471.16 155.819 1471.16 147.092 Q1471.16 138.342 1474.21 133.759 Q1477.29 129.153 1483.1 129.153 Z\" fill=\"#000000\" fill-rule=\"nonzero\" fill-opacity=\"1\" /><circle clip-path=\"url(#clip900)\" cx=\"1426.52\" cy=\"198.898\" r=\"20.48\" fill=\"#000000\" fill-rule=\"evenodd\" fill-opacity=\"1\" stroke=\"none\"/>\n",
       "<path clip-path=\"url(#clip900)\" d=\"M1471.83 212.242 L1479.47 212.242 L1479.47 185.877 L1471.16 187.543 L1471.16 183.284 L1479.42 181.618 L1484.1 181.618 L1484.1 212.242 L1491.74 212.242 L1491.74 216.178 L1471.83 216.178 L1471.83 212.242 Z\" fill=\"#000000\" fill-rule=\"nonzero\" fill-opacity=\"1\" /></svg>\n"
      ]
     },
     "execution_count": 34,
     "metadata": {},
     "output_type": "execute_result"
    }
   ],
   "source": [
    "# użycie opcji layout i grup\n",
    "scatter(df.a, [df.b, df.c], group=df.e,  colour = [:red :blue :green :black], layout=2)"
   ]
  },
  {
   "cell_type": "markdown",
   "metadata": {},
   "source": [
    "Uwaga: Ze względu na specyfikę języka Julia pomiar czasu wykonania należy brać pod uwagę dopiero od drugiego wywołania danej funkcji\n",
    "(za pierwszym razem mierzymy również czas kompilacji)\n",
    "\n",
    "Makro @time - zwraca wartość funkcji i wypisuje czas jej trwania.\n",
    "Makro @elapsed zwraca czas trwania (może być wygodniejsze w użyciu). \n",
    "Warto też oglądnąć działanie makr @timev, @timed, i @allocated\n",
    "\n",
    "https://docs.julialang.org/en/v1/base/base/#Base.@time\n",
    "\n",
    "Rand(10) - wylosuj 10-elementową tablicę Float64 z przedziału [0,1)\n",
    "\n",
    "https://docs.julialang.org/en/v1/stdlib/Random/#Base.rand"
   ]
  },
  {
   "cell_type": "markdown",
   "metadata": {},
   "source": [
    "### Zadanie \n",
    "- Założenie: macierz A - kwadratowa rozmiar n x n; wektory x, y rozmiar n\n",
    "- Napisać programy w języku Julia do obliczania: <b>uogólnionego</b> iloczynu skalarnego dot(x, <b>A</b>, y) wektorów z użyciem <a href=\"https://docs.julialang.org/en/v1/stdlib/LinearAlgebra/#LinearAlgebra.dot-Tuple{Any,%20Any,%20Any}\">LinearAlgebra.dot</a> oraz mnożenia macierzy kwadratowej przez wektor (czyli obliczania A*x) z użyciem \n",
    "<a href=\"https://docs.julialang.org/en/v1/stdlib/LinearAlgebra/#Elementary-operations-1\">operatora *</a>.\n",
    "- Uruchomić i zmierzyć czasy działania obydwu funkcji - każdej dla różnych rozmiarów wektorów n. Uwaga: rozmiary dobrać tak, żeby nie zużyć zbyt wiele pamięci, a jednocześnie uzyskać niezerowe wyniki czasowe (wielkości będą zależeć od mocy sprzętu - można próbować testować w okolicach n=1000). Dokonać 10 pomiarów dla każdego rozmiaru wektora.\n",
    "- Czasy działania powinny  być zapisywane do <b>jednego</b> pliku CSV. Należy zaplanować odpowiednią strukturę kolumn takiego pliku.\n",
    "- Wczytać dane z w/w pliku do <b>jednego</b> DataFrame w języku Julia. \n",
    "- Korzystająć z mechanizmów DataFrame w języku Julia obliczyć średnią i odchylenie standardowe, w taki sposób, aby narysować wykresy średnich czasów obliczenia operacji w zależności od rozmiaru wektora. Dodać słupki błędów do obydwu wykresów uzyskanych z obliczenia odchylenia standardowego. \n",
    "- Proszę poukładac wykresy  w tabelkę za pomocą  opcji layouts: https://docs.juliaplots.org/latest/layouts/#Simple-Layouts-1.\n",
    "- Należy zadbać o staranne podpisanie osi i wykresów."
   ]
  },
  {
   "cell_type": "code",
   "execution_count": null,
   "metadata": {},
   "outputs": [
    {
     "data": {
      "text/plain": [
       "16"
      ]
     },
     "execution_count": 28,
     "metadata": {},
     "output_type": "execute_result"
    }
   ],
   "source": [
    "using LinearAlgebra\n",
    "\n",
    "function generalized_dot(x, A, y)\n",
    "    return dot(x, A * y)\n",
    "end\n",
    "\n",
    "function matrix_vector_mult(A, x)\n",
    "    return A * x\n",
    "end\n",
    "\n"
   ]
  }
 ],
 "metadata": {
  "kernelspec": {
   "display_name": "Julia 1.11.4",
   "language": "julia",
   "name": "julia-1.11"
  },
  "language_info": {
   "file_extension": ".jl",
   "mimetype": "application/julia",
   "name": "julia",
   "version": "1.11.4"
  }
 },
 "nbformat": 4,
 "nbformat_minor": 4
}
